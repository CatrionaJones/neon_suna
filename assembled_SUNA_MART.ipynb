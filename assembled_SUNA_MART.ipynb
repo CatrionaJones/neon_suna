{
 "cells": [
  {
   "cell_type": "code",
   "execution_count": 1,
   "id": "prime-cornell",
   "metadata": {},
   "outputs": [
    {
     "name": "stderr",
     "output_type": "stream",
     "text": [
      "\n",
      "Attaching package: 'dplyr'\n",
      "\n",
      "\n",
      "The following objects are masked from 'package:stats':\n",
      "\n",
      "    filter, lag\n",
      "\n",
      "\n",
      "The following objects are masked from 'package:base':\n",
      "\n",
      "    intersect, setdiff, setequal, union\n",
      "\n",
      "\n",
      "USGS Active Research Package:\n",
      "https://owi.usgs.gov/R/packages.html#research\n",
      "\n",
      "This package was developed for research purposes. We used it for our\n",
      "own applications and welcome flexible, resilient users who can help us\n",
      "test and improve the package. Please give us feedback at\n",
      "https://github.com/USGS-R/streamMetabolizer/issues/new.\n",
      "\n"
     ]
    },
    {
     "ename": "ERROR",
     "evalue": "Error in library(splitstackshape): there is no package called 'splitstackshape'\n",
     "output_type": "error",
     "traceback": [
      "Error in library(splitstackshape): there is no package called 'splitstackshape'\nTraceback:\n",
      "1. library(splitstackshape)"
     ]
    }
   ],
   "source": [
    "library(dplyr)\n",
    "library(streamMetabolizer)\n",
    "library(splitstackshape)\n",
    "library(ggplot2)\n",
    "library(lubridate)\n",
    "library(reshape2)\n",
    "library(neonUtilities)\n",
    "library(progress)\n",
    "library(patchwork)\n",
    "library(doBy)\n",
    "library(box)\n"
   ]
  },
  {
   "cell_type": "markdown",
   "id": "removed-victim",
   "metadata": {},
   "source": [
    "# Setting up the workspace\n",
    "In the cell below indicate the site that will be analyzed here according to its NEON 4-letter code.\n",
    "\n",
    "If you downloaded the repo into your home director, which is found by going to '~/', then you don't have to change the box path. FYI: Box is a new package for R that allows you to define a set of functions without creating a new package."
   ]
  },
  {
   "cell_type": "code",
   "execution_count": 8,
   "id": "ultimate-initial",
   "metadata": {},
   "outputs": [],
   "source": [
    "site_id<-\"MART\"\n",
    "setwd(paste(\"~/gdrive/SUNA_data/SUNA_NEON/\",site_id,sep=\"\"))\n",
    "\n",
    "options(box.path = '~/neon_suna/box/')\n",
    "\n",
    "\n"
   ]
  },
  {
   "cell_type": "code",
   "execution_count": 23,
   "id": "sacred-insulation",
   "metadata": {},
   "outputs": [
    {
     "data": {
      "text/html": [
       "5"
      ],
      "text/latex": [
       "5"
      ],
      "text/markdown": [
       "5"
      ],
      "text/plain": [
       "[1] 5"
      ]
     },
     "metadata": {},
     "output_type": "display_data"
    }
   ],
   "source": [
    "\n"
   ]
  },
  {
   "cell_type": "markdown",
   "id": "threaded-affair",
   "metadata": {},
   "source": [
    "# Importing SUNA calibration data."
   ]
  },
  {
   "cell_type": "code",
   "execution_count": 3,
   "id": "needed-reasoning",
   "metadata": {},
   "outputs": [],
   "source": [
    "\n",
    "setwd(\"/Users/jhosen/gdrive/fdom/SUNA_NEON/MART\")\n",
    "sunas<-list.files(pattern=\"*.csv\")\n",
    "\n",
    "#suna_cal<-readRDS(\"/Users/jhosen/gdrive/fdom/SUNA Calibration pdfs/suna_cal_comb.rds\")\n",
    "\n"
   ]
  },
  {
   "cell_type": "code",
   "execution_count": 4,
   "id": "better-withdrawal",
   "metadata": {},
   "outputs": [
    {
     "name": "stderr",
     "output_type": "stream",
     "text": [
      "Warning message in sweep(suna2, 2, FUN = \"/\", offse):\n",
      "\"STATS is longer than the extent of 'dim(x)[MARGIN]'\"\n"
     ]
    },
    {
     "ename": "ERROR",
     "evalue": "Error in names(suna_d0_norm) <- paste(\"n_\", names(suna_cal_t), sep = \"\"): 'names' attribute [256] must be the same length as the vector [0]\n",
     "output_type": "error",
     "traceback": [
      "Error in names(suna_d0_norm) <- paste(\"n_\", names(suna_cal_t), sep = \"\"): 'names' attribute [256] must be the same length as the vector [0]\nTraceback:\n"
     ]
    }
   ],
   "source": [
    "\n",
    "\n",
    "compiled_suna<-data.frame()\n",
    "for(i in 1:length(sunas)){\n",
    "suna<-read.csv(paste(sunas[i]),skip=0,header=FALSE)\n",
    "\n",
    "suna_cal<-read.csv(paste(\"/Users/jhosen/gdrive/fdom/SUNA_NEON/MART/MART_CAL/\",unique(suna[,ncol(suna)]),sep=\"\"))\n",
    "suna_cal_t<-as.data.frame(t(suna_cal))\n",
    "names(suna_cal_t)<-suna_cal_t[1,]\n",
    "\n",
    "#suna_d0<-cSplit(suna,3, \",\")\n",
    "names(suna)<-c(\"suna_id\",\"date\",\"time\",\"nitrate\",\"nitrate_mgl\",\"a254\",\"a350\",\"bromide_trace\",\"spec_average_dark\",\"dark_signal_average\",\"inter_time\",suna_cal$wavelength_nm,\"sensor_temp\",\"spec_temp\",\"lamp_temp\",\"lamp_time\",\"rel_hum\",\"main_volt\",\"lamp_volt\",\"int_volt\",\"main_current\",\"fit_aux_1\",\"fit_aux_2\",\"fit_base_1\",\"fit_base_2\",\"fit_RMSE\",\"CTD_Time\",\"CTD_Salinity\",\"CTD_Temp\",\"CTD_Pressure\",\"checksum\",\"cal\")\n",
    "\n",
    "\n",
    "suna<-subset(suna,a254!=0)\n",
    "doy<-gsub(\"2020\",\"\",suna$date,fixed=TRUE)\n",
    "day<-as.POSIXct(paste(as.Date(as.numeric(doy),origin=\"2020-01-01\"),\"00:00:00\"),tz=\"UTC\")\n",
    "#suna$day<-as.POSIXct('2019-05-10 00:00:00',tz=\"UTC\")\n",
    "suna$dtp<-day + (3600*as.numeric(suna$time))\n",
    "attr(suna$dtp,\"tzone\") <- \"Etc/GMT+8\"\n",
    "\n",
    "offse<-c(t(suna_cal_t[3,]))\n",
    "suna2<-(suna[,grep(\"^[0-9]{3}\",names(suna))]/suna$inter_time)-suna$dark_signal_average\n",
    "suna_d0_norm<-sweep(suna2,2,FUN=\"/\",offse)\n",
    "names(suna_d0_norm)<-paste(\"n_\",names(suna_cal_t),sep=\"\")\n",
    "suna_d0_int<-data.frame()\n",
    "for(j in 1:nrow(suna_d0_norm)){\n",
    "\tflip<-as.data.frame(t(suna_d0_norm[j,]))\n",
    "\tnames(flip)<-c(\"abs\")\n",
    "\tflip$wl_nm<-gsub(\"n_\",\"\",row.names(flip),fixed=TRUE)\n",
    "\tflip_int<-as.data.frame(t(approx(flip$wl_nm,flip$abs,xout=seq(189,394,1),rule=2)$y))\n",
    "\tnames(flip_int)<-paste(\"interp_\",seq(189,394,1),sep=\"\")\n",
    "\tsuna_d0_int<-bind_rows(suna_d0_int,flip_int)\n",
    "}\n",
    "suna_d<-bind_cols(suna,suna_d0_int)\n",
    "#suna_d$date<-as.character(suna_d[,c(\"date\")])\n",
    "#suna_d$time<-as.character(suna_d[,c(\"time\")])\n",
    "suna_d2<-suna_d %>% mutate_if(is.numeric,as.character)\n",
    "compiled_suna<-bind_rows(compiled_suna,suna_d2)\n",
    "}\n",
    "\n",
    "compiled_suna2<-subset(compiled_suna,!is.na(bromide_trace) & a254>0 & a350>0)\n",
    "\n",
    "compiled_suna2$interp_254<-as.numeric(compiled_suna2$interp_254)\n",
    "compiled_suna2$a254<-as.numeric(compiled_suna2$a254)\n",
    "compiled_suna2$sensor_temp<-as.numeric(compiled_suna2$sensor_temp)\n",
    "summary(lm(a254~interp_254+I(interp_254^2)+I(interp_254^3)+sensor_temp,compiled_suna2))\n",
    "\n",
    "compiled_suna2$a350<-as.numeric(compiled_suna2$a350)\n",
    "compiled_suna2$interp_350<-as.numeric(compiled_suna2$interp_350)\n",
    "compiled_suna2$sensor_temp<-as.numeric(compiled_suna2$sensor_temp)\n",
    "compiled_suna2$date<-as.numeric(compiled_suna2$date)\n",
    "compiled_suna2$inter_time<-as.numeric(compiled_suna2$inter_time)\n",
    "\n",
    "summary(lm(a350~log10(interp_350)+I(log10(interp_350)^2)+I(log10(interp_350)^3),compiled_suna2))\n",
    "summary(lm(a254~log10(interp_254)+I(log10(interp_254)^2)+I(log10(interp_254)^3),compiled_suna2))\n",
    "\n",
    "a350_mod<-lm(a350~log10(interp_350)+I(log10(interp_350)^2)+I(log10(interp_350)^3),compiled_suna2)\n",
    "a254_mod<-lm(a254~log10(interp_254)+I(log10(interp_254)^2)+I(log10(interp_254)^3),compiled_suna2)\n",
    "\n",
    "cor_cols<-grep(\"^interp_\",names(compiled_suna2))\n",
    "\n",
    "compiled_suna2[,c(cor_cols)]<-compiled_suna2[,c(cor_cols)] %>% mutate_if(is.character,as.numeric)\n",
    "\n",
    "for(i in 1:length(cor_cols)){\n",
    "\tprepdata<-data.frame(interp_350=compiled_suna2[,cor_cols[i]],interp_254=compiled_suna2[,cor_cols[i]])\n",
    "\ta350_pred<-predict(a350_mod,newdata=prepdata)\n",
    "\ta254_pred<-predict(a254_mod,newdata=prepdata)\n",
    "\tcompiled_suna2[,c(paste(names(compiled_suna2)[cor_cols[i]],\"_c350\",sep=\"\"))]<-a350_pred\n",
    "\tcompiled_suna2[,c(paste(names(compiled_suna2)[cor_cols[i]],\"_c254\",sep=\"\"))]<-a254_pred\n",
    "}"
   ]
  },
  {
   "cell_type": "code",
   "execution_count": null,
   "id": "circular-termination",
   "metadata": {},
   "outputs": [],
   "source": []
  },
  {
   "cell_type": "code",
   "execution_count": null,
   "id": "exact-product",
   "metadata": {},
   "outputs": [],
   "source": []
  },
  {
   "cell_type": "code",
   "execution_count": null,
   "id": "included-trustee",
   "metadata": {},
   "outputs": [],
   "source": []
  },
  {
   "cell_type": "code",
   "execution_count": null,
   "id": "opened-balance",
   "metadata": {},
   "outputs": [],
   "source": []
  },
  {
   "cell_type": "code",
   "execution_count": null,
   "id": "raised-edmonton",
   "metadata": {},
   "outputs": [],
   "source": []
  }
 ],
 "metadata": {
  "kernelspec": {
   "display_name": "R",
   "language": "R",
   "name": "ir"
  },
  "language_info": {
   "codemirror_mode": "r",
   "file_extension": ".r",
   "mimetype": "text/x-r-source",
   "name": "R",
   "pygments_lexer": "r",
   "version": "4.0.4"
  }
 },
 "nbformat": 4,
 "nbformat_minor": 5
}
