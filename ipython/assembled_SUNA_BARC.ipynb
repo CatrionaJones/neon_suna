{
 "cells": [
  {
   "cell_type": "markdown",
   "id": "strange-lecture",
   "metadata": {},
   "source": [
    "# Identify working and data directory and site ID.\n",
    "* The working directory is the root directory of the github.\n",
    "* The data directory points to the google drive folder where the larger data files are stored.\n",
    "* For the moment the site ID if the four-digit NEON site ID."
   ]
  },
  {
   "cell_type": "code",
   "execution_count": 1,
   "id": "accessible-complaint",
   "metadata": {},
   "outputs": [],
   "source": [
    "working<-\"~/neon_suna\"\n",
    "site_id<-\"BARC\"\n",
    "#data<-paste(\"~/gdrive/SUNA_Data/SUNA_NEON/\",site_id,\"/2019\",sep=\"\")\n",
    "data<-\"/Users/jhosen/gdrive/SUNA_Data/SUNA_NEON/BARC_2019\""
   ]
  },
  {
   "cell_type": "markdown",
   "id": "heated-vienna",
   "metadata": {},
   "source": [
    "# Initialize required libraries, functions and formatting utilities."
   ]
  },
  {
   "cell_type": "code",
   "execution_count": 2,
   "id": "retained-nepal",
   "metadata": {},
   "outputs": [
    {
     "name": "stderr",
     "output_type": "stream",
     "text": [
      "\n",
      "Attaching package: ‘dplyr’\n",
      "\n",
      "\n",
      "The following objects are masked from ‘package:stats’:\n",
      "\n",
      "    filter, lag\n",
      "\n",
      "\n",
      "The following objects are masked from ‘package:base’:\n",
      "\n",
      "    intersect, setdiff, setequal, union\n",
      "\n",
      "\n",
      "USGS Active Research Package:\n",
      "https://owi.usgs.gov/R/packages.html#research\n",
      "\n",
      "This package was developed for research purposes. We used it for our\n",
      "own applications and welcome flexible, resilient users who can help us\n",
      "test and improve the package. Please give us feedback at\n",
      "https://github.com/USGS-R/streamMetabolizer/issues/new.\n",
      "\n",
      "\n",
      "Attaching package: ‘lubridate’\n",
      "\n",
      "\n",
      "The following objects are masked from ‘package:base’:\n",
      "\n",
      "    date, intersect, setdiff, union\n",
      "\n",
      "\n",
      "\n",
      "Attaching package: ‘doBy’\n",
      "\n",
      "\n",
      "The following object is masked from ‘package:dplyr’:\n",
      "\n",
      "    order_by\n",
      "\n",
      "\n"
     ]
    }
   ],
   "source": [
    "library(dplyr)\n",
    "library(streamMetabolizer)\n",
    "library(splitstackshape)\n",
    "library(ggplot2)\n",
    "library(lubridate)\n",
    "library(reshape2)\n",
    "library(neonUtilities)\n",
    "library(progress)\n",
    "library(patchwork)\n",
    "library(doBy)\n",
    "library(stringr)\n",
    "#library(box)\n",
    "\n",
    "theme_ts_space<-theme_grey() +\n",
    "\t\ttheme(\n",
    "#\t\tpanel.grid.major = element_blank(),\n",
    "#\t\tpanel.grid.minor = element_blank(),\n",
    "\t\tpanel.background = element_rect(fill=\"white\", colour=\"black\", size=2),\n",
    "#\t\tlegend.key       = element_blank(),\n",
    "#\t\tlegend.text      = element_text(size=20.5),\n",
    "#\t\tlegend.text      = element_blank(),\n",
    "#\t\tlegend.title     = element_text(size=20.5),\n",
    "\t\taxis.text.x = element_text(size=22,colour=\"black\",hjust=1,angle=45),\n",
    "\t\taxis.text.y = element_text(size=22,colour=\"black\",vjust=.3),\n",
    "\t\taxis.title.x = element_text(size=22),\n",
    "\t\taxis.title.y = element_text(size=22,vjust=-1),\n",
    "#\t\tplot.title = element_text(hjust = 0.5,size=22,face=\"bold\"),\t\t\n",
    "#\t\tlegend.position  = \"left\",\n",
    "\t\tlegend.position  = \"none\",\n",
    "\t\tplot.margin = unit(c(1,1,1,1), \"cm\"),\n",
    "\t\tpanel.border = element_rect(colour = \"black\", fill=NA, size=2)\n",
    "\t\t)\n",
    "\n",
    "\n",
    "\n"
   ]
  },
  {
   "cell_type": "markdown",
   "id": "elder-season",
   "metadata": {},
   "source": [
    "# Setting up the workspace\n",
    "In the cell below indicate the site that will be analyzed here according to its NEON 4-letter code. A list of files for that site is then placed in the vector \"sunas\".\n",
    "\n",
    "If you downloaded the repo into your home director, which is found by going to \"~/\", then you don\"t have to change the box path. FYI: Box is a new package for R that allows you to define a set of functions without creating a new package."
   ]
  },
  {
   "cell_type": "code",
   "execution_count": 3,
   "id": "innovative-electron",
   "metadata": {},
   "outputs": [],
   "source": [
    "\n",
    "#setwd(paste(\"~/gdrive/SUNA_data/SUNA_NEON/\",site_id,sep=\"\"))\n",
    "#sunas<-list.files(pattern=\"*.csv\")\n",
    "#getwd()\n",
    "#options(box.path = \"~/neon_suna/box/\")\n",
    "#box::use(plots)\n",
    "\n",
    "setwd(data)\n",
    "sunas<-list.files(pattern=\"*.CSV\")\n",
    "\n",
    "#suna_cal<-readRDS(\"/Users/jhosen/gdrive/fdom/SUNA Calibration pdfs/suna_cal_comb.rds\")\n",
    "suna_cal<-read.csv(\"/Users/jhosen/gdrive/SUNA_Data/SUNA Calibration pdfs/suna_0839_20200312.csv\")\n",
    "suna_cal_t<-as.data.frame(t(suna_cal))\n",
    "names(suna_cal_t)<-suna_cal_t[1,]"
   ]
  },
  {
   "cell_type": "code",
   "execution_count": null,
   "id": "verbal-penny",
   "metadata": {},
   "outputs": [],
   "source": []
  },
  {
   "cell_type": "markdown",
   "id": "labeled-istanbul",
   "metadata": {},
   "source": [
    "# Data import and processing loop.\n",
    "This step loads each data file, formats the data for use, and concatenates files from an individual site.\n",
    "\n",
    "This step could take a while."
   ]
  },
  {
   "cell_type": "code",
   "execution_count": 41,
   "id": "descending-gauge",
   "metadata": {},
   "outputs": [
    {
     "data": {
      "text/html": [
       "'SNA0826U'"
      ],
      "text/latex": [
       "'SNA0826U'"
      ],
      "text/markdown": [
       "'SNA0826U'"
      ],
      "text/plain": [
       "[1] \"SNA0826U\""
      ]
     },
     "metadata": {},
     "output_type": "display_data"
    }
   ],
   "source": [
    "cal"
   ]
  },
  {
   "cell_type": "code",
   "execution_count": 43,
   "id": "moving-backing",
   "metadata": {
    "tags": []
   },
   "outputs": [
    {
     "name": "stdout",
     "output_type": "stream",
     "text": [
      "[1] 1\n",
      "[1] 2\n",
      "[1] 3\n",
      "[1] 4\n",
      "[1] 5\n",
      "[1] 6\n",
      "[1] 7\n",
      "[1] 8\n",
      "[1] 9\n",
      "[1] 10\n",
      "[1] 11\n",
      "[1] 12\n",
      "[1] 13\n",
      "[1] 14\n",
      "[1] 15\n",
      "[1] 16\n",
      "[1] 17\n",
      "[1] 18\n",
      "[1] 19\n",
      "[1] 20\n",
      "[1] 21\n",
      "[1] 22\n",
      "[1] 23\n",
      "[1] 24\n",
      "[1] 25\n",
      "[1] 26\n",
      "[1] 27\n",
      "[1] 28\n",
      "[1] 29\n",
      "[1] 30\n",
      "[1] 31\n",
      "[1] 32\n",
      "[1] 33\n",
      "[1] 34\n",
      "[1] 35\n",
      "[1] 36\n",
      "[1] 37\n",
      "[1] 38\n",
      "[1] 39\n",
      "[1] 40\n",
      "[1] 41\n",
      "[1] 42\n",
      "[1] 43\n",
      "[1] 44\n",
      "[1] 45\n",
      "[1] 46\n",
      "[1] 47\n",
      "[1] 48\n",
      "[1] 49\n",
      "[1] 50\n",
      "[1] 51\n",
      "[1] 52\n",
      "[1] 53\n",
      "[1] 54\n",
      "[1] 55\n",
      "[1] 56\n",
      "[1] 57\n",
      "[1] 58\n",
      "[1] 59\n",
      "[1] 60\n",
      "[1] 61\n",
      "[1] 62\n",
      "[1] 63\n",
      "[1] 64\n",
      "[1] 65\n",
      "[1] 66\n",
      "[1] 67\n",
      "[1] 68\n",
      "[1] 69\n",
      "[1] 70\n",
      "[1] 71\n",
      "[1] 72\n",
      "[1] 73\n",
      "[1] 74\n",
      "[1] 75\n",
      "[1] 76\n",
      "[1] 77\n",
      "[1] 78\n",
      "[1] 79\n",
      "[1] 80\n",
      "[1] 81\n",
      "[1] 82\n",
      "[1] 83\n",
      "[1] 84\n",
      "[1] 85\n",
      "[1] 86\n",
      "[1] 87\n",
      "[1] 88\n",
      "[1] 89\n",
      "[1] 90\n",
      "[1] 91\n",
      "[1] 92\n",
      "[1] 93\n",
      "[1] 94\n",
      "[1] 95\n",
      "[1] 96\n",
      "[1] 97\n",
      "[1] 98\n",
      "[1] 99\n",
      "[1] 100\n",
      "[1] 101\n",
      "[1] 102\n",
      "[1] 103\n",
      "[1] 104\n",
      "[1] 105\n",
      "[1] 106\n",
      "[1] 107\n",
      "[1] 108\n",
      "[1] 109\n",
      "[1] 110\n",
      "[1] 111\n",
      "[1] 112\n",
      "[1] 113\n",
      "[1] 114\n",
      "[1] 115\n",
      "[1] 116\n",
      "[1] 117\n",
      "[1] 118\n",
      "[1] 119\n",
      "[1] 120\n",
      "[1] 121\n",
      "[1] 122\n",
      "[1] 123\n",
      "[1] 124\n",
      "[1] 125\n",
      "[1] 126\n",
      "[1] 127\n",
      "[1] 128\n",
      "[1] 129\n",
      "[1] 130\n",
      "[1] 131\n",
      "[1] 132\n",
      "[1] 133\n",
      "[1] 134\n",
      "[1] 135\n",
      "[1] 136\n",
      "[1] 137\n",
      "[1] 138\n",
      "[1] 139\n",
      "[1] 140\n",
      "[1] 141\n",
      "[1] 142\n",
      "[1] 143\n",
      "[1] 144\n",
      "[1] 145\n",
      "[1] 146\n",
      "[1] 147\n",
      "[1] 148\n",
      "[1] 149\n",
      "[1] 150\n",
      "[1] 151\n",
      "[1] 152\n",
      "[1] 153\n",
      "[1] 154\n",
      "[1] 155\n",
      "[1] 156\n",
      "[1] 157\n",
      "[1] 158\n",
      "[1] 159\n",
      "[1] 160\n",
      "[1] 161\n",
      "[1] 162\n",
      "[1] 163\n",
      "[1] 164\n",
      "[1] 165\n",
      "[1] 166\n",
      "[1] 167\n",
      "[1] 168\n",
      "[1] 169\n",
      "[1] 170\n",
      "[1] 171\n",
      "[1] 172\n",
      "[1] 173\n",
      "[1] 174\n",
      "[1] 175\n",
      "[1] 176\n",
      "[1] 177\n",
      "[1] 178\n",
      "[1] 179\n",
      "[1] 180\n",
      "[1] 181\n",
      "[1] 182\n",
      "[1] 183\n",
      "[1] 184\n",
      "[1] 185\n",
      "[1] \"done\"\n"
     ]
    }
   ],
   "source": [
    "options(warn=-1)\n",
    "compiled_suna<-data.frame()\n",
    "sunas_length<-length(sunas)\n",
    "for(i in 1:sunas_length){\n",
    "#i<-1\n",
    "print(i)\n",
    "\n",
    "\n",
    "suna_calid<-read.csv(paste(sunas[i]),skip=0,header=FALSE)\n",
    "cal<-str_extract(suna_calid,\"[SNA]{3}[0-9]{4}[a-zA-Z]{1}\")\n",
    "cal<-cal[!is.na(cal)]\n",
    "    \n",
    "    \n",
    "suna<-read.csv(paste(sunas[i]),skip=30,header=FALSE)\n",
    "\n",
    "if(cal!=\"SNA0826L\" & cal!=\"SNA0826M\" & cal!=\"SNA0826N\"){suna_cal<-read.csv(paste(\"/Users/jhosen/gdrive/SUNA_Data/SUNA_NEON/BARC_2019/cal_files/\",cal,\"_abbr.csv\",sep=\"\"))}else{\n",
    "    suna_cal<-read.csv(\"/Users/jhosen/gdrive/SUNA_Data/SUNA_NEON/BARC_2019/cal_files/SNA0826O_abbr.csv\")}\n",
    "\n",
    "\n",
    "\n",
    "    \n",
    "    \n",
    "suna_cal_t<-as.data.frame(t(suna_cal))\n",
    "names(suna_cal_t)<-suna_cal_t[1,]\n",
    "\n",
    "#suna_d0<-cSplit(suna,3, \",\")\n",
    "names(suna)<-c(\"suna_id\",\"date\",\"time\",\"nitrate\",\"nitrate_mgl\",\"a254\",\"a350\",\"bromide_trace\",\"spec_average_dark\",\"dark_signal_average\",\"int_time\",suna_cal$wavelength_nm,\"sensor_temp\",\"spec_temp\",\"lamp_temp\",\"lamp_time\",\"rel_hum\",\"main_volt\",\"lamp_volt\",\"int_volt\",\"main_current\",\"fit_aux_1\",\"fit_aux_2\",\"fit_base_1\",\"fit_base_2\",\"fit_RMSE\",\"CTD_Time\",\"CTD_Salinity\",\"CTD_Temp\",\"CTD_Pressure\",\"checksum\")\n",
    "\n",
    "    \n",
    "#suna<-subset(suna,a254!=0)\n",
    "\n",
    "suna<-subset(suna,a254!=0)\n",
    "    \n",
    "#year<-substr(suna$date, 1, 4)\n",
    "if(grepl(\"D2019\",sunas[i])==TRUE){\n",
    "year<-\"2019\"\n",
    "doy<-gsub(\".CSV\",\"\",gsub(\"D2019\",\"\",paste(sunas[i]),fixed=TRUE),fixed=TRUE)\n",
    "}\n",
    "    \n",
    "if(grepl(\"D2020\",sunas[i])==TRUE){\n",
    "year<-\"2020\"\n",
    "doy<-gsub(\".CSV\",\"\",gsub(\"D2020\",\"\",paste(sunas[i]),fixed=TRUE),fixed=TRUE)\n",
    "}\n",
    "\n",
    "day<-as.POSIXct(paste(as.Date(as.numeric(doy)-1,origin=paste(year,\"-01-01\",sep=\"\")),\"00:00:00\"),tz=\"UTC\")\n",
    "#suna$day<-as.POSIXct(\"2019-05-10 00:00:00\",tz=\"UTC\")\n",
    "suna$dtp<-day + (3600*as.numeric(suna$time))\n",
    "#attr(suna$dtp,\"tzone\") <- \"Etc/GMT+8\"\n",
    "\n",
    "    \n",
    "\n",
    "offse<-c(t(suna_cal_t[3,]))\n",
    "suna2<-(suna[,12:267]/suna$int_time)-suna$dark_signal_average\n",
    "suna_d0_norm<-sweep(suna2,2,FUN=\"/\",offse)\n",
    "names(suna_d0_norm)<-paste(\"n_\",names(suna_cal_t),sep=\"\")\n",
    "\n",
    "    \n",
    "\n",
    "#print(\"test\")\n",
    "suna_d0_int<-data.frame()\n",
    "for(j in 1:nrow(suna_d0_norm)){\t\n",
    "#    print(j)\n",
    "    if(!is.na(suna_d0_norm[j,1])){\n",
    "\tflip<-as.data.frame(t(suna_d0_norm[j,]))\n",
    "\tnames(flip)<-c(\"abs\")\n",
    "\tflip$wl_nm<-gsub(\"n_\",\"\",row.names(flip),fixed=TRUE)\n",
    "\tflip_int<-as.data.frame(t(approx(flip$wl_nm,flip$abs,xout=seq(189,394,1),rule=2)$y))\n",
    "\tnames(flip_int)<-paste(\"interp_\",seq(189,394,1),sep=\"\")\n",
    "\tsuna_d0_int<-bind_rows(suna_d0_int,flip_int)\n",
    "    }else{\n",
    "        flip_int[1,]<-NA\n",
    "       \tsuna_d0_int<-bind_rows(suna_d0_int,flip_int)\n",
    "    }\n",
    "}\n",
    "suna_d<-bind_cols(suna,suna_d0_int)\n",
    "#suna_d$date<-as.character(suna_d[,c(\"date\")])\n",
    "#suna_d$time<-as.character(suna_d[,c(\"time\")])\n",
    "suna_d2<-suna_d %>% mutate_if(is.numeric,as.character)\n",
    "compiled_suna<-bind_rows(compiled_suna,suna_d2)\n",
    "}\n",
    "print(\"done\")\n",
    "options(warn=0)    \n",
    "    \n",
    "    \n",
    "    \n"
   ]
  },
  {
   "cell_type": "markdown",
   "id": "hairy-metabolism",
   "metadata": {},
   "source": [
    "# Check Data and Save"
   ]
  },
  {
   "cell_type": "code",
   "execution_count": 46,
   "id": "correct-stamp",
   "metadata": {},
   "outputs": [],
   "source": [
    "#head(compiled_suna)\n",
    "#grepl(\"D2020\",sunas[240])\n",
    "#sunas[240]\n",
    "#length(sunas)\n",
    "#sunas[240]\n",
    "#ncol(compiled_suna)\n",
    "#nrow(compiled_suna)\n",
    "#names(compiled_suna)<-gsub(\"inter_time\",\"int_time\",names(compiled_suna),fixed=TRUE)\n",
    "saveRDS(compiled_suna,\"/Users/jhosen/gdrive/SUNA_Data/SUNA_NEON/BARC_2019/BARC_corrected/SUNA_BARC_20210428_full.rds\")\n",
    "#compiled_suna<-readRDS(\"/Users/jhosen/gdrive/SUNA_Data/SUNA_NEON/BARC_2019/BARC_corrected/SUNA_BARC_20210428_full.rds\")\n"
   ]
  },
  {
   "cell_type": "markdown",
   "id": "injured-charles",
   "metadata": {},
   "source": [
    "# Extracting the interpolated columns"
   ]
  },
  {
   "cell_type": "code",
   "execution_count": 47,
   "id": "professional-cedar",
   "metadata": {},
   "outputs": [],
   "source": [
    "compiled_suna$cal<-\"suna_0839\"\n",
    "\n",
    "suna_interp<-compiled_suna[,grepl(\"^inter\",names(compiled_suna))] %>% mutate_if(is.character, ~as.numeric(.))\n",
    "#head(suna_interp)\n",
    "\n",
    "other_suna<-compiled_suna[,c(\"suna_id\",\"date\",\"time\",\"nitrate\",\"nitrate_mgl\",\"a254\",\"a350\",\"bromide_trace\",\"spec_average_dark\",\"dark_signal_average\",\"int_time\",\"sensor_temp\",\"spec_temp\",\"lamp_temp\",\"lamp_time\",\"rel_hum\",\"main_volt\",\"lamp_volt\",\"int_volt\",\"main_current\",\"fit_aux_1\",\"fit_aux_2\",\"fit_base_1\",\"fit_base_2\",\"fit_RMSE\",\"CTD_Time\",\"CTD_Salinity\",\"CTD_Temp\",\"CTD_Pressure\",\"checksum\",\"cal\",\"dtp\")]\n",
    "\n",
    "suna_cols<-bind_cols(other_suna,suna_interp)\n",
    "suna_cols$a254<-as.numeric(suna_cols$a254)\n",
    "suna_cols$a350<-as.numeric(suna_cols$a350)\n",
    "suna_cols$nitrate<-as.numeric(suna_cols$nitrate)\n",
    "suna_cols$nitrate_mgl<-as.numeric(suna_cols$nitrate_mgl)\n",
    "suna_cols$sensor_temp<-as.numeric(suna_cols$sensor_temp)\n"
   ]
  },
  {
   "cell_type": "code",
   "execution_count": null,
   "id": "irish-concord",
   "metadata": {},
   "outputs": [],
   "source": [
    "range(suna_cols$a254)\n",
    "range(suna_cols$interp_254)\n",
    "suna_cols$interp_254\n",
    "names(suna_cols)"
   ]
  },
  {
   "cell_type": "code",
   "execution_count": 51,
   "id": "scientific-parade",
   "metadata": {
    "tags": []
   },
   "outputs": [],
   "source": [
    "suna_cols<-subset(suna_cols,a350<10 & a254<10)\n",
    "a350_mod<-lm(a350~log10(interp_350)+I(log10(interp_350)^2)+I(log10(interp_350)^3),suna_cols)\n",
    "a254_mod<-lm(a254~log10(interp_254+0.6)+I(log10(interp_254+0.6)^2)+I(log10(interp_254+0.6)^3),suna_cols)\n",
    "\n",
    "\n",
    "\n",
    "cor_cols<-grep(\"^interp_\",names(suna_cols))\n"
   ]
  },
  {
   "cell_type": "code",
   "execution_count": 52,
   "id": "manual-thriller",
   "metadata": {},
   "outputs": [
    {
     "data": {
      "text/plain": [
       "\n",
       "Call:\n",
       "lm(formula = a254 ~ log10(interp_254 + 0.6) + I(log10(interp_254 + \n",
       "    0.6)^2) + I(log10(interp_254 + 0.6)^3), data = suna_cols)\n",
       "\n",
       "Residuals:\n",
       "     Min       1Q   Median       3Q      Max \n",
       "-0.58486 -0.00306 -0.00098  0.00118  0.54078 \n",
       "\n",
       "Coefficients:\n",
       "                              Estimate Std. Error t value Pr(>|t|)    \n",
       "(Intercept)                   0.328283   0.001973  166.39   <2e-16 ***\n",
       "log10(interp_254 + 0.6)      -1.780906   0.021737  -81.93   <2e-16 ***\n",
       "I(log10(interp_254 + 0.6)^2)  1.273402   0.079882   15.94   <2e-16 ***\n",
       "I(log10(interp_254 + 0.6)^3) -1.135148   0.085020  -13.35   <2e-16 ***\n",
       "---\n",
       "Signif. codes:  0 ‘***’ 0.001 ‘**’ 0.01 ‘*’ 0.05 ‘.’ 0.1 ‘ ’ 1\n",
       "\n",
       "Residual standard error: 0.02567 on 347955 degrees of freedom\n",
       "Multiple R-squared:  0.9835,\tAdjusted R-squared:  0.9835 \n",
       "F-statistic: 6.906e+06 on 3 and 347955 DF,  p-value: < 2.2e-16\n"
      ]
     },
     "metadata": {},
     "output_type": "display_data"
    },
    {
     "data": {
      "image/png": "[encoded data removed]",
      "text/plain": [
       "plot without title"
      ]
     },
     "metadata": {
      "image/png": {
       "height": 420,
       "width": 420
      }
     },
     "output_type": "display_data"
    }
   ],
   "source": [
    "ggplot(suna_cols,aes(interp_254,a254))+geom_point()\n",
    "\n",
    "summary(a254_mod)"
   ]
  },
  {
   "cell_type": "code",
   "execution_count": 53,
   "id": "conventional-relative",
   "metadata": {
    "collapsed": true,
    "jupyter": {
     "outputs_hidden": true
    },
    "tags": []
   },
   "outputs": [
    {
     "name": "stderr",
     "output_type": "stream",
     "text": [
      "Warning message in eval(predvars, data, env):\n",
      "“NaNs produced”\n",
      "Warning message in structure(x, class = unique(c(\"AsIs\", oldClass(x)))):\n",
      "“NaNs produced”\n",
      "Warning message in structure(x, class = unique(c(\"AsIs\", oldClass(x)))):\n",
      "“NaNs produced”\n",
      "Warning message in eval(predvars, data, env):\n",
      "“NaNs produced”\n",
      "Warning message in structure(x, class = unique(c(\"AsIs\", oldClass(x)))):\n",
      "“NaNs produced”\n",
      "Warning message in structure(x, class = unique(c(\"AsIs\", oldClass(x)))):\n",
      "“NaNs produced”\n",
      "Warning message in eval(predvars, data, env):\n",
      "“NaNs produced”\n",
      "Warning message in structure(x, class = unique(c(\"AsIs\", oldClass(x)))):\n",
      "“NaNs produced”\n",
      "Warning message in structure(x, class = unique(c(\"AsIs\", oldClass(x)))):\n",
      "“NaNs produced”\n",
      "Warning message in eval(predvars, data, env):\n",
      "“NaNs produced”\n",
      "Warning message in structure(x, class = unique(c(\"AsIs\", oldClass(x)))):\n",
      "“NaNs produced”\n",
      "Warning message in structure(x, class = unique(c(\"AsIs\", oldClass(x)))):\n",
      "“NaNs produced”\n",
      "Warning message in eval(predvars, data, env):\n",
      "“NaNs produced”\n",
      "Warning message in structure(x, class = unique(c(\"AsIs\", oldClass(x)))):\n",
      "“NaNs produced”\n",
      "Warning message in structure(x, class = unique(c(\"AsIs\", oldClass(x)))):\n",
      "“NaNs produced”\n",
      "Warning message in eval(predvars, data, env):\n",
      "“NaNs produced”\n",
      "Warning message in structure(x, class = unique(c(\"AsIs\", oldClass(x)))):\n",
      "“NaNs produced”\n",
      "Warning message in structure(x, class = unique(c(\"AsIs\", oldClass(x)))):\n",
      "“NaNs produced”\n",
      "Warning message in eval(predvars, data, env):\n",
      "“NaNs produced”\n",
      "Warning message in structure(x, class = unique(c(\"AsIs\", oldClass(x)))):\n",
      "“NaNs produced”\n",
      "Warning message in structure(x, class = unique(c(\"AsIs\", oldClass(x)))):\n",
      "“NaNs produced”\n",
      "Warning message in eval(predvars, data, env):\n",
      "“NaNs produced”\n",
      "Warning message in structure(x, class = unique(c(\"AsIs\", oldClass(x)))):\n",
      "“NaNs produced”\n",
      "Warning message in structure(x, class = unique(c(\"AsIs\", oldClass(x)))):\n",
      "“NaNs produced”\n",
      "Warning message in eval(predvars, data, env):\n",
      "“NaNs produced”\n",
      "Warning message in structure(x, class = unique(c(\"AsIs\", oldClass(x)))):\n",
      "“NaNs produced”\n",
      "Warning message in structure(x, class = unique(c(\"AsIs\", oldClass(x)))):\n",
      "“NaNs produced”\n",
      "Warning message in eval(predvars, data, env):\n",
      "“NaNs produced”\n",
      "Warning message in structure(x, class = unique(c(\"AsIs\", oldClass(x)))):\n",
      "“NaNs produced”\n",
      "Warning message in structure(x, class = unique(c(\"AsIs\", oldClass(x)))):\n",
      "“NaNs produced”\n",
      "Warning message in eval(predvars, data, env):\n",
      "“NaNs produced”\n",
      "Warning message in structure(x, class = unique(c(\"AsIs\", oldClass(x)))):\n",
      "“NaNs produced”\n",
      "Warning message in structure(x, class = unique(c(\"AsIs\", oldClass(x)))):\n",
      "“NaNs produced”\n",
      "Warning message in eval(predvars, data, env):\n",
      "“NaNs produced”\n",
      "Warning message in structure(x, class = unique(c(\"AsIs\", oldClass(x)))):\n",
      "“NaNs produced”\n",
      "Warning message in structure(x, class = unique(c(\"AsIs\", oldClass(x)))):\n",
      "“NaNs produced”\n",
      "Warning message in eval(predvars, data, env):\n",
      "“NaNs produced”\n",
      "Warning message in structure(x, class = unique(c(\"AsIs\", oldClass(x)))):\n",
      "“NaNs produced”\n",
      "Warning message in structure(x, class = unique(c(\"AsIs\", oldClass(x)))):\n",
      "“NaNs produced”\n",
      "Warning message in eval(predvars, data, env):\n",
      "“NaNs produced”\n",
      "Warning message in structure(x, class = unique(c(\"AsIs\", oldClass(x)))):\n",
      "“NaNs produced”\n",
      "Warning message in structure(x, class = unique(c(\"AsIs\", oldClass(x)))):\n",
      "“NaNs produced”\n",
      "Warning message in eval(predvars, data, env):\n",
      "“NaNs produced”\n",
      "Warning message in structure(x, class = unique(c(\"AsIs\", oldClass(x)))):\n",
      "“NaNs produced”\n",
      "Warning message in structure(x, class = unique(c(\"AsIs\", oldClass(x)))):\n",
      "“NaNs produced”\n",
      "Warning message in eval(predvars, data, env):\n",
      "“NaNs produced”\n",
      "Warning message in structure(x, class = unique(c(\"AsIs\", oldClass(x)))):\n",
      "“NaNs produced”\n",
      "Warning message in structure(x, class = unique(c(\"AsIs\", oldClass(x)))):\n",
      "“NaNs produced”\n",
      "Warning message in eval(predvars, data, env):\n",
      "“NaNs produced”\n",
      "Warning message in structure(x, class = unique(c(\"AsIs\", oldClass(x)))):\n",
      "“NaNs produced”\n",
      "Warning message in structure(x, class = unique(c(\"AsIs\", oldClass(x)))):\n",
      "“NaNs produced”\n",
      "Warning message in eval(predvars, data, env):\n",
      "“NaNs produced”\n",
      "Warning message in structure(x, class = unique(c(\"AsIs\", oldClass(x)))):\n",
      "“NaNs produced”\n",
      "Warning message in structure(x, class = unique(c(\"AsIs\", oldClass(x)))):\n",
      "“NaNs produced”\n",
      "Warning message in eval(predvars, data, env):\n",
      "“NaNs produced”\n",
      "Warning message in structure(x, class = unique(c(\"AsIs\", oldClass(x)))):\n",
      "“NaNs produced”\n",
      "Warning message in structure(x, class = unique(c(\"AsIs\", oldClass(x)))):\n",
      "“NaNs produced”\n",
      "Warning message in eval(predvars, data, env):\n",
      "“NaNs produced”\n",
      "Warning message in structure(x, class = unique(c(\"AsIs\", oldClass(x)))):\n",
      "“NaNs produced”\n",
      "Warning message in structure(x, class = unique(c(\"AsIs\", oldClass(x)))):\n",
      "“NaNs produced”\n"
     ]
    }
   ],
   "source": [
    "options(warn=1)\n",
    "\n",
    "\n",
    "#compiled_suna2[,c(cor_cols)]<-compiled_suna2[,c(cor_cols)] %>% mutate_if(is.character,as.numeric)\n",
    "\n",
    "for(i in 1:length(cor_cols)){\n",
    "\tprepdata<-data.frame(interp_350=suna_cols[,cor_cols[i]],interp_254=suna_cols[,cor_cols[i]])\n",
    "\ta350_pred<-predict(a350_mod,newdata=prepdata)\n",
    "\ta254_pred<-predict(a254_mod,newdata=prepdata)\n",
    "\tsuna_cols[,c(paste(names(suna_cols)[cor_cols[i]],\"_c350\",sep=\"\"))]<-a350_pred\n",
    "\tsuna_cols[,c(paste(names(suna_cols)[cor_cols[i]],\"_c254\",sep=\"\"))]<-a254_pred\n",
    "}\n",
    "\n",
    "options(warn=0)"
   ]
  },
  {
   "cell_type": "markdown",
   "id": "collaborative-flavor",
   "metadata": {},
   "source": [
    "# Reducing data down to 15 minutes intervals.\n",
    "We want to average down each burst from the SUNA to a single value and mac sure that these values are snapped to 15 minutes intervals (e.g., rather than round up or down to 14 or 16)."
   ]
  },
  {
   "cell_type": "code",
   "execution_count": 81,
   "id": "hungry-miracle",
   "metadata": {},
   "outputs": [
    {
     "data": {
      "text/html": [
       "416901"
      ],
      "text/latex": [
       "416901"
      ],
      "text/markdown": [
       "416901"
      ],
      "text/plain": [
       "[1] 416901"
      ]
     },
     "metadata": {},
     "output_type": "display_data"
    }
   ],
   "source": [
    "head(suna_cols)"
   ]
  },
  {
   "cell_type": "code",
   "execution_count": 54,
   "id": "romance-virus",
   "metadata": {},
   "outputs": [],
   "source": [
    "#rm(compiled_suna)\n",
    "#rm(compiled_suna_1)\n",
    "#rm(compiled_suna_2)\n",
    "\n",
    "suna_cols$dtpr<-lubridate::round_date(suna_cols$dtp, \"15 minutes\")\n",
    "suna_red<-summaryBy(.~dtpr,suna_cols,FUN=c(mean))\n",
    "\n"
   ]
  },
  {
   "cell_type": "code",
   "execution_count": null,
   "id": "aggressive-transcript",
   "metadata": {},
   "outputs": [],
   "source": [
    "#unique(as.Date(suna_red$dtpr))"
   ]
  },
  {
   "cell_type": "markdown",
   "id": "hispanic-stress",
   "metadata": {},
   "source": [
    "# Downloading turbidity time series data from NEON.\n",
    "Data product DP1.20288.001 for general water quality sonde data."
   ]
  },
  {
   "cell_type": "code",
   "execution_count": 55,
   "id": "certified-support",
   "metadata": {},
   "outputs": [
    {
     "name": "stdout",
     "output_type": "stream",
     "text": [
      "Finding available files\n",
      "  |======================================================================| 100%\n",
      "\n",
      "Downloading files totaling approximately 25.866721 MB\n",
      "Downloading 45 files\n",
      "  |======================================================================| 100%\n",
      "\n",
      "Unpacking zip files using 1 cores.\n",
      "Stacking operation across a single core.\n",
      "Stacking table waq_instantaneous\n",
      "Stacking table ais_maintenance\n",
      "Merged the most recent publication of sensor position files for each site and saved to /stackedFiles\n",
      "Copied the most recent publication of variable definition file to /stackedFiles\n",
      "Finished: Stacked 2 data tables and 2 metadata tables!\n",
      "Stacking took 5.370483 secs\n"
     ]
    }
   ],
   "source": [
    "#BARC_wqs<-loadByProduct(dpID=\"DP1.20288.001\",site=\"BARC\",check.size=F)\n",
    "#saveRDS(BARC_wqs,paste(data,\"/BARC_wqs.rds\",sep=\"\"))\n",
    "BARC_wqs<-readRDS(paste(data,\"/BARC_wqs.rds\",sep=\"\"))\n"
   ]
  },
  {
   "cell_type": "code",
   "execution_count": 56,
   "id": "heated-square",
   "metadata": {},
   "outputs": [
    {
     "name": "stdout",
     "output_type": "stream",
     "text": [
      "'data.frame':\t95969 obs. of  7 variables:\n",
      " $ dtpr                    : POSIXct, format: \"2017-10-20 14:45:00\" \"2017-10-20 15:00:00\" ...\n",
      " $ specificConductance.mean: num  1613 1614 1611 1613 1612 ...\n",
      " $ dissolvedOxygen.mean    : num  5.63 5.67 5.68 5.7 5.7 ...\n",
      " $ pH.mean                 : num  4.47 4.53 4.65 4.54 4.52 ...\n",
      " $ chlorophyll.mean        : num  1.06 1.017 0.977 1.013 1.02 ...\n",
      " $ turbidity.mean          : num  -7.37 -7.32 -7.33 -7.34 -7.32 ...\n",
      " $ fDOM.mean               : num  NA NA NA NA NA NA NA NA NA NA ...\n"
     ]
    }
   ],
   "source": [
    "BARC_wqsd<-BARC_wqs$waq_instantaneous\n",
    "BARC_wqsd$dtp<-BARC_wqsd$startDateTime\n",
    "BARC_wqk<-subset(BARC_wqsd[,c(\"siteID\",\"dtp\",\"specificConductance\",\"dissolvedOxygen\",\"pH\",\"chlorophyll\",\"turbidity\",\"fDOM\")],!is.na(BARC_wqsd$specificConductance))\n",
    "#str(BARC_wqk)\n",
    "\n",
    "BARC_wqk$dtpr<-lubridate::round_date(BARC_wqk$dtp, \"15 minutes\")\n",
    "BARC_wq_red<-summaryBy(.~dtpr,BARC_wqk,FUN=c(mean))\n",
    "str(BARC_wq_red)"
   ]
  },
  {
   "cell_type": "code",
   "execution_count": 57,
   "id": "important-binding",
   "metadata": {
    "tags": []
   },
   "outputs": [],
   "source": [
    "BARC_sw<-merge(suna_red,BARC_wq_red,by=\"dtpr\",all.x=TRUE)\n"
   ]
  },
  {
   "cell_type": "code",
   "execution_count": 58,
   "id": "dimensional-conjunction",
   "metadata": {},
   "outputs": [],
   "source": [
    "saveRDS(BARC_sw,paste(data,\"/BARC_SUNA_wq.rds\",sep=\"\"))"
   ]
  },
  {
   "cell_type": "markdown",
   "id": "smaller-release",
   "metadata": {},
   "source": [
    "# import and merge NEON water quality grab sample data."
   ]
  },
  {
   "cell_type": "markdown",
   "id": "neural-piano",
   "metadata": {},
   "source": [
    "### Downloading grab sample data and saving as rds file in data folder."
   ]
  },
  {
   "cell_type": "code",
   "execution_count": 60,
   "id": "persistent-notebook",
   "metadata": {
    "tags": []
   },
   "outputs": [
    {
     "name": "stdout",
     "output_type": "stream",
     "text": [
      "Finding available files\n",
      "  |======================================================================| 100%\n",
      "\n",
      "Downloading files totaling approximately 2.2779 MB\n",
      "Downloading 67 files\n",
      "  |======================================================================| 100%\n",
      "\n",
      "Unpacking zip files using 1 cores.\n",
      "Stacking operation across a single core.\n",
      "Stacking table swc_domainLabData\n",
      "Stacking table swc_externalLabDataByAnalyte\n",
      "Stacking table swc_fieldData\n",
      "Stacking table swc_fieldSuperParent\n",
      "Copied the most recent publication of validation file to /stackedFiles\n",
      "Copied the most recent publication of categoricalCodes file to /stackedFiles\n",
      "Copied the most recent publication of variable definition file to /stackedFiles\n",
      "Finished: Stacked 4 data tables and 3 metadata tables!\n",
      "Stacking took 6.218399 secs\n"
     ]
    }
   ],
   "source": [
    "\n",
    "\n",
    "library(zoo)\n",
    "BARC_wqg<-loadByProduct(dpID=\"DP1.20093.001\",site=\"BARC\",check.size=F)\n",
    "saveRDS(BARC_wqg,paste(data,\"/BARC_wqg.rds\",sep=\"\"))\n",
    "BARC_wqg<-readRDS(paste(data,\"/BARC_wqg.rds\",sep=\"\"))\n",
    "\n"
   ]
  },
  {
   "cell_type": "markdown",
   "id": "reliable-staff",
   "metadata": {},
   "source": [
    "### extracting lab analysis data"
   ]
  },
  {
   "cell_type": "code",
   "execution_count": 61,
   "id": "neural-reynolds",
   "metadata": {},
   "outputs": [
    {
     "data": {
      "text/html": [
       "<style>\n",
       ".list-inline {list-style: none; margin:0; padding: 0}\n",
       ".list-inline>li {display: inline-block}\n",
       ".list-inline>li:not(:last-child)::after {content: \"\\00b7\"; padding: 0 .5ex}\n",
       "</style>\n",
       "<ol class=list-inline><li>'uid'</li><li>'domainID'</li><li>'siteID'</li><li>'namedLocation'</li><li>'sampleID'</li><li>'sampleCode'</li><li>'startDate'</li><li>'collectDate'</li><li>'laboratoryName'</li><li>'analyte'</li><li>'analyteConcentration'</li><li>'analyteUnits'</li><li>'coolerTemp'</li><li>'remarks'</li><li>'shipmentWarmQF'</li><li>'externalLabDataQF'</li><li>'sampleCondition'</li><li>'publicationDate'</li><li>'release'</li></ol>\n"
      ],
      "text/latex": [
       "\\begin{enumerate*}\n",
       "\\item 'uid'\n",
       "\\item 'domainID'\n",
       "\\item 'siteID'\n",
       "\\item 'namedLocation'\n",
       "\\item 'sampleID'\n",
       "\\item 'sampleCode'\n",
       "\\item 'startDate'\n",
       "\\item 'collectDate'\n",
       "\\item 'laboratoryName'\n",
       "\\item 'analyte'\n",
       "\\item 'analyteConcentration'\n",
       "\\item 'analyteUnits'\n",
       "\\item 'coolerTemp'\n",
       "\\item 'remarks'\n",
       "\\item 'shipmentWarmQF'\n",
       "\\item 'externalLabDataQF'\n",
       "\\item 'sampleCondition'\n",
       "\\item 'publicationDate'\n",
       "\\item 'release'\n",
       "\\end{enumerate*}\n"
      ],
      "text/markdown": [
       "1. 'uid'\n",
       "2. 'domainID'\n",
       "3. 'siteID'\n",
       "4. 'namedLocation'\n",
       "5. 'sampleID'\n",
       "6. 'sampleCode'\n",
       "7. 'startDate'\n",
       "8. 'collectDate'\n",
       "9. 'laboratoryName'\n",
       "10. 'analyte'\n",
       "11. 'analyteConcentration'\n",
       "12. 'analyteUnits'\n",
       "13. 'coolerTemp'\n",
       "14. 'remarks'\n",
       "15. 'shipmentWarmQF'\n",
       "16. 'externalLabDataQF'\n",
       "17. 'sampleCondition'\n",
       "18. 'publicationDate'\n",
       "19. 'release'\n",
       "\n",
       "\n"
      ],
      "text/plain": [
       " [1] \"uid\"                  \"domainID\"             \"siteID\"              \n",
       " [4] \"namedLocation\"        \"sampleID\"             \"sampleCode\"          \n",
       " [7] \"startDate\"            \"collectDate\"          \"laboratoryName\"      \n",
       "[10] \"analyte\"              \"analyteConcentration\" \"analyteUnits\"        \n",
       "[13] \"coolerTemp\"           \"remarks\"              \"shipmentWarmQF\"      \n",
       "[16] \"externalLabDataQF\"    \"sampleCondition\"      \"publicationDate\"     \n",
       "[19] \"release\"             "
      ]
     },
     "metadata": {},
     "output_type": "display_data"
    },
    {
     "data": {
      "text/html": [
       "<style>\n",
       ".list-inline {list-style: none; margin:0; padding: 0}\n",
       ".list-inline>li {display: inline-block}\n",
       ".list-inline>li:not(:last-child)::after {content: \"\\00b7\"; padding: 0 .5ex}\n",
       "</style>\n",
       "<ol class=list-inline><li>'collectDate'</li><li>'UV Absorbance (250 nm)'</li><li>'UV Absorbance (280 nm)'</li><li>'dtpr'</li></ol>\n"
      ],
      "text/latex": [
       "\\begin{enumerate*}\n",
       "\\item 'collectDate'\n",
       "\\item 'UV Absorbance (250 nm)'\n",
       "\\item 'UV Absorbance (280 nm)'\n",
       "\\item 'dtpr'\n",
       "\\end{enumerate*}\n"
      ],
      "text/markdown": [
       "1. 'collectDate'\n",
       "2. 'UV Absorbance (250 nm)'\n",
       "3. 'UV Absorbance (280 nm)'\n",
       "4. 'dtpr'\n",
       "\n",
       "\n"
      ],
      "text/plain": [
       "[1] \"collectDate\"            \"UV Absorbance (250 nm)\" \"UV Absorbance (280 nm)\"\n",
       "[4] \"dtpr\"                  "
      ]
     },
     "metadata": {},
     "output_type": "display_data"
    }
   ],
   "source": [
    "BARC_wqg_d<-as.data.frame(BARC_wqg$swc_externalLabDataByAnalyte)\n",
    "\n",
    "names(BARC_wqg_d)\n",
    "\n",
    "uv_abs<-subset(BARC_wqg_d,analyte==\"UV Absorbance (250 nm)\"|analyte==\"UV Absorbance (280 nm)\")\n",
    "date_cast<-dcast(uv_abs[,c(\"analyte\",\"collectDate\",\"analyteConcentration\")],collectDate~analyte,value.var=\"analyteConcentration\",mean)\n",
    "date_cast$dtpr<-lubridate::round_date(date_cast$collectDate, \"15 minutes\")\n",
    "\n",
    "names(date_cast)"
   ]
  },
  {
   "cell_type": "code",
   "execution_count": 68,
   "id": "military-pepper",
   "metadata": {},
   "outputs": [],
   "source": [
    "\n",
    "suna_grab<-merge(BARC_sw,date_cast,by=\"dtpr\")\n",
    "\n",
    "#temp_nitrate_zoo<-zoo(nitrate$nitrate_umL,nitrate$dtp)\n",
    "#temp_n<-na.approx(temp_nitrate_zoo,xout=suna_red$dtp,na.rm=FALSE)\n",
    "#suna_grab[,c(\"UV Absorbance (250 nm)\")]\n",
    "names(suna_grab)<-gsub(\"UV Absorbance (250 nm)\",\"uva_250_lab\",names(suna_grab),fixed=TRUE)\n",
    "names(suna_grab)<-gsub(\"UV Absorbance (280 nm)\",\"uva_280_lab\",names(suna_grab),fixed=TRUE)\n",
    "\n"
   ]
  },
  {
   "cell_type": "code",
   "execution_count": 63,
   "id": "found-metadata",
   "metadata": {},
   "outputs": [
    {
     "data": {
      "text/html": [
       "<table class=\"dataframe\">\n",
       "<caption>A data.frame: 6 × 633</caption>\n",
       "<thead>\n",
       "\t<tr><th scope=col>dtpr</th><th scope=col>nitrate.mean</th><th scope=col>nitrate_mgl.mean</th><th scope=col>a254.mean</th><th scope=col>a350.mean</th><th scope=col>sensor_temp.mean</th><th scope=col>interp_189.mean</th><th scope=col>interp_190.mean</th><th scope=col>interp_191.mean</th><th scope=col>interp_192.mean</th><th scope=col>⋯</th><th scope=col>interp_394_c254.mean</th><th scope=col>specificConductance.mean</th><th scope=col>dissolvedOxygen.mean</th><th scope=col>pH.mean</th><th scope=col>chlorophyll.mean</th><th scope=col>turbidity.mean</th><th scope=col>fDOM.mean</th><th scope=col>collectDate</th><th scope=col>uva_250_lab</th><th scope=col>uva_280_lab</th></tr>\n",
       "\t<tr><th scope=col>&lt;dttm&gt;</th><th scope=col>&lt;dbl&gt;</th><th scope=col>&lt;dbl&gt;</th><th scope=col>&lt;dbl&gt;</th><th scope=col>&lt;dbl&gt;</th><th scope=col>&lt;dbl&gt;</th><th scope=col>&lt;dbl&gt;</th><th scope=col>&lt;dbl&gt;</th><th scope=col>&lt;dbl&gt;</th><th scope=col>&lt;dbl&gt;</th><th scope=col>⋯</th><th scope=col>&lt;dbl&gt;</th><th scope=col>&lt;dbl&gt;</th><th scope=col>&lt;dbl&gt;</th><th scope=col>&lt;dbl&gt;</th><th scope=col>&lt;dbl&gt;</th><th scope=col>&lt;dbl&gt;</th><th scope=col>&lt;dbl&gt;</th><th scope=col>&lt;dttm&gt;</th><th scope=col>&lt;dbl&gt;</th><th scope=col>&lt;dbl&gt;</th></tr>\n",
       "</thead>\n",
       "<tbody>\n",
       "\t<tr><td>2019-02-05 17:00:00</td><td> 1.2145</td><td>0.017010</td><td> 0.035480</td><td> 0.004075</td><td>16.390</td><td>-4.800000</td><td> 7.4907774</td><td> 2.26675822</td><td>0.94105653</td><td>⋯</td><td> 0.03012266</td><td>25.37667</td><td>9.130000</td><td>5.230000</td><td>0.4800000</td><td>-1.6966667</td><td>7.380000</td><td>2019-02-05 16:57:00</td><td>0.03660000</td><td>0.0270</td></tr>\n",
       "\t<tr><td>2019-03-05 16:15:00</td><td> 2.2370</td><td>0.031340</td><td> 0.051905</td><td> 0.023640</td><td>20.125</td><td>-0.240000</td><td> 1.7806871</td><td> 0.93736263</td><td>0.99838830</td><td>⋯</td><td> 0.02631228</td><td>25.78000</td><td>7.536667</td><td>5.333333</td><td>0.6733333</td><td> 0.8500000</td><td>9.126667</td><td>2019-03-05 16:11:00</td><td>0.11820000</td><td>0.0828</td></tr>\n",
       "\t<tr><td>2019-04-11 14:45:00</td><td> 1.1450</td><td>0.016045</td><td> 0.041900</td><td> 0.024285</td><td>24.320</td><td>-0.432000</td><td>-0.2533252</td><td> 0.19946950</td><td>0.69825835</td><td>⋯</td><td> 0.02561338</td><td>26.04333</td><td>8.290000</td><td>5.233333</td><td>0.3500000</td><td> 0.6533333</td><td>5.340000</td><td>2019-04-11 14:42:00</td><td>0.03010000</td><td>0.0228</td></tr>\n",
       "\t<tr><td>2019-05-08 14:30:00</td><td> 1.0315</td><td>0.014470</td><td> 0.054325</td><td> 0.027355</td><td>27.515</td><td> 0.552000</td><td> 0.5266905</td><td> 0.94350133</td><td>0.11672118</td><td>⋯</td><td> 0.02437210</td><td>26.22667</td><td>7.100000</td><td>5.333333</td><td>0.2500000</td><td> 0.5933333</td><td>5.090000</td><td>2019-05-08 14:32:00</td><td>0.02640000</td><td>0.0176</td></tr>\n",
       "\t<tr><td>2019-06-11 15:00:00</td><td>11.4070</td><td>0.159770</td><td>-0.524645</td><td>-0.510185</td><td>29.800</td><td> 0.241769</td><td> 0.1204136</td><td> 0.08685783</td><td>0.03479594</td><td>⋯</td><td>-0.51422443</td><td>27.01667</td><td>5.386667</td><td>5.053333</td><td>0.6600000</td><td> 0.6200000</td><td>8.356667</td><td>2019-06-11 14:56:00</td><td>0.03316667</td><td>0.0242</td></tr>\n",
       "\t<tr><td>2019-07-08 14:00:00</td><td> 2.1260</td><td>0.029780</td><td> 0.031950</td><td> 0.019385</td><td>30.875</td><td> 0.804878</td><td> 0.9963446</td><td>-5.48175818</td><td>4.61912057</td><td>⋯</td><td> 0.02086089</td><td>27.23667</td><td>4.463333</td><td>5.426667</td><td>0.9766667</td><td> 0.6800000</td><td>8.966667</td><td>2019-07-08 14:02:00</td><td>0.02300000</td><td>0.0070</td></tr>\n",
       "</tbody>\n",
       "</table>\n"
      ],
      "text/latex": [
       "A data.frame: 6 × 633\n",
       "\\begin{tabular}{lllllllllllllllllllll}\n",
       " dtpr & nitrate.mean & nitrate\\_mgl.mean & a254.mean & a350.mean & sensor\\_temp.mean & interp\\_189.mean & interp\\_190.mean & interp\\_191.mean & interp\\_192.mean & ⋯ & interp\\_394\\_c254.mean & specificConductance.mean & dissolvedOxygen.mean & pH.mean & chlorophyll.mean & turbidity.mean & fDOM.mean & collectDate & uva\\_250\\_lab & uva\\_280\\_lab\\\\\n",
       " <dttm> & <dbl> & <dbl> & <dbl> & <dbl> & <dbl> & <dbl> & <dbl> & <dbl> & <dbl> & ⋯ & <dbl> & <dbl> & <dbl> & <dbl> & <dbl> & <dbl> & <dbl> & <dttm> & <dbl> & <dbl>\\\\\n",
       "\\hline\n",
       "\t 2019-02-05 17:00:00 &  1.2145 & 0.017010 &  0.035480 &  0.004075 & 16.390 & -4.800000 &  7.4907774 &  2.26675822 & 0.94105653 & ⋯ &  0.03012266 & 25.37667 & 9.130000 & 5.230000 & 0.4800000 & -1.6966667 & 7.380000 & 2019-02-05 16:57:00 & 0.03660000 & 0.0270\\\\\n",
       "\t 2019-03-05 16:15:00 &  2.2370 & 0.031340 &  0.051905 &  0.023640 & 20.125 & -0.240000 &  1.7806871 &  0.93736263 & 0.99838830 & ⋯ &  0.02631228 & 25.78000 & 7.536667 & 5.333333 & 0.6733333 &  0.8500000 & 9.126667 & 2019-03-05 16:11:00 & 0.11820000 & 0.0828\\\\\n",
       "\t 2019-04-11 14:45:00 &  1.1450 & 0.016045 &  0.041900 &  0.024285 & 24.320 & -0.432000 & -0.2533252 &  0.19946950 & 0.69825835 & ⋯ &  0.02561338 & 26.04333 & 8.290000 & 5.233333 & 0.3500000 &  0.6533333 & 5.340000 & 2019-04-11 14:42:00 & 0.03010000 & 0.0228\\\\\n",
       "\t 2019-05-08 14:30:00 &  1.0315 & 0.014470 &  0.054325 &  0.027355 & 27.515 &  0.552000 &  0.5266905 &  0.94350133 & 0.11672118 & ⋯ &  0.02437210 & 26.22667 & 7.100000 & 5.333333 & 0.2500000 &  0.5933333 & 5.090000 & 2019-05-08 14:32:00 & 0.02640000 & 0.0176\\\\\n",
       "\t 2019-06-11 15:00:00 & 11.4070 & 0.159770 & -0.524645 & -0.510185 & 29.800 &  0.241769 &  0.1204136 &  0.08685783 & 0.03479594 & ⋯ & -0.51422443 & 27.01667 & 5.386667 & 5.053333 & 0.6600000 &  0.6200000 & 8.356667 & 2019-06-11 14:56:00 & 0.03316667 & 0.0242\\\\\n",
       "\t 2019-07-08 14:00:00 &  2.1260 & 0.029780 &  0.031950 &  0.019385 & 30.875 &  0.804878 &  0.9963446 & -5.48175818 & 4.61912057 & ⋯ &  0.02086089 & 27.23667 & 4.463333 & 5.426667 & 0.9766667 &  0.6800000 & 8.966667 & 2019-07-08 14:02:00 & 0.02300000 & 0.0070\\\\\n",
       "\\end{tabular}\n"
      ],
      "text/markdown": [
       "\n",
       "A data.frame: 6 × 633\n",
       "\n",
       "| dtpr &lt;dttm&gt; | nitrate.mean &lt;dbl&gt; | nitrate_mgl.mean &lt;dbl&gt; | a254.mean &lt;dbl&gt; | a350.mean &lt;dbl&gt; | sensor_temp.mean &lt;dbl&gt; | interp_189.mean &lt;dbl&gt; | interp_190.mean &lt;dbl&gt; | interp_191.mean &lt;dbl&gt; | interp_192.mean &lt;dbl&gt; | ⋯ ⋯ | interp_394_c254.mean &lt;dbl&gt; | specificConductance.mean &lt;dbl&gt; | dissolvedOxygen.mean &lt;dbl&gt; | pH.mean &lt;dbl&gt; | chlorophyll.mean &lt;dbl&gt; | turbidity.mean &lt;dbl&gt; | fDOM.mean &lt;dbl&gt; | collectDate &lt;dttm&gt; | uva_250_lab &lt;dbl&gt; | uva_280_lab &lt;dbl&gt; |\n",
       "|---|---|---|---|---|---|---|---|---|---|---|---|---|---|---|---|---|---|---|---|---|\n",
       "| 2019-02-05 17:00:00 |  1.2145 | 0.017010 |  0.035480 |  0.004075 | 16.390 | -4.800000 |  7.4907774 |  2.26675822 | 0.94105653 | ⋯ |  0.03012266 | 25.37667 | 9.130000 | 5.230000 | 0.4800000 | -1.6966667 | 7.380000 | 2019-02-05 16:57:00 | 0.03660000 | 0.0270 |\n",
       "| 2019-03-05 16:15:00 |  2.2370 | 0.031340 |  0.051905 |  0.023640 | 20.125 | -0.240000 |  1.7806871 |  0.93736263 | 0.99838830 | ⋯ |  0.02631228 | 25.78000 | 7.536667 | 5.333333 | 0.6733333 |  0.8500000 | 9.126667 | 2019-03-05 16:11:00 | 0.11820000 | 0.0828 |\n",
       "| 2019-04-11 14:45:00 |  1.1450 | 0.016045 |  0.041900 |  0.024285 | 24.320 | -0.432000 | -0.2533252 |  0.19946950 | 0.69825835 | ⋯ |  0.02561338 | 26.04333 | 8.290000 | 5.233333 | 0.3500000 |  0.6533333 | 5.340000 | 2019-04-11 14:42:00 | 0.03010000 | 0.0228 |\n",
       "| 2019-05-08 14:30:00 |  1.0315 | 0.014470 |  0.054325 |  0.027355 | 27.515 |  0.552000 |  0.5266905 |  0.94350133 | 0.11672118 | ⋯ |  0.02437210 | 26.22667 | 7.100000 | 5.333333 | 0.2500000 |  0.5933333 | 5.090000 | 2019-05-08 14:32:00 | 0.02640000 | 0.0176 |\n",
       "| 2019-06-11 15:00:00 | 11.4070 | 0.159770 | -0.524645 | -0.510185 | 29.800 |  0.241769 |  0.1204136 |  0.08685783 | 0.03479594 | ⋯ | -0.51422443 | 27.01667 | 5.386667 | 5.053333 | 0.6600000 |  0.6200000 | 8.356667 | 2019-06-11 14:56:00 | 0.03316667 | 0.0242 |\n",
       "| 2019-07-08 14:00:00 |  2.1260 | 0.029780 |  0.031950 |  0.019385 | 30.875 |  0.804878 |  0.9963446 | -5.48175818 | 4.61912057 | ⋯ |  0.02086089 | 27.23667 | 4.463333 | 5.426667 | 0.9766667 |  0.6800000 | 8.966667 | 2019-07-08 14:02:00 | 0.02300000 | 0.0070 |\n",
       "\n"
      ],
      "text/plain": [
       "  dtpr                nitrate.mean nitrate_mgl.mean a254.mean a350.mean\n",
       "1 2019-02-05 17:00:00  1.2145      0.017010          0.035480  0.004075\n",
       "2 2019-03-05 16:15:00  2.2370      0.031340          0.051905  0.023640\n",
       "3 2019-04-11 14:45:00  1.1450      0.016045          0.041900  0.024285\n",
       "4 2019-05-08 14:30:00  1.0315      0.014470          0.054325  0.027355\n",
       "5 2019-06-11 15:00:00 11.4070      0.159770         -0.524645 -0.510185\n",
       "6 2019-07-08 14:00:00  2.1260      0.029780          0.031950  0.019385\n",
       "  sensor_temp.mean interp_189.mean interp_190.mean interp_191.mean\n",
       "1 16.390           -4.800000        7.4907774       2.26675822    \n",
       "2 20.125           -0.240000        1.7806871       0.93736263    \n",
       "3 24.320           -0.432000       -0.2533252       0.19946950    \n",
       "4 27.515            0.552000        0.5266905       0.94350133    \n",
       "5 29.800            0.241769        0.1204136       0.08685783    \n",
       "6 30.875            0.804878        0.9963446      -5.48175818    \n",
       "  interp_192.mean ⋯ interp_394_c254.mean specificConductance.mean\n",
       "1 0.94105653      ⋯  0.03012266          25.37667                \n",
       "2 0.99838830      ⋯  0.02631228          25.78000                \n",
       "3 0.69825835      ⋯  0.02561338          26.04333                \n",
       "4 0.11672118      ⋯  0.02437210          26.22667                \n",
       "5 0.03479594      ⋯ -0.51422443          27.01667                \n",
       "6 4.61912057      ⋯  0.02086089          27.23667                \n",
       "  dissolvedOxygen.mean pH.mean  chlorophyll.mean turbidity.mean fDOM.mean\n",
       "1 9.130000             5.230000 0.4800000        -1.6966667     7.380000 \n",
       "2 7.536667             5.333333 0.6733333         0.8500000     9.126667 \n",
       "3 8.290000             5.233333 0.3500000         0.6533333     5.340000 \n",
       "4 7.100000             5.333333 0.2500000         0.5933333     5.090000 \n",
       "5 5.386667             5.053333 0.6600000         0.6200000     8.356667 \n",
       "6 4.463333             5.426667 0.9766667         0.6800000     8.966667 \n",
       "  collectDate         uva_250_lab uva_280_lab\n",
       "1 2019-02-05 16:57:00 0.03660000  0.0270     \n",
       "2 2019-03-05 16:11:00 0.11820000  0.0828     \n",
       "3 2019-04-11 14:42:00 0.03010000  0.0228     \n",
       "4 2019-05-08 14:32:00 0.02640000  0.0176     \n",
       "5 2019-06-11 14:56:00 0.03316667  0.0242     \n",
       "6 2019-07-08 14:02:00 0.02300000  0.0070     "
      ]
     },
     "metadata": {},
     "output_type": "display_data"
    }
   ],
   "source": [
    "#subset(suna_red,as.Date(dtpr)==as.Date(\"2019-03-04\"))\n",
    "#as.Date(date_cast$dtpr)\n",
    "#unique(as.Date(suna_red$dtpr))\n",
    "\n",
    "suna_grab\n"
   ]
  },
  {
   "cell_type": "markdown",
   "id": "joined-offset",
   "metadata": {},
   "source": [
    "# Exploring turbidity corrections"
   ]
  },
  {
   "cell_type": "code",
   "execution_count": 69,
   "id": "rural-ozone",
   "metadata": {
    "tags": []
   },
   "outputs": [
    {
     "data": {
      "text/html": [
       "<table class=\"dataframe\">\n",
       "<caption>A data.frame: 6 × 6</caption>\n",
       "<thead>\n",
       "\t<tr><th></th><th scope=col>dtpr</th><th scope=col>a254.mean</th><th scope=col>uva_250_lab</th><th scope=col>uva_280_lab</th><th scope=col>interp_250_c254.mean</th><th scope=col>turbidity.mean</th></tr>\n",
       "\t<tr><th></th><th scope=col>&lt;dttm&gt;</th><th scope=col>&lt;dbl&gt;</th><th scope=col>&lt;dbl&gt;</th><th scope=col>&lt;dbl&gt;</th><th scope=col>&lt;dbl&gt;</th><th scope=col>&lt;dbl&gt;</th></tr>\n",
       "</thead>\n",
       "<tbody>\n",
       "\t<tr><th scope=row>1</th><td>2019-02-05 17:00:00</td><td> 0.035480</td><td>0.03660000</td><td>0.0270</td><td> 0.03428535</td><td>1.0000000</td></tr>\n",
       "\t<tr><th scope=row>2</th><td>2019-03-05 16:15:00</td><td> 0.051905</td><td>0.11820000</td><td>0.0828</td><td> 0.04856639</td><td>0.8500000</td></tr>\n",
       "\t<tr><th scope=row>3</th><td>2019-04-11 14:45:00</td><td> 0.041900</td><td>0.03010000</td><td>0.0228</td><td> 0.04510149</td><td>0.6533333</td></tr>\n",
       "\t<tr><th scope=row>4</th><td>2019-05-08 14:30:00</td><td> 0.054325</td><td>0.02640000</td><td>0.0176</td><td> 0.05662710</td><td>0.5933333</td></tr>\n",
       "\t<tr><th scope=row>5</th><td>2019-06-11 15:00:00</td><td>-0.524645</td><td>0.03316667</td><td>0.0242</td><td>-0.51464672</td><td>0.6200000</td></tr>\n",
       "\t<tr><th scope=row>6</th><td>2019-07-08 14:00:00</td><td> 0.031950</td><td>0.02300000</td><td>0.0070</td><td> 0.03542547</td><td>0.6800000</td></tr>\n",
       "</tbody>\n",
       "</table>\n"
      ],
      "text/latex": [
       "A data.frame: 6 × 6\n",
       "\\begin{tabular}{r|llllll}\n",
       "  & dtpr & a254.mean & uva\\_250\\_lab & uva\\_280\\_lab & interp\\_250\\_c254.mean & turbidity.mean\\\\\n",
       "  & <dttm> & <dbl> & <dbl> & <dbl> & <dbl> & <dbl>\\\\\n",
       "\\hline\n",
       "\t1 & 2019-02-05 17:00:00 &  0.035480 & 0.03660000 & 0.0270 &  0.03428535 & 1.0000000\\\\\n",
       "\t2 & 2019-03-05 16:15:00 &  0.051905 & 0.11820000 & 0.0828 &  0.04856639 & 0.8500000\\\\\n",
       "\t3 & 2019-04-11 14:45:00 &  0.041900 & 0.03010000 & 0.0228 &  0.04510149 & 0.6533333\\\\\n",
       "\t4 & 2019-05-08 14:30:00 &  0.054325 & 0.02640000 & 0.0176 &  0.05662710 & 0.5933333\\\\\n",
       "\t5 & 2019-06-11 15:00:00 & -0.524645 & 0.03316667 & 0.0242 & -0.51464672 & 0.6200000\\\\\n",
       "\t6 & 2019-07-08 14:00:00 &  0.031950 & 0.02300000 & 0.0070 &  0.03542547 & 0.6800000\\\\\n",
       "\\end{tabular}\n"
      ],
      "text/markdown": [
       "\n",
       "A data.frame: 6 × 6\n",
       "\n",
       "| <!--/--> | dtpr &lt;dttm&gt; | a254.mean &lt;dbl&gt; | uva_250_lab &lt;dbl&gt; | uva_280_lab &lt;dbl&gt; | interp_250_c254.mean &lt;dbl&gt; | turbidity.mean &lt;dbl&gt; |\n",
       "|---|---|---|---|---|---|---|\n",
       "| 1 | 2019-02-05 17:00:00 |  0.035480 | 0.03660000 | 0.0270 |  0.03428535 | 1.0000000 |\n",
       "| 2 | 2019-03-05 16:15:00 |  0.051905 | 0.11820000 | 0.0828 |  0.04856639 | 0.8500000 |\n",
       "| 3 | 2019-04-11 14:45:00 |  0.041900 | 0.03010000 | 0.0228 |  0.04510149 | 0.6533333 |\n",
       "| 4 | 2019-05-08 14:30:00 |  0.054325 | 0.02640000 | 0.0176 |  0.05662710 | 0.5933333 |\n",
       "| 5 | 2019-06-11 15:00:00 | -0.524645 | 0.03316667 | 0.0242 | -0.51464672 | 0.6200000 |\n",
       "| 6 | 2019-07-08 14:00:00 |  0.031950 | 0.02300000 | 0.0070 |  0.03542547 | 0.6800000 |\n",
       "\n"
      ],
      "text/plain": [
       "  dtpr                a254.mean uva_250_lab uva_280_lab interp_250_c254.mean\n",
       "1 2019-02-05 17:00:00  0.035480 0.03660000  0.0270       0.03428535         \n",
       "2 2019-03-05 16:15:00  0.051905 0.11820000  0.0828       0.04856639         \n",
       "3 2019-04-11 14:45:00  0.041900 0.03010000  0.0228       0.04510149         \n",
       "4 2019-05-08 14:30:00  0.054325 0.02640000  0.0176       0.05662710         \n",
       "5 2019-06-11 15:00:00 -0.524645 0.03316667  0.0242      -0.51464672         \n",
       "6 2019-07-08 14:00:00  0.031950 0.02300000  0.0070       0.03542547         \n",
       "  turbidity.mean\n",
       "1 1.0000000     \n",
       "2 0.8500000     \n",
       "3 0.6533333     \n",
       "4 0.5933333     \n",
       "5 0.6200000     \n",
       "6 0.6800000     "
      ]
     },
     "metadata": {},
     "output_type": "display_data"
    },
    {
     "name": "stderr",
     "output_type": "stream",
     "text": [
      "Warning message in eval(expr, envir, enclos):\n",
      "“NaNs produced”\n"
     ]
    },
    {
     "data": {
      "text/html": [
       "6"
      ],
      "text/latex": [
       "6"
      ],
      "text/markdown": [
       "6"
      ],
      "text/plain": [
       "[1] 6"
      ]
     },
     "metadata": {},
     "output_type": "display_data"
    },
    {
     "data": {
      "text/html": [
       "<style>\n",
       ".list-inline {list-style: none; margin:0; padding: 0}\n",
       ".list-inline>li {display: inline-block}\n",
       ".list-inline>li:not(:last-child)::after {content: \"\\00b7\"; padding: 0 .5ex}\n",
       "</style>\n",
       "<ol class=list-inline><li>0.0366</li><li>0.1182</li><li>0.0301</li><li>0.0264</li><li>0.0331666666666667</li><li>0.023</li></ol>\n"
      ],
      "text/latex": [
       "\\begin{enumerate*}\n",
       "\\item 0.0366\n",
       "\\item 0.1182\n",
       "\\item 0.0301\n",
       "\\item 0.0264\n",
       "\\item 0.0331666666666667\n",
       "\\item 0.023\n",
       "\\end{enumerate*}\n"
      ],
      "text/markdown": [
       "1. 0.0366\n",
       "2. 0.1182\n",
       "3. 0.0301\n",
       "4. 0.0264\n",
       "5. 0.0331666666666667\n",
       "6. 0.023\n",
       "\n",
       "\n"
      ],
      "text/plain": [
       "[1] 0.03660000 0.11820000 0.03010000 0.02640000 0.03316667 0.02300000"
      ]
     },
     "metadata": {},
     "output_type": "display_data"
    }
   ],
   "source": [
    "#names(suna_grab)\n",
    "#suna_grab<-subset(suna_grab,!is.na(uva_250_lab)&!is.na(uva_280_lab)&uva_250_lab<2)\n",
    "suna_grab<-subset(suna_grab,!is.na(uva_250_lab)|!is.na(uva_280_lab))\n",
    "suna_grab$turbidity.mean[suna_grab$turbidity.mean<=0]<-1\n",
    "suna_grab[,c(\"dtpr\",\"a254.mean\",\"uva_250_lab\",\"uva_280_lab\",\"interp_250_c254.mean\",\"turbidity.mean\")]\n",
    "\n",
    "suna_grab$interp_250_log<-log10(suna_grab$interp_250_c254.mean)\n",
    "suna_grab$turb_log<-log10(suna_grab$turbidity.mean)\n",
    "nrow(suna_grab)\n",
    "suna_grab$uva_250_lab\n",
    "#suna_grab$interp_250_tcorr<-predict(lm(uva_250_lab~interp_250_c254.mean*turbidity.mean,suna_grab))\n",
    "#suna_grab$interp_250_tcorr_log<-predict(lm(uva_250_lab~interp_250_log*turbidity.mean,suna_grab))\n",
    "#suna_grab$interp_250_tcorr_log_turb<-predict(lm(uva_250_lab~interp_250_log*turb_log,suna_grab))\n",
    "\n",
    "\n",
    "saveRDS(suna_grab,paste(getwd(),\"/BARC_SUNA_grab.rds\",sep=\"\"))"
   ]
  },
  {
   "cell_type": "code",
   "execution_count": 66,
   "id": "regulated-nothing",
   "metadata": {},
   "outputs": [
    {
     "data": {
      "text/html": [
       "'/Users/jhosen/gdrive/SUNA_Data/SUNA_NEON/SUGG_2019'"
      ],
      "text/latex": [
       "'/Users/jhosen/gdrive/SUNA\\_Data/SUNA\\_NEON/SUGG\\_2019'"
      ],
      "text/markdown": [
       "'/Users/jhosen/gdrive/SUNA_Data/SUNA_NEON/SUGG_2019'"
      ],
      "text/plain": [
       "[1] \"/Users/jhosen/gdrive/SUNA_Data/SUNA_NEON/SUGG_2019\""
      ]
     },
     "metadata": {},
     "output_type": "display_data"
    }
   ],
   "source": []
  },
  {
   "cell_type": "code",
   "execution_count": 72,
   "id": "restricted-tender",
   "metadata": {},
   "outputs": [
    {
     "data": {
      "text/plain": [
       "\n",
       "Call:\n",
       "lm(formula = uva_250_lab ~ a254.mean * turb_log, data = suna_grab)\n",
       "\n",
       "Residuals:\n",
       "         1          2          3          4          6 \n",
       "-0.0004033  0.0007785 -0.0050513  0.0016156  0.0030605 \n",
       "\n",
       "Coefficients:\n",
       "                   Estimate Std. Error t value Pr(>|t|)  \n",
       "(Intercept)        -0.22734    0.02777  -8.187   0.0774 .\n",
       "a254.mean           7.45060    0.67425  11.050   0.0575 .\n",
       "turb_log           -1.09524    0.17584  -6.229   0.1013  \n",
       "a254.mean:turb_log 32.55386    4.07394   7.991   0.0793 .\n",
       "---\n",
       "Signif. codes:  0 ‘***’ 0.001 ‘**’ 0.01 ‘*’ 0.05 ‘.’ 0.1 ‘ ’ 1\n",
       "\n",
       "Residual standard error: 0.006186 on 1 degrees of freedom\n",
       "Multiple R-squared:  0.9941,\tAdjusted R-squared:  0.9763 \n",
       "F-statistic: 55.98 on 3 and 1 DF,  p-value: 0.09786\n"
      ]
     },
     "metadata": {},
     "output_type": "display_data"
    },
    {
     "data": {
      "text/html": [
       "<table class=\"dataframe\">\n",
       "<caption>A data.frame: 5 × 2</caption>\n",
       "<thead>\n",
       "\t<tr><th></th><th scope=col>uva_250_lab</th><th scope=col>interp_250_c254.mean</th></tr>\n",
       "\t<tr><th></th><th scope=col>&lt;dbl&gt;</th><th scope=col>&lt;dbl&gt;</th></tr>\n",
       "</thead>\n",
       "<tbody>\n",
       "\t<tr><th scope=row>1</th><td>0.0366</td><td>0.03428535</td></tr>\n",
       "\t<tr><th scope=row>2</th><td>0.1182</td><td>0.04856639</td></tr>\n",
       "\t<tr><th scope=row>3</th><td>0.0301</td><td>0.04510149</td></tr>\n",
       "\t<tr><th scope=row>4</th><td>0.0264</td><td>0.05662710</td></tr>\n",
       "\t<tr><th scope=row>6</th><td>0.0230</td><td>0.03542547</td></tr>\n",
       "</tbody>\n",
       "</table>\n"
      ],
      "text/latex": [
       "A data.frame: 5 × 2\n",
       "\\begin{tabular}{r|ll}\n",
       "  & uva\\_250\\_lab & interp\\_250\\_c254.mean\\\\\n",
       "  & <dbl> & <dbl>\\\\\n",
       "\\hline\n",
       "\t1 & 0.0366 & 0.03428535\\\\\n",
       "\t2 & 0.1182 & 0.04856639\\\\\n",
       "\t3 & 0.0301 & 0.04510149\\\\\n",
       "\t4 & 0.0264 & 0.05662710\\\\\n",
       "\t6 & 0.0230 & 0.03542547\\\\\n",
       "\\end{tabular}\n"
      ],
      "text/markdown": [
       "\n",
       "A data.frame: 5 × 2\n",
       "\n",
       "| <!--/--> | uva_250_lab &lt;dbl&gt; | interp_250_c254.mean &lt;dbl&gt; |\n",
       "|---|---|---|\n",
       "| 1 | 0.0366 | 0.03428535 |\n",
       "| 2 | 0.1182 | 0.04856639 |\n",
       "| 3 | 0.0301 | 0.04510149 |\n",
       "| 4 | 0.0264 | 0.05662710 |\n",
       "| 6 | 0.0230 | 0.03542547 |\n",
       "\n"
      ],
      "text/plain": [
       "  uva_250_lab interp_250_c254.mean\n",
       "1 0.0366      0.03428535          \n",
       "2 0.1182      0.04856639          \n",
       "3 0.0301      0.04510149          \n",
       "4 0.0264      0.05662710          \n",
       "6 0.0230      0.03542547          "
      ]
     },
     "metadata": {},
     "output_type": "display_data"
    },
    {
     "data": {
      "image/png": "[encoded data removed]",
      "text/plain": [
       "plot without title"
      ]
     },
     "metadata": {
      "image/png": {
       "height": 420,
       "width": 420
      }
     },
     "output_type": "display_data"
    }
   ],
   "source": [
    "suna_grab<-subset(suna_grab,a254.mean<7 & a254.mean>0 & !is.na(turbidity.mean))\n",
    "\n",
    "suna_grab$interp_250_log<-log10(suna_grab$interp_250_c254.mean)\n",
    "suna_grab$turb_log<-log10(suna_grab$turbidity.mean)\n",
    "\n",
    "#suna_grab$turb_log\n",
    "summary(lm(uva_250_lab~a254.mean*turb_log,suna_grab))\n",
    "#summary(lm(uva_250_lab~interp_250_c254.mean*turb_log,suna_grab))\n",
    "\n",
    "#suna_grab$interp_250_tcorr<-predict(lm(uva_250_lab~interp_250_c254.mean*turbidity.mean,suna_grab))\n",
    "#suna_grab$interp_250_tcorr_log<-predict(lm(uva_250_lab~interp_250_log*turbidity.mean,suna_grab))\n",
    "#suna_grab$interp_250_tcorr_log_turb<-predict(lm(uva_250_lab~interp_250_log*turb_log,suna_grab))\n",
    "\n",
    "suna_grab[,c(\"uva_250_lab\",\"interp_250_c254.mean\")]\n",
    "ggplot(suna_grab,aes(a254.mean,uva_250_lab))+\n",
    "#theme_ts_space+\n",
    "#xlab(\"\\nUV Absorbance at 250 nm (Laboratory)\")+\n",
    "#ylab(\"UV Absorbance at 250 nm (SUNA Uncorrected)\\n\")+\n",
    "geom_point(size=6)\n",
    "\n"
   ]
  },
  {
   "cell_type": "code",
   "execution_count": 50,
   "id": "infinite-google",
   "metadata": {},
   "outputs": [
    {
     "data": {
      "text/plain": [
       "\n",
       "Call:\n",
       "lm(formula = uva_250_lab ~ interp_250_log * turb_log, data = suna_grab)\n",
       "\n",
       "Residuals:\n",
       "       2        3        4        5        7        8 \n",
       "-1.65453  0.71119  0.65083 -0.37406  0.69600 -0.02944 \n",
       "\n",
       "Coefficients:\n",
       "                        Estimate Std. Error t value Pr(>|t|)\n",
       "(Intercept)                28.13      61.47   0.458    0.692\n",
       "interp_250_log            -44.20     103.31  -0.428    0.710\n",
       "turb_log                 -204.80     489.11  -0.419    0.716\n",
       "interp_250_log:turb_log   342.87     823.89   0.416    0.718\n",
       "\n",
       "Residual standard error: 1.465 on 2 degrees of freedom\n",
       "  (2 observations deleted due to missingness)\n",
       "Multiple R-squared:  0.1848,\tAdjusted R-squared:  -1.038 \n",
       "F-statistic: 0.1511 on 3 and 2 DF,  p-value: 0.9206\n"
      ]
     },
     "metadata": {},
     "output_type": "display_data"
    },
    {
     "data": {
      "text/plain": [
       "\n",
       "Call:\n",
       "lm(formula = uva_250_lab ~ interp_250_c254.mean * turb_log, data = suna_grab)\n",
       "\n",
       "Residuals:\n",
       "       2        3        4        5        7        8 \n",
       "-1.65010  0.71034  0.65467 -0.37487  0.69899 -0.03903 \n",
       "\n",
       "Coefficients:\n",
       "                              Estimate Std. Error t value Pr(>|t|)\n",
       "(Intercept)                     21.134     44.875   0.471    0.684\n",
       "interp_250_c254.mean            -4.907     11.404  -0.430    0.709\n",
       "turb_log                      -149.261    357.288  -0.418    0.717\n",
       "interp_250_c254.mean:turb_log   37.723     91.069   0.414    0.719\n",
       "\n",
       "Residual standard error: 1.464 on 2 degrees of freedom\n",
       "  (2 observations deleted due to missingness)\n",
       "Multiple R-squared:  0.1858,\tAdjusted R-squared:  -1.035 \n",
       "F-statistic: 0.1522 on 3 and 2 DF,  p-value: 0.9199\n"
      ]
     },
     "metadata": {},
     "output_type": "display_data"
    },
    {
     "ename": "ERROR",
     "evalue": "Error in `$<-.data.frame`(`*tmp*`, interp_250_tcorr, value = c(`2` = 1.47227677938903, : replacement has 6 rows, data has 8\n",
     "output_type": "error",
     "traceback": [
      "Error in `$<-.data.frame`(`*tmp*`, interp_250_tcorr, value = c(`2` = 1.47227677938903, : replacement has 6 rows, data has 8\nTraceback:\n",
      "1. `$<-`(`*tmp*`, interp_250_tcorr, value = c(`2` = 1.47227677938903, \n . `3` = 1.72874695334446, `4` = 1.69795318532877, `5` = 2.98913293931836, \n . `7` = 2.38329126123762, `8` = 1.97778221471555))",
      "2. `$<-.data.frame`(`*tmp*`, interp_250_tcorr, value = c(`2` = 1.47227677938903, \n . `3` = 1.72874695334446, `4` = 1.69795318532877, `5` = 2.98913293931836, \n . `7` = 2.38329126123762, `8` = 1.97778221471555))",
      "3. stop(sprintf(ngettext(N, \"replacement has %d row, data has %d\", \n .     \"replacement has %d rows, data has %d\"), N, nrows), domain = NA)"
     ]
    }
   ],
   "source": [
    "suna_grab$interp_250_log<-log10(suna_grab$interp_250_c254.mean)\n",
    "suna_grab$turb_log<-log10(suna_grab$turbidity.mean)\n",
    "\n",
    "\n",
    "summary(lm(uva_250_lab~interp_250_log*turb_log,suna_grab))\n",
    "summary(lm(uva_250_lab~interp_250_c254.mean*turb_log,suna_grab))\n",
    "\n",
    "suna_grab$interp_250_tcorr<-predict(lm(uva_250_lab~interp_250_c254.mean*turbidity.mean,suna_grab))\n",
    "suna_grab$interp_250_tcorr_log<-predict(lm(uva_250_lab~interp_250_log*turbidity.mean,suna_grab))\n",
    "suna_grab$interp_250_tcorr_log_turb<-predict(lm(uva_250_lab~interp_250_log*turb_log,suna_grab))\n",
    "\n",
    "\n",
    "ggplot(suna_grab,aes(uva_250_lab,interp_250_c254.mean,color=pH.mean))+\n",
    "theme_ts_space+\n",
    "xlab(\"\\nUV Absorbance at 250 nm (Laboratory)\")+\n",
    "ylab(\"UV Absorbance at 250 nm (SUNA Uncorrected)\\n\")+\n",
    "geom_point(size=6)\n",
    "\n",
    "ggsave(\"~/neon_suna/plots/BARC_250_uncorrected.pdf\",width = 20, height = 20, units = \"cm\")\n",
    "\n",
    "\n",
    "\n",
    "ggplot(suna_grab,aes(uva_250_lab,interp_250_tcorr_log,color=pH.mean))+\n",
    "theme_ts_space+\n",
    "geom_smooth(method=\"lm\",color=\"grey20\")+\n",
    "xlab(\"\\nUV Absorbance at 250 nm (Laboratory)\")+\n",
    "ylab(\"UV Absorbance at 250 nm (SUNA Corrected)\\n\")+\n",
    "geom_point(size=6)+\n",
    "ggtitle(\"Turbidity Corrected\")\n",
    "\n",
    "ggsave(\"~/neon_suna/plots/BARC_250_corrected.pdf\",width = 20, height = 20, units = \"cm\")\n",
    "\n",
    "\n",
    "\n",
    "\n",
    "#summary(lm(uva_250_lab~interp_250_c254.mean*turbidity.mean+sensor_temp.mean,suna_grab))\n",
    "#summary(lm(uva_280_lab~interp_280_c350.mean*turbidity.mean+sensor_temp.mean,suna_grab))\n",
    "#summary(lm(uva_280_lab~interp_280_c254.mean*turbidity.mean+sensor_temp.mean,suna_grab))"
   ]
  },
  {
   "cell_type": "code",
   "execution_count": null,
   "id": "piano-beginning",
   "metadata": {
    "tags": []
   },
   "outputs": [],
   "source": [
    "names(BARC_sw)"
   ]
  },
  {
   "cell_type": "markdown",
   "id": "secure-clone",
   "metadata": {},
   "source": [
    "# Apply turbidity correction based on lab samples."
   ]
  },
  {
   "cell_type": "code",
   "execution_count": null,
   "id": "pleased-netherlands",
   "metadata": {
    "tags": []
   },
   "outputs": [],
   "source": [
    "cor_cols<-grep(\"^interp_\",names(BARC_sw))\n",
    "\n",
    "uva_250_turb_lm<-lm(uva_250_lab~interp_250_log*turbidity.mean,suna_grab)\n",
    "\n",
    "for(i in 1:length(cor_cols)){\n",
    "\tprepdata<-data.frame(interp_250_log=log10(BARC_sw[,cor_cols[i]]),turbidity.mean=BARC_sw$turbidity.mean)\n",
    "\tturb_cor_pred<-predict(uva_250_turb_lm,newdata=prepdata)\n",
    "\tBARC_sw[,c(paste(names(BARC_sw)[cor_cols[i]],\"_turb\",sep=\"\"))]<-turb_cor_pred\n",
    "}\n",
    "\n"
   ]
  },
  {
   "cell_type": "code",
   "execution_count": null,
   "id": "tight-september",
   "metadata": {},
   "outputs": [],
   "source": [
    "head(BARC_sw)"
   ]
  },
  {
   "cell_type": "code",
   "execution_count": null,
   "id": "limiting-thinking",
   "metadata": {},
   "outputs": [],
   "source": [
    "BARC_swt_0<-BARC_sw[,grep(\"*_turb$\",names(BARC_sw))]\n",
    "BARC_swt<-bind_cols(BARC_sw[,c(\"dtpr\",\"nitrate.mean\",\"nitrate_mgl.mean\",\"a254.mean\",\"a350.mean\",\"sensor_temp.mean\",\"specificConductance.mean\",\"dissolvedOxygen.mean\",\"pH.mean\",\"chlorophyll.mean\",\"turbidity.mean\",\"fDOM.mean\")],BARC_swt_0)\n",
    "\n",
    "\n",
    "\n"
   ]
  },
  {
   "cell_type": "markdown",
   "id": "accessible-tomato",
   "metadata": {},
   "source": [
    "# Adding PAR data."
   ]
  },
  {
   "cell_type": "code",
   "execution_count": null,
   "id": "incorporate-promise",
   "metadata": {},
   "outputs": [],
   "source": [
    "BARC_par<-loadByProduct(dpID=\"DP1.20042.001\",site=\"BARC\",check.size=F)\n",
    "saveRDS(BARC_par,paste(getwd(),\"/BARC_par.rds\",sep=\"\"))\n",
    "BARC_par<-readRDS(paste(getwd(),\"/BARC_par.rds\",sep=\"\"))\n",
    "\n",
    "\n"
   ]
  },
  {
   "cell_type": "code",
   "execution_count": null,
   "id": "administrative-satisfaction",
   "metadata": {
    "tags": []
   },
   "outputs": [],
   "source": [
    "#lubridate::round_date(BARC_parts$dtp, \"15 minutes\")\n"
   ]
  },
  {
   "cell_type": "code",
   "execution_count": null,
   "id": "sharp-welcome",
   "metadata": {},
   "outputs": [],
   "source": [
    "\n",
    "BARC_parts<-BARC_par$PARWS_5min\n",
    "BARC_parts$dtp<-BARC_parts$startDateTime\n",
    "#str(BARC_wqk)\n",
    "\n",
    "\n",
    "\n",
    "BARC_parts$dtpr<-lubridate::round_date(BARC_parts$dtp, \"15 minutes\")\n",
    "BARC_parts_red<-summaryBy(PARMean~dtpr,BARC_parts,FUN=c(mean))\n",
    "head(BARC_parts_red)\n",
    "#str(BARC_wq_red)\n",
    "\n",
    "BARC_swtpar<-merge(BARC_swt,BARC_parts_red,by=\"dtpr\",all.x=TRUE)\n"
   ]
  },
  {
   "cell_type": "code",
   "execution_count": null,
   "id": "convertible-given",
   "metadata": {},
   "outputs": [],
   "source": [
    "\n",
    "str(BARC_swtpar$dtpr)\n",
    "\n",
    "attr(BARC_swtpar$dtpr,\"tzone\") <- \"Etc/GMT+5\"\n",
    "\n",
    "str(BARC_swtpar$dtpr)\n",
    "BARC_swtpar$date<-as.Date(BARC_swtpar$dtpr,tz=\"Etc/GMT+5\")\n",
    "\n",
    "BARC_dates<-unique(BARC_swtpar$date)\n",
    "\n",
    "for(i in 1:length(BARC_dates)){\n",
    "    \n",
    "    \n",
    "}"
   ]
  },
  {
   "cell_type": "code",
   "execution_count": null,
   "id": "liberal-stamp",
   "metadata": {},
   "outputs": [],
   "source": [
    "\n",
    "#BARCd<-subset(BARC_swtpar,date==as.Date(\"2019-06-10\"))\n",
    "BARCd<-BARC_swtpar\n",
    "\n",
    "BARCdk<-BARCd[,grep(\"*c254.mean_turb$\",names(BARCd))]\n",
    "BARCdk$dtpr<-BARCd$dtpr\n",
    "\n",
    "BARCdm<-subset(melt(BARCdk,id.vars=c(\"dtpr\")),!is.na(value))\n",
    "BARCdm$wavelength<-gsub(\"interp_\",\"\",BARCdm$variable,fixed=TRUE)\n",
    "BARCdm$wavelength<-as.numeric(gsub(\"_c254.mean_turb\",\"\",BARCdm$wavelength,fixed=TRUE))\n",
    "\n",
    "\n",
    "\n",
    "str(BARCdm)"
   ]
  },
  {
   "cell_type": "markdown",
   "id": "impaired-niagara",
   "metadata": {},
   "source": [
    "# Trying some ridge plots to look at wavelength changes over time.\n",
    "So far not looBARC super great."
   ]
  },
  {
   "cell_type": "code",
   "execution_count": null,
   "id": "every-layout",
   "metadata": {},
   "outputs": [],
   "source": [
    "#library(ggridges)\n",
    "#scales::rescale(height)\n",
    "#BARCdm$dtprn<-scales::rescale(as.numeric(BARCdm$dtpr))\n",
    "#BARCdm$abs<-scales::rescale(as.numeric(BARCdm$value))\n",
    "\n",
    "\n",
    "#ggplot(subset(BARCdm,wavelength>=275&wavelength<=295),aes(x = wavelength, y = dtprn, group=dtprn,height = abs)) +\n",
    "#  geom_ridgeline(fill=\"grey80\",alpha=0.6)\n",
    "\n",
    "#ggsave(\"~/neon_suna/plots/BARCdm_ridge.pdf\",width = 20, height = 40, units = \"cm\")\n"
   ]
  },
  {
   "cell_type": "markdown",
   "id": "divided-extraction",
   "metadata": {},
   "source": [
    "# Calculating spectral slope 275-295nm on each time step."
   ]
  },
  {
   "cell_type": "code",
   "execution_count": null,
   "id": "local-throat",
   "metadata": {},
   "outputs": [],
   "source": [
    "names(BARCd)\n",
    "names(BARCdm)"
   ]
  },
  {
   "cell_type": "code",
   "execution_count": null,
   "id": "widespread-hungary",
   "metadata": {},
   "outputs": [],
   "source": [
    "ssm_275_295<-subset(BARCdm,wavelength>=275&wavelength<=295)\n",
    "dtps<-unique(ssm_275_295$dtpr)\n",
    "pb <- progress_bar$new(\n",
    "\tformat = \"  downloading [:bar] :percent eta: :eta\",\n",
    "\ttotal = length(dtps), clear = FALSE, width= 60)\n",
    "s275295_comp<-data.frame()\n",
    "\n",
    "\n",
    "for(i in 1:length(dtps)){\n",
    "\tssm_now<-subset(ssm_275_295,dtpr==dtps[i])\n",
    "\t\n",
    "\tssm_now$am1<-ssm_now$value*100*2.3025851\n",
    "\tssm_now$lnam1<-log(ssm_now$am1)\n",
    "\n",
    "\n",
    "\tif(sum(!is.na(ssm_now$lnam1))>2){\n",
    "\t\ts275295<-lm(ssm_now$lnam1~ssm_now$wavelength)$coefficients[2]*-1\n",
    "\t\t}else{s275295<-NA}\n",
    "\t\ts275295_temp<-data.frame(dtpr=dtps[i],s275295=s275295)\n",
    "\t\ts275295_comp<-bind_rows(s275295_comp,s275295_temp)\n",
    "#\t\tpb$tick()\n",
    "}\t\n",
    "\t\n"
   ]
  },
  {
   "cell_type": "code",
   "execution_count": null,
   "id": "allied-prince",
   "metadata": {},
   "outputs": [],
   "source": [
    "ggplot(subset(ssm_275_295,variable==\"interp_275_c254.mean_turb\"),aes(dtpr,value))+geom_point()\n"
   ]
  },
  {
   "cell_type": "code",
   "execution_count": null,
   "id": "public-macedonia",
   "metadata": {},
   "outputs": [],
   "source": [
    "ssm_275_295<-subset(BARCdm,wavelength>=275&wavelength<=295)\n",
    "dtps<-unique(ssm_275_295$dtpr)\n",
    "pb <- progress_bar$new(\n",
    "\tformat = \"  downloading [:bar] :percent eta: :eta\",\n",
    "\ttotal = length(dtps), clear = FALSE, width= 60)\n",
    "s275295_comp<-data.frame()\n",
    "\n",
    "\n",
    "\n",
    "\tssm_now<-subset(ssm_275_295,dtpr==dtps[i])\n",
    "\t\n",
    "\tssm_now$am1<-ssm_now$value*100*2.3025851\n",
    "\tssm_now$lnam1<-log(ssm_now$am1)\n",
    "\n",
    "\n",
    "\tif(sum(!is.na(ssm_now$lnam1))>2){\n",
    "\t\ts275295<-lm(ssm_now$lnam1~ssm_now$wavelength)$coefficients[2]*-1\n",
    "\t\t}else{s275295<-NA}\n",
    "\t\ts275295_temp<-data.frame(dtpr=dtps[i],s275295=s275295)\n",
    "\t\ts275295_comp<-bind_rows(s275295_comp,s275295_temp)\n",
    "#\t\tpb$tick()\n"
   ]
  },
  {
   "cell_type": "code",
   "execution_count": null,
   "id": "italian-avatar",
   "metadata": {},
   "outputs": [],
   "source": [
    "nrow(s275295_comp)\n",
    "nrow(BARC_swtpar)\n",
    "BARC_swtp_ss<-merge(BARC_swtpar,s275295_comp,by=\"dtpr\",all.x=TRUE)\n",
    "saveRDS(BARC_swtp_ss,paste(data,\"BARC_swtp_ss.rds\",sep=\"\"))"
   ]
  },
  {
   "cell_type": "code",
   "execution_count": null,
   "id": "sorted-sarah",
   "metadata": {},
   "outputs": [],
   "source": [
    "sdates<-unique(as.Date(BARC_swtp_ss$dtpr,tz=\"Etc/GMT+5\"))\n",
    "\n",
    "i<-5\n",
    "comp_df<-data.frame()\n",
    "#print(i)\n",
    "start<-as.POSIXct(paste(sdates[i]-1,\"22:00\",tz=\"Etc/GMT+5\"))\n",
    "finish<-as.POSIXct(paste(sdates[i]+1,\"03:00\",tz=\"Etc/GMT+5\"))\n",
    "BARCday<-subset(BARC_swtp_ss,dtpr>=start & dtpr<=finish)\n",
    "BARCday<-subset(BARCday,!is.na(PARMean.mean) & !is.na(s275295))\n",
    "nrow(BARCday)\n",
    "    BARCday$PAR_roll<-as.numeric(c(\"NA\",rollmean(BARCday$PARMean.mean,k=3,align=c(\"center\"),na.fill=TRUE),\"NA\"))\n",
    "    BARCday$s275295_roll<-as.numeric(c(\"NA\",rollmean(BARCday$s275295,k=3,align=c(\"center\"),na.fill=TRUE),\"NA\"))\n",
    "\n",
    "\n",
    "\n",
    "    BARC_night<-subset(BARCday,PARMean.mean<200)\n",
    "    night_s275295<-mean(BARC_night$s275295,na.rm=TRUE)\n",
    "\n",
    "    \n",
    "    #BARCday$baseline<-predict(lm(s275295~dtpr,BARC_night),BARCday)\n",
    "    BARCday$baseline_roll<-predict(lm(s275295_roll~dtpr,BARC_night),BARCday)    \n",
    "    BARCday$s275295_bs<-BARCday$s275295_roll-BARCday$baseline_roll    \n",
    "    \n",
    "    BARC_night_am<-subset(BARC_night,hour(dtpr)<=12)\n",
    "    night_s275295_am<-mean(BARC_night_am$s275295,na.rm=TRUE)\n",
    "    \n",
    "    BARC_night_pm<-subset(BARC_night,hour(dtpr)>12)\n",
    "    night_s275295_pm<-mean(BARC_night_pm$s275295,na.rm=TRUE)\n",
    "    \n",
    "    BARC_day<-subset(BARCday,PARMean.mean>=10)\n",
    "    day_s275295<-mean(BARC_day$s275295,na.rm=TRUE)\n",
    "\n",
    "    day_s275295_base_sum<-sum(BARC_day$s275295_bs,na.rm=TRUE)\n",
    "    day_PAR_roll_base_sum<-sum(BARC_day$PAR_roll,na.rm=TRUE)    \n",
    "\n",
    "    int<-lm(s275295_bs~PAR_roll,BARC_day)$coef[1]\n",
    "    slope<-lm(s275295_bs~PAR_roll,BARC_day)$coef[2]    \n",
    "    \n",
    "    BARC_n_am_time<-nrow(BARC_night_am)\n",
    "    BARC_n_pm_time<-nrow(BARC_night_pm)\n",
    "    BARC_d_time<-nrow(BARC_day)\n",
    "    \n",
    "    temp_df<-data.frame(site=\"BARC\",date=sdates[i],night_s275295=night_s275295,night_s275295_am=night_s275295_am,night_s275295_pm=night_s275295_pm,day_s275295=day_s275295,day_s275295_base_sum=day_s275295_base_sum,day_PAR_roll_base_sum=day_PAR_roll_base_sum,int=int,slope=slope,BARC_n_am_time=BARC_n_am_time,BARC_n_pm_time=BARC_n_pm_time,BARC_d_time=BARC_d_time)"
   ]
  },
  {
   "cell_type": "code",
   "execution_count": null,
   "id": "available-upset",
   "metadata": {},
   "outputs": [],
   "source": [
    "\n",
    "\n",
    "\n"
   ]
  },
  {
   "cell_type": "markdown",
   "id": "static-antarctica",
   "metadata": {},
   "source": [
    "# Extracting spectral daily slope ratio discrepancy."
   ]
  },
  {
   "cell_type": "code",
   "execution_count": null,
   "id": "infectious-standing",
   "metadata": {
    "tags": []
   },
   "outputs": [],
   "source": [
    "sdates<-unique(as.Date(BARC_swtp_ss$dtpr,tz=\"Etc/GMT+5\"))\n",
    "\n",
    "#i<-30\n",
    "comp_df<-data.frame()\n",
    "for(i in 1:length(sdates)){\n",
    "#print(i)\n",
    "start<-as.POSIXct(paste(sdates[i]-1,\"22:00\",tz=\"Etc/GMT+5\"))\n",
    "finish<-as.POSIXct(paste(sdates[i]+1,\"03:00\",tz=\"Etc/GMT+5\"))\n",
    "BARCday<-subset(BARC_swtp_ss,dtpr>=start & dtpr<=finish)\n",
    "BARCday<-subset(BARCday,!is.na(PARMean.mean) & !is.na(s275295))\n",
    "\n",
    "if(nrow(BARCday)>80){\n",
    "    BARCday$PAR_roll<-as.numeric(c(\"NA\",rollmean(BARCday$PARMean.mean,k=3,align=c(\"center\"),na.fill=TRUE),\"NA\"))\n",
    "    BARCday$s275295_roll<-as.numeric(c(\"NA\",rollmean(BARCday$s275295,k=3,align=c(\"center\"),na.fill=TRUE),\"NA\"))\n",
    "\n",
    "\n",
    "\n",
    "    BARC_night<-subset(BARCday,PARMean.mean<200)\n",
    "    night_s275295<-mean(BARC_night$s275295,na.rm=TRUE)\n",
    "    \n",
    "    #BARCday$baseline<-predict(lm(s275295~dtpr,BARC_night),BARCday)\n",
    "    BARCday$baseline_roll<-predict(lm(s275295_roll~dtpr,BARC_night),BARCday)    \n",
    "    BARCday$s275295_bs<-BARCday$s275295_roll-BARCday$baseline_roll    \n",
    "    \n",
    "    BARC_night_am<-subset(BARC_night,hour(dtpr)<=12)\n",
    "    night_s275295_am<-mean(BARC_night_am$s275295,na.rm=TRUE)\n",
    "    \n",
    "    BARC_night_pm<-subset(BARC_night,hour(dtpr)>12)\n",
    "    night_s275295_pm<-mean(BARC_night_pm$s275295,na.rm=TRUE)\n",
    "    \n",
    "    BARC_day<-subset(BARCday,PARMean.mean>=10)\n",
    "    day_s275295<-mean(BARC_day$s275295,na.rm=TRUE)\n",
    "\n",
    "    day_s275295_base_sum<-sum(BARC_day$s275295_bs,na.rm=TRUE)\n",
    "    day_PAR_roll_base_sum<-sum(BARC_day$PAR_roll,na.rm=TRUE)    \n",
    "\n",
    "    int<-lm(s275295_bs~PAR_roll,BARC_day)$coef[1]\n",
    "    slope<-lm(s275295_bs~PAR_roll,BARC_day)$coef[2]    \n",
    "    \n",
    "    BARC_n_am_time<-nrow(BARC_night_am)\n",
    "    BARC_n_pm_time<-nrow(BARC_night_pm)\n",
    "    BARC_d_time<-nrow(BARC_day)\n",
    "    \n",
    "    temp_df<-data.frame(site=\"BARC\",date=sdates[i],night_s275295=night_s275295,night_s275295_am=night_s275295_am,night_s275295_pm=night_s275295_pm,day_s275295=day_s275295,day_s275295_base_sum=day_s275295_base_sum,day_PAR_roll_base_sum=day_PAR_roll_base_sum,int=int,slope=slope,BARC_n_am_time=BARC_n_am_time,BARC_n_pm_time=BARC_n_pm_time,BARC_d_time=BARC_d_time)\n",
    "    comp_df<-bind_rows(comp_df,temp_df)\n",
    "    }\n",
    "}\n",
    "\n",
    "\n"
   ]
  },
  {
   "cell_type": "code",
   "execution_count": null,
   "id": "antique-collapse",
   "metadata": {},
   "outputs": [],
   "source": [
    "nrow(comp_df)\n",
    "head(comp_df)"
   ]
  },
  {
   "cell_type": "code",
   "execution_count": null,
   "id": "recognized-migration",
   "metadata": {},
   "outputs": [],
   "source": [
    "    BARC_day$s275295_bs\n",
    "ggplot(comp_df,aes(date,day_s275295_base_sum))+\n",
    "       geom_point(size=2)\n",
    "ggplot(comp_df,aes(date,day_PAR_roll_base_sum))+\n",
    "       geom_point(size=2)\n",
    "\n",
    "\n",
    "ggplot(comp_df,aes(day_PAR_roll_base_sum,day_s275295_base_sum))+\n",
    "geom_point()\n",
    "\n",
    "\n",
    "saveRDS(comp_df,paste(data,\"comp_df_BARC.rds\",sep=\"\"))"
   ]
  },
  {
   "cell_type": "code",
   "execution_count": null,
   "id": "distributed-player",
   "metadata": {},
   "outputs": [],
   "source": [
    "BARCday<-subset(BARC_swtp_ss,as.Date(dtpr,tz=\"Etc/GMT+5\")==as.Date(\"2019-06-11\",tz=\"Etc/GMT+5\"))\n",
    "nrow(BARCday)\n",
    "\n",
    "str(BARCday$s275295)\n",
    "\n",
    "\n",
    "\n",
    "ggplot(BARCday,aes(dtpr,s275295))+\n",
    "geom_point()\n",
    "\n",
    "\n",
    "ggplot(BARCday,aes(dtpr,PARMean.mean))+\n",
    "geom_point()\n",
    "\n",
    "ggplot(BARCday,aes(dtpr,PARMean.mean))+\n",
    "geom_point()\n",
    "\n"
   ]
  }
 ],
 "metadata": {
  "kernelspec": {
   "display_name": "R",
   "language": "R",
   "name": "ir"
  },
  "language_info": {
   "codemirror_mode": "r",
   "file_extension": ".r",
   "mimetype": "text/x-r-source",
   "name": "R",
   "pygments_lexer": "r",
   "version": "4.0.4"
  }
 },
 "nbformat": 4,
 "nbformat_minor": 5
}
