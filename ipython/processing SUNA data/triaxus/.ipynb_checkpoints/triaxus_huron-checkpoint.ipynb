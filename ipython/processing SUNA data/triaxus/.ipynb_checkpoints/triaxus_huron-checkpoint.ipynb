{
 "cells": [
  {
   "cell_type": "markdown",
   "id": "designed-sauce",
   "metadata": {},
   "source": [
    "# Identify working and data directory and site ID.\n",
    "* The working directory is the root directory of the github.\n",
    "* The data directory points to the google drive folder where the larger data files are stored.\n",
    "* For the moment the site ID if the four-digit NEON site ID."
   ]
  },
  {
   "cell_type": "code",
   "execution_count": 3,
   "id": "detected-rover",
   "metadata": {},
   "outputs": [],
   "source": [
    "working<-\"~/neon_suna\"\n",
    "site_id<-\"Huron_CSMI_July\"\n",
    "data<-\"/Volumes/GoogleDrive/My Drive/SUNA_Data/triaxus/Triaxus_2015_2017_Data/Suna/2017/Huron CSMI July\"\n"
   ]
  },
  {
   "cell_type": "markdown",
   "id": "israeli-synthetic",
   "metadata": {},
   "source": [
    "# Initialize required libraries, functions and formatting utilities."
   ]
  },
  {
   "cell_type": "code",
   "execution_count": 4,
   "id": "visible-channel",
   "metadata": {},
   "outputs": [],
   "source": [
    "library(dplyr)\n",
    "library(streamMetabolizer)\n",
    "library(splitstackshape)\n",
    "library(ggplot2)\n",
    "library(lubridate)\n",
    "library(reshape2)\n",
    "library(neonUtilities)\n",
    "library(progress)\n",
    "library(patchwork)\n",
    "library(doBy)\n",
    "#library(box)\n",
    "\n",
    "theme_ts_space<-theme_grey() +\n",
    "\t\ttheme(\n",
    "#\t\tpanel.grid.major = element_blank(),\n",
    "#\t\tpanel.grid.minor = element_blank(),\n",
    "\t\tpanel.background = element_rect(fill=\"white\", colour=\"black\", size=2),\n",
    "#\t\tlegend.key       = element_blank(),\n",
    "#\t\tlegend.text      = element_text(size=20.5),\n",
    "#\t\tlegend.text      = element_blank(),\n",
    "#\t\tlegend.title     = element_text(size=20.5),\n",
    "\t\taxis.text.x = element_text(size=22,colour=\"black\",hjust=1,angle=45),\n",
    "\t\taxis.text.y = element_text(size=22,colour=\"black\",vjust=.3),\n",
    "\t\taxis.title.x = element_text(size=22),\n",
    "\t\taxis.title.y = element_text(size=22,vjust=-1),\n",
    "#\t\tplot.title = element_text(hjust = 0.5,size=22,face=\"bold\"),\t\t\n",
    "#\t\tlegend.position  = \"left\",\n",
    "\t\tlegend.position  = \"none\",\n",
    "\t\tplot.margin = unit(c(1,1,1,1), \"cm\"),\n",
    "\t\tpanel.border = element_rect(colour = \"black\", fill=NA, size=2)\n",
    "\t\t)\n",
    "\n",
    "\n",
    "\n"
   ]
  },
  {
   "cell_type": "markdown",
   "id": "julian-liquid",
   "metadata": {},
   "source": [
    "# Setting up the workspace\n",
    "In the cell below indicate the site that will be analyzed here according to its NEON 4-letter code. A list of files for that site is then placed in the vector \"sunas\".\n",
    "\n",
    "If you downloaded the repo into your home director, which is found by going to \"~/\", then you don\"t have to change the box path. FYI: Box is a new package for R that allows you to define a set of functions without creating a new package."
   ]
  },
  {
   "cell_type": "code",
   "execution_count": null,
   "id": "hourly-afternoon",
   "metadata": {},
   "outputs": [],
   "source": []
  },
  {
   "cell_type": "code",
   "execution_count": 28,
   "id": "little-attack",
   "metadata": {},
   "outputs": [],
   "source": [
    "\n",
    "#setwd(paste(\"~/gdrive/SUNA_data/SUNA_NEON/\",site_id,sep=\"\"))\n",
    "#sunas<-list.files(pattern=\"*.csv\")\n",
    "#getwd()\n",
    "#options(box.path = \"~/neon_suna/box/\")\n",
    "#box::use(plots)\n",
    "\n",
    "setwd(data)\n",
    "sunas<-list.files(pattern=\"*.csv\")\n",
    "\n",
    "#suna_cal<-readRDS(\"/Users/jhosen/gdrive/fdom/SUNA Calibration pdfs/suna_cal_comb.rds\")\n",
    "suna_cal<-read.csv(\"/Users/jhosen/gdrive/SUNA_Data/SUNA Calibration pdfs/suna_0839_20200312.csv\")\n",
    "suna_cal_t<-as.data.frame(t(suna_cal))\n",
    "names(suna_cal_t)<-suna_cal_t[1,]"
   ]
  },
  {
   "cell_type": "code",
   "execution_count": null,
   "id": "shared-graphic",
   "metadata": {},
   "outputs": [],
   "source": []
  },
  {
   "cell_type": "markdown",
   "id": "missing-plain",
   "metadata": {},
   "source": [
    "# Data import and processing loop.\n",
    "This step loads each data file, formats the data for use, and concatenates files from an individual site.\n",
    "\n",
    "This step could take a while."
   ]
  },
  {
   "cell_type": "code",
   "execution_count": 9,
   "id": "baking-scott",
   "metadata": {},
   "outputs": [
    {
     "ename": "ERROR",
     "evalue": "Error in head(suna[, c(260:274)]): object 'suna' not found\n",
     "output_type": "error",
     "traceback": [
      "Error in head(suna[, c(260:274)]): object 'suna' not found\nTraceback:\n",
      "1. head(suna[, c(260:274)])"
     ]
    }
   ],
   "source": [
    "head(suna[,c(260:274)])\n",
    "length(c(\"suna_id\",\"date\",\"time\",\"nitrate\",\"nitrate_mgl\",\"a254\",\"a350\",\"bromide_trace\",\"spec_average_dark\",\"dark_signal_average\",\"int_time\",suna_cal$Wavelength,\"sensor_temp\",\"spec_temp\",\"lamp_temp\",\"lamp_time\",\"rel_hum\",\"main_volt\",\"lamp_volt\",\"int_volt\",\"main_current\",\"fit_aux_1\",\"fit_aux_2\",\"fit_base_1\",\"fit_base_2\",\"fit_RMSE\",\"CTD_Time\",\"CTD_Salinity\",\"CTD_Temp\",\"CTD_Pressure\",\"checksum\"))"
   ]
  },
  {
   "cell_type": "code",
   "execution_count": 29,
   "id": "coordinated-kinase",
   "metadata": {},
   "outputs": [
    {
     "data": {
      "text/html": [
       "<style>\n",
       ".list-inline {list-style: none; margin:0; padding: 0}\n",
       ".list-inline>li {display: inline-block}\n",
       ".list-inline>li:not(:last-child)::after {content: \"\\00b7\"; padding: 0 .5ex}\n",
       "</style>\n",
       "<ol class=list-inline><li>'SUNA-0242_2017-07-18_06-02-20_raw.csv'</li><li>'SUNA-0242_2017-07-18_16-05-04_raw.csv'</li><li>'SUNA-0242_2017-07-19_04-22-16_raw.csv'</li><li>'SUNA-0242_2017-07-19_05-25-33_raw.csv'</li><li>'SUNA-0242_2017-07-19_06-31-09_raw.csv'</li><li>'SUNA-0242_2017-07-19_13-18-49_raw.csv'</li></ol>\n"
      ],
      "text/latex": [
       "\\begin{enumerate*}\n",
       "\\item 'SUNA-0242\\_2017-07-18\\_06-02-20\\_raw.csv'\n",
       "\\item 'SUNA-0242\\_2017-07-18\\_16-05-04\\_raw.csv'\n",
       "\\item 'SUNA-0242\\_2017-07-19\\_04-22-16\\_raw.csv'\n",
       "\\item 'SUNA-0242\\_2017-07-19\\_05-25-33\\_raw.csv'\n",
       "\\item 'SUNA-0242\\_2017-07-19\\_06-31-09\\_raw.csv'\n",
       "\\item 'SUNA-0242\\_2017-07-19\\_13-18-49\\_raw.csv'\n",
       "\\end{enumerate*}\n"
      ],
      "text/markdown": [
       "1. 'SUNA-0242_2017-07-18_06-02-20_raw.csv'\n",
       "2. 'SUNA-0242_2017-07-18_16-05-04_raw.csv'\n",
       "3. 'SUNA-0242_2017-07-19_04-22-16_raw.csv'\n",
       "4. 'SUNA-0242_2017-07-19_05-25-33_raw.csv'\n",
       "5. 'SUNA-0242_2017-07-19_06-31-09_raw.csv'\n",
       "6. 'SUNA-0242_2017-07-19_13-18-49_raw.csv'\n",
       "\n",
       "\n"
      ],
      "text/plain": [
       "[1] \"SUNA-0242_2017-07-18_06-02-20_raw.csv\"\n",
       "[2] \"SUNA-0242_2017-07-18_16-05-04_raw.csv\"\n",
       "[3] \"SUNA-0242_2017-07-19_04-22-16_raw.csv\"\n",
       "[4] \"SUNA-0242_2017-07-19_05-25-33_raw.csv\"\n",
       "[5] \"SUNA-0242_2017-07-19_06-31-09_raw.csv\"\n",
       "[6] \"SUNA-0242_2017-07-19_13-18-49_raw.csv\""
      ]
     },
     "metadata": {},
     "output_type": "display_data"
    },
    {
     "data": {
      "text/html": [
       "'SUNA-0242_2017-07-19_14-01-12_raw.csv'"
      ],
      "text/latex": [
       "'SUNA-0242\\_2017-07-19\\_14-01-12\\_raw.csv'"
      ],
      "text/markdown": [
       "'SUNA-0242_2017-07-19_14-01-12_raw.csv'"
      ],
      "text/plain": [
       "[1] \"SUNA-0242_2017-07-19_14-01-12_raw.csv\""
      ]
     },
     "metadata": {},
     "output_type": "display_data"
    }
   ],
   "source": [
    "\n",
    "head(sunas)\n",
    "sunas[i]"
   ]
  },
  {
   "cell_type": "code",
   "execution_count": 34,
   "id": "basic-fence",
   "metadata": {
    "scrolled": true,
    "tags": []
   },
   "outputs": [
    {
     "name": "stdout",
     "output_type": "stream",
     "text": [
      "[1] 1\n",
      "[1] 2\n",
      "[1] 3\n",
      "[1] 4\n",
      "[1] 5\n",
      "[1] 6\n",
      "[1] 7\n",
      "[1] 8\n",
      "[1] 9\n",
      "[1] 10\n",
      "[1] 11\n",
      "[1] 12\n",
      "[1] 13\n",
      "[1] 14\n",
      "[1] \"done\"\n"
     ]
    }
   ],
   "source": [
    "options(warn=-1)\n",
    "compiled_suna<-data.frame()\n",
    "sunas_length<-length(sunas)\n",
    "for(i in 1:sunas_length){\n",
    "#i<-1\n",
    "print(i)\n",
    "suna<-read.csv(paste(sunas[i]),skip=14,header=FALSE)\n",
    "#head(suna)\n",
    "\n",
    "#suna_d0<-cSplit(suna,3, \",\")\n",
    "#names(suna)<-c(\"suna_id\",\"date\",\"time\",\"nitrate\",\"nitrate_mgl\",\"a254\",\"a350\",\"bromide_trace\",\"spec_average_dark\",\"dark_signal_average\",\"int_time\",suna_cal$Wavelength,\"sensor_temp\",\"spec_temp\",\"lamp_temp\",\"lamp_time\",\"rel_hum\",\"main_volt\",\"lamp_volt\",\"int_volt\",\"main_current\",\"fit_aux_1\",\"fit_aux_2\",\"fit_base_1\",\"fit_base_2\",\"fit_RMSE\",\"CTD_Time\",\"CTD_Salinity\",\"CTD_Temp\",\"CTD_Pressure\",\"checksum\")\n",
    "names(suna)<-c(\"suna_id\",\"date\",\"time\",\"nitrate\",\"nitrate_mgl\",\"a254\",\"a350\",\"bromide_trace\",\"spec_average_dark\",\"dark_signal_average\",\"int_time\",seq(188,395,length.out=256),\"sensor_temp\",\"spec_temp\",\"lamp_temp\",\"lamp_time\",\"rel_hum\",\"main_volt\",\"lamp_volt\",\"int_volt\",\"main_current\",\"fit_aux_1\",\"fit_aux_2\",\"fit_base_1\",\"fit_base_2\",\"fit_RMSE\",\"CTD_Time\",\"CTD_Salinity\",\"CTD_Temp\",\"CTD_Pressure\",\"checksum\")\n",
    "\n",
    "#suna<-subset(suna,a254!=0)\n",
    "\n",
    "suna<-subset(suna,a254!=0)\n",
    "\n",
    "elength<-nchar(suna$date)\n",
    "slength<-elength-2\n",
    "doy<-substr(suna$date,slength,elength)\n",
    "year<-substr(suna$date,1,4)\n",
    "    \n",
    "day<-as.POSIXct(paste(as.Date(as.numeric(doy)-1,origin=paste(year,\"-01-01\",sep=\"\")),\"00:00:00\"),tz=\"UTC\")\n",
    "#suna$day<-as.POSIXct(\"2019-05-10 00:00:00\",tz=\"UTC\")\n",
    "suna$dtp<-day + (3600*as.numeric(suna$time))\n",
    "#attr(suna$dtp,\"tzone\") <- \"Etc/GMT+8\"\n",
    "\n",
    "    \n",
    "\n",
    "offse<-c(t(suna_cal_t[3,]))\n",
    "suna2<-(suna[,12:267]/suna$int_time)-suna$dark_signal_average\n",
    "suna_d0_norm<-sweep(suna2,2,FUN=\"/\",offse)\n",
    "names(suna_d0_norm)<-paste(\"n_\",names(suna_cal_t),sep=\"\")\n",
    "\n",
    "    \n",
    "\n",
    "#print(\"test\")\n",
    "suna_d0_int<-data.frame()\n",
    "for(j in 1:nrow(suna_d0_norm)){\t\n",
    "#    print(j)\n",
    "\tflip<-as.data.frame(t(suna_d0_norm[j,]))\n",
    "\tnames(flip)<-c(\"abs\")\n",
    "\tflip$wl_nm<-gsub(\"n_\",\"\",row.names(flip),fixed=TRUE)\n",
    "\tflip_int<-as.data.frame(t(approx(flip$wl_nm,flip$abs,xout=seq(189,394,1),rule=2)$y))\n",
    "\tnames(flip_int)<-paste(\"interp_\",seq(189,394,1),sep=\"\")\n",
    "\tsuna_d0_int<-bind_rows(suna_d0_int,flip_int)\n",
    "}\n",
    "suna_d<-bind_cols(suna,suna_d0_int)\n",
    "#suna_d$date<-as.character(suna_d[,c(\"date\")])\n",
    "#suna_d$time<-as.character(suna_d[,c(\"time\")])\n",
    "suna_d2<-suna_d %>% mutate_if(is.numeric,as.character)\n",
    "suna_d2$cal<-sunas[i]\n",
    "compiled_suna<-bind_rows(compiled_suna,suna_d2)\n",
    "}\n",
    "print(\"done\")\n",
    "options(warn=0)    \n",
    "    \n",
    "    \n",
    "    \n"
   ]
  },
  {
   "cell_type": "markdown",
   "id": "nonprofit-oakland",
   "metadata": {},
   "source": [
    "# Check Data and Save"
   ]
  },
  {
   "cell_type": "code",
   "execution_count": null,
   "id": "olive-irish",
   "metadata": {},
   "outputs": [],
   "source": [
    "#i\n",
    "#grepl(\"D2020\",sunas[240])\n",
    "#sunas[240]\n",
    "#length(sunas)\n",
    "#sunas[240]\n",
    "#ncol(compiled_suna)\n",
    "#nrow(compiled_suna)\n",
    "saveRDS(compiled_suna,\"/Users/jhosen/gdrive/SUNA_Data/SUNA_NEON/KING/SUNA_KING_20210428_full.rds\")\n",
    "compiled_suna<-readRDS(\"/Users/jhosen/gdrive/SUNA_Data/corrected_files/SUNA_Cor/SUNA_KING_20210428_full.rds\")\n"
   ]
  },
  {
   "cell_type": "markdown",
   "id": "similar-planner",
   "metadata": {},
   "source": [
    "# Extracting the interpolated columns"
   ]
  },
  {
   "cell_type": "code",
   "execution_count": 35,
   "id": "grave-jenny",
   "metadata": {},
   "outputs": [],
   "source": [
    "#compiled_suna$cal<-\"suna_0839\"\n",
    "\n",
    "suna_interp<-compiled_suna[,grepl(\"^inter\",names(compiled_suna))] %>% mutate_if(is.character, ~as.numeric(.))\n",
    "#head(suna_interp)\n",
    "\n",
    "other_suna<-compiled_suna[,c(\"suna_id\",\"date\",\"time\",\"nitrate\",\"nitrate_mgl\",\"a254\",\"a350\",\"bromide_trace\",\"spec_average_dark\",\"dark_signal_average\",\"int_time\",\"sensor_temp\",\"spec_temp\",\"lamp_temp\",\"lamp_time\",\"rel_hum\",\"main_volt\",\"lamp_volt\",\"int_volt\",\"main_current\",\"fit_aux_1\",\"fit_aux_2\",\"fit_base_1\",\"fit_base_2\",\"fit_RMSE\",\"CTD_Time\",\"CTD_Salinity\",\"CTD_Temp\",\"CTD_Pressure\",\"checksum\",\"cal\",\"dtp\")]\n",
    "\n",
    "suna_cols<-bind_cols(other_suna,suna_interp)\n",
    "suna_cols$a254<-as.numeric(suna_cols$a254)\n",
    "suna_cols$a350<-as.numeric(suna_cols$a350)\n",
    "suna_cols$nitrate<-as.numeric(suna_cols$nitrate)\n",
    "suna_cols$nitrate_mgl<-as.numeric(suna_cols$nitrate_mgl)\n",
    "suna_cols$sensor_temp<-as.numeric(suna_cols$sensor_temp)\n"
   ]
  },
  {
   "cell_type": "code",
   "execution_count": 33,
   "id": "theoretical-christopher",
   "metadata": {
    "scrolled": true
   },
   "outputs": [
    {
     "data": {
      "text/html": [
       "<table class=\"dataframe\">\n",
       "<caption>A data.frame: 6 × 495</caption>\n",
       "<thead>\n",
       "\t<tr><th></th><th scope=col>suna_id</th><th scope=col>date</th><th scope=col>time</th><th scope=col>nitrate</th><th scope=col>nitrate_mgl</th><th scope=col>a254</th><th scope=col>a350</th><th scope=col>bromide_trace</th><th scope=col>spec_average_dark</th><th scope=col>dark_signal_average</th><th scope=col>⋯</th><th scope=col>interp_387</th><th scope=col>interp_388</th><th scope=col>interp_389</th><th scope=col>interp_390</th><th scope=col>interp_391</th><th scope=col>interp_392</th><th scope=col>interp_393</th><th scope=col>interp_394</th><th scope=col>file</th><th scope=col>cal</th></tr>\n",
       "\t<tr><th></th><th scope=col>&lt;chr&gt;</th><th scope=col>&lt;chr&gt;</th><th scope=col>&lt;chr&gt;</th><th scope=col>&lt;chr&gt;</th><th scope=col>&lt;chr&gt;</th><th scope=col>&lt;chr&gt;</th><th scope=col>&lt;chr&gt;</th><th scope=col>&lt;chr&gt;</th><th scope=col>&lt;chr&gt;</th><th scope=col>&lt;chr&gt;</th><th scope=col>⋯</th><th scope=col>&lt;chr&gt;</th><th scope=col>&lt;chr&gt;</th><th scope=col>&lt;chr&gt;</th><th scope=col>&lt;chr&gt;</th><th scope=col>&lt;chr&gt;</th><th scope=col>&lt;chr&gt;</th><th scope=col>&lt;chr&gt;</th><th scope=col>&lt;chr&gt;</th><th scope=col>&lt;chr&gt;</th><th scope=col>&lt;chr&gt;</th></tr>\n",
       "</thead>\n",
       "<tbody>\n",
       "\t<tr><th scope=row>1</th><td>SATSLF0242</td><td>2017199</td><td>6.040117</td><td>30.05</td><td>0.421 </td><td>0.0202</td><td>0.0152</td><td>0</td><td>25204</td><td>653</td><td>⋯</td><td>3.43158128188068 </td><td>3.43158128188068 </td><td>3.43158128188068 </td><td>3.43158128188068 </td><td>3.43158128188068 </td><td>3.43158128188068 </td><td>3.43158128188068 </td><td>3.43158128188068 </td><td>SUNA-0242_2017-07-18_06-02-20_raw.csv</td><td>suna_0839</td></tr>\n",
       "\t<tr><th scope=row>2</th><td>SATSLF0242</td><td>2017199</td><td>6.040407</td><td>30.1 </td><td>0.4216</td><td>0.0203</td><td>0.015 </td><td>0</td><td>25201</td><td>653</td><td>⋯</td><td>0.740479954016382</td><td>0.740479954016382</td><td>0.740479954016382</td><td>0.740479954016382</td><td>0.740479954016382</td><td>0.740479954016382</td><td>0.740479954016382</td><td>0.740479954016382</td><td>SUNA-0242_2017-07-18_06-02-20_raw.csv</td><td>suna_0839</td></tr>\n",
       "\t<tr><th scope=row>3</th><td>SATSLF0242</td><td>2017199</td><td>6.040688</td><td>30.13</td><td>0.422 </td><td>0.0202</td><td>0.0153</td><td>0</td><td>25200</td><td>653</td><td>⋯</td><td>0.405585420217648</td><td>0.405585420217648</td><td>0.405585420217648</td><td>0.405585420217648</td><td>0.405585420217648</td><td>0.405585420217648</td><td>0.405585420217648</td><td>0.405585420217648</td><td>SUNA-0242_2017-07-18_06-02-20_raw.csv</td><td>suna_0839</td></tr>\n",
       "\t<tr><th scope=row>4</th><td>SATSLF0242</td><td>2017199</td><td>6.040978</td><td>30.09</td><td>0.4215</td><td>0.0202</td><td>0.0156</td><td>0</td><td>25196</td><td>653</td><td>⋯</td><td>0.29981771641328 </td><td>0.29981771641328 </td><td>0.29981771641328 </td><td>0.29981771641328 </td><td>0.29981771641328 </td><td>0.29981771641328 </td><td>0.29981771641328 </td><td>0.29981771641328 </td><td>SUNA-0242_2017-07-18_06-02-20_raw.csv</td><td>suna_0839</td></tr>\n",
       "\t<tr><th scope=row>5</th><td>SATSLF0242</td><td>2017199</td><td>6.04126 </td><td>30.25</td><td>0.4237</td><td>0.0202</td><td>0.0148</td><td>0</td><td>25199</td><td>653</td><td>⋯</td><td>0.628506382632734</td><td>0.628506382632734</td><td>0.628506382632734</td><td>0.628506382632734</td><td>0.628506382632734</td><td>0.628506382632734</td><td>0.628506382632734</td><td>0.628506382632734</td><td>SUNA-0242_2017-07-18_06-02-20_raw.csv</td><td>suna_0839</td></tr>\n",
       "\t<tr><th scope=row>6</th><td>SATSLF0242</td><td>2017199</td><td>6.041549</td><td>30.17</td><td>0.4226</td><td>0.0203</td><td>0.0153</td><td>0</td><td>25190</td><td>653</td><td>⋯</td><td>0.608081523449795</td><td>0.608081523449795</td><td>0.608081523449795</td><td>0.608081523449795</td><td>0.608081523449795</td><td>0.608081523449795</td><td>0.608081523449795</td><td>0.608081523449795</td><td>SUNA-0242_2017-07-18_06-02-20_raw.csv</td><td>suna_0839</td></tr>\n",
       "</tbody>\n",
       "</table>\n"
      ],
      "text/latex": [
       "A data.frame: 6 × 495\n",
       "\\begin{tabular}{r|lllllllllllllllllllll}\n",
       "  & suna\\_id & date & time & nitrate & nitrate\\_mgl & a254 & a350 & bromide\\_trace & spec\\_average\\_dark & dark\\_signal\\_average & ⋯ & interp\\_387 & interp\\_388 & interp\\_389 & interp\\_390 & interp\\_391 & interp\\_392 & interp\\_393 & interp\\_394 & file & cal\\\\\n",
       "  & <chr> & <chr> & <chr> & <chr> & <chr> & <chr> & <chr> & <chr> & <chr> & <chr> & ⋯ & <chr> & <chr> & <chr> & <chr> & <chr> & <chr> & <chr> & <chr> & <chr> & <chr>\\\\\n",
       "\\hline\n",
       "\t1 & SATSLF0242 & 2017199 & 6.040117 & 30.05 & 0.421  & 0.0202 & 0.0152 & 0 & 25204 & 653 & ⋯ & 3.43158128188068  & 3.43158128188068  & 3.43158128188068  & 3.43158128188068  & 3.43158128188068  & 3.43158128188068  & 3.43158128188068  & 3.43158128188068  & SUNA-0242\\_2017-07-18\\_06-02-20\\_raw.csv & suna\\_0839\\\\\n",
       "\t2 & SATSLF0242 & 2017199 & 6.040407 & 30.1  & 0.4216 & 0.0203 & 0.015  & 0 & 25201 & 653 & ⋯ & 0.740479954016382 & 0.740479954016382 & 0.740479954016382 & 0.740479954016382 & 0.740479954016382 & 0.740479954016382 & 0.740479954016382 & 0.740479954016382 & SUNA-0242\\_2017-07-18\\_06-02-20\\_raw.csv & suna\\_0839\\\\\n",
       "\t3 & SATSLF0242 & 2017199 & 6.040688 & 30.13 & 0.422  & 0.0202 & 0.0153 & 0 & 25200 & 653 & ⋯ & 0.405585420217648 & 0.405585420217648 & 0.405585420217648 & 0.405585420217648 & 0.405585420217648 & 0.405585420217648 & 0.405585420217648 & 0.405585420217648 & SUNA-0242\\_2017-07-18\\_06-02-20\\_raw.csv & suna\\_0839\\\\\n",
       "\t4 & SATSLF0242 & 2017199 & 6.040978 & 30.09 & 0.4215 & 0.0202 & 0.0156 & 0 & 25196 & 653 & ⋯ & 0.29981771641328  & 0.29981771641328  & 0.29981771641328  & 0.29981771641328  & 0.29981771641328  & 0.29981771641328  & 0.29981771641328  & 0.29981771641328  & SUNA-0242\\_2017-07-18\\_06-02-20\\_raw.csv & suna\\_0839\\\\\n",
       "\t5 & SATSLF0242 & 2017199 & 6.04126  & 30.25 & 0.4237 & 0.0202 & 0.0148 & 0 & 25199 & 653 & ⋯ & 0.628506382632734 & 0.628506382632734 & 0.628506382632734 & 0.628506382632734 & 0.628506382632734 & 0.628506382632734 & 0.628506382632734 & 0.628506382632734 & SUNA-0242\\_2017-07-18\\_06-02-20\\_raw.csv & suna\\_0839\\\\\n",
       "\t6 & SATSLF0242 & 2017199 & 6.041549 & 30.17 & 0.4226 & 0.0203 & 0.0153 & 0 & 25190 & 653 & ⋯ & 0.608081523449795 & 0.608081523449795 & 0.608081523449795 & 0.608081523449795 & 0.608081523449795 & 0.608081523449795 & 0.608081523449795 & 0.608081523449795 & SUNA-0242\\_2017-07-18\\_06-02-20\\_raw.csv & suna\\_0839\\\\\n",
       "\\end{tabular}\n"
      ],
      "text/markdown": [
       "\n",
       "A data.frame: 6 × 495\n",
       "\n",
       "| <!--/--> | suna_id &lt;chr&gt; | date &lt;chr&gt; | time &lt;chr&gt; | nitrate &lt;chr&gt; | nitrate_mgl &lt;chr&gt; | a254 &lt;chr&gt; | a350 &lt;chr&gt; | bromide_trace &lt;chr&gt; | spec_average_dark &lt;chr&gt; | dark_signal_average &lt;chr&gt; | ⋯ ⋯ | interp_387 &lt;chr&gt; | interp_388 &lt;chr&gt; | interp_389 &lt;chr&gt; | interp_390 &lt;chr&gt; | interp_391 &lt;chr&gt; | interp_392 &lt;chr&gt; | interp_393 &lt;chr&gt; | interp_394 &lt;chr&gt; | file &lt;chr&gt; | cal &lt;chr&gt; |\n",
       "|---|---|---|---|---|---|---|---|---|---|---|---|---|---|---|---|---|---|---|---|---|---|\n",
       "| 1 | SATSLF0242 | 2017199 | 6.040117 | 30.05 | 0.421  | 0.0202 | 0.0152 | 0 | 25204 | 653 | ⋯ | 3.43158128188068  | 3.43158128188068  | 3.43158128188068  | 3.43158128188068  | 3.43158128188068  | 3.43158128188068  | 3.43158128188068  | 3.43158128188068  | SUNA-0242_2017-07-18_06-02-20_raw.csv | suna_0839 |\n",
       "| 2 | SATSLF0242 | 2017199 | 6.040407 | 30.1  | 0.4216 | 0.0203 | 0.015  | 0 | 25201 | 653 | ⋯ | 0.740479954016382 | 0.740479954016382 | 0.740479954016382 | 0.740479954016382 | 0.740479954016382 | 0.740479954016382 | 0.740479954016382 | 0.740479954016382 | SUNA-0242_2017-07-18_06-02-20_raw.csv | suna_0839 |\n",
       "| 3 | SATSLF0242 | 2017199 | 6.040688 | 30.13 | 0.422  | 0.0202 | 0.0153 | 0 | 25200 | 653 | ⋯ | 0.405585420217648 | 0.405585420217648 | 0.405585420217648 | 0.405585420217648 | 0.405585420217648 | 0.405585420217648 | 0.405585420217648 | 0.405585420217648 | SUNA-0242_2017-07-18_06-02-20_raw.csv | suna_0839 |\n",
       "| 4 | SATSLF0242 | 2017199 | 6.040978 | 30.09 | 0.4215 | 0.0202 | 0.0156 | 0 | 25196 | 653 | ⋯ | 0.29981771641328  | 0.29981771641328  | 0.29981771641328  | 0.29981771641328  | 0.29981771641328  | 0.29981771641328  | 0.29981771641328  | 0.29981771641328  | SUNA-0242_2017-07-18_06-02-20_raw.csv | suna_0839 |\n",
       "| 5 | SATSLF0242 | 2017199 | 6.04126  | 30.25 | 0.4237 | 0.0202 | 0.0148 | 0 | 25199 | 653 | ⋯ | 0.628506382632734 | 0.628506382632734 | 0.628506382632734 | 0.628506382632734 | 0.628506382632734 | 0.628506382632734 | 0.628506382632734 | 0.628506382632734 | SUNA-0242_2017-07-18_06-02-20_raw.csv | suna_0839 |\n",
       "| 6 | SATSLF0242 | 2017199 | 6.041549 | 30.17 | 0.4226 | 0.0203 | 0.0153 | 0 | 25190 | 653 | ⋯ | 0.608081523449795 | 0.608081523449795 | 0.608081523449795 | 0.608081523449795 | 0.608081523449795 | 0.608081523449795 | 0.608081523449795 | 0.608081523449795 | SUNA-0242_2017-07-18_06-02-20_raw.csv | suna_0839 |\n",
       "\n"
      ],
      "text/plain": [
       "  suna_id    date    time     nitrate nitrate_mgl a254   a350   bromide_trace\n",
       "1 SATSLF0242 2017199 6.040117 30.05   0.421       0.0202 0.0152 0            \n",
       "2 SATSLF0242 2017199 6.040407 30.1    0.4216      0.0203 0.015  0            \n",
       "3 SATSLF0242 2017199 6.040688 30.13   0.422       0.0202 0.0153 0            \n",
       "4 SATSLF0242 2017199 6.040978 30.09   0.4215      0.0202 0.0156 0            \n",
       "5 SATSLF0242 2017199 6.04126  30.25   0.4237      0.0202 0.0148 0            \n",
       "6 SATSLF0242 2017199 6.041549 30.17   0.4226      0.0203 0.0153 0            \n",
       "  spec_average_dark dark_signal_average ⋯ interp_387        interp_388       \n",
       "1 25204             653                 ⋯ 3.43158128188068  3.43158128188068 \n",
       "2 25201             653                 ⋯ 0.740479954016382 0.740479954016382\n",
       "3 25200             653                 ⋯ 0.405585420217648 0.405585420217648\n",
       "4 25196             653                 ⋯ 0.29981771641328  0.29981771641328 \n",
       "5 25199             653                 ⋯ 0.628506382632734 0.628506382632734\n",
       "6 25190             653                 ⋯ 0.608081523449795 0.608081523449795\n",
       "  interp_389        interp_390        interp_391        interp_392       \n",
       "1 3.43158128188068  3.43158128188068  3.43158128188068  3.43158128188068 \n",
       "2 0.740479954016382 0.740479954016382 0.740479954016382 0.740479954016382\n",
       "3 0.405585420217648 0.405585420217648 0.405585420217648 0.405585420217648\n",
       "4 0.29981771641328  0.29981771641328  0.29981771641328  0.29981771641328 \n",
       "5 0.628506382632734 0.628506382632734 0.628506382632734 0.628506382632734\n",
       "6 0.608081523449795 0.608081523449795 0.608081523449795 0.608081523449795\n",
       "  interp_393        interp_394        file                                 \n",
       "1 3.43158128188068  3.43158128188068  SUNA-0242_2017-07-18_06-02-20_raw.csv\n",
       "2 0.740479954016382 0.740479954016382 SUNA-0242_2017-07-18_06-02-20_raw.csv\n",
       "3 0.405585420217648 0.405585420217648 SUNA-0242_2017-07-18_06-02-20_raw.csv\n",
       "4 0.29981771641328  0.29981771641328  SUNA-0242_2017-07-18_06-02-20_raw.csv\n",
       "5 0.628506382632734 0.628506382632734 SUNA-0242_2017-07-18_06-02-20_raw.csv\n",
       "6 0.608081523449795 0.608081523449795 SUNA-0242_2017-07-18_06-02-20_raw.csv\n",
       "  cal      \n",
       "1 suna_0839\n",
       "2 suna_0839\n",
       "3 suna_0839\n",
       "4 suna_0839\n",
       "5 suna_0839\n",
       "6 suna_0839"
      ]
     },
     "metadata": {},
     "output_type": "display_data"
    }
   ],
   "source": [
    "head(compiled_suna)"
   ]
  },
  {
   "cell_type": "code",
   "execution_count": 23,
   "id": "burning-graphics",
   "metadata": {
    "tags": []
   },
   "outputs": [],
   "source": [
    "suna_cols<-subset(suna_cols,a254<10)\n",
    "\n",
    "for(j in 1:length(sunas)){\n",
    "    \n",
    "\n",
    "a350_mod<-lm(a350~log10(interp_350)+I(log10(interp_350)^2)+I(log10(interp_350)^3),suna_cols)\n",
    "a254_mod<-lm(a254~log10(interp_254)+I(log10(interp_254)^2)+I(log10(interp_254)^3),suna_cols)\n",
    "\n",
    "\n",
    "for(i in 1:length(cor_cols)){\n",
    "\tprepdata<-data.frame(interp_350=suna_cols[,cor_cols[i]],interp_254=suna_cols[,cor_cols[i]])\n",
    "\ta350_pred<-predict(a350_mod,newdata=prepdata)\n",
    "\ta254_pred<-predict(a254_mod,newdata=prepdata)\n",
    "\tsuna_cols[,c(paste(names(suna_cols)[cor_cols[i]],\"_c350\",sep=\"\"))]<-a350_pred\n",
    "\tsuna_cols[,c(paste(names(suna_cols)[cor_cols[i]],\"_c254\",sep=\"\"))]<-a254_pred\n",
    "}\n",
    "}\n",
    "\n",
    "\n",
    "cor_cols<-grep(\"^interp_\",names(suna_cols))\n"
   ]
  },
  {
   "cell_type": "code",
   "execution_count": 24,
   "id": "6a836fc4-7d3e-4c51-8234-9868dfd830fa",
   "metadata": {},
   "outputs": [
    {
     "data": {
      "text/plain": [
       "\n",
       "Call:\n",
       "lm(formula = a254 ~ log10(interp_254) + I(log10(interp_254)^2) + \n",
       "    I(log10(interp_254)^3), data = suna_cols)\n",
       "\n",
       "Residuals:\n",
       "      Min        1Q    Median        3Q       Max \n",
       "-0.029990 -0.008103 -0.004659  0.005303  0.124704 \n",
       "\n",
       "Coefficients:\n",
       "                         Estimate Std. Error t value Pr(>|t|)    \n",
       "(Intercept)             0.0123069  0.0001674  73.530  < 2e-16 ***\n",
       "log10(interp_254)      -0.0060568  0.0006171  -9.814  < 2e-16 ***\n",
       "I(log10(interp_254)^2)  0.0045474  0.0006441   7.060 1.68e-12 ***\n",
       "I(log10(interp_254)^3) -0.0008984  0.0001538  -5.842 5.19e-09 ***\n",
       "---\n",
       "Signif. codes:  0 ‘***’ 0.001 ‘**’ 0.01 ‘*’ 0.05 ‘.’ 0.1 ‘ ’ 1\n",
       "\n",
       "Residual standard error: 0.01329 on 45856 degrees of freedom\n",
       "Multiple R-squared:  0.002678,\tAdjusted R-squared:  0.002612 \n",
       "F-statistic: 41.04 on 3 and 45856 DF,  p-value: < 2.2e-16\n"
      ]
     },
     "metadata": {},
     "output_type": "display_data"
    },
    {
     "data": {
      "text/plain": [
       "     Min.   1st Qu.    Median      Mean   3rd Qu.      Max. \n",
       "-0.029990 -0.008103 -0.004659  0.000000  0.005303  0.124704 "
      ]
     },
     "metadata": {},
     "output_type": "display_data"
    },
    {
     "data": {
      "text/plain": [
       "\n",
       "Call:\n",
       "lm(formula = a350 ~ log10(interp_350) + I(log10(interp_350)^2) + \n",
       "    I(log10(interp_350)^3), data = suna_cols)\n",
       "\n",
       "Residuals:\n",
       "      Min        1Q    Median        3Q       Max \n",
       "-0.023823 -0.007775 -0.003716  0.007054  0.118232 \n",
       "\n",
       "Coefficients:\n",
       "                         Estimate Std. Error t value Pr(>|t|)    \n",
       "(Intercept)             1.176e-03  7.421e-05  15.851  < 2e-16 ***\n",
       "log10(interp_350)      -1.571e-03  2.004e-04  -7.839 4.65e-15 ***\n",
       "I(log10(interp_350)^2)  3.761e-03  5.139e-04   7.319 2.54e-13 ***\n",
       "I(log10(interp_350)^3) -1.219e-03  1.993e-04  -6.117 9.63e-10 ***\n",
       "---\n",
       "Signif. codes:  0 ‘***’ 0.001 ‘**’ 0.01 ‘*’ 0.05 ‘.’ 0.1 ‘ ’ 1\n",
       "\n",
       "Residual standard error: 0.01215 on 45856 degrees of freedom\n",
       "Multiple R-squared:  0.002354,\tAdjusted R-squared:  0.002289 \n",
       "F-statistic: 36.07 on 3 and 45856 DF,  p-value: < 2.2e-16\n"
      ]
     },
     "metadata": {},
     "output_type": "display_data"
    },
    {
     "data": {
      "text/plain": [
       "     Min.   1st Qu.    Median      Mean   3rd Qu.      Max. \n",
       "-0.023823 -0.007775 -0.003716  0.000000  0.007054  0.118232 "
      ]
     },
     "metadata": {},
     "output_type": "display_data"
    },
    {
     "data": {
      "image/png": "[encoded data removed]",
      "text/plain": [
       "plot without title"
      ]
     },
     "metadata": {
      "image/png": {
       "height": 420,
       "width": 420
      }
     },
     "output_type": "display_data"
    }
   ],
   "source": [
    "ggplot(suna_cols,aes(interp_254,a254))+geom_point()\n",
    "\n",
    "summary(a254_mod)\n",
    "summary(resid(a254_mod))\n",
    "\n",
    "summary(a350_mod)\n",
    "summary(resid(a350_mod))"
   ]
  },
  {
   "cell_type": "code",
   "execution_count": null,
   "id": "ongoing-paragraph",
   "metadata": {
    "tags": []
   },
   "outputs": [],
   "source": [
    "\n",
    "#compiled_suna2[,c(cor_cols)]<-compiled_suna2[,c(cor_cols)] %>% mutate_if(is.character,as.numeric)\n"
   ]
  },
  {
   "cell_type": "markdown",
   "id": "engaged-apache",
   "metadata": {},
   "source": [
    "# Reducing data down to 15 minutes intervals.\n",
    "We want to average down each burst from the SUNA to a single value and mac sure that these values are snapped to 15 minutes intervals (e.g., rather than round up or down to 14 or 16)."
   ]
  },
  {
   "cell_type": "code",
   "execution_count": null,
   "id": "specialized-disco",
   "metadata": {},
   "outputs": [],
   "source": [
    "str(suna_cols$sensor_temp)"
   ]
  },
  {
   "cell_type": "code",
   "execution_count": null,
   "id": "emotional-neighborhood",
   "metadata": {},
   "outputs": [],
   "source": [
    "rm(compiled_suna)\n",
    "rm(compiled_suna_1)\n",
    "rm(compiled_suna_2)\n",
    "\n",
    "suna_cols$dtpr<-lubridate::round_date(suna_cols$dtp, \"15 minutes\")\n",
    "suna_red<-summaryBy(.~dtpr,suna_cols,FUN=c(mean))\n",
    "\n"
   ]
  },
  {
   "cell_type": "markdown",
   "id": "proved-emerald",
   "metadata": {},
   "source": [
    "# Downloading turbidity time series data from NEON.\n",
    "Data product DP1.20288.001 for general water quality sonde data."
   ]
  },
  {
   "cell_type": "code",
   "execution_count": null,
   "id": "swedish-novelty",
   "metadata": {
    "code_folding": []
   },
   "outputs": [],
   "source": [
    "#KING_wqs<-loadByProduct(dpID=\"DP1.20288.001\",site=\"KING\",check.size=F)\n",
    "#saveRDS(KING_wqs,paste(data,\"/KING_wqs.rds\",sep=\"\"))\n",
    "KING_wqs<-readRDS(paste(data,\"/KING_wqs.rds\",sep=\"\"))\n"
   ]
  },
  {
   "cell_type": "code",
   "execution_count": null,
   "id": "settled-solid",
   "metadata": {},
   "outputs": [],
   "source": [
    "KING_wqsd<-KING_wqs$waq_instantaneous\n",
    "KING_wqsd$dtp<-KING_wqsd$startDateTime\n",
    "KING_wqk<-subset(KING_wqsd[,c(\"siteID\",\"dtp\",\"specificConductance\",\"dissolvedOxygen\",\"pH\",\"chlorophyll\",\"turbidity\",\"fDOM\")],!is.na(KING_wqsd$specificConductance))\n",
    "#str(KING_wqk)\n",
    "\n",
    "KING_wqk$dtpr<-lubridate::round_date(KING_wqk$dtp, \"15 minutes\")\n",
    "KING_wq_red<-summaryBy(.~dtpr,KING_wqk,FUN=c(mean))\n",
    "str(KING_wq_red)"
   ]
  },
  {
   "cell_type": "code",
   "execution_count": null,
   "id": "developed-imagination",
   "metadata": {
    "tags": []
   },
   "outputs": [],
   "source": [
    "KING_sw<-merge(suna_red,KING_wq_red,by=\"dtpr\",all.x=TRUE)\n"
   ]
  },
  {
   "cell_type": "markdown",
   "id": "basic-hughes",
   "metadata": {},
   "source": [
    "# import and merge NEON water quality grab sample data."
   ]
  },
  {
   "cell_type": "markdown",
   "id": "roman-insurance",
   "metadata": {},
   "source": [
    "### Downloading grab sample data and saving as rds file in data folder."
   ]
  },
  {
   "cell_type": "code",
   "execution_count": null,
   "id": "higher-replication",
   "metadata": {
    "tags": []
   },
   "outputs": [],
   "source": [
    "\n",
    "\n",
    "library(zoo)\n",
    "#KING_wqg<-loadByProduct(dpID=\"DP1.20093.001\",site=\"KING\",check.size=F)\n",
    "#saveRDS(KING_wqg,paste(data,\"/KING_wqg.rds\",sep=\"\"))\n",
    "KING_wqg<-readRDS(paste(data,\"/KING_wqg.rds\",sep=\"\"))\n",
    "\n"
   ]
  },
  {
   "cell_type": "markdown",
   "id": "charming-residence",
   "metadata": {},
   "source": [
    "### extracting lab analysis data"
   ]
  },
  {
   "cell_type": "code",
   "execution_count": null,
   "id": "steady-modification",
   "metadata": {},
   "outputs": [],
   "source": [
    "KING_wqg_d<-as.data.frame(KING_wqg$swc_externalLabDataByAnalyte)\n",
    "\n",
    "names(KING_wqg_d)\n",
    "\n",
    "uv_abs<-subset(KING_wqg_d,analyte==\"UV Absorbance (250 nm)\"|analyte==\"UV Absorbance (280 nm)\")\n",
    "date_cast<-dcast(uv_abs[,c(\"analyte\",\"collectDate\",\"analyteConcentration\")],collectDate~analyte,value.var=\"analyteConcentration\",mean)\n",
    "date_cast$dtpr<-lubridate::round_date(date_cast$collectDate, \"15 minutes\")\n",
    "\n",
    "names(date_cast)"
   ]
  },
  {
   "cell_type": "code",
   "execution_count": null,
   "id": "outdoor-sweet",
   "metadata": {},
   "outputs": [],
   "source": [
    "\n",
    "suna_grab<-merge(KING_sw,date_cast,by=\"dtpr\")\n",
    "\n",
    "#temp_nitrate_zoo<-zoo(nitrate$nitrate_umL,nitrate$dtp)\n",
    "#temp_n<-na.approx(temp_nitrate_zoo,xout=suna_red$dtp,na.rm=FALSE)\n",
    "#suna_grab[,c(\"UV Absorbance (250 nm)\")]\n",
    "names(suna_grab)<-gsub(\"UV Absorbance (250 nm)\",\"uva_250_lab\",names(suna_grab),fixed=TRUE)\n",
    "names(suna_grab)<-gsub(\"UV Absorbance (280 nm)\",\"uva_280_lab\",names(suna_grab),fixed=TRUE)\n",
    "\n"
   ]
  },
  {
   "cell_type": "markdown",
   "id": "accepted-dance",
   "metadata": {},
   "source": [
    "# Exploring turbidity corrections"
   ]
  },
  {
   "cell_type": "code",
   "execution_count": null,
   "id": "western-climate",
   "metadata": {
    "tags": []
   },
   "outputs": [],
   "source": [
    "#names(suna_grab)\n",
    "suna_grab<-subset(suna_grab,!is.na(uva_250_lab)&!is.na(uva_280_lab)&uva_250_lab<2)\n",
    "suna_grab$turbidity.mean[suna_grab$turbidity.mean<=0]<-1\n",
    "suna_grab[,c(\"dtpr\",\"a254.mean\",\"uva_250_lab\",\"uva_280_lab\",\"interp_250_c254.mean\",\"turbidity.mean\")]\n",
    "\n",
    "suna_grab$interp_250_log<-log10(suna_grab$interp_250_c254.mean)\n",
    "suna_grab$turb_log<-log10(suna_grab$turbidity.mean)\n",
    "nrow(suna_grab)\n",
    "suna_grab$uva_250_lab\n",
    "#suna_grab$interp_250_tcorr<-predict(lm(uva_250_lab~interp_250_c254.mean*turbidity.mean,suna_grab))\n",
    "#suna_grab$interp_250_tcorr_log<-predict(lm(uva_250_lab~interp_250_log*turbidity.mean,suna_grab))\n",
    "#suna_grab$interp_250_tcorr_log_turb<-predict(lm(uva_250_lab~interp_250_log*turb_log,suna_grab))\n"
   ]
  },
  {
   "cell_type": "code",
   "execution_count": null,
   "id": "adaptive-decrease",
   "metadata": {},
   "outputs": [],
   "source": [
    "suna_grab$interp_250_log<-log10(suna_grab$interp_250_c254.mean)\n",
    "suna_grab$turb_log<-log10(suna_grab$turbidity.mean)\n",
    "\n",
    "\n",
    "summary(lm(uva_250_lab~interp_250_log*turb_log,suna_grab))\n",
    "summary(lm(uva_250_lab~interp_250_c254.mean*turb_log,suna_grab))\n",
    "\n",
    "suna_grab$interp_250_tcorr<-predict(lm(uva_250_lab~interp_250_c254.mean*turbidity.mean,suna_grab))\n",
    "suna_grab$interp_250_tcorr_log<-predict(lm(uva_250_lab~interp_250_log*turbidity.mean,suna_grab))\n",
    "suna_grab$interp_250_tcorr_log_turb<-predict(lm(uva_250_lab~interp_250_log*turb_log,suna_grab))\n",
    "\n",
    "\n",
    "ggplot(suna_grab,aes(uva_250_lab,interp_250_c254.mean,color=pH.mean))+\n",
    "theme_ts_space+\n",
    "xlab(\"\\nUV Absorbance at 250 nm (Laboratory)\")+\n",
    "ylab(\"UV Absorbance at 250 nm (SUNA Uncorrected)\\n\")+\n",
    "geom_point(size=6)\n",
    "\n",
    "ggsave(\"~/neon_suna/plots/KING_250_uncorrected.pdf\",width = 20, height = 20, units = \"cm\")\n",
    "\n",
    "\n",
    "\n",
    "ggplot(suna_grab,aes(uva_250_lab,interp_250_tcorr_log,color=pH.mean))+\n",
    "theme_ts_space+\n",
    "geom_smooth(method=\"lm\",color=\"grey20\")+\n",
    "xlab(\"\\nUV Absorbance at 250 nm (Laboratory)\")+\n",
    "ylab(\"UV Absorbance at 250 nm (SUNA Corrected)\\n\")+\n",
    "geom_point(size=6)+\n",
    "ggtitle(\"Turbidity Corrected\")\n",
    "\n",
    "ggsave(\"~/neon_suna/plots/KING_250_corrected.pdf\",width = 20, height = 20, units = \"cm\")\n",
    "\n",
    "\n",
    "\n",
    "\n",
    "#summary(lm(uva_250_lab~interp_250_c254.mean*turbidity.mean+sensor_temp.mean,suna_grab))\n",
    "#summary(lm(uva_280_lab~interp_280_c350.mean*turbidity.mean+sensor_temp.mean,suna_grab))\n",
    "#summary(lm(uva_280_lab~interp_280_c254.mean*turbidity.mean+sensor_temp.mean,suna_grab))"
   ]
  },
  {
   "cell_type": "code",
   "execution_count": null,
   "id": "casual-lawrence",
   "metadata": {
    "tags": []
   },
   "outputs": [],
   "source": [
    "names(KING_sw)"
   ]
  },
  {
   "cell_type": "markdown",
   "id": "positive-probe",
   "metadata": {},
   "source": [
    "# Apply turbidity correction based on lab samples."
   ]
  },
  {
   "cell_type": "code",
   "execution_count": null,
   "id": "exempt-circulation",
   "metadata": {
    "tags": []
   },
   "outputs": [],
   "source": [
    "cor_cols<-grep(\"^interp_\",names(KING_sw))\n",
    "\n",
    "uva_250_turb_lm<-lm(uva_250_lab~interp_250_log*turbidity.mean,suna_grab)\n",
    "\n",
    "for(i in 1:length(cor_cols)){\n",
    "\tprepdata<-data.frame(interp_250_log=log10(KING_sw[,cor_cols[i]]),turbidity.mean=KING_sw$turbidity.mean)\n",
    "\tturb_cor_pred<-predict(uva_250_turb_lm,newdata=prepdata)\n",
    "\tKING_sw[,c(paste(names(KING_sw)[cor_cols[i]],\"_turb\",sep=\"\"))]<-turb_cor_pred\n",
    "}\n",
    "\n"
   ]
  },
  {
   "cell_type": "code",
   "execution_count": null,
   "id": "processed-liquid",
   "metadata": {},
   "outputs": [],
   "source": [
    "head(KING_sw)"
   ]
  },
  {
   "cell_type": "code",
   "execution_count": null,
   "id": "essential-alexander",
   "metadata": {},
   "outputs": [],
   "source": [
    "KING_swt_0<-KING_sw[,grep(\"*_turb$\",names(KING_sw))]\n",
    "KING_swt<-bind_cols(KING_sw[,c(\"dtpr\",\"nitrate.mean\",\"nitrate_mgl.mean\",\"a254.mean\",\"a350.mean\",\"sensor_temp.mean\",\"specificConductance.mean\",\"dissolvedOxygen.mean\",\"pH.mean\",\"chlorophyll.mean\",\"turbidity.mean\",\"fDOM.mean\")],KING_swt_0)\n",
    "\n",
    "\n",
    "\n"
   ]
  },
  {
   "cell_type": "markdown",
   "id": "light-collector",
   "metadata": {},
   "source": [
    "# Adding PAR data."
   ]
  },
  {
   "cell_type": "code",
   "execution_count": null,
   "id": "controlled-monthly",
   "metadata": {},
   "outputs": [],
   "source": [
    "KING_par<-loadByProduct(dpID=\"DP1.20042.001\",site=\"KING\",check.size=F)\n",
    "saveRDS(KING_par,paste(getwd(),\"/KING_par.rds\",sep=\"\"))\n",
    "KING_par<-readRDS(paste(getwd(),\"/KING_par.rds\",sep=\"\"))\n",
    "\n",
    "\n"
   ]
  },
  {
   "cell_type": "code",
   "execution_count": null,
   "id": "southern-violation",
   "metadata": {
    "tags": []
   },
   "outputs": [],
   "source": [
    "#lubridate::round_date(KING_parts$dtp, \"15 minutes\")\n"
   ]
  },
  {
   "cell_type": "code",
   "execution_count": null,
   "id": "fifth-stopping",
   "metadata": {},
   "outputs": [],
   "source": [
    "\n",
    "KING_parts<-KING_par$PARWS_5min\n",
    "KING_parts$dtp<-KING_parts$startDateTime\n",
    "#str(KING_wqk)\n",
    "\n",
    "\n",
    "\n",
    "KING_parts$dtpr<-lubridate::round_date(KING_parts$dtp, \"15 minutes\")\n",
    "KING_parts_red<-summaryBy(PARMean~dtpr,KING_parts,FUN=c(mean))\n",
    "head(KING_parts_red)\n",
    "#str(KING_wq_red)\n",
    "\n",
    "KING_swtpar<-merge(KING_swt,KING_parts_red,by=\"dtpr\",all.x=TRUE)\n"
   ]
  },
  {
   "cell_type": "code",
   "execution_count": null,
   "id": "super-darkness",
   "metadata": {},
   "outputs": [],
   "source": [
    "\n",
    "str(KING_swtpar$dtpr)\n",
    "\n",
    "attr(KING_swtpar$dtpr,\"tzone\") <- \"Etc/GMT+5\"\n",
    "\n",
    "str(KING_swtpar$dtpr)\n",
    "KING_swtpar$date<-as.Date(KING_swtpar$dtpr,tz=\"Etc/GMT+5\")\n",
    "\n",
    "KING_dates<-unique(KING_swtpar$date)\n",
    "\n",
    "for(i in 1:length(KING_dates)){\n",
    "    \n",
    "    \n",
    "}"
   ]
  },
  {
   "cell_type": "code",
   "execution_count": null,
   "id": "governmental-malpractice",
   "metadata": {},
   "outputs": [],
   "source": [
    "\n",
    "#KINGd<-subset(KING_swtpar,date==as.Date(\"2019-06-10\"))\n",
    "KINGd<-KING_swtpar\n",
    "\n",
    "KINGdk<-KINGd[,grep(\"*c254.mean_turb$\",names(KINGd))]\n",
    "KINGdk$dtpr<-KINGd$dtpr\n",
    "\n",
    "KINGdm<-subset(melt(KINGdk,id.vars=c(\"dtpr\")),!is.na(value))\n",
    "KINGdm$wavelength<-gsub(\"interp_\",\"\",KINGdm$variable,fixed=TRUE)\n",
    "KINGdm$wavelength<-as.numeric(gsub(\"_c254.mean_turb\",\"\",KINGdm$wavelength,fixed=TRUE))\n",
    "\n",
    "\n",
    "\n",
    "str(KINGdm)"
   ]
  },
  {
   "cell_type": "markdown",
   "id": "divided-amber",
   "metadata": {},
   "source": [
    "# Trying some ridge plots to look at wavelength changes over time.\n",
    "So far not looking super great."
   ]
  },
  {
   "cell_type": "code",
   "execution_count": null,
   "id": "sapphire-singer",
   "metadata": {},
   "outputs": [],
   "source": [
    "#library(ggridges)\n",
    "#scales::rescale(height)\n",
    "#KINGdm$dtprn<-scales::rescale(as.numeric(KINGdm$dtpr))\n",
    "#KINGdm$abs<-scales::rescale(as.numeric(KINGdm$value))\n",
    "\n",
    "\n",
    "#ggplot(subset(KINGdm,wavelength>=275&wavelength<=295),aes(x = wavelength, y = dtprn, group=dtprn,height = abs)) +\n",
    "#  geom_ridgeline(fill=\"grey80\",alpha=0.6)\n",
    "\n",
    "#ggsave(\"~/neon_suna/plots/KINGdm_ridge.pdf\",width = 20, height = 40, units = \"cm\")\n"
   ]
  },
  {
   "cell_type": "markdown",
   "id": "proper-heritage",
   "metadata": {},
   "source": [
    "# Calculating spectral slope 275-295nm on each time step."
   ]
  },
  {
   "cell_type": "code",
   "execution_count": null,
   "id": "headed-ability",
   "metadata": {},
   "outputs": [],
   "source": [
    "names(KINGd)\n",
    "names(KINGdm)"
   ]
  },
  {
   "cell_type": "code",
   "execution_count": null,
   "id": "identified-trail",
   "metadata": {},
   "outputs": [],
   "source": [
    "ssm_275_295<-subset(KINGdm,wavelength>=275&wavelength<=295)\n",
    "dtps<-unique(ssm_275_295$dtpr)\n",
    "pb <- progress_bar$new(\n",
    "\tformat = \"  downloading [:bar] :percent eta: :eta\",\n",
    "\ttotal = length(dtps), clear = FALSE, width= 60)\n",
    "s275295_comp<-data.frame()\n",
    "\n",
    "\n",
    "for(i in 1:length(dtps)){\n",
    "\tssm_now<-subset(ssm_275_295,dtpr==dtps[i])\n",
    "\t\n",
    "\tssm_now$am1<-ssm_now$value*100*2.3025851\n",
    "\tssm_now$lnam1<-log(ssm_now$am1)\n",
    "\n",
    "\n",
    "\tif(sum(!is.na(ssm_now$lnam1))>2){\n",
    "\t\ts275295<-lm(ssm_now$lnam1~ssm_now$wavelength)$coefficients[2]*-1\n",
    "\t\t}else{s275295<-NA}\n",
    "\t\ts275295_temp<-data.frame(dtpr=dtps[i],s275295=s275295)\n",
    "\t\ts275295_comp<-bind_rows(s275295_comp,s275295_temp)\n",
    "#\t\tpb$tick()\n",
    "}\t\n",
    "\t\n"
   ]
  },
  {
   "cell_type": "code",
   "execution_count": null,
   "id": "alive-yesterday",
   "metadata": {},
   "outputs": [],
   "source": [
    "nrow(s275295_comp)\n",
    "nrow(KING_swtpar)\n",
    "KING_swtp_ss<-merge(KING_swtpar,s275295_comp,by=\"dtpr\",all.x=TRUE)\n",
    "saveRDS(KING_swtp_ss,paste(data,\"KING_swtp_ss.rds\",sep=\"\"))"
   ]
  },
  {
   "cell_type": "markdown",
   "id": "critical-jaguar",
   "metadata": {},
   "source": [
    "# Extracting spectral daily slope ratio discrepancy."
   ]
  },
  {
   "cell_type": "code",
   "execution_count": null,
   "id": "steady-mailman",
   "metadata": {
    "tags": []
   },
   "outputs": [],
   "source": [
    "sdates<-unique(as.Date(KING_swtp_ss$dtpr,tz=\"Etc/GMT+5\"))\n",
    "\n",
    "#i<-30\n",
    "comp_df<-data.frame()\n",
    "for(i in 1:length(sdates)){\n",
    "#print(i)\n",
    "start<-as.POSIXct(paste(sdates[i]-1,\"22:00\",tz=\"Etc/GMT+5\"))\n",
    "finish<-as.POSIXct(paste(sdates[i]+1,\"03:00\",tz=\"Etc/GMT+5\"))\n",
    "KINGday<-subset(KING_swtp_ss,dtpr>=start & dtpr<=finish)\n",
    "KINGday<-subset(KINGday,!is.na(PARMean.mean) & !is.na(s275295))\n",
    "\n",
    "if(nrow(KINGday)>80){\n",
    "    KINGday$PAR_roll<-as.numeric(c(\"NA\",rollmean(KINGday$PARMean.mean,k=3,align=c(\"center\"),na.fill=TRUE),\"NA\"))\n",
    "    KINGday$s275295_roll<-as.numeric(c(\"NA\",rollmean(KINGday$s275295,k=3,align=c(\"center\"),na.fill=TRUE),\"NA\"))\n",
    "\n",
    "\n",
    "\n",
    "    KING_night<-subset(KINGday,PARMean.mean<200)\n",
    "    night_s275295<-mean(KING_night$s275295,na.rm=TRUE)\n",
    "    \n",
    "    #KINGday$baseline<-predict(lm(s275295~dtpr,KING_night),KINGday)\n",
    "    KINGday$baseline_roll<-predict(lm(s275295_roll~dtpr,KING_night),KINGday)    \n",
    "    KINGday$s275295_bs<-KINGday$s275295_roll-KINGday$baseline_roll    \n",
    "    \n",
    "    KING_night_am<-subset(KING_night,hour(dtpr)<=12)\n",
    "    night_s275295_am<-mean(KING_night_am$s275295,na.rm=TRUE)\n",
    "    \n",
    "    KING_night_pm<-subset(KING_night,hour(dtpr)>12)\n",
    "    night_s275295_pm<-mean(KING_night_pm$s275295,na.rm=TRUE)\n",
    "    \n",
    "    KING_day<-subset(KINGday,PARMean.mean>=10)\n",
    "    day_s275295<-mean(KING_day$s275295,na.rm=TRUE)\n",
    "\n",
    "    day_s275295_base_sum<-sum(KING_day$s275295_bs,na.rm=TRUE)\n",
    "    day_PAR_roll_base_sum<-sum(KING_day$PAR_roll,na.rm=TRUE)    \n",
    "\n",
    "    int<-lm(s275295_bs~PAR_roll,KING_day)$coef[1]\n",
    "    slope<-lm(s275295_bs~PAR_roll,KING_day)$coef[2]    \n",
    "    \n",
    "    KING_n_am_time<-nrow(KING_night_am)\n",
    "    KING_n_pm_time<-nrow(KING_night_pm)\n",
    "    KING_d_time<-nrow(KING_day)\n",
    "    \n",
    "    temp_df<-data.frame(site=\"KING\",date=sdates[i],night_s275295=night_s275295,night_s275295_am=night_s275295_am,night_s275295_pm=night_s275295_pm,day_s275295=day_s275295,day_s275295_base_sum=day_s275295_base_sum,day_PAR_roll_base_sum=day_PAR_roll_base_sum,int=int,slope=slope,KING_n_am_time=KING_n_am_time,KING_n_pm_time=KING_n_pm_time,KING_d_time=KING_d_time)\n",
    "    comp_df<-bind_rows(comp_df,temp_df)\n",
    "    }\n",
    "}\n",
    "\n",
    "\n"
   ]
  },
  {
   "cell_type": "code",
   "execution_count": null,
   "id": "dried-uncle",
   "metadata": {},
   "outputs": [],
   "source": [
    "    KING_day$s275295_bs\n",
    "ggplot(comp_df,aes(date,day_s275295_base_sum))+\n",
    "       geom_point(size=2)\n",
    "ggplot(comp_df,aes(date,day_PAR_roll_base_sum))+\n",
    "       geom_point(size=2)\n",
    "\n",
    "\n",
    "ggplot(comp_df,aes(day_PAR_roll_base_sum,day_s275295_base_sum))+\n",
    "geom_point()\n",
    "\n",
    "\n",
    "saveRDS(comp_df,paste(data,\"comp_df_KING.rds\",sep=\"\"))"
   ]
  },
  {
   "cell_type": "code",
   "execution_count": null,
   "id": "unknown-circumstances",
   "metadata": {},
   "outputs": [],
   "source": [
    "KINGday<-subset(KING_swtp_ss,as.Date(dtpr,tz=\"Etc/GMT+5\")==as.Date(\"2019-06-11\",tz=\"Etc/GMT+5\"))\n",
    "nrow(KINGday)\n",
    "\n",
    "str(KINGday$s275295)\n",
    "\n",
    "\n",
    "\n",
    "ggplot(KINGday,aes(dtpr,s275295))+\n",
    "geom_point()\n",
    "\n",
    "\n",
    "ggplot(KINGday,aes(dtpr,PARMean.mean))+\n",
    "geom_point()\n",
    "\n"
   ]
  }
 ],
 "metadata": {
  "kernelspec": {
   "display_name": "R",
   "language": "R",
   "name": "ir"
  },
  "language_info": {
   "codemirror_mode": "r",
   "file_extension": ".r",
   "mimetype": "text/x-r-source",
   "name": "R",
   "pygments_lexer": "r",
   "version": "4.1.1"
  }
 },
 "nbformat": 4,
 "nbformat_minor": 5
}
