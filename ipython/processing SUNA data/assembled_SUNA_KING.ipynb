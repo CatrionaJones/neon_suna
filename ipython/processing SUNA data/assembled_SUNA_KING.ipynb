{
 "cells": [
  {
   "cell_type": "markdown",
   "id": "designed-sauce",
   "metadata": {},
   "source": [
    "# Identify working and data directory and site ID.\n",
    "* The working directory is the root directory of the github.\n",
    "* The data directory points to the google drive folder where the larger data files are stored.\n",
    "* For the moment the site ID if the four-digit NEON site ID."
   ]
  },
  {
   "cell_type": "code",
   "execution_count": 1,
   "id": "detected-rover",
   "metadata": {},
   "outputs": [],
   "source": [
    "working<-\"~/neon_suna\"\n",
    "site_id<-\"KING\"\n",
    "data<-paste(\"~/gdrive/SUNA_Data/SUNA_NEON/\",site_id,\"/2019\",sep=\"\")\n"
   ]
  },
  {
   "cell_type": "markdown",
   "id": "israeli-synthetic",
   "metadata": {},
   "source": [
    "# Initialize required libraries, functions and formatting utilities."
   ]
  },
  {
   "cell_type": "code",
   "execution_count": 2,
   "id": "visible-channel",
   "metadata": {},
   "outputs": [
    {
     "name": "stderr",
     "output_type": "stream",
     "text": [
      "\n",
      "Attaching package: ‘dplyr’\n",
      "\n",
      "\n",
      "The following objects are masked from ‘package:stats’:\n",
      "\n",
      "    filter, lag\n",
      "\n",
      "\n",
      "The following objects are masked from ‘package:base’:\n",
      "\n",
      "    intersect, setdiff, setequal, union\n",
      "\n",
      "\n",
      "USGS Active Research Package:\n",
      "https://owi.usgs.gov/R/packages.html#research\n",
      "\n",
      "This package was developed for research purposes. We used it for our\n",
      "own applications and welcome flexible, resilient users who can help us\n",
      "test and improve the package. Please give us feedback at\n",
      "https://github.com/USGS-R/streamMetabolizer/issues/new.\n",
      "\n",
      "\n",
      "Attaching package: ‘lubridate’\n",
      "\n",
      "\n",
      "The following objects are masked from ‘package:base’:\n",
      "\n",
      "    date, intersect, setdiff, union\n",
      "\n",
      "\n",
      "\n",
      "Attaching package: ‘doBy’\n",
      "\n",
      "\n",
      "The following object is masked from ‘package:dplyr’:\n",
      "\n",
      "    order_by\n",
      "\n",
      "\n"
     ]
    }
   ],
   "source": [
    "library(dplyr)\n",
    "library(streamMetabolizer)\n",
    "library(splitstackshape)\n",
    "library(ggplot2)\n",
    "library(lubridate)\n",
    "library(reshape2)\n",
    "library(neonUtilities)\n",
    "library(progress)\n",
    "library(patchwork)\n",
    "library(doBy)\n",
    "#library(box)\n",
    "\n",
    "theme_ts_space<-theme_grey() +\n",
    "\t\ttheme(\n",
    "#\t\tpanel.grid.major = element_blank(),\n",
    "#\t\tpanel.grid.minor = element_blank(),\n",
    "\t\tpanel.background = element_rect(fill=\"white\", colour=\"black\", size=2),\n",
    "#\t\tlegend.key       = element_blank(),\n",
    "#\t\tlegend.text      = element_text(size=20.5),\n",
    "#\t\tlegend.text      = element_blank(),\n",
    "#\t\tlegend.title     = element_text(size=20.5),\n",
    "\t\taxis.text.x = element_text(size=22,colour=\"black\",hjust=1,angle=45),\n",
    "\t\taxis.text.y = element_text(size=22,colour=\"black\",vjust=.3),\n",
    "\t\taxis.title.x = element_text(size=22),\n",
    "\t\taxis.title.y = element_text(size=22,vjust=-1),\n",
    "#\t\tplot.title = element_text(hjust = 0.5,size=22,face=\"bold\"),\t\t\n",
    "#\t\tlegend.position  = \"left\",\n",
    "\t\tlegend.position  = \"none\",\n",
    "\t\tplot.margin = unit(c(1,1,1,1), \"cm\"),\n",
    "\t\tpanel.border = element_rect(colour = \"black\", fill=NA, size=2)\n",
    "\t\t)\n",
    "\n",
    "\n",
    "\n"
   ]
  },
  {
   "cell_type": "markdown",
   "id": "julian-liquid",
   "metadata": {},
   "source": [
    "# Setting up the workspace\n",
    "In the cell below indicate the site that will be analyzed here according to its NEON 4-letter code. A list of files for that site is then placed in the vector \"sunas\".\n",
    "\n",
    "If you downloaded the repo into your home director, which is found by going to \"~/\", then you don\"t have to change the box path. FYI: Box is a new package for R that allows you to define a set of functions without creating a new package."
   ]
  },
  {
   "cell_type": "code",
   "execution_count": 3,
   "id": "little-attack",
   "metadata": {},
   "outputs": [],
   "source": [
    "\n",
    "#setwd(paste(\"~/gdrive/SUNA_data/SUNA_NEON/\",site_id,sep=\"\"))\n",
    "#sunas<-list.files(pattern=\"*.csv\")\n",
    "#getwd()\n",
    "#options(box.path = \"~/neon_suna/box/\")\n",
    "#box::use(plots)\n",
    "\n",
    "setwd(data)\n",
    "sunas<-list.files(pattern=\"*.CSV\")\n",
    "\n",
    "#suna_cal<-readRDS(\"/Users/jhosen/gdrive/fdom/SUNA Calibration pdfs/suna_cal_comb.rds\")\n",
    "suna_cal<-read.csv(\"/Users/jhosen/gdrive/SUNA_Data/SUNA Calibration pdfs/suna_0839_20200312.csv\")\n",
    "suna_cal_t<-as.data.frame(t(suna_cal))\n",
    "names(suna_cal_t)<-suna_cal_t[1,]"
   ]
  },
  {
   "cell_type": "code",
   "execution_count": null,
   "id": "shared-graphic",
   "metadata": {},
   "outputs": [],
   "source": []
  },
  {
   "cell_type": "markdown",
   "id": "missing-plain",
   "metadata": {},
   "source": [
    "# Data import and processing loop.\n",
    "This step loads each data file, formats the data for use, and concatenates files from an individual site.\n",
    "\n",
    "This step could take a while."
   ]
  },
  {
   "cell_type": "code",
   "execution_count": 5,
   "id": "baking-scott",
   "metadata": {},
   "outputs": [
    {
     "data": {
      "text/html": [
       "<table class=\"dataframe\">\n",
       "<caption>A data.frame: 6 × 287</caption>\n",
       "<thead>\n",
       "\t<tr><th></th><th scope=col>suna_id</th><th scope=col>date</th><th scope=col>time</th><th scope=col>nitrate</th><th scope=col>nitrate_mgl</th><th scope=col>a254</th><th scope=col>a350</th><th scope=col>bromide_trace</th><th scope=col>spec_average_dark</th><th scope=col>dark_signal_average</th><th scope=col>⋯</th><th scope=col>fit_aux_2</th><th scope=col>fit_base_1</th><th scope=col>fit_base_2</th><th scope=col>fit_RMSE</th><th scope=col>CTD_Time</th><th scope=col>CTD_Salinity</th><th scope=col>CTD_Temp</th><th scope=col>CTD_Pressure</th><th scope=col>checksum</th><th scope=col>dtp</th></tr>\n",
       "\t<tr><th></th><th scope=col>&lt;chr&gt;</th><th scope=col>&lt;int&gt;</th><th scope=col>&lt;dbl&gt;</th><th scope=col>&lt;dbl&gt;</th><th scope=col>&lt;dbl&gt;</th><th scope=col>&lt;dbl&gt;</th><th scope=col>&lt;dbl&gt;</th><th scope=col>&lt;int&gt;</th><th scope=col>&lt;int&gt;</th><th scope=col>&lt;int&gt;</th><th scope=col>⋯</th><th scope=col>&lt;int&gt;</th><th scope=col>&lt;dbl&gt;</th><th scope=col>&lt;dbl&gt;</th><th scope=col>&lt;dbl&gt;</th><th scope=col>&lt;lgl&gt;</th><th scope=col>&lt;lgl&gt;</th><th scope=col>&lt;lgl&gt;</th><th scope=col>&lt;lgl&gt;</th><th scope=col>&lt;int&gt;</th><th scope=col>&lt;dttm&gt;</th></tr>\n",
       "</thead>\n",
       "<tbody>\n",
       "\t<tr><th scope=row>1</th><td>SATSLF1207</td><td>2019032</td><td>18.50984</td><td>2.63</td><td>0.0368</td><td>0.0321</td><td>0.0251</td><td>0</td><td>19785</td><td>734</td><td>⋯</td><td>-1</td><td>7.5779</td><td>-1.847449</td><td>0.000199</td><td>NA</td><td>NA</td><td>NA</td><td>NA</td><td>158</td><td>2019-02-01 18:30:35</td></tr>\n",
       "\t<tr><th scope=row>2</th><td>SATSLF1207</td><td>2019032</td><td>18.51011</td><td>2.62</td><td>0.0366</td><td>0.0326</td><td>0.0243</td><td>0</td><td>19778</td><td>734</td><td>⋯</td><td>-1</td><td>7.6305</td><td>-1.856307</td><td>0.000220</td><td>NA</td><td>NA</td><td>NA</td><td>NA</td><td>113</td><td>2019-02-01 18:30:36</td></tr>\n",
       "\t<tr><th scope=row>3</th><td>SATSLF1207</td><td>2019032</td><td>18.51038</td><td>2.73</td><td>0.0382</td><td>0.0329</td><td>0.0247</td><td>0</td><td>19765</td><td>734</td><td>⋯</td><td>-1</td><td>7.3814</td><td>-1.737374</td><td>0.000165</td><td>NA</td><td>NA</td><td>NA</td><td>NA</td><td>178</td><td>2019-02-01 18:30:37</td></tr>\n",
       "\t<tr><th scope=row>4</th><td>SATSLF1207</td><td>2019032</td><td>18.51066</td><td>2.65</td><td>0.0371</td><td>0.0323</td><td>0.0244</td><td>0</td><td>19778</td><td>734</td><td>⋯</td><td>-1</td><td>7.7641</td><td>-1.904835</td><td>0.000212</td><td>NA</td><td>NA</td><td>NA</td><td>NA</td><td>110</td><td>2019-02-01 18:30:38</td></tr>\n",
       "\t<tr><th scope=row>5</th><td>SATSLF1207</td><td>2019032</td><td>18.51093</td><td>2.64</td><td>0.0370</td><td>0.0324</td><td>0.0244</td><td>0</td><td>19775</td><td>734</td><td>⋯</td><td>-1</td><td>7.8082</td><td>-1.916989</td><td>0.000174</td><td>NA</td><td>NA</td><td>NA</td><td>NA</td><td> 71</td><td>2019-02-01 18:30:39</td></tr>\n",
       "\t<tr><th scope=row>6</th><td>SATSLF1207</td><td>2019032</td><td>18.51121</td><td>2.71</td><td>0.0379</td><td>0.0325</td><td>0.0244</td><td>0</td><td>19778</td><td>734</td><td>⋯</td><td>-1</td><td>7.4962</td><td>-1.785586</td><td>0.000217</td><td>NA</td><td>NA</td><td>NA</td><td>NA</td><td> 59</td><td>2019-02-01 18:30:40</td></tr>\n",
       "</tbody>\n",
       "</table>\n"
      ],
      "text/latex": [
       "A data.frame: 6 × 287\n",
       "\\begin{tabular}{r|lllllllllllllllllllll}\n",
       "  & suna\\_id & date & time & nitrate & nitrate\\_mgl & a254 & a350 & bromide\\_trace & spec\\_average\\_dark & dark\\_signal\\_average & ⋯ & fit\\_aux\\_2 & fit\\_base\\_1 & fit\\_base\\_2 & fit\\_RMSE & CTD\\_Time & CTD\\_Salinity & CTD\\_Temp & CTD\\_Pressure & checksum & dtp\\\\\n",
       "  & <chr> & <int> & <dbl> & <dbl> & <dbl> & <dbl> & <dbl> & <int> & <int> & <int> & ⋯ & <int> & <dbl> & <dbl> & <dbl> & <lgl> & <lgl> & <lgl> & <lgl> & <int> & <dttm>\\\\\n",
       "\\hline\n",
       "\t1 & SATSLF1207 & 2019032 & 18.50984 & 2.63 & 0.0368 & 0.0321 & 0.0251 & 0 & 19785 & 734 & ⋯ & -1 & 7.5779 & -1.847449 & 0.000199 & NA & NA & NA & NA & 158 & 2019-02-01 18:30:35\\\\\n",
       "\t2 & SATSLF1207 & 2019032 & 18.51011 & 2.62 & 0.0366 & 0.0326 & 0.0243 & 0 & 19778 & 734 & ⋯ & -1 & 7.6305 & -1.856307 & 0.000220 & NA & NA & NA & NA & 113 & 2019-02-01 18:30:36\\\\\n",
       "\t3 & SATSLF1207 & 2019032 & 18.51038 & 2.73 & 0.0382 & 0.0329 & 0.0247 & 0 & 19765 & 734 & ⋯ & -1 & 7.3814 & -1.737374 & 0.000165 & NA & NA & NA & NA & 178 & 2019-02-01 18:30:37\\\\\n",
       "\t4 & SATSLF1207 & 2019032 & 18.51066 & 2.65 & 0.0371 & 0.0323 & 0.0244 & 0 & 19778 & 734 & ⋯ & -1 & 7.7641 & -1.904835 & 0.000212 & NA & NA & NA & NA & 110 & 2019-02-01 18:30:38\\\\\n",
       "\t5 & SATSLF1207 & 2019032 & 18.51093 & 2.64 & 0.0370 & 0.0324 & 0.0244 & 0 & 19775 & 734 & ⋯ & -1 & 7.8082 & -1.916989 & 0.000174 & NA & NA & NA & NA &  71 & 2019-02-01 18:30:39\\\\\n",
       "\t6 & SATSLF1207 & 2019032 & 18.51121 & 2.71 & 0.0379 & 0.0325 & 0.0244 & 0 & 19778 & 734 & ⋯ & -1 & 7.4962 & -1.785586 & 0.000217 & NA & NA & NA & NA &  59 & 2019-02-01 18:30:40\\\\\n",
       "\\end{tabular}\n"
      ],
      "text/markdown": [
       "\n",
       "A data.frame: 6 × 287\n",
       "\n",
       "| <!--/--> | suna_id &lt;chr&gt; | date &lt;int&gt; | time &lt;dbl&gt; | nitrate &lt;dbl&gt; | nitrate_mgl &lt;dbl&gt; | a254 &lt;dbl&gt; | a350 &lt;dbl&gt; | bromide_trace &lt;int&gt; | spec_average_dark &lt;int&gt; | dark_signal_average &lt;int&gt; | ⋯ ⋯ | fit_aux_2 &lt;int&gt; | fit_base_1 &lt;dbl&gt; | fit_base_2 &lt;dbl&gt; | fit_RMSE &lt;dbl&gt; | CTD_Time &lt;lgl&gt; | CTD_Salinity &lt;lgl&gt; | CTD_Temp &lt;lgl&gt; | CTD_Pressure &lt;lgl&gt; | checksum &lt;int&gt; | dtp &lt;dttm&gt; |\n",
       "|---|---|---|---|---|---|---|---|---|---|---|---|---|---|---|---|---|---|---|---|---|---|\n",
       "| 1 | SATSLF1207 | 2019032 | 18.50984 | 2.63 | 0.0368 | 0.0321 | 0.0251 | 0 | 19785 | 734 | ⋯ | -1 | 7.5779 | -1.847449 | 0.000199 | NA | NA | NA | NA | 158 | 2019-02-01 18:30:35 |\n",
       "| 2 | SATSLF1207 | 2019032 | 18.51011 | 2.62 | 0.0366 | 0.0326 | 0.0243 | 0 | 19778 | 734 | ⋯ | -1 | 7.6305 | -1.856307 | 0.000220 | NA | NA | NA | NA | 113 | 2019-02-01 18:30:36 |\n",
       "| 3 | SATSLF1207 | 2019032 | 18.51038 | 2.73 | 0.0382 | 0.0329 | 0.0247 | 0 | 19765 | 734 | ⋯ | -1 | 7.3814 | -1.737374 | 0.000165 | NA | NA | NA | NA | 178 | 2019-02-01 18:30:37 |\n",
       "| 4 | SATSLF1207 | 2019032 | 18.51066 | 2.65 | 0.0371 | 0.0323 | 0.0244 | 0 | 19778 | 734 | ⋯ | -1 | 7.7641 | -1.904835 | 0.000212 | NA | NA | NA | NA | 110 | 2019-02-01 18:30:38 |\n",
       "| 5 | SATSLF1207 | 2019032 | 18.51093 | 2.64 | 0.0370 | 0.0324 | 0.0244 | 0 | 19775 | 734 | ⋯ | -1 | 7.8082 | -1.916989 | 0.000174 | NA | NA | NA | NA |  71 | 2019-02-01 18:30:39 |\n",
       "| 6 | SATSLF1207 | 2019032 | 18.51121 | 2.71 | 0.0379 | 0.0325 | 0.0244 | 0 | 19778 | 734 | ⋯ | -1 | 7.4962 | -1.785586 | 0.000217 | NA | NA | NA | NA |  59 | 2019-02-01 18:30:40 |\n",
       "\n"
      ],
      "text/plain": [
       "  suna_id    date    time     nitrate nitrate_mgl a254   a350   bromide_trace\n",
       "1 SATSLF1207 2019032 18.50984 2.63    0.0368      0.0321 0.0251 0            \n",
       "2 SATSLF1207 2019032 18.51011 2.62    0.0366      0.0326 0.0243 0            \n",
       "3 SATSLF1207 2019032 18.51038 2.73    0.0382      0.0329 0.0247 0            \n",
       "4 SATSLF1207 2019032 18.51066 2.65    0.0371      0.0323 0.0244 0            \n",
       "5 SATSLF1207 2019032 18.51093 2.64    0.0370      0.0324 0.0244 0            \n",
       "6 SATSLF1207 2019032 18.51121 2.71    0.0379      0.0325 0.0244 0            \n",
       "  spec_average_dark dark_signal_average ⋯ fit_aux_2 fit_base_1 fit_base_2\n",
       "1 19785             734                 ⋯ -1        7.5779     -1.847449 \n",
       "2 19778             734                 ⋯ -1        7.6305     -1.856307 \n",
       "3 19765             734                 ⋯ -1        7.3814     -1.737374 \n",
       "4 19778             734                 ⋯ -1        7.7641     -1.904835 \n",
       "5 19775             734                 ⋯ -1        7.8082     -1.916989 \n",
       "6 19778             734                 ⋯ -1        7.4962     -1.785586 \n",
       "  fit_RMSE CTD_Time CTD_Salinity CTD_Temp CTD_Pressure checksum\n",
       "1 0.000199 NA       NA           NA       NA           158     \n",
       "2 0.000220 NA       NA           NA       NA           113     \n",
       "3 0.000165 NA       NA           NA       NA           178     \n",
       "4 0.000212 NA       NA           NA       NA           110     \n",
       "5 0.000174 NA       NA           NA       NA            71     \n",
       "6 0.000217 NA       NA           NA       NA            59     \n",
       "  dtp                \n",
       "1 2019-02-01 18:30:35\n",
       "2 2019-02-01 18:30:36\n",
       "3 2019-02-01 18:30:37\n",
       "4 2019-02-01 18:30:38\n",
       "5 2019-02-01 18:30:39\n",
       "6 2019-02-01 18:30:40"
      ]
     },
     "metadata": {},
     "output_type": "display_data"
    }
   ],
   "source": [
    "#head(suna[,c(260:274)])\n",
    "#length(c(\"suna_id\",\"date\",\"time\",\"nitrate\",\"nitrate_mgl\",\"a254\",\"a350\",\"bromide_trace\",\"spec_average_dark\",\"dark_signal_average\",\"int_time\",suna_cal$Wavelength,\"sensor_temp\",\"spec_temp\",\"lamp_temp\",\"lamp_time\",\"rel_hum\",\"main_volt\",\"lamp_volt\",\"int_volt\",\"main_current\",\"fit_aux_1\",\"fit_aux_2\",\"fit_base_1\",\"fit_base_2\",\"fit_RMSE\",\"CTD_Time\",\"CTD_Salinity\",\"CTD_Temp\",\"CTD_Pressure\",\"checksum\"))\n",
    "head(suna)"
   ]
  },
  {
   "cell_type": "code",
   "execution_count": 4,
   "id": "basic-fence",
   "metadata": {
    "tags": []
   },
   "outputs": [
    {
     "name": "stdout",
     "output_type": "stream",
     "text": [
      "[1] 1\n",
      "[1] \"done\"\n"
     ]
    }
   ],
   "source": [
    "options(warn=-1)\n",
    "compiled_suna<-data.frame()\n",
    "sunas_length<-length(sunas)\n",
    "for(i in 1:sunas_length){\n",
    "#i<-1\n",
    "print(i)\n",
    "suna<-read.csv(paste(sunas[i]),skip=14,header=FALSE)\n",
    "#head(suna)\n",
    "\n",
    "#suna_d0<-cSplit(suna,3, \",\")\n",
    "#names(suna)<-c(\"suna_id\",\"date\",\"time\",\"nitrate\",\"nitrate_mgl\",\"a254\",\"a350\",\"bromide_trace\",\"spec_average_dark\",\"dark_signal_average\",\"int_time\",suna_cal$Wavelength,\"sensor_temp\",\"spec_temp\",\"lamp_temp\",\"lamp_time\",\"rel_hum\",\"main_volt\",\"lamp_volt\",\"int_volt\",\"main_current\",\"fit_aux_1\",\"fit_aux_2\",\"fit_base_1\",\"fit_base_2\",\"fit_RMSE\",\"CTD_Time\",\"CTD_Salinity\",\"CTD_Temp\",\"CTD_Pressure\",\"checksum\")\n",
    "names(suna)<-c(\"suna_id\",\"date\",\"time\",\"nitrate\",\"nitrate_mgl\",\"a254\",\"a350\",\"bromide_trace\",\"spec_average_dark\",\"dark_signal_average\",\"int_time\",seq(188,395,length.out=256),\"sensor_temp\",\"spec_temp\",\"lamp_temp\",\"lamp_time\",\"rel_hum\",\"main_volt\",\"lamp_volt\",\"int_volt\",\"main_current\",\"fit_aux_1\",\"fit_aux_2\",\"fit_base_1\",\"fit_base_2\",\"fit_RMSE\",\"CTD_Time\",\"CTD_Salinity\",\"CTD_Temp\",\"CTD_Pressure\",\"checksum\")\n",
    "\n",
    "#suna<-subset(suna,a254!=0)\n",
    "\n",
    "suna<-subset(suna,a254!=0)\n",
    "\n",
    "#year<-substr(suna$date, 1, 4)\n",
    "if(grepl(\"D2016\",sunas[i])==TRUE){\n",
    "year<-\"2016\"\n",
    "doy<-gsub(\".CSV\",\"\",gsub(\"D2016\",\"\",paste(sunas[i]),fixed=TRUE),fixed=TRUE)\n",
    "}    \n",
    "    \n",
    "    \n",
    "#year<-substr(suna$date, 1, 4)\n",
    "if(grepl(\"D2019\",sunas[i])==TRUE){\n",
    "year<-\"2019\"\n",
    "doy<-gsub(\".CSV\",\"\",gsub(\"D2019\",\"\",paste(sunas[i]),fixed=TRUE),fixed=TRUE)\n",
    "}\n",
    "    \n",
    "if(grepl(\"D2020\",sunas[i])==TRUE){\n",
    "year<-\"2020\"\n",
    "doy<-gsub(\".CSV\",\"\",gsub(\"D2020\",\"\",paste(sunas[i]),fixed=TRUE),fixed=TRUE)\n",
    "}\n",
    "\n",
    "day<-as.POSIXct(paste(as.Date(as.numeric(doy)-1,origin=paste(year,\"-01-01\",sep=\"\")),\"00:00:00\"),tz=\"UTC\")\n",
    "#suna$day<-as.POSIXct(\"2019-05-10 00:00:00\",tz=\"UTC\")\n",
    "suna$dtp<-day + (3600*as.numeric(suna$time))\n",
    "#attr(suna$dtp,\"tzone\") <- \"Etc/GMT+8\"\n",
    "\n",
    "    \n",
    "\n",
    "offse<-c(t(suna_cal_t[3,]))\n",
    "suna2<-(suna[,12:267]/suna$int_time)-suna$dark_signal_average\n",
    "suna_d0_norm<-sweep(suna2,2,FUN=\"/\",offse)\n",
    "names(suna_d0_norm)<-paste(\"n_\",names(suna_cal_t),sep=\"\")\n",
    "\n",
    "    \n",
    "\n",
    "#print(\"test\")\n",
    "suna_d0_int<-data.frame()\n",
    "for(j in 1:nrow(suna_d0_norm)){\t\n",
    "#    print(j)\n",
    "\tflip<-as.data.frame(t(suna_d0_norm[j,]))\n",
    "\tnames(flip)<-c(\"abs\")\n",
    "\tflip$wl_nm<-gsub(\"n_\",\"\",row.names(flip),fixed=TRUE)\n",
    "\tflip_int<-as.data.frame(t(approx(flip$wl_nm,flip$abs,xout=seq(189,394,1),rule=2)$y))\n",
    "\tnames(flip_int)<-paste(\"interp_\",seq(189,394,1),sep=\"\")\n",
    "\tsuna_d0_int<-bind_rows(suna_d0_int,flip_int)\n",
    "}\n",
    "suna_d<-bind_cols(suna,suna_d0_int)\n",
    "#suna_d$date<-as.character(suna_d[,c(\"date\")])\n",
    "#suna_d$time<-as.character(suna_d[,c(\"time\")])\n",
    "suna_d2<-suna_d %>% mutate_if(is.numeric,as.character)\n",
    "compiled_suna<-bind_rows(compiled_suna,suna_d2)\n",
    "}\n",
    "print(\"done\")\n",
    "options(warn=0)    \n",
    "    \n",
    "    \n",
    "    \n"
   ]
  },
  {
   "cell_type": "markdown",
   "id": "nonprofit-oakland",
   "metadata": {},
   "source": [
    "# Check Data and Save"
   ]
  },
  {
   "cell_type": "code",
   "execution_count": null,
   "id": "olive-irish",
   "metadata": {},
   "outputs": [],
   "source": [
    "#i\n",
    "#grepl(\"D2020\",sunas[240])\n",
    "#sunas[240]\n",
    "#length(sunas)\n",
    "#sunas[240]\n",
    "#ncol(compiled_suna)\n",
    "#nrow(compiled_suna)\n",
    "saveRDS(compiled_suna,\"/Users/jhosen/gdrive/SUNA_Data/SUNA_NEON/KING/SUNA_KING_20210428_full.rds\")\n",
    "compiled_suna<-readRDS(\"/Users/jhosen/gdrive/SUNA_Data/corrected_files/SUNA_Cor/SUNA_KING_20210428_full.rds\")\n"
   ]
  },
  {
   "cell_type": "markdown",
   "id": "similar-planner",
   "metadata": {},
   "source": [
    "# Extracting the interpolated columns"
   ]
  },
  {
   "cell_type": "code",
   "execution_count": 5,
   "id": "grave-jenny",
   "metadata": {},
   "outputs": [],
   "source": [
    "compiled_suna$cal<-\"suna_0839\"\n",
    "\n",
    "suna_interp<-compiled_suna[,grepl(\"^inter\",names(compiled_suna))] %>% mutate_if(is.character, ~as.numeric(.))\n",
    "#head(suna_interp)\n",
    "\n",
    "other_suna<-compiled_suna[,c(\"suna_id\",\"date\",\"time\",\"nitrate\",\"nitrate_mgl\",\"a254\",\"a350\",\"bromide_trace\",\"spec_average_dark\",\"dark_signal_average\",\"int_time\",\"sensor_temp\",\"spec_temp\",\"lamp_temp\",\"lamp_time\",\"rel_hum\",\"main_volt\",\"lamp_volt\",\"int_volt\",\"main_current\",\"fit_aux_1\",\"fit_aux_2\",\"fit_base_1\",\"fit_base_2\",\"fit_RMSE\",\"CTD_Time\",\"CTD_Salinity\",\"CTD_Temp\",\"CTD_Pressure\",\"checksum\",\"cal\",\"dtp\")]\n",
    "\n",
    "suna_cols<-bind_cols(other_suna,suna_interp)\n",
    "suna_cols$a254<-as.numeric(suna_cols$a254)\n",
    "suna_cols$a350<-as.numeric(suna_cols$a350)\n",
    "suna_cols$nitrate<-as.numeric(suna_cols$nitrate)\n",
    "suna_cols$nitrate_mgl<-as.numeric(suna_cols$nitrate_mgl)\n",
    "suna_cols$sensor_temp<-as.numeric(suna_cols$sensor_temp)\n"
   ]
  },
  {
   "cell_type": "code",
   "execution_count": 8,
   "id": "burning-graphics",
   "metadata": {
    "tags": []
   },
   "outputs": [
    {
     "name": "stderr",
     "output_type": "stream",
     "text": [
      "Warning message in eval(predvars, data, env):\n",
      "“NaNs produced”\n",
      "Warning message in unique.default(c(\"AsIs\", oldClass(x))):\n",
      "“NaNs produced”\n",
      "Warning message in unique.default(c(\"AsIs\", oldClass(x))):\n",
      "“NaNs produced”\n",
      "Warning message in eval(predvars, data, env):\n",
      "“NaNs produced”\n",
      "Warning message in unique.default(c(\"AsIs\", oldClass(x))):\n",
      "“NaNs produced”\n",
      "Warning message in unique.default(c(\"AsIs\", oldClass(x))):\n",
      "“NaNs produced”\n"
     ]
    }
   ],
   "source": [
    "suna_cols<-subset(suna_cols,a254<10)\n",
    "\n",
    "\n",
    "a350_mod<-lm(a350~log10(interp_350)+I(log10(interp_350)^2)+I(log10(interp_350)^3),suna_cols)\n",
    "a254_mod<-lm(a254~log10(interp_254)+I(log10(interp_254)^2)+I(log10(interp_254)^3),suna_cols)\n",
    "\n",
    "\n",
    "\n",
    "cor_cols<-grep(\"^interp_\",names(suna_cols))\n"
   ]
  },
  {
   "cell_type": "code",
   "execution_count": 9,
   "id": "6a836fc4-7d3e-4c51-8234-9868dfd830fa",
   "metadata": {},
   "outputs": [
    {
     "data": {
      "text/plain": [
       "\n",
       "Call:\n",
       "lm(formula = a254 ~ log10(interp_254) + I(log10(interp_254)^2) + \n",
       "    I(log10(interp_254)^3), data = suna_cols)\n",
       "\n",
       "Residuals:\n",
       "    Min      1Q  Median      3Q     Max \n",
       "-3.4327 -0.0256 -0.0029  0.0125  1.9600 \n",
       "\n",
       "Coefficients:\n",
       "                         Estimate Std. Error t value Pr(>|t|)    \n",
       "(Intercept)             0.0444931  0.0001097   405.5   <2e-16 ***\n",
       "log10(interp_254)      -0.1208818  0.0003354  -360.4   <2e-16 ***\n",
       "I(log10(interp_254)^2)  0.1728899  0.0002945   587.1   <2e-16 ***\n",
       "I(log10(interp_254)^3) -0.0467313  0.0001039  -449.9   <2e-16 ***\n",
       "---\n",
       "Signif. codes:  0 ‘***’ 0.001 ‘**’ 0.01 ‘*’ 0.05 ‘.’ 0.1 ‘ ’ 1\n",
       "\n",
       "Residual standard error: 0.07063 on 567955 degrees of freedom\n",
       "  (2657 observations deleted due to missingness)\n",
       "Multiple R-squared:  0.4138,\tAdjusted R-squared:  0.4138 \n",
       "F-statistic: 1.336e+05 on 3 and 567955 DF,  p-value: < 2.2e-16\n"
      ]
     },
     "metadata": {},
     "output_type": "display_data"
    },
    {
     "data": {
      "text/plain": [
       "     Min.   1st Qu.    Median      Mean   3rd Qu.      Max. \n",
       "-3.432661 -0.025578 -0.002874  0.000000  0.012534  1.959973 "
      ]
     },
     "metadata": {},
     "output_type": "display_data"
    },
    {
     "data": {
      "text/plain": [
       "\n",
       "Call:\n",
       "lm(formula = a350 ~ log10(interp_350) + I(log10(interp_350)^2) + \n",
       "    I(log10(interp_350)^3), data = suna_cols)\n",
       "\n",
       "Residuals:\n",
       "   Min     1Q Median     3Q    Max \n",
       "-8.365 -0.019  0.000  0.013 91.891 \n",
       "\n",
       "Coefficients:\n",
       "                         Estimate Std. Error t value Pr(>|t|)    \n",
       "(Intercept)             0.0022592  0.0001990   11.35   <2e-16 ***\n",
       "log10(interp_350)      -0.0211863  0.0006229  -34.01   <2e-16 ***\n",
       "I(log10(interp_350)^2)  0.2066381  0.0006060  341.01   <2e-16 ***\n",
       "I(log10(interp_350)^3) -0.0772429  0.0002605 -296.55   <2e-16 ***\n",
       "---\n",
       "Signif. codes:  0 ‘***’ 0.001 ‘**’ 0.01 ‘*’ 0.05 ‘.’ 0.1 ‘ ’ 1\n",
       "\n",
       "Residual standard error: 0.1364 on 568053 degrees of freedom\n",
       "  (2559 observations deleted due to missingness)\n",
       "Multiple R-squared:  0.1752,\tAdjusted R-squared:  0.1752 \n",
       "F-statistic: 4.022e+04 on 3 and 568053 DF,  p-value: < 2.2e-16\n"
      ]
     },
     "metadata": {},
     "output_type": "display_data"
    },
    {
     "data": {
      "text/plain": [
       "    Min.  1st Qu.   Median     Mean  3rd Qu.     Max. \n",
       "-8.36506 -0.01936 -0.00017  0.00000  0.01348 91.89104 "
      ]
     },
     "metadata": {},
     "output_type": "display_data"
    },
    {
     "data": {
      "image/png": "[encoded data removed]",
      "text/plain": [
       "plot without title"
      ]
     },
     "metadata": {
      "image/png": {
       "height": 420,
       "width": 420
      }
     },
     "output_type": "display_data"
    }
   ],
   "source": [
    "ggplot(suna_cols,aes(interp_254,a254))+geom_point()\n",
    "\n",
    "summary(a254_mod)\n",
    "summary(resid(a254_mod))\n",
    "\n",
    "summary(a350_mod)\n",
    "summary(resid(a350_mod))"
   ]
  },
  {
   "cell_type": "code",
   "execution_count": null,
   "id": "ongoing-paragraph",
   "metadata": {
    "tags": []
   },
   "outputs": [],
   "source": [
    "\n",
    "#compiled_suna2[,c(cor_cols)]<-compiled_suna2[,c(cor_cols)] %>% mutate_if(is.character,as.numeric)\n",
    "\n",
    "for(i in 1:length(cor_cols)){\n",
    "\tprepdata<-data.frame(interp_350=suna_cols[,cor_cols[i]],interp_254=suna_cols[,cor_cols[i]])\n",
    "\ta350_pred<-predict(a350_mod,newdata=prepdata)\n",
    "\ta254_pred<-predict(a254_mod,newdata=prepdata)\n",
    "\tsuna_cols[,c(paste(names(suna_cols)[cor_cols[i]],\"_c350\",sep=\"\"))]<-a350_pred\n",
    "\tsuna_cols[,c(paste(names(suna_cols)[cor_cols[i]],\"_c254\",sep=\"\"))]<-a254_pred\n",
    "}\n",
    "\n"
   ]
  },
  {
   "cell_type": "markdown",
   "id": "engaged-apache",
   "metadata": {},
   "source": [
    "# Reducing data down to 15 minutes intervals.\n",
    "We want to average down each burst from the SUNA to a single value and mac sure that these values are snapped to 15 minutes intervals (e.g., rather than round up or down to 14 or 16)."
   ]
  },
  {
   "cell_type": "code",
   "execution_count": null,
   "id": "specialized-disco",
   "metadata": {},
   "outputs": [],
   "source": [
    "str(suna_cols$sensor_temp)"
   ]
  },
  {
   "cell_type": "code",
   "execution_count": null,
   "id": "emotional-neighborhood",
   "metadata": {},
   "outputs": [],
   "source": [
    "rm(compiled_suna)\n",
    "rm(compiled_suna_1)\n",
    "rm(compiled_suna_2)\n",
    "\n",
    "suna_cols$dtpr<-lubridate::round_date(suna_cols$dtp, \"15 minutes\")\n",
    "suna_red<-summaryBy(.~dtpr,suna_cols,FUN=c(mean))\n",
    "\n"
   ]
  },
  {
   "cell_type": "markdown",
   "id": "proved-emerald",
   "metadata": {},
   "source": [
    "# Downloading turbidity time series data from NEON.\n",
    "Data product DP1.20288.001 for general water quality sonde data."
   ]
  },
  {
   "cell_type": "code",
   "execution_count": null,
   "id": "swedish-novelty",
   "metadata": {},
   "outputs": [],
   "source": [
    "#KING_wqs<-loadByProduct(dpID=\"DP1.20288.001\",site=\"KING\",check.size=F)\n",
    "#saveRDS(KING_wqs,paste(data,\"/KING_wqs.rds\",sep=\"\"))\n",
    "KING_wqs<-readRDS(paste(data,\"/KING_wqs.rds\",sep=\"\"))\n"
   ]
  },
  {
   "cell_type": "code",
   "execution_count": null,
   "id": "settled-solid",
   "metadata": {},
   "outputs": [],
   "source": [
    "KING_wqsd<-KING_wqs$waq_instantaneous\n",
    "KING_wqsd$dtp<-KING_wqsd$startDateTime\n",
    "KING_wqk<-subset(KING_wqsd[,c(\"siteID\",\"dtp\",\"specificConductance\",\"dissolvedOxygen\",\"pH\",\"chlorophyll\",\"turbidity\",\"fDOM\")],!is.na(KING_wqsd$specificConductance))\n",
    "#str(KING_wqk)\n",
    "\n",
    "KING_wqk$dtpr<-lubridate::round_date(KING_wqk$dtp, \"15 minutes\")\n",
    "KING_wq_red<-summaryBy(.~dtpr,KING_wqk,FUN=c(mean))\n",
    "str(KING_wq_red)"
   ]
  },
  {
   "cell_type": "code",
   "execution_count": null,
   "id": "developed-imagination",
   "metadata": {
    "tags": []
   },
   "outputs": [],
   "source": [
    "KING_sw<-merge(suna_red,KING_wq_red,by=\"dtpr\",all.x=TRUE)\n"
   ]
  },
  {
   "cell_type": "markdown",
   "id": "basic-hughes",
   "metadata": {},
   "source": [
    "# import and merge NEON water quality grab sample data."
   ]
  },
  {
   "cell_type": "markdown",
   "id": "roman-insurance",
   "metadata": {},
   "source": [
    "### Downloading grab sample data and saving as rds file in data folder."
   ]
  },
  {
   "cell_type": "code",
   "execution_count": null,
   "id": "higher-replication",
   "metadata": {
    "tags": []
   },
   "outputs": [],
   "source": [
    "\n",
    "\n",
    "library(zoo)\n",
    "#KING_wqg<-loadByProduct(dpID=\"DP1.20093.001\",site=\"KING\",check.size=F)\n",
    "#saveRDS(KING_wqg,paste(data,\"/KING_wqg.rds\",sep=\"\"))\n",
    "KING_wqg<-readRDS(paste(data,\"/KING_wqg.rds\",sep=\"\"))\n",
    "\n"
   ]
  },
  {
   "cell_type": "markdown",
   "id": "charming-residence",
   "metadata": {},
   "source": [
    "### extracting lab analysis data"
   ]
  },
  {
   "cell_type": "code",
   "execution_count": null,
   "id": "steady-modification",
   "metadata": {},
   "outputs": [],
   "source": [
    "KING_wqg_d<-as.data.frame(KING_wqg$swc_externalLabDataByAnalyte)\n",
    "\n",
    "names(KING_wqg_d)\n",
    "\n",
    "uv_abs<-subset(KING_wqg_d,analyte==\"UV Absorbance (250 nm)\"|analyte==\"UV Absorbance (280 nm)\")\n",
    "date_cast<-dcast(uv_abs[,c(\"analyte\",\"collectDate\",\"analyteConcentration\")],collectDate~analyte,value.var=\"analyteConcentration\",mean)\n",
    "date_cast$dtpr<-lubridate::round_date(date_cast$collectDate, \"15 minutes\")\n",
    "\n",
    "names(date_cast)"
   ]
  },
  {
   "cell_type": "code",
   "execution_count": null,
   "id": "outdoor-sweet",
   "metadata": {},
   "outputs": [],
   "source": [
    "\n",
    "suna_grab<-merge(KING_sw,date_cast,by=\"dtpr\")\n",
    "\n",
    "#temp_nitrate_zoo<-zoo(nitrate$nitrate_umL,nitrate$dtp)\n",
    "#temp_n<-na.approx(temp_nitrate_zoo,xout=suna_red$dtp,na.rm=FALSE)\n",
    "#suna_grab[,c(\"UV Absorbance (250 nm)\")]\n",
    "names(suna_grab)<-gsub(\"UV Absorbance (250 nm)\",\"uva_250_lab\",names(suna_grab),fixed=TRUE)\n",
    "names(suna_grab)<-gsub(\"UV Absorbance (280 nm)\",\"uva_280_lab\",names(suna_grab),fixed=TRUE)\n",
    "\n"
   ]
  },
  {
   "cell_type": "markdown",
   "id": "accepted-dance",
   "metadata": {},
   "source": [
    "# Exploring turbidity corrections"
   ]
  },
  {
   "cell_type": "code",
   "execution_count": null,
   "id": "western-climate",
   "metadata": {
    "tags": []
   },
   "outputs": [],
   "source": [
    "#names(suna_grab)\n",
    "suna_grab<-subset(suna_grab,!is.na(uva_250_lab)&!is.na(uva_280_lab)&uva_250_lab<2)\n",
    "suna_grab$turbidity.mean[suna_grab$turbidity.mean<=0]<-1\n",
    "suna_grab[,c(\"dtpr\",\"a254.mean\",\"uva_250_lab\",\"uva_280_lab\",\"interp_250_c254.mean\",\"turbidity.mean\")]\n",
    "\n",
    "suna_grab$interp_250_log<-log10(suna_grab$interp_250_c254.mean)\n",
    "suna_grab$turb_log<-log10(suna_grab$turbidity.mean)\n",
    "nrow(suna_grab)\n",
    "suna_grab$uva_250_lab\n",
    "#suna_grab$interp_250_tcorr<-predict(lm(uva_250_lab~interp_250_c254.mean*turbidity.mean,suna_grab))\n",
    "#suna_grab$interp_250_tcorr_log<-predict(lm(uva_250_lab~interp_250_log*turbidity.mean,suna_grab))\n",
    "#suna_grab$interp_250_tcorr_log_turb<-predict(lm(uva_250_lab~interp_250_log*turb_log,suna_grab))\n"
   ]
  },
  {
   "cell_type": "code",
   "execution_count": null,
   "id": "adaptive-decrease",
   "metadata": {},
   "outputs": [],
   "source": [
    "suna_grab$interp_250_log<-log10(suna_grab$interp_250_c254.mean)\n",
    "suna_grab$turb_log<-log10(suna_grab$turbidity.mean)\n",
    "\n",
    "\n",
    "summary(lm(uva_250_lab~interp_250_log*turb_log,suna_grab))\n",
    "summary(lm(uva_250_lab~interp_250_c254.mean*turb_log,suna_grab))\n",
    "\n",
    "suna_grab$interp_250_tcorr<-predict(lm(uva_250_lab~interp_250_c254.mean*turbidity.mean,suna_grab))\n",
    "suna_grab$interp_250_tcorr_log<-predict(lm(uva_250_lab~interp_250_log*turbidity.mean,suna_grab))\n",
    "suna_grab$interp_250_tcorr_log_turb<-predict(lm(uva_250_lab~interp_250_log*turb_log,suna_grab))\n",
    "\n",
    "\n",
    "ggplot(suna_grab,aes(uva_250_lab,interp_250_c254.mean,color=pH.mean))+\n",
    "theme_ts_space+\n",
    "xlab(\"\\nUV Absorbance at 250 nm (Laboratory)\")+\n",
    "ylab(\"UV Absorbance at 250 nm (SUNA Uncorrected)\\n\")+\n",
    "geom_point(size=6)\n",
    "\n",
    "ggsave(\"~/neon_suna/plots/KING_250_uncorrected.pdf\",width = 20, height = 20, units = \"cm\")\n",
    "\n",
    "\n",
    "\n",
    "ggplot(suna_grab,aes(uva_250_lab,interp_250_tcorr_log,color=pH.mean))+\n",
    "theme_ts_space+\n",
    "geom_smooth(method=\"lm\",color=\"grey20\")+\n",
    "xlab(\"\\nUV Absorbance at 250 nm (Laboratory)\")+\n",
    "ylab(\"UV Absorbance at 250 nm (SUNA Corrected)\\n\")+\n",
    "geom_point(size=6)+\n",
    "ggtitle(\"Turbidity Corrected\")\n",
    "\n",
    "ggsave(\"~/neon_suna/plots/KING_250_corrected.pdf\",width = 20, height = 20, units = \"cm\")\n",
    "\n",
    "\n",
    "\n",
    "\n",
    "#summary(lm(uva_250_lab~interp_250_c254.mean*turbidity.mean+sensor_temp.mean,suna_grab))\n",
    "#summary(lm(uva_280_lab~interp_280_c350.mean*turbidity.mean+sensor_temp.mean,suna_grab))\n",
    "#summary(lm(uva_280_lab~interp_280_c254.mean*turbidity.mean+sensor_temp.mean,suna_grab))"
   ]
  },
  {
   "cell_type": "code",
   "execution_count": null,
   "id": "casual-lawrence",
   "metadata": {
    "tags": []
   },
   "outputs": [],
   "source": [
    "names(KING_sw)"
   ]
  },
  {
   "cell_type": "markdown",
   "id": "positive-probe",
   "metadata": {},
   "source": [
    "# Apply turbidity correction based on lab samples."
   ]
  },
  {
   "cell_type": "code",
   "execution_count": null,
   "id": "exempt-circulation",
   "metadata": {
    "tags": []
   },
   "outputs": [],
   "source": [
    "cor_cols<-grep(\"^interp_\",names(KING_sw))\n",
    "\n",
    "uva_250_turb_lm<-lm(uva_250_lab~interp_250_log*turbidity.mean,suna_grab)\n",
    "\n",
    "for(i in 1:length(cor_cols)){\n",
    "\tprepdata<-data.frame(interp_250_log=log10(KING_sw[,cor_cols[i]]),turbidity.mean=KING_sw$turbidity.mean)\n",
    "\tturb_cor_pred<-predict(uva_250_turb_lm,newdata=prepdata)\n",
    "\tKING_sw[,c(paste(names(KING_sw)[cor_cols[i]],\"_turb\",sep=\"\"))]<-turb_cor_pred\n",
    "}\n",
    "\n"
   ]
  },
  {
   "cell_type": "code",
   "execution_count": null,
   "id": "processed-liquid",
   "metadata": {},
   "outputs": [],
   "source": [
    "head(KING_sw)"
   ]
  },
  {
   "cell_type": "code",
   "execution_count": null,
   "id": "essential-alexander",
   "metadata": {},
   "outputs": [],
   "source": [
    "KING_swt_0<-KING_sw[,grep(\"*_turb$\",names(KING_sw))]\n",
    "KING_swt<-bind_cols(KING_sw[,c(\"dtpr\",\"nitrate.mean\",\"nitrate_mgl.mean\",\"a254.mean\",\"a350.mean\",\"sensor_temp.mean\",\"specificConductance.mean\",\"dissolvedOxygen.mean\",\"pH.mean\",\"chlorophyll.mean\",\"turbidity.mean\",\"fDOM.mean\")],KING_swt_0)\n",
    "\n",
    "\n",
    "\n"
   ]
  },
  {
   "cell_type": "markdown",
   "id": "light-collector",
   "metadata": {},
   "source": [
    "# Adding PAR data."
   ]
  },
  {
   "cell_type": "code",
   "execution_count": null,
   "id": "controlled-monthly",
   "metadata": {},
   "outputs": [],
   "source": [
    "KING_par<-loadByProduct(dpID=\"DP1.20042.001\",site=\"KING\",check.size=F)\n",
    "saveRDS(KING_par,paste(getwd(),\"/KING_par.rds\",sep=\"\"))\n",
    "KING_par<-readRDS(paste(getwd(),\"/KING_par.rds\",sep=\"\"))\n",
    "\n",
    "\n"
   ]
  },
  {
   "cell_type": "code",
   "execution_count": null,
   "id": "southern-violation",
   "metadata": {
    "tags": []
   },
   "outputs": [],
   "source": [
    "#lubridate::round_date(KING_parts$dtp, \"15 minutes\")\n"
   ]
  },
  {
   "cell_type": "code",
   "execution_count": null,
   "id": "fifth-stopping",
   "metadata": {},
   "outputs": [],
   "source": [
    "\n",
    "KING_parts<-KING_par$PARWS_5min\n",
    "KING_parts$dtp<-KING_parts$startDateTime\n",
    "#str(KING_wqk)\n",
    "\n",
    "\n",
    "\n",
    "KING_parts$dtpr<-lubridate::round_date(KING_parts$dtp, \"15 minutes\")\n",
    "KING_parts_red<-summaryBy(PARMean~dtpr,KING_parts,FUN=c(mean))\n",
    "head(KING_parts_red)\n",
    "#str(KING_wq_red)\n",
    "\n",
    "KING_swtpar<-merge(KING_swt,KING_parts_red,by=\"dtpr\",all.x=TRUE)\n"
   ]
  },
  {
   "cell_type": "code",
   "execution_count": null,
   "id": "super-darkness",
   "metadata": {},
   "outputs": [],
   "source": [
    "\n",
    "str(KING_swtpar$dtpr)\n",
    "\n",
    "attr(KING_swtpar$dtpr,\"tzone\") <- \"Etc/GMT+5\"\n",
    "\n",
    "str(KING_swtpar$dtpr)\n",
    "KING_swtpar$date<-as.Date(KING_swtpar$dtpr,tz=\"Etc/GMT+5\")\n",
    "\n",
    "KING_dates<-unique(KING_swtpar$date)\n",
    "\n",
    "for(i in 1:length(KING_dates)){\n",
    "    \n",
    "    \n",
    "}"
   ]
  },
  {
   "cell_type": "code",
   "execution_count": null,
   "id": "governmental-malpractice",
   "metadata": {},
   "outputs": [],
   "source": [
    "\n",
    "#KINGd<-subset(KING_swtpar,date==as.Date(\"2019-06-10\"))\n",
    "KINGd<-KING_swtpar\n",
    "\n",
    "KINGdk<-KINGd[,grep(\"*c254.mean_turb$\",names(KINGd))]\n",
    "KINGdk$dtpr<-KINGd$dtpr\n",
    "\n",
    "KINGdm<-subset(melt(KINGdk,id.vars=c(\"dtpr\")),!is.na(value))\n",
    "KINGdm$wavelength<-gsub(\"interp_\",\"\",KINGdm$variable,fixed=TRUE)\n",
    "KINGdm$wavelength<-as.numeric(gsub(\"_c254.mean_turb\",\"\",KINGdm$wavelength,fixed=TRUE))\n",
    "\n",
    "\n",
    "\n",
    "str(KINGdm)"
   ]
  },
  {
   "cell_type": "markdown",
   "id": "divided-amber",
   "metadata": {},
   "source": [
    "# Trying some ridge plots to look at wavelength changes over time.\n",
    "So far not looking super great."
   ]
  },
  {
   "cell_type": "code",
   "execution_count": null,
   "id": "sapphire-singer",
   "metadata": {},
   "outputs": [],
   "source": [
    "#library(ggridges)\n",
    "#scales::rescale(height)\n",
    "#KINGdm$dtprn<-scales::rescale(as.numeric(KINGdm$dtpr))\n",
    "#KINGdm$abs<-scales::rescale(as.numeric(KINGdm$value))\n",
    "\n",
    "\n",
    "#ggplot(subset(KINGdm,wavelength>=275&wavelength<=295),aes(x = wavelength, y = dtprn, group=dtprn,height = abs)) +\n",
    "#  geom_ridgeline(fill=\"grey80\",alpha=0.6)\n",
    "\n",
    "#ggsave(\"~/neon_suna/plots/KINGdm_ridge.pdf\",width = 20, height = 40, units = \"cm\")\n"
   ]
  },
  {
   "cell_type": "markdown",
   "id": "proper-heritage",
   "metadata": {},
   "source": [
    "# Calculating spectral slope 275-295nm on each time step."
   ]
  },
  {
   "cell_type": "code",
   "execution_count": null,
   "id": "headed-ability",
   "metadata": {},
   "outputs": [],
   "source": [
    "names(KINGd)\n",
    "names(KINGdm)"
   ]
  },
  {
   "cell_type": "code",
   "execution_count": null,
   "id": "identified-trail",
   "metadata": {},
   "outputs": [],
   "source": [
    "ssm_275_295<-subset(KINGdm,wavelength>=275&wavelength<=295)\n",
    "dtps<-unique(ssm_275_295$dtpr)\n",
    "pb <- progress_bar$new(\n",
    "\tformat = \"  downloading [:bar] :percent eta: :eta\",\n",
    "\ttotal = length(dtps), clear = FALSE, width= 60)\n",
    "s275295_comp<-data.frame()\n",
    "\n",
    "\n",
    "for(i in 1:length(dtps)){\n",
    "\tssm_now<-subset(ssm_275_295,dtpr==dtps[i])\n",
    "\t\n",
    "\tssm_now$am1<-ssm_now$value*100*2.3025851\n",
    "\tssm_now$lnam1<-log(ssm_now$am1)\n",
    "\n",
    "\n",
    "\tif(sum(!is.na(ssm_now$lnam1))>2){\n",
    "\t\ts275295<-lm(ssm_now$lnam1~ssm_now$wavelength)$coefficients[2]*-1\n",
    "\t\t}else{s275295<-NA}\n",
    "\t\ts275295_temp<-data.frame(dtpr=dtps[i],s275295=s275295)\n",
    "\t\ts275295_comp<-bind_rows(s275295_comp,s275295_temp)\n",
    "#\t\tpb$tick()\n",
    "}\t\n",
    "\t\n"
   ]
  },
  {
   "cell_type": "code",
   "execution_count": null,
   "id": "alive-yesterday",
   "metadata": {},
   "outputs": [],
   "source": [
    "nrow(s275295_comp)\n",
    "nrow(KING_swtpar)\n",
    "KING_swtp_ss<-merge(KING_swtpar,s275295_comp,by=\"dtpr\",all.x=TRUE)\n",
    "saveRDS(KING_swtp_ss,paste(data,\"KING_swtp_ss.rds\",sep=\"\"))"
   ]
  },
  {
   "cell_type": "markdown",
   "id": "critical-jaguar",
   "metadata": {},
   "source": [
    "# Extracting spectral daily slope ratio discrepancy."
   ]
  },
  {
   "cell_type": "code",
   "execution_count": null,
   "id": "steady-mailman",
   "metadata": {
    "tags": []
   },
   "outputs": [],
   "source": [
    "sdates<-unique(as.Date(KING_swtp_ss$dtpr,tz=\"Etc/GMT+5\"))\n",
    "\n",
    "#i<-30\n",
    "comp_df<-data.frame()\n",
    "for(i in 1:length(sdates)){\n",
    "#print(i)\n",
    "start<-as.POSIXct(paste(sdates[i]-1,\"22:00\",tz=\"Etc/GMT+5\"))\n",
    "finish<-as.POSIXct(paste(sdates[i]+1,\"03:00\",tz=\"Etc/GMT+5\"))\n",
    "KINGday<-subset(KING_swtp_ss,dtpr>=start & dtpr<=finish)\n",
    "KINGday<-subset(KINGday,!is.na(PARMean.mean) & !is.na(s275295))\n",
    "\n",
    "if(nrow(KINGday)>80){\n",
    "    KINGday$PAR_roll<-as.numeric(c(\"NA\",rollmean(KINGday$PARMean.mean,k=3,align=c(\"center\"),na.fill=TRUE),\"NA\"))\n",
    "    KINGday$s275295_roll<-as.numeric(c(\"NA\",rollmean(KINGday$s275295,k=3,align=c(\"center\"),na.fill=TRUE),\"NA\"))\n",
    "\n",
    "\n",
    "\n",
    "    KING_night<-subset(KINGday,PARMean.mean<200)\n",
    "    night_s275295<-mean(KING_night$s275295,na.rm=TRUE)\n",
    "    \n",
    "    #KINGday$baseline<-predict(lm(s275295~dtpr,KING_night),KINGday)\n",
    "    KINGday$baseline_roll<-predict(lm(s275295_roll~dtpr,KING_night),KINGday)    \n",
    "    KINGday$s275295_bs<-KINGday$s275295_roll-KINGday$baseline_roll    \n",
    "    \n",
    "    KING_night_am<-subset(KING_night,hour(dtpr)<=12)\n",
    "    night_s275295_am<-mean(KING_night_am$s275295,na.rm=TRUE)\n",
    "    \n",
    "    KING_night_pm<-subset(KING_night,hour(dtpr)>12)\n",
    "    night_s275295_pm<-mean(KING_night_pm$s275295,na.rm=TRUE)\n",
    "    \n",
    "    KING_day<-subset(KINGday,PARMean.mean>=10)\n",
    "    day_s275295<-mean(KING_day$s275295,na.rm=TRUE)\n",
    "\n",
    "    day_s275295_base_sum<-sum(KING_day$s275295_bs,na.rm=TRUE)\n",
    "    day_PAR_roll_base_sum<-sum(KING_day$PAR_roll,na.rm=TRUE)    \n",
    "\n",
    "    int<-lm(s275295_bs~PAR_roll,KING_day)$coef[1]\n",
    "    slope<-lm(s275295_bs~PAR_roll,KING_day)$coef[2]    \n",
    "    \n",
    "    KING_n_am_time<-nrow(KING_night_am)\n",
    "    KING_n_pm_time<-nrow(KING_night_pm)\n",
    "    KING_d_time<-nrow(KING_day)\n",
    "    \n",
    "    temp_df<-data.frame(site=\"KING\",date=sdates[i],night_s275295=night_s275295,night_s275295_am=night_s275295_am,night_s275295_pm=night_s275295_pm,day_s275295=day_s275295,day_s275295_base_sum=day_s275295_base_sum,day_PAR_roll_base_sum=day_PAR_roll_base_sum,int=int,slope=slope,KING_n_am_time=KING_n_am_time,KING_n_pm_time=KING_n_pm_time,KING_d_time=KING_d_time)\n",
    "    comp_df<-bind_rows(comp_df,temp_df)\n",
    "    }\n",
    "}\n",
    "\n",
    "\n"
   ]
  },
  {
   "cell_type": "code",
   "execution_count": null,
   "id": "dried-uncle",
   "metadata": {},
   "outputs": [],
   "source": [
    "    KING_day$s275295_bs\n",
    "ggplot(comp_df,aes(date,day_s275295_base_sum))+\n",
    "       geom_point(size=2)\n",
    "ggplot(comp_df,aes(date,day_PAR_roll_base_sum))+\n",
    "       geom_point(size=2)\n",
    "\n",
    "\n",
    "ggplot(comp_df,aes(day_PAR_roll_base_sum,day_s275295_base_sum))+\n",
    "geom_point()\n",
    "\n",
    "\n",
    "saveRDS(comp_df,paste(data,\"comp_df_KING.rds\",sep=\"\"))"
   ]
  },
  {
   "cell_type": "code",
   "execution_count": null,
   "id": "unknown-circumstances",
   "metadata": {},
   "outputs": [],
   "source": [
    "KINGday<-subset(KING_swtp_ss,as.Date(dtpr,tz=\"Etc/GMT+5\")==as.Date(\"2019-06-11\",tz=\"Etc/GMT+5\"))\n",
    "nrow(KINGday)\n",
    "\n",
    "str(KINGday$s275295)\n",
    "\n",
    "\n",
    "\n",
    "ggplot(KINGday,aes(dtpr,s275295))+\n",
    "geom_point()\n",
    "\n",
    "\n",
    "ggplot(KINGday,aes(dtpr,PARMean.mean))+\n",
    "geom_point()\n",
    "\n"
   ]
  }
 ],
 "metadata": {
  "kernelspec": {
   "display_name": "R",
   "language": "R",
   "name": "ir"
  },
  "language_info": {
   "codemirror_mode": "r",
   "file_extension": ".r",
   "mimetype": "text/x-r-source",
   "name": "R",
   "pygments_lexer": "r",
   "version": "4.1.2"
  }
 },
 "nbformat": 4,
 "nbformat_minor": 5
}
