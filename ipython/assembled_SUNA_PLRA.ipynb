{
 "cells": [
  {
   "cell_type": "markdown",
   "id": "necessary-christianity",
   "metadata": {},
   "source": [
    "# Identify working and data directory and site ID.\n",
    "* The working directory is the root directory of the github.\n",
    "* The data directory points to the google drive folder where the larger data files are stored.\n",
    "* For the moment the site ID if the four-digit NEON site ID."
   ]
  },
  {
   "cell_type": "code",
   "execution_count": 1,
   "id": "floppy-terrorist",
   "metadata": {},
   "outputs": [],
   "source": [
    "working<-\"~/neon_suna\"\n",
    "\n",
    "working_data<-\"/Users/jhosen/gdrive/SUNA_Data/\"\n",
    "save<-paste(working_data,\"/corrected_files/\",sep=\"\")\n",
    "\n",
    "site_id<-\"PLRA\"\n",
    "#data<-paste(\"~/gdrive/SUNA_Data/SUNA_NEON/\",site_id,\"/2019\",sep=\"\")\n",
    "data<-\"/Users/jhosen/gdrive/SUNA_Data/SUNA_NEON/PLRA_2019\""
   ]
  },
  {
   "cell_type": "markdown",
   "id": "medieval-miami",
   "metadata": {},
   "source": [
    "# Initialize required libraries, functions and formatting utilities."
   ]
  },
  {
   "cell_type": "code",
   "execution_count": 2,
   "id": "cardiovascular-woman",
   "metadata": {},
   "outputs": [
    {
     "name": "stderr",
     "output_type": "stream",
     "text": [
      "\n",
      "Attaching package: ‘dplyr’\n",
      "\n",
      "\n",
      "The following objects are masked from ‘package:stats’:\n",
      "\n",
      "    filter, lag\n",
      "\n",
      "\n",
      "The following objects are masked from ‘package:base’:\n",
      "\n",
      "    intersect, setdiff, setequal, union\n",
      "\n",
      "\n",
      "USGS Active Research Package:\n",
      "https://owi.usgs.gov/R/packages.html#research\n",
      "\n",
      "This package was developed for research purposes. We used it for our\n",
      "own applications and welcome flexible, resilient users who can help us\n",
      "test and improve the package. Please give us feedback at\n",
      "https://github.com/USGS-R/streamMetabolizer/issues/new.\n",
      "\n",
      "\n",
      "Attaching package: ‘lubridate’\n",
      "\n",
      "\n",
      "The following objects are masked from ‘package:base’:\n",
      "\n",
      "    date, intersect, setdiff, union\n",
      "\n",
      "\n",
      "\n",
      "Attaching package: ‘doBy’\n",
      "\n",
      "\n",
      "The following object is masked from ‘package:dplyr’:\n",
      "\n",
      "    order_by\n",
      "\n",
      "\n"
     ]
    }
   ],
   "source": [
    "library(dplyr)\n",
    "library(streamMetabolizer)\n",
    "library(splitstackshape)\n",
    "library(ggplot2)\n",
    "library(lubridate)\n",
    "library(reshape2)\n",
    "library(neonUtilities)\n",
    "library(progress)\n",
    "library(patchwork)\n",
    "library(doBy)\n",
    "library(stringr)\n",
    "#library(box)\n",
    "\n",
    "theme_ts_space<-theme_grey() +\n",
    "\t\ttheme(\n",
    "#\t\tpanel.grid.major = element_blank(),\n",
    "#\t\tpanel.grid.minor = element_blank(),\n",
    "\t\tpanel.background = element_rect(fill=\"white\", colour=\"black\", size=2),\n",
    "#\t\tlegend.key       = element_blank(),\n",
    "#\t\tlegend.text      = element_text(size=20.5),\n",
    "#\t\tlegend.text      = element_blank(),\n",
    "#\t\tlegend.title     = element_text(size=20.5),\n",
    "\t\taxis.text.x = element_text(size=22,colour=\"black\",hjust=1,angle=45),\n",
    "\t\taxis.text.y = element_text(size=22,colour=\"black\",vjust=.3),\n",
    "\t\taxis.title.x = element_text(size=22),\n",
    "\t\taxis.title.y = element_text(size=22,vjust=-1),\n",
    "#\t\tplot.title = element_text(hjust = 0.5,size=22,face=\"bold\"),\t\t\n",
    "#\t\tlegend.position  = \"left\",\n",
    "\t\tlegend.position  = \"none\",\n",
    "\t\tplot.margin = unit(c(1,1,1,1), \"cm\"),\n",
    "\t\tpanel.border = element_rect(colour = \"black\", fill=NA, size=2)\n",
    "\t\t)\n",
    "\n",
    "\n",
    "\n"
   ]
  },
  {
   "cell_type": "markdown",
   "id": "oriented-arbitration",
   "metadata": {},
   "source": [
    "# Setting up the workspace\n",
    "In the cell below indicate the site that will be analyzed here according to its NEON 4-letter code. A list of files for that site is then placed in the vector \"sunas\".\n",
    "\n",
    "If you downloaded the repo into your home director, which is found by going to \"~/\", then you don\"t have to change the box path. FYI: Box is a new package for R that allows you to define a set of functions without creating a new package."
   ]
  },
  {
   "cell_type": "code",
   "execution_count": 3,
   "id": "rotary-treaty",
   "metadata": {},
   "outputs": [],
   "source": [
    "\n",
    "#setwd(paste(\"~/gdrive/SUNA_data/SUNA_NEON/\",site_id,sep=\"\"))\n",
    "#sunas<-list.files(pattern=\"*.csv\")\n",
    "#getwd()\n",
    "#options(box.path = \"~/neon_suna/box/\")\n",
    "#box::use(plots)\n",
    "\n",
    "setwd(data)\n",
    "sunas<-list.files(pattern=\"*.CSV\")\n",
    "\n",
    "#suna_cal<-readRDS(\"/Users/jhosen/gdrive/fdom/SUNA Calibration pdfs/suna_cal_comb.rds\")\n",
    "suna_cal<-read.csv(\"/Users/jhosen/gdrive/SUNA_Data/SUNA Calibration pdfs/suna_0839_20200312.csv\")\n",
    "suna_cal_t<-as.data.frame(t(suna_cal))\n",
    "names(suna_cal_t)<-suna_cal_t[1,]"
   ]
  },
  {
   "cell_type": "code",
   "execution_count": null,
   "id": "spectacular-bicycle",
   "metadata": {},
   "outputs": [],
   "source": []
  },
  {
   "cell_type": "markdown",
   "id": "effective-catalyst",
   "metadata": {},
   "source": [
    "# Data import and processing loop.\n",
    "This step loads each data file, formats the data for use, and concatenates files from an individual site.\n",
    "\n",
    "This step could take a while."
   ]
  },
  {
   "cell_type": "code",
   "execution_count": 9,
   "id": "cross-tension",
   "metadata": {},
   "outputs": [
    {
     "data": {
      "text/html": [
       "'SNA1177H'"
      ],
      "text/latex": [
       "'SNA1177H'"
      ],
      "text/markdown": [
       "'SNA1177H'"
      ],
      "text/plain": [
       "[1] \"SNA1177H\""
      ]
     },
     "metadata": {},
     "output_type": "display_data"
    }
   ],
   "source": [
    "cal"
   ]
  },
  {
   "cell_type": "code",
   "execution_count": 11,
   "id": "greater-active",
   "metadata": {
    "tags": []
   },
   "outputs": [
    {
     "name": "stdout",
     "output_type": "stream",
     "text": [
      "[1] 1\n",
      "[1] 2\n",
      "[1] 3\n",
      "[1] 4\n",
      "[1] 5\n",
      "[1] 6\n",
      "[1] 7\n",
      "[1] 8\n",
      "[1] 9\n",
      "[1] 10\n",
      "[1] 11\n",
      "[1] 12\n",
      "[1] 13\n",
      "[1] 14\n",
      "[1] 15\n",
      "[1] 16\n",
      "[1] 17\n",
      "[1] 18\n",
      "[1] 19\n",
      "[1] 20\n",
      "[1] 21\n",
      "[1] 22\n",
      "[1] 23\n",
      "[1] 24\n",
      "[1] 25\n",
      "[1] 26\n",
      "[1] 27\n",
      "[1] 28\n",
      "[1] 29\n",
      "[1] 30\n",
      "[1] 31\n",
      "[1] 32\n",
      "[1] 33\n",
      "[1] 34\n",
      "[1] 35\n",
      "[1] 36\n",
      "[1] 37\n",
      "[1] 38\n",
      "[1] 39\n",
      "[1] 40\n",
      "[1] 41\n",
      "[1] 42\n",
      "[1] 43\n",
      "[1] 44\n",
      "[1] 45\n",
      "[1] 46\n",
      "[1] 47\n",
      "[1] 48\n",
      "[1] 49\n",
      "[1] 50\n",
      "[1] 51\n",
      "[1] 52\n",
      "[1] 53\n",
      "[1] 54\n",
      "[1] 55\n",
      "[1] 56\n",
      "[1] 57\n",
      "[1] 58\n",
      "[1] 59\n",
      "[1] 60\n",
      "[1] 61\n",
      "[1] 62\n",
      "[1] 63\n",
      "[1] 64\n",
      "[1] 65\n",
      "[1] 66\n",
      "[1] 67\n",
      "[1] 68\n",
      "[1] 69\n",
      "[1] 70\n",
      "[1] 71\n",
      "[1] 72\n",
      "[1] 73\n",
      "[1] 74\n",
      "[1] 75\n",
      "[1] 76\n",
      "[1] 77\n",
      "[1] 78\n",
      "[1] 79\n",
      "[1] 80\n",
      "[1] 81\n",
      "[1] 82\n",
      "[1] 83\n",
      "[1] 84\n",
      "[1] 85\n",
      "[1] 86\n",
      "[1] 87\n",
      "[1] 88\n",
      "[1] 89\n",
      "[1] 90\n",
      "[1] 91\n",
      "[1] 92\n",
      "[1] 93\n",
      "[1] 94\n",
      "[1] 95\n",
      "[1] 96\n",
      "[1] 97\n",
      "[1] 98\n",
      "[1] 99\n",
      "[1] 100\n",
      "[1] 101\n",
      "[1] 102\n",
      "[1] 103\n",
      "[1] 104\n",
      "[1] 105\n",
      "[1] 106\n",
      "[1] 107\n",
      "[1] 108\n",
      "[1] 109\n",
      "[1] 110\n",
      "[1] 111\n",
      "[1] 112\n",
      "[1] 113\n",
      "[1] 114\n",
      "[1] 115\n",
      "[1] 116\n",
      "[1] 117\n",
      "[1] 118\n",
      "[1] 119\n",
      "[1] 120\n",
      "[1] 121\n",
      "[1] 122\n",
      "[1] 123\n",
      "[1] 124\n",
      "[1] 125\n",
      "[1] 126\n",
      "[1] 127\n",
      "[1] 128\n",
      "[1] 129\n",
      "[1] 130\n",
      "[1] 131\n",
      "[1] 132\n",
      "[1] 133\n",
      "[1] 134\n",
      "[1] 135\n",
      "[1] 136\n",
      "[1] 137\n",
      "[1] 138\n",
      "[1] 139\n",
      "[1] 140\n",
      "[1] 141\n",
      "[1] 142\n",
      "[1] 143\n",
      "[1] 144\n",
      "[1] 145\n",
      "[1] 146\n",
      "[1] 147\n",
      "[1] 148\n",
      "[1] 149\n",
      "[1] 150\n",
      "[1] 151\n",
      "[1] \"done\"\n"
     ]
    }
   ],
   "source": [
    "options(warn=-1)\n",
    "compiled_suna<-data.frame()\n",
    "sunas_length<-length(sunas)\n",
    "for(i in 1:sunas_length){\n",
    "#i<-1\n",
    "print(i)\n",
    "\n",
    "\n",
    "suna_calid<-read.csv(paste(sunas[i]),skip=0,header=FALSE)\n",
    "cal<-str_extract(suna_calid,\"[SNA]{3}[0-9]{4}[a-zA-Z]{1}\")\n",
    "cal<-cal[!is.na(cal)]\n",
    "    \n",
    "    \n",
    "suna<-read.csv(paste(sunas[i]),skip=30,header=FALSE)\n",
    "\n",
    "if(cal!=\"SNA1177F\" & cal!=\"SNA1177G\" & cal!=\"SNA1177H\"){suna_cal<-read.csv(paste(\"/Users/jhosen/gdrive/SUNA_Data/SUNA_NEON/PLRA_2019/cal_files/\",cal,\"_abbr.csv\",sep=\"\"))}else{\n",
    "    suna_cal<-read.csv(\"/Users/jhosen/gdrive/SUNA_Data/SUNA_NEON/PLRA_2019/cal_files/SNA1177E_abbr.csv\")}\n",
    "\n",
    "\n",
    "\n",
    "    \n",
    "    \n",
    "suna_cal_t<-as.data.frame(t(suna_cal))\n",
    "names(suna_cal_t)<-suna_cal_t[1,]\n",
    "\n",
    "#suna_d0<-cSplit(suna,3, \",\")\n",
    "names(suna)<-c(\"suna_id\",\"date\",\"time\",\"nitrate\",\"nitrate_mgl\",\"a254\",\"a350\",\"bromide_trace\",\"spec_average_dark\",\"dark_signal_average\",\"int_time\",suna_cal$wavelength_nm,\"sensor_temp\",\"spec_temp\",\"lamp_temp\",\"lamp_time\",\"rel_hum\",\"main_volt\",\"lamp_volt\",\"int_volt\",\"main_current\",\"fit_aux_1\",\"fit_aux_2\",\"fit_base_1\",\"fit_base_2\",\"fit_RMSE\",\"CTD_Time\",\"CTD_Salinity\",\"CTD_Temp\",\"CTD_Pressure\",\"checksum\")\n",
    "\n",
    "    \n",
    "#suna<-subset(suna,a254!=0)\n",
    "\n",
    "suna<-subset(suna,a254!=0)\n",
    "    \n",
    "#year<-substr(suna$date, 1, 4)\n",
    "if(grepl(\"D2019\",sunas[i])==TRUE){\n",
    "year<-\"2019\"\n",
    "doy<-gsub(\".CSV\",\"\",gsub(\"D2019\",\"\",paste(sunas[i]),fixed=TRUE),fixed=TRUE)\n",
    "}\n",
    "    \n",
    "if(grepl(\"D2020\",sunas[i])==TRUE){\n",
    "year<-\"2020\"\n",
    "doy<-gsub(\".CSV\",\"\",gsub(\"D2020\",\"\",paste(sunas[i]),fixed=TRUE),fixed=TRUE)\n",
    "}\n",
    "\n",
    "day<-as.POSIXct(paste(as.Date(as.numeric(doy)-1,origin=paste(year,\"-01-01\",sep=\"\")),\"00:00:00\"),tz=\"UTC\")\n",
    "#suna$day<-as.POSIXct(\"2019-05-10 00:00:00\",tz=\"UTC\")\n",
    "suna$dtp<-day + (3600*as.numeric(suna$time))\n",
    "#attr(suna$dtp,\"tzone\") <- \"Etc/GMT+8\"\n",
    "\n",
    "    \n",
    "\n",
    "offse<-c(t(suna_cal_t[3,]))\n",
    "suna2<-(suna[,12:267]/suna$int_time)-suna$dark_signal_average\n",
    "suna_d0_norm<-sweep(suna2,2,FUN=\"/\",offse)\n",
    "names(suna_d0_norm)<-paste(\"n_\",names(suna_cal_t),sep=\"\")\n",
    "\n",
    "    \n",
    "\n",
    "#print(\"test\")\n",
    "suna_d0_int<-data.frame()\n",
    "for(j in 1:nrow(suna_d0_norm)){\t\n",
    "#    print(j)\n",
    "    if(!is.na(suna_d0_norm[j,1])){\n",
    "\tflip<-as.data.frame(t(suna_d0_norm[j,]))\n",
    "\tnames(flip)<-c(\"abs\")\n",
    "\tflip$wl_nm<-gsub(\"n_\",\"\",row.names(flip),fixed=TRUE)\n",
    "\tflip_int<-as.data.frame(t(approx(flip$wl_nm,flip$abs,xout=seq(189,394,1),rule=2)$y))\n",
    "\tnames(flip_int)<-paste(\"interp_\",seq(189,394,1),sep=\"\")\n",
    "\tsuna_d0_int<-bind_rows(suna_d0_int,flip_int)\n",
    "    }else{\n",
    "        flip_int[1,]<-NA\n",
    "       \tsuna_d0_int<-bind_rows(suna_d0_int,flip_int)\n",
    "    }\n",
    "}\n",
    "suna_d<-bind_cols(suna,suna_d0_int)\n",
    "#suna_d$date<-as.character(suna_d[,c(\"date\")])\n",
    "#suna_d$time<-as.character(suna_d[,c(\"time\")])\n",
    "suna_d2<-suna_d %>% mutate_if(is.numeric,as.character)\n",
    "compiled_suna<-bind_rows(compiled_suna,suna_d2)\n",
    "}\n",
    "print(\"done\")\n",
    "options(warn=0)    \n",
    "    \n",
    "    \n",
    "    \n"
   ]
  },
  {
   "cell_type": "markdown",
   "id": "banned-constitutional",
   "metadata": {},
   "source": [
    "# Check Data and Save"
   ]
  },
  {
   "cell_type": "code",
   "execution_count": 4,
   "id": "mysterious-helmet",
   "metadata": {},
   "outputs": [],
   "source": [
    "#head(compiled_suna)\n",
    "#grepl(\"D2020\",sunas[240])\n",
    "#sunas[240]\n",
    "#length(sunas)\n",
    "#sunas[240]\n",
    "#ncol(compiled_suna)\n",
    "#nrow(compiled_suna)\n",
    "#names(compiled_suna)<-gsub(\"inter_time\",\"int_time\",names(compiled_suna),fixed=TRUE)\n",
    "#saveRDS(compiled_suna,\"/Users/jhosen/gdrive/SUNA_Data/corrected_files/SUNA_Cor/SUNA_PLRA_20210428_full.rds\")\n",
    "compiled_suna<-readRDS(\"/Users/jhosen/gdrive/SUNA_Data/corrected_files/SUNA_Cor/SUNA_PLRA_20210428_full.rds\")\n"
   ]
  },
  {
   "cell_type": "markdown",
   "id": "flexible-running",
   "metadata": {},
   "source": [
    "# Extracting the interpolated columns"
   ]
  },
  {
   "cell_type": "code",
   "execution_count": 6,
   "id": "brave-input",
   "metadata": {},
   "outputs": [],
   "source": [
    "compiled_suna$cal<-\"suna_0839\"\n",
    "\n",
    "suna_interp<-compiled_suna[,grepl(\"^inter\",names(compiled_suna))] %>% mutate_if(is.character, ~as.numeric(.))\n",
    "#head(suna_interp)\n",
    "\n",
    "other_suna<-compiled_suna[,c(\"suna_id\",\"date\",\"time\",\"nitrate\",\"nitrate_mgl\",\"a254\",\"a350\",\"bromide_trace\",\"spec_average_dark\",\"dark_signal_average\",\"int_time\",\"sensor_temp\",\"spec_temp\",\"lamp_temp\",\"lamp_time\",\"rel_hum\",\"main_volt\",\"lamp_volt\",\"int_volt\",\"main_current\",\"fit_aux_1\",\"fit_aux_2\",\"fit_base_1\",\"fit_base_2\",\"fit_RMSE\",\"CTD_Time\",\"CTD_Salinity\",\"CTD_Temp\",\"CTD_Pressure\",\"checksum\",\"cal\",\"dtp\")]\n",
    "\n",
    "suna_cols<-bind_cols(other_suna,suna_interp)\n",
    "suna_cols$a254<-as.numeric(suna_cols$a254)\n",
    "suna_cols$a350<-as.numeric(suna_cols$a350)\n",
    "suna_cols$nitrate<-as.numeric(suna_cols$nitrate)\n",
    "suna_cols$nitrate_mgl<-as.numeric(suna_cols$nitrate_mgl)\n",
    "suna_cols$sensor_temp<-as.numeric(suna_cols$sensor_temp)\n"
   ]
  },
  {
   "cell_type": "code",
   "execution_count": 7,
   "id": "complex-bahrain",
   "metadata": {},
   "outputs": [
    {
     "data": {
      "text/html": [
       "<style>\n",
       ".list-inline {list-style: none; margin:0; padding: 0}\n",
       ".list-inline>li {display: inline-block}\n",
       ".list-inline>li:not(:last-child)::after {content: \"\\00b7\"; padding: 0 .5ex}\n",
       "</style>\n",
       "<ol class=list-inline><li>-0.0535</li><li>99</li></ol>\n"
      ],
      "text/latex": [
       "\\begin{enumerate*}\n",
       "\\item -0.0535\n",
       "\\item 99\n",
       "\\end{enumerate*}\n"
      ],
      "text/markdown": [
       "1. -0.0535\n",
       "2. 99\n",
       "\n",
       "\n"
      ],
      "text/plain": [
       "[1] -0.0535 99.0000"
      ]
     },
     "metadata": {},
     "output_type": "display_data"
    },
    {
     "data": {
      "text/html": [
       "<style>\n",
       ".list-inline {list-style: none; margin:0; padding: 0}\n",
       ".list-inline>li {display: inline-block}\n",
       ".list-inline>li:not(:last-child)::after {content: \"\\00b7\"; padding: 0 .5ex}\n",
       "</style>\n",
       "<ol class=list-inline><li>&lt;NA&gt;</li><li>&lt;NA&gt;</li></ol>\n"
      ],
      "text/latex": [
       "\\begin{enumerate*}\n",
       "\\item <NA>\n",
       "\\item <NA>\n",
       "\\end{enumerate*}\n"
      ],
      "text/markdown": [
       "1. &lt;NA&gt;\n",
       "2. &lt;NA&gt;\n",
       "\n",
       "\n"
      ],
      "text/plain": [
       "[1] NA NA"
      ]
     },
     "metadata": {},
     "output_type": "display_data"
    }
   ],
   "source": [
    "range(suna_cols$a254)\n",
    "range(suna_cols$interp_254)"
   ]
  },
  {
   "cell_type": "code",
   "execution_count": 8,
   "id": "hydraulic-cream",
   "metadata": {
    "tags": []
   },
   "outputs": [],
   "source": [
    "suna_cols<-subset(suna_cols,a350<10 & a254<10)\n",
    "a350_mod<-lm(a350~log10(interp_350)+I(log10(interp_350)^2)+I(log10(interp_350)^3),suna_cols)\n",
    "a254_mod<-lm(a254~log10(interp_254+0.6)+I(log10(interp_254+0.6)^2)+I(log10(interp_254+0.6)^3),suna_cols)\n",
    "\n",
    "\n",
    "\n",
    "cor_cols<-grep(\"^interp_\",names(suna_cols))\n"
   ]
  },
  {
   "cell_type": "code",
   "execution_count": 9,
   "id": "reliable-sacrifice",
   "metadata": {},
   "outputs": [
    {
     "data": {
      "text/plain": [
       "\n",
       "Call:\n",
       "lm(formula = a254 ~ log10(interp_254 + 0.6) + I(log10(interp_254 + \n",
       "    0.6)^2) + I(log10(interp_254 + 0.6)^3), data = suna_cols)\n",
       "\n",
       "Residuals:\n",
       "     Min       1Q   Median       3Q      Max \n",
       "-0.18906 -0.00650 -0.00022  0.00569  1.13850 \n",
       "\n",
       "Coefficients:\n",
       "                               Estimate Std. Error t value Pr(>|t|)    \n",
       "(Intercept)                   4.775e-01  6.078e-05  7856.0   <2e-16 ***\n",
       "log10(interp_254 + 0.6)      -1.280e+00  1.618e-03  -791.2   <2e-16 ***\n",
       "I(log10(interp_254 + 0.6)^2)  5.899e+00  7.012e-03   841.2   <2e-16 ***\n",
       "I(log10(interp_254 + 0.6)^3) -4.132e+01  5.892e-02  -701.3   <2e-16 ***\n",
       "---\n",
       "Signif. codes:  0 ‘***’ 0.001 ‘**’ 0.01 ‘*’ 0.05 ‘.’ 0.1 ‘ ’ 1\n",
       "\n",
       "Residual standard error: 0.01201 on 282263 degrees of freedom\n",
       "  (69 observations deleted due to missingness)\n",
       "Multiple R-squared:  0.9832,\tAdjusted R-squared:  0.9832 \n",
       "F-statistic: 5.51e+06 on 3 and 282263 DF,  p-value: < 2.2e-16\n"
      ]
     },
     "metadata": {},
     "output_type": "display_data"
    },
    {
     "data": {
      "image/png": "[encoded data removed]",
      "text/plain": [
       "plot without title"
      ]
     },
     "metadata": {
      "image/png": {
       "height": 420,
       "width": 420
      }
     },
     "output_type": "display_data"
    }
   ],
   "source": [
    "ggplot(suna_cols,aes(interp_254,a254))+geom_point()\n",
    "\n",
    "summary(a254_mod)"
   ]
  },
  {
   "cell_type": "code",
   "execution_count": 10,
   "id": "equivalent-paradise",
   "metadata": {
    "tags": []
   },
   "outputs": [],
   "source": [
    "\n",
    "options(warn=-1)    \n",
    "#compiled_suna2[,c(cor_cols)]<-compiled_suna2[,c(cor_cols)] %>% mutate_if(is.character,as.numeric)\n",
    "\n",
    "for(i in 1:length(cor_cols)){\n",
    "\tprepdata<-data.frame(interp_350=suna_cols[,cor_cols[i]],interp_254=suna_cols[,cor_cols[i]])\n",
    "\ta350_pred<-predict(a350_mod,newdata=prepdata)\n",
    "\ta254_pred<-predict(a254_mod,newdata=prepdata)\n",
    "\tsuna_cols[,c(paste(names(suna_cols)[cor_cols[i]],\"_c350\",sep=\"\"))]<-a350_pred\n",
    "\tsuna_cols[,c(paste(names(suna_cols)[cor_cols[i]],\"_c254\",sep=\"\"))]<-a254_pred\n",
    "}\n",
    "\n",
    "options(warn=0)    "
   ]
  },
  {
   "cell_type": "markdown",
   "id": "fifteen-provincial",
   "metadata": {},
   "source": [
    "# Reducing data down to 15 minutes intervals.\n",
    "We want to average down each burst from the SUNA to a single value and mac sure that these values are snapped to 15 minutes intervals (e.g., rather than round up or down to 14 or 16)."
   ]
  },
  {
   "cell_type": "code",
   "execution_count": 11,
   "id": "fabulous-single",
   "metadata": {},
   "outputs": [
    {
     "data": {
      "text/html": [
       "<table class=\"dataframe\">\n",
       "<caption>A data.frame: 6 × 650</caption>\n",
       "<thead>\n",
       "\t<tr><th></th><th scope=col>suna_id</th><th scope=col>date</th><th scope=col>time</th><th scope=col>nitrate</th><th scope=col>nitrate_mgl</th><th scope=col>a254</th><th scope=col>a350</th><th scope=col>bromide_trace</th><th scope=col>spec_average_dark</th><th scope=col>dark_signal_average</th><th scope=col>⋯</th><th scope=col>interp_390_c350</th><th scope=col>interp_390_c254</th><th scope=col>interp_391_c350</th><th scope=col>interp_391_c254</th><th scope=col>interp_392_c350</th><th scope=col>interp_392_c254</th><th scope=col>interp_393_c350</th><th scope=col>interp_393_c254</th><th scope=col>interp_394_c350</th><th scope=col>interp_394_c254</th></tr>\n",
       "\t<tr><th></th><th scope=col>&lt;chr&gt;</th><th scope=col>&lt;chr&gt;</th><th scope=col>&lt;chr&gt;</th><th scope=col>&lt;dbl&gt;</th><th scope=col>&lt;dbl&gt;</th><th scope=col>&lt;dbl&gt;</th><th scope=col>&lt;dbl&gt;</th><th scope=col>&lt;chr&gt;</th><th scope=col>&lt;chr&gt;</th><th scope=col>&lt;chr&gt;</th><th scope=col>⋯</th><th scope=col>&lt;dbl&gt;</th><th scope=col>&lt;dbl&gt;</th><th scope=col>&lt;dbl&gt;</th><th scope=col>&lt;dbl&gt;</th><th scope=col>&lt;dbl&gt;</th><th scope=col>&lt;dbl&gt;</th><th scope=col>&lt;dbl&gt;</th><th scope=col>&lt;dbl&gt;</th><th scope=col>&lt;dbl&gt;</th><th scope=col>&lt;dbl&gt;</th></tr>\n",
       "</thead>\n",
       "<tbody>\n",
       "\t<tr><th scope=row>1</th><td>SATSLF1177</td><td>2019120</td><td>21.512031</td><td>-0.19</td><td>-0.0026</td><td>-0.0037</td><td>0.0007</td><td>0</td><td>26099</td><td>728</td><td>⋯</td><td>0.04880208</td><td>0.1120022</td><td>0.04874590</td><td>0.1117129</td><td>0.04857926</td><td>0.1108522</td><td>0.04848491</td><td>0.1103634</td><td>0.04822128</td><td>0.1089916</td></tr>\n",
       "\t<tr><th scope=row>2</th><td>SATSLF1177</td><td>2019120</td><td>21.512208</td><td>-0.22</td><td>-0.0031</td><td>-0.0036</td><td>0.0007</td><td>0</td><td>26088</td><td>728</td><td>⋯</td><td>0.04872750</td><td>0.1116180</td><td>0.04889897</td><td>0.1125005</td><td>0.04913365</td><td>0.1137025</td><td>0.04959809</td><td>0.1160619</td><td>0.04922596</td><td>0.1141735</td></tr>\n",
       "\t<tr><th scope=row>3</th><td>SATSLF1177</td><td>2019120</td><td>21.512353</td><td>-0.25</td><td>-0.0034</td><td>-0.0033</td><td>0.0009</td><td>0</td><td>26073</td><td>728</td><td>⋯</td><td>0.04914988</td><td>0.1137854</td><td>0.04915916</td><td>0.1138327</td><td>0.04877261</td><td>0.1118505</td><td>0.04889634</td><td>0.1124870</td><td>0.04907731</td><td>0.1134145</td></tr>\n",
       "\t<tr><th scope=row>4</th><td>SATSLF1177</td><td>2019120</td><td>21.512499</td><td>-0.25</td><td>-0.0036</td><td>-0.0031</td><td>0.0011</td><td>0</td><td>26061</td><td>728</td><td>⋯</td><td>0.04888039</td><td>0.1124050</td><td>0.04888578</td><td>0.1124327</td><td>0.04888784</td><td>0.1124433</td><td>0.04878704</td><td>0.1119248</td><td>0.04889934</td><td>0.1125023</td></tr>\n",
       "\t<tr><th scope=row>5</th><td>SATSLF1177</td><td>2019120</td><td>21.512646</td><td>-0.26</td><td>-0.0036</td><td>-0.0028</td><td>0.0014</td><td>0</td><td>26051</td><td>728</td><td>⋯</td><td>0.04931312</td><td>0.1146172</td><td>0.04917210</td><td>0.1138988</td><td>0.04930537</td><td>0.1145779</td><td>0.04919159</td><td>0.1139982</td><td>0.04907731</td><td>0.1134145</td></tr>\n",
       "\t<tr><th scope=row>6</th><td>SATSLF1177</td><td>2019120</td><td>21.759664</td><td>53.91</td><td> 0.7551</td><td> 0.7060</td><td>0.1816</td><td>0</td><td>8895 </td><td>727</td><td>⋯</td><td>0.14216358</td><td>0.3397601</td><td>0.14111562</td><td>0.3385657</td><td>0.14089253</td><td>0.3383095</td><td>0.14151822</td><td>0.3390263</td><td>0.14294889</td><td>0.3406456</td></tr>\n",
       "</tbody>\n",
       "</table>\n"
      ],
      "text/latex": [
       "A data.frame: 6 × 650\n",
       "\\begin{tabular}{r|lllllllllllllllllllll}\n",
       "  & suna\\_id & date & time & nitrate & nitrate\\_mgl & a254 & a350 & bromide\\_trace & spec\\_average\\_dark & dark\\_signal\\_average & ⋯ & interp\\_390\\_c350 & interp\\_390\\_c254 & interp\\_391\\_c350 & interp\\_391\\_c254 & interp\\_392\\_c350 & interp\\_392\\_c254 & interp\\_393\\_c350 & interp\\_393\\_c254 & interp\\_394\\_c350 & interp\\_394\\_c254\\\\\n",
       "  & <chr> & <chr> & <chr> & <dbl> & <dbl> & <dbl> & <dbl> & <chr> & <chr> & <chr> & ⋯ & <dbl> & <dbl> & <dbl> & <dbl> & <dbl> & <dbl> & <dbl> & <dbl> & <dbl> & <dbl>\\\\\n",
       "\\hline\n",
       "\t1 & SATSLF1177 & 2019120 & 21.512031 & -0.19 & -0.0026 & -0.0037 & 0.0007 & 0 & 26099 & 728 & ⋯ & 0.04880208 & 0.1120022 & 0.04874590 & 0.1117129 & 0.04857926 & 0.1108522 & 0.04848491 & 0.1103634 & 0.04822128 & 0.1089916\\\\\n",
       "\t2 & SATSLF1177 & 2019120 & 21.512208 & -0.22 & -0.0031 & -0.0036 & 0.0007 & 0 & 26088 & 728 & ⋯ & 0.04872750 & 0.1116180 & 0.04889897 & 0.1125005 & 0.04913365 & 0.1137025 & 0.04959809 & 0.1160619 & 0.04922596 & 0.1141735\\\\\n",
       "\t3 & SATSLF1177 & 2019120 & 21.512353 & -0.25 & -0.0034 & -0.0033 & 0.0009 & 0 & 26073 & 728 & ⋯ & 0.04914988 & 0.1137854 & 0.04915916 & 0.1138327 & 0.04877261 & 0.1118505 & 0.04889634 & 0.1124870 & 0.04907731 & 0.1134145\\\\\n",
       "\t4 & SATSLF1177 & 2019120 & 21.512499 & -0.25 & -0.0036 & -0.0031 & 0.0011 & 0 & 26061 & 728 & ⋯ & 0.04888039 & 0.1124050 & 0.04888578 & 0.1124327 & 0.04888784 & 0.1124433 & 0.04878704 & 0.1119248 & 0.04889934 & 0.1125023\\\\\n",
       "\t5 & SATSLF1177 & 2019120 & 21.512646 & -0.26 & -0.0036 & -0.0028 & 0.0014 & 0 & 26051 & 728 & ⋯ & 0.04931312 & 0.1146172 & 0.04917210 & 0.1138988 & 0.04930537 & 0.1145779 & 0.04919159 & 0.1139982 & 0.04907731 & 0.1134145\\\\\n",
       "\t6 & SATSLF1177 & 2019120 & 21.759664 & 53.91 &  0.7551 &  0.7060 & 0.1816 & 0 & 8895  & 727 & ⋯ & 0.14216358 & 0.3397601 & 0.14111562 & 0.3385657 & 0.14089253 & 0.3383095 & 0.14151822 & 0.3390263 & 0.14294889 & 0.3406456\\\\\n",
       "\\end{tabular}\n"
      ],
      "text/markdown": [
       "\n",
       "A data.frame: 6 × 650\n",
       "\n",
       "| <!--/--> | suna_id &lt;chr&gt; | date &lt;chr&gt; | time &lt;chr&gt; | nitrate &lt;dbl&gt; | nitrate_mgl &lt;dbl&gt; | a254 &lt;dbl&gt; | a350 &lt;dbl&gt; | bromide_trace &lt;chr&gt; | spec_average_dark &lt;chr&gt; | dark_signal_average &lt;chr&gt; | ⋯ ⋯ | interp_390_c350 &lt;dbl&gt; | interp_390_c254 &lt;dbl&gt; | interp_391_c350 &lt;dbl&gt; | interp_391_c254 &lt;dbl&gt; | interp_392_c350 &lt;dbl&gt; | interp_392_c254 &lt;dbl&gt; | interp_393_c350 &lt;dbl&gt; | interp_393_c254 &lt;dbl&gt; | interp_394_c350 &lt;dbl&gt; | interp_394_c254 &lt;dbl&gt; |\n",
       "|---|---|---|---|---|---|---|---|---|---|---|---|---|---|---|---|---|---|---|---|---|---|\n",
       "| 1 | SATSLF1177 | 2019120 | 21.512031 | -0.19 | -0.0026 | -0.0037 | 0.0007 | 0 | 26099 | 728 | ⋯ | 0.04880208 | 0.1120022 | 0.04874590 | 0.1117129 | 0.04857926 | 0.1108522 | 0.04848491 | 0.1103634 | 0.04822128 | 0.1089916 |\n",
       "| 2 | SATSLF1177 | 2019120 | 21.512208 | -0.22 | -0.0031 | -0.0036 | 0.0007 | 0 | 26088 | 728 | ⋯ | 0.04872750 | 0.1116180 | 0.04889897 | 0.1125005 | 0.04913365 | 0.1137025 | 0.04959809 | 0.1160619 | 0.04922596 | 0.1141735 |\n",
       "| 3 | SATSLF1177 | 2019120 | 21.512353 | -0.25 | -0.0034 | -0.0033 | 0.0009 | 0 | 26073 | 728 | ⋯ | 0.04914988 | 0.1137854 | 0.04915916 | 0.1138327 | 0.04877261 | 0.1118505 | 0.04889634 | 0.1124870 | 0.04907731 | 0.1134145 |\n",
       "| 4 | SATSLF1177 | 2019120 | 21.512499 | -0.25 | -0.0036 | -0.0031 | 0.0011 | 0 | 26061 | 728 | ⋯ | 0.04888039 | 0.1124050 | 0.04888578 | 0.1124327 | 0.04888784 | 0.1124433 | 0.04878704 | 0.1119248 | 0.04889934 | 0.1125023 |\n",
       "| 5 | SATSLF1177 | 2019120 | 21.512646 | -0.26 | -0.0036 | -0.0028 | 0.0014 | 0 | 26051 | 728 | ⋯ | 0.04931312 | 0.1146172 | 0.04917210 | 0.1138988 | 0.04930537 | 0.1145779 | 0.04919159 | 0.1139982 | 0.04907731 | 0.1134145 |\n",
       "| 6 | SATSLF1177 | 2019120 | 21.759664 | 53.91 |  0.7551 |  0.7060 | 0.1816 | 0 | 8895  | 727 | ⋯ | 0.14216358 | 0.3397601 | 0.14111562 | 0.3385657 | 0.14089253 | 0.3383095 | 0.14151822 | 0.3390263 | 0.14294889 | 0.3406456 |\n",
       "\n"
      ],
      "text/plain": [
       "  suna_id    date    time      nitrate nitrate_mgl a254    a350   bromide_trace\n",
       "1 SATSLF1177 2019120 21.512031 -0.19   -0.0026     -0.0037 0.0007 0            \n",
       "2 SATSLF1177 2019120 21.512208 -0.22   -0.0031     -0.0036 0.0007 0            \n",
       "3 SATSLF1177 2019120 21.512353 -0.25   -0.0034     -0.0033 0.0009 0            \n",
       "4 SATSLF1177 2019120 21.512499 -0.25   -0.0036     -0.0031 0.0011 0            \n",
       "5 SATSLF1177 2019120 21.512646 -0.26   -0.0036     -0.0028 0.0014 0            \n",
       "6 SATSLF1177 2019120 21.759664 53.91    0.7551      0.7060 0.1816 0            \n",
       "  spec_average_dark dark_signal_average ⋯ interp_390_c350 interp_390_c254\n",
       "1 26099             728                 ⋯ 0.04880208      0.1120022      \n",
       "2 26088             728                 ⋯ 0.04872750      0.1116180      \n",
       "3 26073             728                 ⋯ 0.04914988      0.1137854      \n",
       "4 26061             728                 ⋯ 0.04888039      0.1124050      \n",
       "5 26051             728                 ⋯ 0.04931312      0.1146172      \n",
       "6 8895              727                 ⋯ 0.14216358      0.3397601      \n",
       "  interp_391_c350 interp_391_c254 interp_392_c350 interp_392_c254\n",
       "1 0.04874590      0.1117129       0.04857926      0.1108522      \n",
       "2 0.04889897      0.1125005       0.04913365      0.1137025      \n",
       "3 0.04915916      0.1138327       0.04877261      0.1118505      \n",
       "4 0.04888578      0.1124327       0.04888784      0.1124433      \n",
       "5 0.04917210      0.1138988       0.04930537      0.1145779      \n",
       "6 0.14111562      0.3385657       0.14089253      0.3383095      \n",
       "  interp_393_c350 interp_393_c254 interp_394_c350 interp_394_c254\n",
       "1 0.04848491      0.1103634       0.04822128      0.1089916      \n",
       "2 0.04959809      0.1160619       0.04922596      0.1141735      \n",
       "3 0.04889634      0.1124870       0.04907731      0.1134145      \n",
       "4 0.04878704      0.1119248       0.04889934      0.1125023      \n",
       "5 0.04919159      0.1139982       0.04907731      0.1134145      \n",
       "6 0.14151822      0.3390263       0.14294889      0.3406456      "
      ]
     },
     "metadata": {},
     "output_type": "display_data"
    }
   ],
   "source": [
    "head(suna_cols)"
   ]
  },
  {
   "cell_type": "code",
   "execution_count": 12,
   "id": "super-leather",
   "metadata": {},
   "outputs": [],
   "source": [
    "#rm(compiled_suna)\n",
    "#rm(compiled_suna_1)\n",
    "#rm(compiled_suna_2)\n",
    "\n",
    "suna_cols$dtpr<-lubridate::round_date(suna_cols$dtp, \"15 minutes\")\n",
    "suna_red<-summaryBy(.~dtpr,suna_cols,FUN=c(mean))\n",
    "\n"
   ]
  },
  {
   "cell_type": "code",
   "execution_count": null,
   "id": "technical-sierra",
   "metadata": {},
   "outputs": [],
   "source": [
    "#unique(as.Date(suna_red$dtpr))"
   ]
  },
  {
   "cell_type": "markdown",
   "id": "quiet-confidentiality",
   "metadata": {},
   "source": [
    "# Downloading turbidity time series data from NEON.\n",
    "Data product DP1.20288.001 for general water quality sonde data."
   ]
  },
  {
   "cell_type": "code",
   "execution_count": 13,
   "id": "general-machine",
   "metadata": {},
   "outputs": [
    {
     "name": "stdout",
     "output_type": "stream",
     "text": [
      "Finding available files\n",
      "  |======================================================================| 100%\n",
      "\n",
      "Downloading files totaling approximately 23.547462 MB\n",
      "Downloading 25 files\n",
      "  |======================================================================| 100%\n",
      "\n",
      "Unpacking zip files using 1 cores.\n",
      "Stacking operation across a single core.\n",
      "Stacking table waq_instantaneous\n",
      "Stacking table ais_maintenance\n",
      "Merged the most recent publication of sensor position files for each site and saved to /stackedFiles\n",
      "Copied the most recent publication of variable definition file to /stackedFiles\n",
      "Finished: Stacked 2 data tables and 2 metadata tables!\n",
      "Stacking took 8.019976 secs\n"
     ]
    }
   ],
   "source": [
    "PLRA_wqs<-loadByProduct(dpID=\"DP1.20288.001\",site=\"PRLA\",check.size=F)\n",
    "saveRDS(PLRA_wqs,paste(data,\"/PLRA_wqs.rds\",sep=\"\"))\n",
    "PLRA_wqs<-readRDS(paste(data,\"/PLRA_wqs.rds\",sep=\"\"))\n"
   ]
  },
  {
   "cell_type": "code",
   "execution_count": 14,
   "id": "wicked-latin",
   "metadata": {},
   "outputs": [
    {
     "name": "stdout",
     "output_type": "stream",
     "text": [
      "'data.frame':\t26540 obs. of  7 variables:\n",
      " $ dtpr                    : POSIXct, format: \"2018-06-25 21:00:00\" \"2018-06-25 21:15:00\" ...\n",
      " $ specificConductance.mean: num  1002 1012 994 982 992 ...\n",
      " $ dissolvedOxygen.mean    : num  1.54 1.63 1.78 1.81 1.82 ...\n",
      " $ pH.mean                 : num  9.37 9.37 9.39 9.4 9.38 ...\n",
      " $ chlorophyll.mean        : num  26 28.9 27.5 27.3 27.2 ...\n",
      " $ turbidity.mean          : num  212 191 221 222 229 ...\n",
      " $ fDOM.mean               : num  25.84 16.52 7.77 21.46 19.51 ...\n"
     ]
    }
   ],
   "source": [
    "PLRA_wqsd<-PLRA_wqs$waq_instantaneous\n",
    "PLRA_wqsd$dtp<-PLRA_wqsd$startDateTime\n",
    "PLRA_wqk<-subset(PLRA_wqsd[,c(\"siteID\",\"dtp\",\"specificConductance\",\"dissolvedOxygen\",\"pH\",\"chlorophyll\",\"turbidity\",\"fDOM\")],!is.na(PLRA_wqsd$specificConductance))\n",
    "#str(PLRA_wqk)\n",
    "\n",
    "PLRA_wqk$dtpr<-lubridate::round_date(PLRA_wqk$dtp, \"15 minutes\")\n",
    "PLRA_wq_red<-summaryBy(.~dtpr,PLRA_wqk,FUN=c(mean))\n",
    "str(PLRA_wq_red)"
   ]
  },
  {
   "cell_type": "code",
   "execution_count": 15,
   "id": "fuzzy-melbourne",
   "metadata": {
    "tags": []
   },
   "outputs": [],
   "source": [
    "PLRA_sw<-merge(suna_red,PLRA_wq_red,by=\"dtpr\",all.x=TRUE)\n"
   ]
  },
  {
   "cell_type": "code",
   "execution_count": 16,
   "id": "d7d880e4-8a1e-4e7b-85e8-8a5dbe47728d",
   "metadata": {},
   "outputs": [],
   "source": [
    "saveRDS(PLRA_sw,paste(save,\"/SUNA_sonde_merge/\",\"/PLRA_2019_SUNA_wq.rds\",sep=\"\"))"
   ]
  },
  {
   "cell_type": "markdown",
   "id": "running-parameter",
   "metadata": {},
   "source": [
    "# import and merge NEON water quality grab sample data."
   ]
  },
  {
   "cell_type": "markdown",
   "id": "contrary-comment",
   "metadata": {},
   "source": [
    "### Downloading grab sample data and saving as rds file in data folder."
   ]
  },
  {
   "cell_type": "code",
   "execution_count": 17,
   "id": "written-tuning",
   "metadata": {
    "tags": []
   },
   "outputs": [
    {
     "name": "stderr",
     "output_type": "stream",
     "text": [
      "\n",
      "Attaching package: ‘zoo’\n",
      "\n",
      "\n",
      "The following objects are masked from ‘package:base’:\n",
      "\n",
      "    as.Date, as.Date.numeric\n",
      "\n",
      "\n"
     ]
    },
    {
     "name": "stdout",
     "output_type": "stream",
     "text": [
      "Finding available files\n",
      "  |======================================================================| 100%\n",
      "\n",
      "Downloading files totaling approximately 3.051407 MB\n",
      "Downloading 78 files\n",
      "  |======================================================================| 100%\n",
      "\n",
      "Unpacking zip files using 1 cores.\n",
      "Stacking operation across a single core.\n",
      "Stacking table swc_domainLabData\n",
      "Stacking table swc_externalLabDataByAnalyte\n",
      "Stacking table swc_fieldData\n",
      "Stacking table swc_fieldSuperParent\n",
      "Copied the most recent publication of validation file to /stackedFiles\n",
      "Copied the most recent publication of categoricalCodes file to /stackedFiles\n",
      "Copied the most recent publication of variable definition file to /stackedFiles\n",
      "Finished: Stacked 4 data tables and 3 metadata tables!\n",
      "Stacking took 13.46863 secs\n"
     ]
    }
   ],
   "source": [
    "\n",
    "\n",
    "library(zoo)\n",
    "PLRA_wqg<-loadByProduct(dpID=\"DP1.20093.001\",site=\"PRLA\",check.size=F)\n",
    "saveRDS(PLRA_wqg,paste(data,\"/PLRA_wqg.rds\",sep=\"\"))\n",
    "PLRA_wqg<-readRDS(paste(data,\"/PLRA_wqg.rds\",sep=\"\"))\n",
    "\n"
   ]
  },
  {
   "cell_type": "markdown",
   "id": "crazy-lover",
   "metadata": {},
   "source": [
    "### extracting lab analysis data"
   ]
  },
  {
   "cell_type": "code",
   "execution_count": 18,
   "id": "generic-entertainment",
   "metadata": {},
   "outputs": [
    {
     "data": {
      "text/html": [
       "<style>\n",
       ".list-inline {list-style: none; margin:0; padding: 0}\n",
       ".list-inline>li {display: inline-block}\n",
       ".list-inline>li:not(:last-child)::after {content: \"\\00b7\"; padding: 0 .5ex}\n",
       "</style>\n",
       "<ol class=list-inline><li>'uid'</li><li>'domainID'</li><li>'siteID'</li><li>'namedLocation'</li><li>'sampleID'</li><li>'sampleCode'</li><li>'startDate'</li><li>'collectDate'</li><li>'laboratoryName'</li><li>'analyte'</li><li>'analyteConcentration'</li><li>'analyteUnits'</li><li>'coolerTemp'</li><li>'remarks'</li><li>'shipmentWarmQF'</li><li>'externalLabDataQF'</li><li>'sampleCondition'</li><li>'publicationDate'</li><li>'release'</li></ol>\n"
      ],
      "text/latex": [
       "\\begin{enumerate*}\n",
       "\\item 'uid'\n",
       "\\item 'domainID'\n",
       "\\item 'siteID'\n",
       "\\item 'namedLocation'\n",
       "\\item 'sampleID'\n",
       "\\item 'sampleCode'\n",
       "\\item 'startDate'\n",
       "\\item 'collectDate'\n",
       "\\item 'laboratoryName'\n",
       "\\item 'analyte'\n",
       "\\item 'analyteConcentration'\n",
       "\\item 'analyteUnits'\n",
       "\\item 'coolerTemp'\n",
       "\\item 'remarks'\n",
       "\\item 'shipmentWarmQF'\n",
       "\\item 'externalLabDataQF'\n",
       "\\item 'sampleCondition'\n",
       "\\item 'publicationDate'\n",
       "\\item 'release'\n",
       "\\end{enumerate*}\n"
      ],
      "text/markdown": [
       "1. 'uid'\n",
       "2. 'domainID'\n",
       "3. 'siteID'\n",
       "4. 'namedLocation'\n",
       "5. 'sampleID'\n",
       "6. 'sampleCode'\n",
       "7. 'startDate'\n",
       "8. 'collectDate'\n",
       "9. 'laboratoryName'\n",
       "10. 'analyte'\n",
       "11. 'analyteConcentration'\n",
       "12. 'analyteUnits'\n",
       "13. 'coolerTemp'\n",
       "14. 'remarks'\n",
       "15. 'shipmentWarmQF'\n",
       "16. 'externalLabDataQF'\n",
       "17. 'sampleCondition'\n",
       "18. 'publicationDate'\n",
       "19. 'release'\n",
       "\n",
       "\n"
      ],
      "text/plain": [
       " [1] \"uid\"                  \"domainID\"             \"siteID\"              \n",
       " [4] \"namedLocation\"        \"sampleID\"             \"sampleCode\"          \n",
       " [7] \"startDate\"            \"collectDate\"          \"laboratoryName\"      \n",
       "[10] \"analyte\"              \"analyteConcentration\" \"analyteUnits\"        \n",
       "[13] \"coolerTemp\"           \"remarks\"              \"shipmentWarmQF\"      \n",
       "[16] \"externalLabDataQF\"    \"sampleCondition\"      \"publicationDate\"     \n",
       "[19] \"release\"             "
      ]
     },
     "metadata": {},
     "output_type": "display_data"
    },
    {
     "data": {
      "text/html": [
       "<style>\n",
       ".list-inline {list-style: none; margin:0; padding: 0}\n",
       ".list-inline>li {display: inline-block}\n",
       ".list-inline>li:not(:last-child)::after {content: \"\\00b7\"; padding: 0 .5ex}\n",
       "</style>\n",
       "<ol class=list-inline><li>'collectDate'</li><li>'UV Absorbance (250 nm)'</li><li>'UV Absorbance (280 nm)'</li><li>'dtpr'</li></ol>\n"
      ],
      "text/latex": [
       "\\begin{enumerate*}\n",
       "\\item 'collectDate'\n",
       "\\item 'UV Absorbance (250 nm)'\n",
       "\\item 'UV Absorbance (280 nm)'\n",
       "\\item 'dtpr'\n",
       "\\end{enumerate*}\n"
      ],
      "text/markdown": [
       "1. 'collectDate'\n",
       "2. 'UV Absorbance (250 nm)'\n",
       "3. 'UV Absorbance (280 nm)'\n",
       "4. 'dtpr'\n",
       "\n",
       "\n"
      ],
      "text/plain": [
       "[1] \"collectDate\"            \"UV Absorbance (250 nm)\" \"UV Absorbance (280 nm)\"\n",
       "[4] \"dtpr\"                  "
      ]
     },
     "metadata": {},
     "output_type": "display_data"
    }
   ],
   "source": [
    "PLRA_wqg_d<-as.data.frame(PLRA_wqg$swc_externalLabDataByAnalyte)\n",
    "\n",
    "names(PLRA_wqg_d)\n",
    "\n",
    "uv_abs<-subset(PLRA_wqg_d,analyte==\"UV Absorbance (250 nm)\"|analyte==\"UV Absorbance (280 nm)\")\n",
    "date_cast<-dcast(uv_abs[,c(\"analyte\",\"collectDate\",\"analyteConcentration\")],collectDate~analyte,value.var=\"analyteConcentration\",mean)\n",
    "date_cast$dtpr<-lubridate::round_date(date_cast$collectDate, \"15 minutes\")\n",
    "\n",
    "names(date_cast)"
   ]
  },
  {
   "cell_type": "code",
   "execution_count": 19,
   "id": "numeric-prompt",
   "metadata": {},
   "outputs": [],
   "source": [
    "\n",
    "suna_grab<-merge(PLRA_sw,date_cast,by=\"dtpr\")\n",
    "\n",
    "#temp_nitrate_zoo<-zoo(nitrate$nitrate_umL,nitrate$dtp)\n",
    "#temp_n<-na.approx(temp_nitrate_zoo,xout=suna_red$dtp,na.rm=FALSE)\n",
    "#suna_grab[,c(\"UV Absorbance (250 nm)\")]\n",
    "names(suna_grab)<-gsub(\"UV Absorbance (250 nm)\",\"uva_250_lab\",names(suna_grab),fixed=TRUE)\n",
    "names(suna_grab)<-gsub(\"UV Absorbance (280 nm)\",\"uva_280_lab\",names(suna_grab),fixed=TRUE)\n",
    "\n"
   ]
  },
  {
   "cell_type": "code",
   "execution_count": 20,
   "id": "private-given",
   "metadata": {},
   "outputs": [
    {
     "data": {
      "text/html": [
       "<table class=\"dataframe\">\n",
       "<caption>A data.frame: 6 × 633</caption>\n",
       "<thead>\n",
       "\t<tr><th scope=col>dtpr</th><th scope=col>nitrate.mean</th><th scope=col>nitrate_mgl.mean</th><th scope=col>a254.mean</th><th scope=col>a350.mean</th><th scope=col>sensor_temp.mean</th><th scope=col>interp_189.mean</th><th scope=col>interp_190.mean</th><th scope=col>interp_191.mean</th><th scope=col>interp_192.mean</th><th scope=col>⋯</th><th scope=col>interp_394_c254.mean</th><th scope=col>specificConductance.mean</th><th scope=col>dissolvedOxygen.mean</th><th scope=col>pH.mean</th><th scope=col>chlorophyll.mean</th><th scope=col>turbidity.mean</th><th scope=col>fDOM.mean</th><th scope=col>collectDate</th><th scope=col>uva_250_lab</th><th scope=col>uva_280_lab</th></tr>\n",
       "\t<tr><th scope=col>&lt;dttm&gt;</th><th scope=col>&lt;dbl&gt;</th><th scope=col>&lt;dbl&gt;</th><th scope=col>&lt;dbl&gt;</th><th scope=col>&lt;dbl&gt;</th><th scope=col>&lt;dbl&gt;</th><th scope=col>&lt;dbl&gt;</th><th scope=col>&lt;dbl&gt;</th><th scope=col>&lt;dbl&gt;</th><th scope=col>&lt;dbl&gt;</th><th scope=col>⋯</th><th scope=col>&lt;dbl&gt;</th><th scope=col>&lt;dbl&gt;</th><th scope=col>&lt;dbl&gt;</th><th scope=col>&lt;dbl&gt;</th><th scope=col>&lt;dbl&gt;</th><th scope=col>&lt;dbl&gt;</th><th scope=col>&lt;dbl&gt;</th><th scope=col>&lt;dttm&gt;</th><th scope=col>&lt;dbl&gt;</th><th scope=col>&lt;dbl&gt;</th></tr>\n",
       "</thead>\n",
       "<tbody>\n",
       "\t<tr><td>2019-05-07 16:15:00</td><td>67.6400</td><td>0.947410</td><td>0.728375</td><td>0.196470</td><td> 8.900</td><td> 24.70</td><td>13.968750</td><td>-20.054008</td><td>19.009494</td><td>⋯</td><td> 0.35064408</td><td>       NA</td><td>       NA</td><td>      NA</td><td>      NA</td><td>        NA</td><td>        NA</td><td>2019-05-07 16:10:00</td><td>0.5545000</td><td>0.2922000</td></tr>\n",
       "\t<tr><td>2019-06-04 15:30:00</td><td>45.5755</td><td>0.638340</td><td>0.649805</td><td>0.117395</td><td>19.420</td><td>  -Inf</td><td>      NaN</td><td> -8.802532</td><td> 6.920253</td><td>⋯</td><td> 0.26305869</td><td> 990.8667</td><td> 8.110000</td><td>9.340000</td><td>69.62000</td><td>  6.470000</td><td>107.420000</td><td>2019-06-04 15:25:00</td><td>0.5498000</td><td>0.2846000</td></tr>\n",
       "\t<tr><td>2019-07-01 15:00:00</td><td>38.4495</td><td>0.538555</td><td>0.587875</td><td>0.064345</td><td>22.530</td><td>  -Inf</td><td>      NaN</td><td>-10.752215</td><td> 7.111076</td><td>⋯</td><td> 0.17182418</td><td> 964.2033</td><td> 0.540000</td><td>8.300000</td><td>65.25000</td><td>146.406667</td><td>  9.046667</td><td>2019-07-01 14:53:00</td><td>0.7875000</td><td>0.4116667</td></tr>\n",
       "\t<tr><td>2019-08-06 16:00:00</td><td>49.4670</td><td>0.692870</td><td>0.636465</td><td>0.105475</td><td>23.960</td><td>-28.20</td><td>-1.201875</td><td> 26.372785</td><td>      NaN</td><td>⋯</td><td> 0.23177511</td><td>1112.7233</td><td> 0.470000</td><td>8.213333</td><td>23.39000</td><td>  6.166667</td><td> 83.100000</td><td>2019-08-06 15:55:00</td><td>0.7538000</td><td>0.3852000</td></tr>\n",
       "\t<tr><td>2019-09-04 16:00:00</td><td>80.2970</td><td>1.124725</td><td>0.542350</td><td>0.049405</td><td>17.095</td><td>-21.10</td><td>-0.859375</td><td> 19.772152</td><td>      NaN</td><td>⋯</td><td> 0.06050311</td><td>1101.7967</td><td> 3.503333</td><td>8.340000</td><td>10.69667</td><td>  9.736667</td><td> 37.046667</td><td>2019-09-04 16:00:00</td><td>0.6778333</td><td>0.3498000</td></tr>\n",
       "\t<tr><td>2019-10-16 17:00:00</td><td>49.6040</td><td>0.694800</td><td>0.493895</td><td>0.054580</td><td> 2.220</td><td>-15.95</td><td>-0.044375</td><td> 16.459494</td><td>      NaN</td><td>⋯</td><td>-0.07131213</td><td> 943.7267</td><td>12.170000</td><td>8.700000</td><td> 4.77000</td><td>  2.263333</td><td> 83.926667</td><td>2019-10-16 17:05:00</td><td>0.6416000</td><td>0.3293000</td></tr>\n",
       "</tbody>\n",
       "</table>\n"
      ],
      "text/latex": [
       "A data.frame: 6 × 633\n",
       "\\begin{tabular}{lllllllllllllllllllll}\n",
       " dtpr & nitrate.mean & nitrate\\_mgl.mean & a254.mean & a350.mean & sensor\\_temp.mean & interp\\_189.mean & interp\\_190.mean & interp\\_191.mean & interp\\_192.mean & ⋯ & interp\\_394\\_c254.mean & specificConductance.mean & dissolvedOxygen.mean & pH.mean & chlorophyll.mean & turbidity.mean & fDOM.mean & collectDate & uva\\_250\\_lab & uva\\_280\\_lab\\\\\n",
       " <dttm> & <dbl> & <dbl> & <dbl> & <dbl> & <dbl> & <dbl> & <dbl> & <dbl> & <dbl> & ⋯ & <dbl> & <dbl> & <dbl> & <dbl> & <dbl> & <dbl> & <dbl> & <dttm> & <dbl> & <dbl>\\\\\n",
       "\\hline\n",
       "\t 2019-05-07 16:15:00 & 67.6400 & 0.947410 & 0.728375 & 0.196470 &  8.900 &  24.70 & 13.968750 & -20.054008 & 19.009494 & ⋯ &  0.35064408 &        NA &        NA &       NA &       NA &         NA &         NA & 2019-05-07 16:10:00 & 0.5545000 & 0.2922000\\\\\n",
       "\t 2019-06-04 15:30:00 & 45.5755 & 0.638340 & 0.649805 & 0.117395 & 19.420 &   -Inf &       NaN &  -8.802532 &  6.920253 & ⋯ &  0.26305869 &  990.8667 &  8.110000 & 9.340000 & 69.62000 &   6.470000 & 107.420000 & 2019-06-04 15:25:00 & 0.5498000 & 0.2846000\\\\\n",
       "\t 2019-07-01 15:00:00 & 38.4495 & 0.538555 & 0.587875 & 0.064345 & 22.530 &   -Inf &       NaN & -10.752215 &  7.111076 & ⋯ &  0.17182418 &  964.2033 &  0.540000 & 8.300000 & 65.25000 & 146.406667 &   9.046667 & 2019-07-01 14:53:00 & 0.7875000 & 0.4116667\\\\\n",
       "\t 2019-08-06 16:00:00 & 49.4670 & 0.692870 & 0.636465 & 0.105475 & 23.960 & -28.20 & -1.201875 &  26.372785 &       NaN & ⋯ &  0.23177511 & 1112.7233 &  0.470000 & 8.213333 & 23.39000 &   6.166667 &  83.100000 & 2019-08-06 15:55:00 & 0.7538000 & 0.3852000\\\\\n",
       "\t 2019-09-04 16:00:00 & 80.2970 & 1.124725 & 0.542350 & 0.049405 & 17.095 & -21.10 & -0.859375 &  19.772152 &       NaN & ⋯ &  0.06050311 & 1101.7967 &  3.503333 & 8.340000 & 10.69667 &   9.736667 &  37.046667 & 2019-09-04 16:00:00 & 0.6778333 & 0.3498000\\\\\n",
       "\t 2019-10-16 17:00:00 & 49.6040 & 0.694800 & 0.493895 & 0.054580 &  2.220 & -15.95 & -0.044375 &  16.459494 &       NaN & ⋯ & -0.07131213 &  943.7267 & 12.170000 & 8.700000 &  4.77000 &   2.263333 &  83.926667 & 2019-10-16 17:05:00 & 0.6416000 & 0.3293000\\\\\n",
       "\\end{tabular}\n"
      ],
      "text/markdown": [
       "\n",
       "A data.frame: 6 × 633\n",
       "\n",
       "| dtpr &lt;dttm&gt; | nitrate.mean &lt;dbl&gt; | nitrate_mgl.mean &lt;dbl&gt; | a254.mean &lt;dbl&gt; | a350.mean &lt;dbl&gt; | sensor_temp.mean &lt;dbl&gt; | interp_189.mean &lt;dbl&gt; | interp_190.mean &lt;dbl&gt; | interp_191.mean &lt;dbl&gt; | interp_192.mean &lt;dbl&gt; | ⋯ ⋯ | interp_394_c254.mean &lt;dbl&gt; | specificConductance.mean &lt;dbl&gt; | dissolvedOxygen.mean &lt;dbl&gt; | pH.mean &lt;dbl&gt; | chlorophyll.mean &lt;dbl&gt; | turbidity.mean &lt;dbl&gt; | fDOM.mean &lt;dbl&gt; | collectDate &lt;dttm&gt; | uva_250_lab &lt;dbl&gt; | uva_280_lab &lt;dbl&gt; |\n",
       "|---|---|---|---|---|---|---|---|---|---|---|---|---|---|---|---|---|---|---|---|---|\n",
       "| 2019-05-07 16:15:00 | 67.6400 | 0.947410 | 0.728375 | 0.196470 |  8.900 |  24.70 | 13.968750 | -20.054008 | 19.009494 | ⋯ |  0.35064408 |        NA |        NA |       NA |       NA |         NA |         NA | 2019-05-07 16:10:00 | 0.5545000 | 0.2922000 |\n",
       "| 2019-06-04 15:30:00 | 45.5755 | 0.638340 | 0.649805 | 0.117395 | 19.420 |   -Inf |       NaN |  -8.802532 |  6.920253 | ⋯ |  0.26305869 |  990.8667 |  8.110000 | 9.340000 | 69.62000 |   6.470000 | 107.420000 | 2019-06-04 15:25:00 | 0.5498000 | 0.2846000 |\n",
       "| 2019-07-01 15:00:00 | 38.4495 | 0.538555 | 0.587875 | 0.064345 | 22.530 |   -Inf |       NaN | -10.752215 |  7.111076 | ⋯ |  0.17182418 |  964.2033 |  0.540000 | 8.300000 | 65.25000 | 146.406667 |   9.046667 | 2019-07-01 14:53:00 | 0.7875000 | 0.4116667 |\n",
       "| 2019-08-06 16:00:00 | 49.4670 | 0.692870 | 0.636465 | 0.105475 | 23.960 | -28.20 | -1.201875 |  26.372785 |       NaN | ⋯ |  0.23177511 | 1112.7233 |  0.470000 | 8.213333 | 23.39000 |   6.166667 |  83.100000 | 2019-08-06 15:55:00 | 0.7538000 | 0.3852000 |\n",
       "| 2019-09-04 16:00:00 | 80.2970 | 1.124725 | 0.542350 | 0.049405 | 17.095 | -21.10 | -0.859375 |  19.772152 |       NaN | ⋯ |  0.06050311 | 1101.7967 |  3.503333 | 8.340000 | 10.69667 |   9.736667 |  37.046667 | 2019-09-04 16:00:00 | 0.6778333 | 0.3498000 |\n",
       "| 2019-10-16 17:00:00 | 49.6040 | 0.694800 | 0.493895 | 0.054580 |  2.220 | -15.95 | -0.044375 |  16.459494 |       NaN | ⋯ | -0.07131213 |  943.7267 | 12.170000 | 8.700000 |  4.77000 |   2.263333 |  83.926667 | 2019-10-16 17:05:00 | 0.6416000 | 0.3293000 |\n",
       "\n"
      ],
      "text/plain": [
       "  dtpr                nitrate.mean nitrate_mgl.mean a254.mean a350.mean\n",
       "1 2019-05-07 16:15:00 67.6400      0.947410         0.728375  0.196470 \n",
       "2 2019-06-04 15:30:00 45.5755      0.638340         0.649805  0.117395 \n",
       "3 2019-07-01 15:00:00 38.4495      0.538555         0.587875  0.064345 \n",
       "4 2019-08-06 16:00:00 49.4670      0.692870         0.636465  0.105475 \n",
       "5 2019-09-04 16:00:00 80.2970      1.124725         0.542350  0.049405 \n",
       "6 2019-10-16 17:00:00 49.6040      0.694800         0.493895  0.054580 \n",
       "  sensor_temp.mean interp_189.mean interp_190.mean interp_191.mean\n",
       "1  8.900            24.70          13.968750       -20.054008     \n",
       "2 19.420             -Inf                NaN        -8.802532     \n",
       "3 22.530             -Inf                NaN       -10.752215     \n",
       "4 23.960           -28.20          -1.201875        26.372785     \n",
       "5 17.095           -21.10          -0.859375        19.772152     \n",
       "6  2.220           -15.95          -0.044375        16.459494     \n",
       "  interp_192.mean ⋯ interp_394_c254.mean specificConductance.mean\n",
       "1 19.009494       ⋯  0.35064408                 NA               \n",
       "2  6.920253       ⋯  0.26305869           990.8667               \n",
       "3  7.111076       ⋯  0.17182418           964.2033               \n",
       "4       NaN       ⋯  0.23177511          1112.7233               \n",
       "5       NaN       ⋯  0.06050311          1101.7967               \n",
       "6       NaN       ⋯ -0.07131213           943.7267               \n",
       "  dissolvedOxygen.mean pH.mean  chlorophyll.mean turbidity.mean fDOM.mean \n",
       "1        NA                  NA       NA                 NA             NA\n",
       "2  8.110000            9.340000 69.62000           6.470000     107.420000\n",
       "3  0.540000            8.300000 65.25000         146.406667       9.046667\n",
       "4  0.470000            8.213333 23.39000           6.166667      83.100000\n",
       "5  3.503333            8.340000 10.69667           9.736667      37.046667\n",
       "6 12.170000            8.700000  4.77000           2.263333      83.926667\n",
       "  collectDate         uva_250_lab uva_280_lab\n",
       "1 2019-05-07 16:10:00 0.5545000   0.2922000  \n",
       "2 2019-06-04 15:25:00 0.5498000   0.2846000  \n",
       "3 2019-07-01 14:53:00 0.7875000   0.4116667  \n",
       "4 2019-08-06 15:55:00 0.7538000   0.3852000  \n",
       "5 2019-09-04 16:00:00 0.6778333   0.3498000  \n",
       "6 2019-10-16 17:05:00 0.6416000   0.3293000  "
      ]
     },
     "metadata": {},
     "output_type": "display_data"
    }
   ],
   "source": [
    "#subset(suna_red,as.Date(dtpr)==as.Date(\"2019-03-04\"))\n",
    "#as.Date(date_cast$dtpr)\n",
    "#unique(as.Date(suna_red$dtpr))\n",
    "\n",
    "suna_grab\n"
   ]
  },
  {
   "cell_type": "markdown",
   "id": "impressed-strike",
   "metadata": {},
   "source": [
    "# Exploring turbidity corrections"
   ]
  },
  {
   "cell_type": "code",
   "execution_count": 21,
   "id": "parliamentary-murder",
   "metadata": {
    "tags": []
   },
   "outputs": [
    {
     "data": {
      "text/html": [
       "<table class=\"dataframe\">\n",
       "<caption>A data.frame: 6 × 6</caption>\n",
       "<thead>\n",
       "\t<tr><th></th><th scope=col>dtpr</th><th scope=col>a254.mean</th><th scope=col>uva_250_lab</th><th scope=col>uva_280_lab</th><th scope=col>interp_250_c254.mean</th><th scope=col>turbidity.mean</th></tr>\n",
       "\t<tr><th></th><th scope=col>&lt;dttm&gt;</th><th scope=col>&lt;dbl&gt;</th><th scope=col>&lt;dbl&gt;</th><th scope=col>&lt;dbl&gt;</th><th scope=col>&lt;dbl&gt;</th><th scope=col>&lt;dbl&gt;</th></tr>\n",
       "</thead>\n",
       "<tbody>\n",
       "\t<tr><th scope=row>1</th><td>2019-05-07 16:15:00</td><td>0.728375</td><td>0.5545000</td><td>0.2922000</td><td>0.7503820</td><td>        NA</td></tr>\n",
       "\t<tr><th scope=row>2</th><td>2019-06-04 15:30:00</td><td>0.649805</td><td>0.5498000</td><td>0.2846000</td><td>0.6788806</td><td>  6.470000</td></tr>\n",
       "\t<tr><th scope=row>3</th><td>2019-07-01 15:00:00</td><td>0.587875</td><td>0.7875000</td><td>0.4116667</td><td>0.6255998</td><td>146.406667</td></tr>\n",
       "\t<tr><th scope=row>4</th><td>2019-08-06 16:00:00</td><td>0.636465</td><td>0.7538000</td><td>0.3852000</td><td>0.6696897</td><td>  6.166667</td></tr>\n",
       "\t<tr><th scope=row>5</th><td>2019-09-04 16:00:00</td><td>0.542350</td><td>0.6778333</td><td>0.3498000</td><td>0.5643788</td><td>  9.736667</td></tr>\n",
       "\t<tr><th scope=row>6</th><td>2019-10-16 17:00:00</td><td>0.493895</td><td>0.6416000</td><td>0.3293000</td><td>0.5015295</td><td>  2.263333</td></tr>\n",
       "</tbody>\n",
       "</table>\n"
      ],
      "text/latex": [
       "A data.frame: 6 × 6\n",
       "\\begin{tabular}{r|llllll}\n",
       "  & dtpr & a254.mean & uva\\_250\\_lab & uva\\_280\\_lab & interp\\_250\\_c254.mean & turbidity.mean\\\\\n",
       "  & <dttm> & <dbl> & <dbl> & <dbl> & <dbl> & <dbl>\\\\\n",
       "\\hline\n",
       "\t1 & 2019-05-07 16:15:00 & 0.728375 & 0.5545000 & 0.2922000 & 0.7503820 &         NA\\\\\n",
       "\t2 & 2019-06-04 15:30:00 & 0.649805 & 0.5498000 & 0.2846000 & 0.6788806 &   6.470000\\\\\n",
       "\t3 & 2019-07-01 15:00:00 & 0.587875 & 0.7875000 & 0.4116667 & 0.6255998 & 146.406667\\\\\n",
       "\t4 & 2019-08-06 16:00:00 & 0.636465 & 0.7538000 & 0.3852000 & 0.6696897 &   6.166667\\\\\n",
       "\t5 & 2019-09-04 16:00:00 & 0.542350 & 0.6778333 & 0.3498000 & 0.5643788 &   9.736667\\\\\n",
       "\t6 & 2019-10-16 17:00:00 & 0.493895 & 0.6416000 & 0.3293000 & 0.5015295 &   2.263333\\\\\n",
       "\\end{tabular}\n"
      ],
      "text/markdown": [
       "\n",
       "A data.frame: 6 × 6\n",
       "\n",
       "| <!--/--> | dtpr &lt;dttm&gt; | a254.mean &lt;dbl&gt; | uva_250_lab &lt;dbl&gt; | uva_280_lab &lt;dbl&gt; | interp_250_c254.mean &lt;dbl&gt; | turbidity.mean &lt;dbl&gt; |\n",
       "|---|---|---|---|---|---|---|\n",
       "| 1 | 2019-05-07 16:15:00 | 0.728375 | 0.5545000 | 0.2922000 | 0.7503820 |         NA |\n",
       "| 2 | 2019-06-04 15:30:00 | 0.649805 | 0.5498000 | 0.2846000 | 0.6788806 |   6.470000 |\n",
       "| 3 | 2019-07-01 15:00:00 | 0.587875 | 0.7875000 | 0.4116667 | 0.6255998 | 146.406667 |\n",
       "| 4 | 2019-08-06 16:00:00 | 0.636465 | 0.7538000 | 0.3852000 | 0.6696897 |   6.166667 |\n",
       "| 5 | 2019-09-04 16:00:00 | 0.542350 | 0.6778333 | 0.3498000 | 0.5643788 |   9.736667 |\n",
       "| 6 | 2019-10-16 17:00:00 | 0.493895 | 0.6416000 | 0.3293000 | 0.5015295 |   2.263333 |\n",
       "\n"
      ],
      "text/plain": [
       "  dtpr                a254.mean uva_250_lab uva_280_lab interp_250_c254.mean\n",
       "1 2019-05-07 16:15:00 0.728375  0.5545000   0.2922000   0.7503820           \n",
       "2 2019-06-04 15:30:00 0.649805  0.5498000   0.2846000   0.6788806           \n",
       "3 2019-07-01 15:00:00 0.587875  0.7875000   0.4116667   0.6255998           \n",
       "4 2019-08-06 16:00:00 0.636465  0.7538000   0.3852000   0.6696897           \n",
       "5 2019-09-04 16:00:00 0.542350  0.6778333   0.3498000   0.5643788           \n",
       "6 2019-10-16 17:00:00 0.493895  0.6416000   0.3293000   0.5015295           \n",
       "  turbidity.mean\n",
       "1         NA    \n",
       "2   6.470000    \n",
       "3 146.406667    \n",
       "4   6.166667    \n",
       "5   9.736667    \n",
       "6   2.263333    "
      ]
     },
     "metadata": {},
     "output_type": "display_data"
    },
    {
     "data": {
      "text/html": [
       "6"
      ],
      "text/latex": [
       "6"
      ],
      "text/markdown": [
       "6"
      ],
      "text/plain": [
       "[1] 6"
      ]
     },
     "metadata": {},
     "output_type": "display_data"
    },
    {
     "data": {
      "text/html": [
       "<style>\n",
       ".list-inline {list-style: none; margin:0; padding: 0}\n",
       ".list-inline>li {display: inline-block}\n",
       ".list-inline>li:not(:last-child)::after {content: \"\\00b7\"; padding: 0 .5ex}\n",
       "</style>\n",
       "<ol class=list-inline><li>0.5545</li><li>0.5498</li><li>0.7875</li><li>0.7538</li><li>0.677833333333333</li><li>0.6416</li></ol>\n"
      ],
      "text/latex": [
       "\\begin{enumerate*}\n",
       "\\item 0.5545\n",
       "\\item 0.5498\n",
       "\\item 0.7875\n",
       "\\item 0.7538\n",
       "\\item 0.677833333333333\n",
       "\\item 0.6416\n",
       "\\end{enumerate*}\n"
      ],
      "text/markdown": [
       "1. 0.5545\n",
       "2. 0.5498\n",
       "3. 0.7875\n",
       "4. 0.7538\n",
       "5. 0.677833333333333\n",
       "6. 0.6416\n",
       "\n",
       "\n"
      ],
      "text/plain": [
       "[1] 0.5545000 0.5498000 0.7875000 0.7538000 0.6778333 0.6416000"
      ]
     },
     "metadata": {},
     "output_type": "display_data"
    }
   ],
   "source": [
    "#names(suna_grab)\n",
    "#suna_grab<-subset(suna_grab,!is.na(uva_250_lab)&!is.na(uva_280_lab)&uva_250_lab<2)\n",
    "suna_grab<-subset(suna_grab,!is.na(uva_250_lab)|!is.na(uva_280_lab))\n",
    "suna_grab$turbidity.mean[suna_grab$turbidity.mean<=0]<-1\n",
    "suna_grab[,c(\"dtpr\",\"a254.mean\",\"uva_250_lab\",\"uva_280_lab\",\"interp_250_c254.mean\",\"turbidity.mean\")]\n",
    "\n",
    "suna_grab$interp_250_log<-log10(suna_grab$interp_250_c254.mean)\n",
    "suna_grab$turb_log<-log10(suna_grab$turbidity.mean)\n",
    "nrow(suna_grab)\n",
    "suna_grab$uva_250_lab\n",
    "#suna_grab$interp_250_tcorr<-predict(lm(uva_250_lab~interp_250_c254.mean*turbidity.mean,suna_grab))\n",
    "#suna_grab$interp_250_tcorr_log<-predict(lm(uva_250_lab~interp_250_log*turbidity.mean,suna_grab))\n",
    "#suna_grab$interp_250_tcorr_log_turb<-predict(lm(uva_250_lab~interp_250_log*turb_log,suna_grab))\n",
    "\n",
    "\n",
    "saveRDS(suna_grab,paste(getwd(),\"/PLRA_SUNA_grab.rds\",sep=\"\"))"
   ]
  },
  {
   "cell_type": "code",
   "execution_count": 66,
   "id": "lovely-restoration",
   "metadata": {},
   "outputs": [
    {
     "data": {
      "text/html": [
       "'/Users/jhosen/gdrive/SUNA_Data/SUNA_NEON/SUGG_2019'"
      ],
      "text/latex": [
       "'/Users/jhosen/gdrive/SUNA\\_Data/SUNA\\_NEON/SUGG\\_2019'"
      ],
      "text/markdown": [
       "'/Users/jhosen/gdrive/SUNA_Data/SUNA_NEON/SUGG_2019'"
      ],
      "text/plain": [
       "[1] \"/Users/jhosen/gdrive/SUNA_Data/SUNA_NEON/SUGG_2019\""
      ]
     },
     "metadata": {},
     "output_type": "display_data"
    }
   ],
   "source": []
  },
  {
   "cell_type": "code",
   "execution_count": 34,
   "id": "hungry-fountain",
   "metadata": {},
   "outputs": [
    {
     "data": {
      "text/plain": [
       "\n",
       "Call:\n",
       "lm(formula = uva_250_lab ~ a254.mean * turb_log, data = suna_grab)\n",
       "\n",
       "Residuals:\n",
       "         2          3          4          5          6 \n",
       "-0.0951320  0.0034982  0.1067806 -0.0148680 -0.0002787 \n",
       "\n",
       "Coefficients:\n",
       "                   Estimate Std. Error t value Pr(>|t|)\n",
       "(Intercept)          0.6841     1.9963   0.343    0.790\n",
       "a254.mean           -0.1603     3.5546  -0.045    0.971\n",
       "turb_log             0.1800     3.0856   0.058    0.963\n",
       "a254.mean:turb_log  -0.1537     5.3480  -0.029    0.982\n",
       "\n",
       "Residual standard error: 0.1438 on 1 degrees of freedom\n",
       "Multiple R-squared:  0.4159,\tAdjusted R-squared:  -1.337 \n",
       "F-statistic: 0.2373 on 3 and 1 DF,  p-value: 0.8676\n"
      ]
     },
     "metadata": {},
     "output_type": "display_data"
    },
    {
     "data": {
      "text/plain": [
       "\n",
       "Call:\n",
       "lm(formula = uva_250_lab ~ interp_250_c254.mean * turb_log, data = suna_grab)\n",
       "\n",
       "Residuals:\n",
       "         2          3          4          5          6 \n",
       "-0.0986230  0.0028380  0.1055041 -0.0095914 -0.0001277 \n",
       "\n",
       "Coefficients:\n",
       "                              Estimate Std. Error t value Pr(>|t|)\n",
       "(Intercept)                    0.71249    1.57450   0.453    0.729\n",
       "interp_250_c254.mean          -0.20585    2.65155  -0.078    0.951\n",
       "turb_log                       0.08652    2.51873   0.034    0.978\n",
       "interp_250_c254.mean:turb_log  0.01003    4.10568   0.002    0.998\n",
       "\n",
       "Residual standard error: 0.1448 on 1 degrees of freedom\n",
       "Multiple R-squared:  0.4082,\tAdjusted R-squared:  -1.367 \n",
       "F-statistic: 0.2299 on 3 and 1 DF,  p-value: 0.8717\n"
      ]
     },
     "metadata": {},
     "output_type": "display_data"
    },
    {
     "data": {
      "text/plain": [
       "\n",
       "Call:\n",
       "lm(formula = uva_250_lab ~ interp_250_c254.mean * turb_log, data = suna_grab)\n",
       "\n",
       "Residuals:\n",
       "         2          3          4          5          6 \n",
       "-0.0986230  0.0028380  0.1055041 -0.0095914 -0.0001277 \n",
       "\n",
       "Coefficients:\n",
       "                              Estimate Std. Error t value Pr(>|t|)\n",
       "(Intercept)                    0.71249    1.57450   0.453    0.729\n",
       "interp_250_c254.mean          -0.20585    2.65155  -0.078    0.951\n",
       "turb_log                       0.08652    2.51873   0.034    0.978\n",
       "interp_250_c254.mean:turb_log  0.01003    4.10568   0.002    0.998\n",
       "\n",
       "Residual standard error: 0.1448 on 1 degrees of freedom\n",
       "Multiple R-squared:  0.4082,\tAdjusted R-squared:  -1.367 \n",
       "F-statistic: 0.2299 on 3 and 1 DF,  p-value: 0.8717\n"
      ]
     },
     "metadata": {},
     "output_type": "display_data"
    },
    {
     "data": {
      "text/html": [
       "<table class=\"dataframe\">\n",
       "<caption>A data.frame: 5 × 2</caption>\n",
       "<thead>\n",
       "\t<tr><th></th><th scope=col>uva_250_lab</th><th scope=col>interp_250_c254.mean</th></tr>\n",
       "\t<tr><th></th><th scope=col>&lt;dbl&gt;</th><th scope=col>&lt;dbl&gt;</th></tr>\n",
       "</thead>\n",
       "<tbody>\n",
       "\t<tr><th scope=row>2</th><td>0.5498000</td><td>0.6788806</td></tr>\n",
       "\t<tr><th scope=row>3</th><td>0.7875000</td><td>0.6255998</td></tr>\n",
       "\t<tr><th scope=row>4</th><td>0.7538000</td><td>0.6696897</td></tr>\n",
       "\t<tr><th scope=row>5</th><td>0.6778333</td><td>0.5643788</td></tr>\n",
       "\t<tr><th scope=row>6</th><td>0.6416000</td><td>0.5015295</td></tr>\n",
       "</tbody>\n",
       "</table>\n"
      ],
      "text/latex": [
       "A data.frame: 5 × 2\n",
       "\\begin{tabular}{r|ll}\n",
       "  & uva\\_250\\_lab & interp\\_250\\_c254.mean\\\\\n",
       "  & <dbl> & <dbl>\\\\\n",
       "\\hline\n",
       "\t2 & 0.5498000 & 0.6788806\\\\\n",
       "\t3 & 0.7875000 & 0.6255998\\\\\n",
       "\t4 & 0.7538000 & 0.6696897\\\\\n",
       "\t5 & 0.6778333 & 0.5643788\\\\\n",
       "\t6 & 0.6416000 & 0.5015295\\\\\n",
       "\\end{tabular}\n"
      ],
      "text/markdown": [
       "\n",
       "A data.frame: 5 × 2\n",
       "\n",
       "| <!--/--> | uva_250_lab &lt;dbl&gt; | interp_250_c254.mean &lt;dbl&gt; |\n",
       "|---|---|---|\n",
       "| 2 | 0.5498000 | 0.6788806 |\n",
       "| 3 | 0.7875000 | 0.6255998 |\n",
       "| 4 | 0.7538000 | 0.6696897 |\n",
       "| 5 | 0.6778333 | 0.5643788 |\n",
       "| 6 | 0.6416000 | 0.5015295 |\n",
       "\n"
      ],
      "text/plain": [
       "  uva_250_lab interp_250_c254.mean\n",
       "2 0.5498000   0.6788806           \n",
       "3 0.7875000   0.6255998           \n",
       "4 0.7538000   0.6696897           \n",
       "5 0.6778333   0.5643788           \n",
       "6 0.6416000   0.5015295           "
      ]
     },
     "metadata": {},
     "output_type": "display_data"
    },
    {
     "data": {
      "image/png": "[encoded data removed]",
      "text/plain": [
       "plot without title"
      ]
     },
     "metadata": {
      "image/png": {
       "height": 420,
       "width": 420
      }
     },
     "output_type": "display_data"
    }
   ],
   "source": [
    "suna_grab<-subset(suna_grab,uva_250_lab>0.1 & a254.mean<7 & !is.na(turbidity.mean))\n",
    "\n",
    "suna_grab$interp_250_log<-log10(suna_grab$interp_250_c254.mean)\n",
    "suna_grab$turb_log<-log10(suna_grab$turbidity.mean)\n",
    "\n",
    "#suna_grab$turb_log\n",
    "summary(lm(uva_250_lab~a254.mean*turb_log,suna_grab))\n",
    "summary(lm(uva_250_lab~interp_250_c254.mean*turb_log,suna_grab))\n",
    "summary(lm(uva_250_lab~interp_250_c254.mean*turb_log,suna_grab))\n",
    "\n",
    "#suna_grab$interp_250_tcorr<-predict(lm(uva_250_lab~interp_250_c254.mean*turbidity.mean,suna_grab))\n",
    "#suna_grab$interp_250_tcorr_log<-predict(lm(uva_250_lab~interp_250_log*turbidity.mean,suna_grab))\n",
    "#suna_grab$interp_250_tcorr_log_turb<-predict(lm(uva_250_lab~interp_250_log*turb_log,suna_grab))\n",
    "\n",
    "suna_grab[,c(\"uva_250_lab\",\"interp_250_c254.mean\")]\n",
    "ggplot(suna_grab,aes(uva_250_lab,interp_250_c254.mean))+\n",
    "#theme_ts_space+\n",
    "#xlab(\"\\nUV Absorbance at 250 nm (Laboratory)\")+\n",
    "#ylab(\"UV Absorbance at 250 nm (SUNA Uncorrected)\\n\")+\n",
    "geom_point(size=6)\n",
    "\n"
   ]
  },
  {
   "cell_type": "code",
   "execution_count": 35,
   "id": "stunning-access",
   "metadata": {},
   "outputs": [
    {
     "data": {
      "text/plain": [
       "\n",
       "Call:\n",
       "lm(formula = uva_250_lab ~ interp_250_log * turb_log, data = suna_grab)\n",
       "\n",
       "Residuals:\n",
       "         2          3          4          5          6 \n",
       "-0.0991070  0.0027356  0.1052791 -0.0087959 -0.0001118 \n",
       "\n",
       "Coefficients:\n",
       "                        Estimate Std. Error t value Pr(>|t|)\n",
       "(Intercept)              0.52658    0.80657   0.653    0.632\n",
       "interp_250_log          -0.27510    3.47257  -0.079    0.950\n",
       "turb_log                 0.09591    1.18062   0.081    0.948\n",
       "interp_250_log:turb_log  0.01257    5.52364   0.002    0.999\n",
       "\n",
       "Residual standard error: 0.1449 on 1 degrees of freedom\n",
       "Multiple R-squared:  0.4072,\tAdjusted R-squared:  -1.371 \n",
       "F-statistic: 0.229 on 3 and 1 DF,  p-value: 0.8722\n"
      ]
     },
     "metadata": {},
     "output_type": "display_data"
    },
    {
     "data": {
      "text/plain": [
       "\n",
       "Call:\n",
       "lm(formula = uva_250_lab ~ interp_250_c254.mean * turb_log, data = suna_grab)\n",
       "\n",
       "Residuals:\n",
       "         2          3          4          5          6 \n",
       "-0.0986230  0.0028380  0.1055041 -0.0095914 -0.0001277 \n",
       "\n",
       "Coefficients:\n",
       "                              Estimate Std. Error t value Pr(>|t|)\n",
       "(Intercept)                    0.71249    1.57450   0.453    0.729\n",
       "interp_250_c254.mean          -0.20585    2.65155  -0.078    0.951\n",
       "turb_log                       0.08652    2.51873   0.034    0.978\n",
       "interp_250_c254.mean:turb_log  0.01003    4.10568   0.002    0.998\n",
       "\n",
       "Residual standard error: 0.1448 on 1 degrees of freedom\n",
       "Multiple R-squared:  0.4082,\tAdjusted R-squared:  -1.367 \n",
       "F-statistic: 0.2299 on 3 and 1 DF,  p-value: 0.8717\n"
      ]
     },
     "metadata": {},
     "output_type": "display_data"
    },
    {
     "name": "stderr",
     "output_type": "stream",
     "text": [
      "`geom_smooth()` using formula 'y ~ x'\n",
      "\n"
     ]
    },
    {
     "data": {
      "image/png": "[encoded data removed]",
      "text/plain": [
       "plot without title"
      ]
     },
     "metadata": {
      "image/png": {
       "height": 420,
       "width": 420
      }
     },
     "output_type": "display_data"
    },
    {
     "name": "stderr",
     "output_type": "stream",
     "text": [
      "`geom_smooth()` using formula 'y ~ x'\n",
      "\n"
     ]
    },
    {
     "data": {
      "image/png": "[encoded data removed]",
      "text/plain": [
       "plot without title"
      ]
     },
     "metadata": {
      "image/png": {
       "height": 420,
       "width": 420
      }
     },
     "output_type": "display_data"
    }
   ],
   "source": [
    "suna_grab$interp_250_log<-log10(suna_grab$interp_250_c254.mean)\n",
    "suna_grab$turb_log<-log10(suna_grab$turbidity.mean)\n",
    "\n",
    "\n",
    "summary(lm(uva_250_lab~interp_250_log*turb_log,suna_grab))\n",
    "summary(lm(uva_250_lab~interp_250_c254.mean*turb_log,suna_grab))\n",
    "\n",
    "suna_grab$interp_250_tcorr<-predict(lm(uva_250_lab~interp_250_c254.mean*turbidity.mean,suna_grab))\n",
    "suna_grab$interp_250_tcorr_log<-predict(lm(uva_250_lab~interp_250_log*turbidity.mean,suna_grab))\n",
    "suna_grab$interp_250_tcorr_log_turb<-predict(lm(uva_250_lab~interp_250_log*turb_log,suna_grab))\n",
    "\n",
    "\n",
    "ggplot(suna_grab,aes(uva_250_lab,interp_250_c254.mean,color=pH.mean))+\n",
    "theme_ts_space+\n",
    "xlab(\"\\nUV Absorbance at 250 nm (Laboratory)\")+\n",
    "ylab(\"UV Absorbance at 250 nm (SUNA Uncorrected)\\n\")+\n",
    "geom_point(size=6)\n",
    "\n",
    "ggsave(\"~/neon_suna/plots/PLRA_250_uncorrected.pdf\",width = 20, height = 20, units = \"cm\")\n",
    "\n",
    "\n",
    "\n",
    "ggplot(suna_grab,aes(uva_250_lab,interp_250_tcorr_log,color=pH.mean))+\n",
    "theme_ts_space+\n",
    "geom_smooth(method=\"lm\",color=\"grey20\")+\n",
    "xlab(\"\\nUV Absorbance at 250 nm (Laboratory)\")+\n",
    "ylab(\"UV Absorbance at 250 nm (SUNA Corrected)\\n\")+\n",
    "geom_point(size=6)+\n",
    "ggtitle(\"Turbidity Corrected\")\n",
    "\n",
    "ggsave(\"~/neon_suna/plots/PLRA_250_corrected.pdf\",width = 20, height = 20, units = \"cm\")\n",
    "\n",
    "\n",
    "\n",
    "\n",
    "#summary(lm(uva_250_lab~interp_250_c254.mean*turbidity.mean+sensor_temp.mean,suna_grab))\n",
    "#summary(lm(uva_280_lab~interp_280_c350.mean*turbidity.mean+sensor_temp.mean,suna_grab))\n",
    "#summary(lm(uva_280_lab~interp_280_c254.mean*turbidity.mean+sensor_temp.mean,suna_grab))"
   ]
  },
  {
   "cell_type": "code",
   "execution_count": 36,
   "id": "martial-webster",
   "metadata": {},
   "outputs": [
    {
     "data": {
      "text/html": [
       "<table class=\"dataframe\">\n",
       "<caption>A data.frame: 5 × 638</caption>\n",
       "<thead>\n",
       "\t<tr><th></th><th scope=col>dtpr</th><th scope=col>nitrate.mean</th><th scope=col>nitrate_mgl.mean</th><th scope=col>a254.mean</th><th scope=col>a350.mean</th><th scope=col>sensor_temp.mean</th><th scope=col>interp_189.mean</th><th scope=col>interp_190.mean</th><th scope=col>interp_191.mean</th><th scope=col>interp_192.mean</th><th scope=col>⋯</th><th scope=col>turbidity.mean</th><th scope=col>fDOM.mean</th><th scope=col>collectDate</th><th scope=col>uva_250_lab</th><th scope=col>uva_280_lab</th><th scope=col>interp_250_log</th><th scope=col>turb_log</th><th scope=col>interp_250_tcorr</th><th scope=col>interp_250_tcorr_log</th><th scope=col>interp_250_tcorr_log_turb</th></tr>\n",
       "\t<tr><th></th><th scope=col>&lt;dttm&gt;</th><th scope=col>&lt;dbl&gt;</th><th scope=col>&lt;dbl&gt;</th><th scope=col>&lt;dbl&gt;</th><th scope=col>&lt;dbl&gt;</th><th scope=col>&lt;dbl&gt;</th><th scope=col>&lt;dbl&gt;</th><th scope=col>&lt;dbl&gt;</th><th scope=col>&lt;dbl&gt;</th><th scope=col>&lt;dbl&gt;</th><th scope=col>⋯</th><th scope=col>&lt;dbl&gt;</th><th scope=col>&lt;dbl&gt;</th><th scope=col>&lt;dttm&gt;</th><th scope=col>&lt;dbl&gt;</th><th scope=col>&lt;dbl&gt;</th><th scope=col>&lt;dbl&gt;</th><th scope=col>&lt;dbl&gt;</th><th scope=col>&lt;dbl&gt;</th><th scope=col>&lt;dbl&gt;</th><th scope=col>&lt;dbl&gt;</th></tr>\n",
       "</thead>\n",
       "<tbody>\n",
       "\t<tr><th scope=row>2</th><td>2019-06-04 15:30:00</td><td>45.5755</td><td>0.638340</td><td>0.649805</td><td>0.117395</td><td>19.420</td><td>  -Inf</td><td>      NaN</td><td> -8.802532</td><td>6.920253</td><td>⋯</td><td>  6.470000</td><td>107.420000</td><td>2019-06-04 15:25:00</td><td>0.5498000</td><td>0.2846000</td><td>-0.1682066</td><td>0.8109043</td><td>0.6465865</td><td>0.6470872</td><td>0.6489070</td></tr>\n",
       "\t<tr><th scope=row>3</th><td>2019-07-01 15:00:00</td><td>38.4495</td><td>0.538555</td><td>0.587875</td><td>0.064345</td><td>22.530</td><td>  -Inf</td><td>      NaN</td><td>-10.752215</td><td>7.111076</td><td>⋯</td><td>146.406667</td><td>  9.046667</td><td>2019-07-01 14:53:00</td><td>0.7875000</td><td>0.4116667</td><td>-0.2037034</td><td>2.1655609</td><td>0.7870975</td><td>0.7871119</td><td>0.7847644</td></tr>\n",
       "\t<tr><th scope=row>4</th><td>2019-08-06 16:00:00</td><td>49.4670</td><td>0.692870</td><td>0.636465</td><td>0.105475</td><td>23.960</td><td>-28.20</td><td>-1.201875</td><td> 26.372785</td><td>     NaN</td><td>⋯</td><td>  6.166667</td><td> 83.100000</td><td>2019-08-06 15:55:00</td><td>0.7538000</td><td>0.3852000</td><td>-0.1741264</td><td>0.7900505</td><td>0.6490288</td><td>0.6492254</td><td>0.6485209</td></tr>\n",
       "\t<tr><th scope=row>5</th><td>2019-09-04 16:00:00</td><td>80.2970</td><td>1.124725</td><td>0.542350</td><td>0.049405</td><td>17.095</td><td>-21.10</td><td>-0.859375</td><td> 19.772152</td><td>     NaN</td><td>⋯</td><td>  9.736667</td><td> 37.046667</td><td>2019-09-04 16:00:00</td><td>0.6778333</td><td>0.3498000</td><td>-0.2484293</td><td>0.9884103</td><td>0.6858380</td><td>0.6851757</td><td>0.6866292</td></tr>\n",
       "\t<tr><th scope=row>6</th><td>2019-10-16 17:00:00</td><td>49.6040</td><td>0.694800</td><td>0.493895</td><td>0.054580</td><td> 2.220</td><td>-15.95</td><td>-0.044375</td><td> 16.459494</td><td>     NaN</td><td>⋯</td><td>  2.263333</td><td> 83.926667</td><td>2019-10-16 17:05:00</td><td>0.6416000</td><td>0.3293000</td><td>-0.2997035</td><td>0.3547485</td><td>0.6419825</td><td>0.6419331</td><td>0.6417118</td></tr>\n",
       "</tbody>\n",
       "</table>\n"
      ],
      "text/latex": [
       "A data.frame: 5 × 638\n",
       "\\begin{tabular}{r|lllllllllllllllllllll}\n",
       "  & dtpr & nitrate.mean & nitrate\\_mgl.mean & a254.mean & a350.mean & sensor\\_temp.mean & interp\\_189.mean & interp\\_190.mean & interp\\_191.mean & interp\\_192.mean & ⋯ & turbidity.mean & fDOM.mean & collectDate & uva\\_250\\_lab & uva\\_280\\_lab & interp\\_250\\_log & turb\\_log & interp\\_250\\_tcorr & interp\\_250\\_tcorr\\_log & interp\\_250\\_tcorr\\_log\\_turb\\\\\n",
       "  & <dttm> & <dbl> & <dbl> & <dbl> & <dbl> & <dbl> & <dbl> & <dbl> & <dbl> & <dbl> & ⋯ & <dbl> & <dbl> & <dttm> & <dbl> & <dbl> & <dbl> & <dbl> & <dbl> & <dbl> & <dbl>\\\\\n",
       "\\hline\n",
       "\t2 & 2019-06-04 15:30:00 & 45.5755 & 0.638340 & 0.649805 & 0.117395 & 19.420 &   -Inf &       NaN &  -8.802532 & 6.920253 & ⋯ &   6.470000 & 107.420000 & 2019-06-04 15:25:00 & 0.5498000 & 0.2846000 & -0.1682066 & 0.8109043 & 0.6465865 & 0.6470872 & 0.6489070\\\\\n",
       "\t3 & 2019-07-01 15:00:00 & 38.4495 & 0.538555 & 0.587875 & 0.064345 & 22.530 &   -Inf &       NaN & -10.752215 & 7.111076 & ⋯ & 146.406667 &   9.046667 & 2019-07-01 14:53:00 & 0.7875000 & 0.4116667 & -0.2037034 & 2.1655609 & 0.7870975 & 0.7871119 & 0.7847644\\\\\n",
       "\t4 & 2019-08-06 16:00:00 & 49.4670 & 0.692870 & 0.636465 & 0.105475 & 23.960 & -28.20 & -1.201875 &  26.372785 &      NaN & ⋯ &   6.166667 &  83.100000 & 2019-08-06 15:55:00 & 0.7538000 & 0.3852000 & -0.1741264 & 0.7900505 & 0.6490288 & 0.6492254 & 0.6485209\\\\\n",
       "\t5 & 2019-09-04 16:00:00 & 80.2970 & 1.124725 & 0.542350 & 0.049405 & 17.095 & -21.10 & -0.859375 &  19.772152 &      NaN & ⋯ &   9.736667 &  37.046667 & 2019-09-04 16:00:00 & 0.6778333 & 0.3498000 & -0.2484293 & 0.9884103 & 0.6858380 & 0.6851757 & 0.6866292\\\\\n",
       "\t6 & 2019-10-16 17:00:00 & 49.6040 & 0.694800 & 0.493895 & 0.054580 &  2.220 & -15.95 & -0.044375 &  16.459494 &      NaN & ⋯ &   2.263333 &  83.926667 & 2019-10-16 17:05:00 & 0.6416000 & 0.3293000 & -0.2997035 & 0.3547485 & 0.6419825 & 0.6419331 & 0.6417118\\\\\n",
       "\\end{tabular}\n"
      ],
      "text/markdown": [
       "\n",
       "A data.frame: 5 × 638\n",
       "\n",
       "| <!--/--> | dtpr &lt;dttm&gt; | nitrate.mean &lt;dbl&gt; | nitrate_mgl.mean &lt;dbl&gt; | a254.mean &lt;dbl&gt; | a350.mean &lt;dbl&gt; | sensor_temp.mean &lt;dbl&gt; | interp_189.mean &lt;dbl&gt; | interp_190.mean &lt;dbl&gt; | interp_191.mean &lt;dbl&gt; | interp_192.mean &lt;dbl&gt; | ⋯ ⋯ | turbidity.mean &lt;dbl&gt; | fDOM.mean &lt;dbl&gt; | collectDate &lt;dttm&gt; | uva_250_lab &lt;dbl&gt; | uva_280_lab &lt;dbl&gt; | interp_250_log &lt;dbl&gt; | turb_log &lt;dbl&gt; | interp_250_tcorr &lt;dbl&gt; | interp_250_tcorr_log &lt;dbl&gt; | interp_250_tcorr_log_turb &lt;dbl&gt; |\n",
       "|---|---|---|---|---|---|---|---|---|---|---|---|---|---|---|---|---|---|---|---|---|---|\n",
       "| 2 | 2019-06-04 15:30:00 | 45.5755 | 0.638340 | 0.649805 | 0.117395 | 19.420 |   -Inf |       NaN |  -8.802532 | 6.920253 | ⋯ |   6.470000 | 107.420000 | 2019-06-04 15:25:00 | 0.5498000 | 0.2846000 | -0.1682066 | 0.8109043 | 0.6465865 | 0.6470872 | 0.6489070 |\n",
       "| 3 | 2019-07-01 15:00:00 | 38.4495 | 0.538555 | 0.587875 | 0.064345 | 22.530 |   -Inf |       NaN | -10.752215 | 7.111076 | ⋯ | 146.406667 |   9.046667 | 2019-07-01 14:53:00 | 0.7875000 | 0.4116667 | -0.2037034 | 2.1655609 | 0.7870975 | 0.7871119 | 0.7847644 |\n",
       "| 4 | 2019-08-06 16:00:00 | 49.4670 | 0.692870 | 0.636465 | 0.105475 | 23.960 | -28.20 | -1.201875 |  26.372785 |      NaN | ⋯ |   6.166667 |  83.100000 | 2019-08-06 15:55:00 | 0.7538000 | 0.3852000 | -0.1741264 | 0.7900505 | 0.6490288 | 0.6492254 | 0.6485209 |\n",
       "| 5 | 2019-09-04 16:00:00 | 80.2970 | 1.124725 | 0.542350 | 0.049405 | 17.095 | -21.10 | -0.859375 |  19.772152 |      NaN | ⋯ |   9.736667 |  37.046667 | 2019-09-04 16:00:00 | 0.6778333 | 0.3498000 | -0.2484293 | 0.9884103 | 0.6858380 | 0.6851757 | 0.6866292 |\n",
       "| 6 | 2019-10-16 17:00:00 | 49.6040 | 0.694800 | 0.493895 | 0.054580 |  2.220 | -15.95 | -0.044375 |  16.459494 |      NaN | ⋯ |   2.263333 |  83.926667 | 2019-10-16 17:05:00 | 0.6416000 | 0.3293000 | -0.2997035 | 0.3547485 | 0.6419825 | 0.6419331 | 0.6417118 |\n",
       "\n"
      ],
      "text/plain": [
       "  dtpr                nitrate.mean nitrate_mgl.mean a254.mean a350.mean\n",
       "2 2019-06-04 15:30:00 45.5755      0.638340         0.649805  0.117395 \n",
       "3 2019-07-01 15:00:00 38.4495      0.538555         0.587875  0.064345 \n",
       "4 2019-08-06 16:00:00 49.4670      0.692870         0.636465  0.105475 \n",
       "5 2019-09-04 16:00:00 80.2970      1.124725         0.542350  0.049405 \n",
       "6 2019-10-16 17:00:00 49.6040      0.694800         0.493895  0.054580 \n",
       "  sensor_temp.mean interp_189.mean interp_190.mean interp_191.mean\n",
       "2 19.420             -Inf                NaN        -8.802532     \n",
       "3 22.530             -Inf                NaN       -10.752215     \n",
       "4 23.960           -28.20          -1.201875        26.372785     \n",
       "5 17.095           -21.10          -0.859375        19.772152     \n",
       "6  2.220           -15.95          -0.044375        16.459494     \n",
       "  interp_192.mean ⋯ turbidity.mean fDOM.mean  collectDate         uva_250_lab\n",
       "2 6.920253        ⋯   6.470000     107.420000 2019-06-04 15:25:00 0.5498000  \n",
       "3 7.111076        ⋯ 146.406667       9.046667 2019-07-01 14:53:00 0.7875000  \n",
       "4      NaN        ⋯   6.166667      83.100000 2019-08-06 15:55:00 0.7538000  \n",
       "5      NaN        ⋯   9.736667      37.046667 2019-09-04 16:00:00 0.6778333  \n",
       "6      NaN        ⋯   2.263333      83.926667 2019-10-16 17:05:00 0.6416000  \n",
       "  uva_280_lab interp_250_log turb_log  interp_250_tcorr interp_250_tcorr_log\n",
       "2 0.2846000   -0.1682066     0.8109043 0.6465865        0.6470872           \n",
       "3 0.4116667   -0.2037034     2.1655609 0.7870975        0.7871119           \n",
       "4 0.3852000   -0.1741264     0.7900505 0.6490288        0.6492254           \n",
       "5 0.3498000   -0.2484293     0.9884103 0.6858380        0.6851757           \n",
       "6 0.3293000   -0.2997035     0.3547485 0.6419825        0.6419331           \n",
       "  interp_250_tcorr_log_turb\n",
       "2 0.6489070                \n",
       "3 0.7847644                \n",
       "4 0.6485209                \n",
       "5 0.6866292                \n",
       "6 0.6417118                "
      ]
     },
     "metadata": {},
     "output_type": "display_data"
    }
   ],
   "source": [
    "head(suna_grab)"
   ]
  },
  {
   "cell_type": "code",
   "execution_count": null,
   "id": "acceptable-pioneer",
   "metadata": {
    "tags": []
   },
   "outputs": [],
   "source": [
    "names(PLRA_sw)"
   ]
  },
  {
   "cell_type": "markdown",
   "id": "verified-sculpture",
   "metadata": {},
   "source": [
    "# Apply turbidity correction based on lab samples."
   ]
  },
  {
   "cell_type": "code",
   "execution_count": null,
   "id": "welcome-trance",
   "metadata": {
    "tags": []
   },
   "outputs": [],
   "source": [
    "cor_cols<-grep(\"^interp_\",names(PLRA_sw))\n",
    "\n",
    "uva_250_turb_lm<-lm(uva_250_lab~interp_250_log*turbidity.mean,suna_grab)\n",
    "\n",
    "for(i in 1:length(cor_cols)){\n",
    "\tprepdata<-data.frame(interp_250_log=log10(PLRA_sw[,cor_cols[i]]),turbidity.mean=PLRA_sw$turbidity.mean)\n",
    "\tturb_cor_pred<-predict(uva_250_turb_lm,newdata=prepdata)\n",
    "\tPLRA_sw[,c(paste(names(PLRA_sw)[cor_cols[i]],\"_turb\",sep=\"\"))]<-turb_cor_pred\n",
    "}\n",
    "\n"
   ]
  },
  {
   "cell_type": "code",
   "execution_count": null,
   "id": "worse-reliance",
   "metadata": {},
   "outputs": [],
   "source": [
    "head(PLRA_sw)"
   ]
  },
  {
   "cell_type": "code",
   "execution_count": null,
   "id": "computational-extent",
   "metadata": {},
   "outputs": [],
   "source": [
    "PLRA_swt_0<-PLRA_sw[,grep(\"*_turb$\",names(PLRA_sw))]\n",
    "PLRA_swt<-bind_cols(PLRA_sw[,c(\"dtpr\",\"nitrate.mean\",\"nitrate_mgl.mean\",\"a254.mean\",\"a350.mean\",\"sensor_temp.mean\",\"specificConductance.mean\",\"dissolvedOxygen.mean\",\"pH.mean\",\"chlorophyll.mean\",\"turbidity.mean\",\"fDOM.mean\")],PLRA_swt_0)\n",
    "\n",
    "\n",
    "\n"
   ]
  },
  {
   "cell_type": "markdown",
   "id": "approximate-stanley",
   "metadata": {},
   "source": [
    "# Adding PAR data."
   ]
  },
  {
   "cell_type": "code",
   "execution_count": null,
   "id": "mysterious-cedar",
   "metadata": {},
   "outputs": [],
   "source": [
    "PLRA_par<-loadByProduct(dpID=\"DP1.20042.001\",site=\"PLRA\",check.size=F)\n",
    "saveRDS(PLRA_par,paste(getwd(),\"/PLRA_par.rds\",sep=\"\"))\n",
    "PLRA_par<-readRDS(paste(getwd(),\"/PLRA_par.rds\",sep=\"\"))\n",
    "\n",
    "\n"
   ]
  },
  {
   "cell_type": "code",
   "execution_count": null,
   "id": "tight-congress",
   "metadata": {
    "tags": []
   },
   "outputs": [],
   "source": [
    "#lubridate::round_date(PLRA_parts$dtp, \"15 minutes\")\n"
   ]
  },
  {
   "cell_type": "code",
   "execution_count": null,
   "id": "phantom-pasta",
   "metadata": {},
   "outputs": [],
   "source": [
    "\n",
    "PLRA_parts<-PLRA_par$PARWS_5min\n",
    "PLRA_parts$dtp<-PLRA_parts$startDateTime\n",
    "#str(PLRA_wqk)\n",
    "\n",
    "\n",
    "\n",
    "PLRA_parts$dtpr<-lubridate::round_date(PLRA_parts$dtp, \"15 minutes\")\n",
    "PLRA_parts_red<-summaryBy(PARMean~dtpr,PLRA_parts,FUN=c(mean))\n",
    "head(PLRA_parts_red)\n",
    "#str(PLRA_wq_red)\n",
    "\n",
    "PLRA_swtpar<-merge(PLRA_swt,PLRA_parts_red,by=\"dtpr\",all.x=TRUE)\n"
   ]
  },
  {
   "cell_type": "code",
   "execution_count": null,
   "id": "reduced-bumper",
   "metadata": {},
   "outputs": [],
   "source": [
    "\n",
    "str(PLRA_swtpar$dtpr)\n",
    "\n",
    "attr(PLRA_swtpar$dtpr,\"tzone\") <- \"Etc/GMT+5\"\n",
    "\n",
    "str(PLRA_swtpar$dtpr)\n",
    "PLRA_swtpar$date<-as.Date(PLRA_swtpar$dtpr,tz=\"Etc/GMT+5\")\n",
    "\n",
    "PLRA_dates<-unique(PLRA_swtpar$date)\n",
    "\n",
    "for(i in 1:length(PLRA_dates)){\n",
    "    \n",
    "    \n",
    "}"
   ]
  },
  {
   "cell_type": "code",
   "execution_count": null,
   "id": "peripheral-alberta",
   "metadata": {},
   "outputs": [],
   "source": [
    "\n",
    "#PLRAd<-subset(PLRA_swtpar,date==as.Date(\"2019-06-10\"))\n",
    "PLRAd<-PLRA_swtpar\n",
    "\n",
    "PLRAdk<-PLRAd[,grep(\"*c254.mean_turb$\",names(PLRAd))]\n",
    "PLRAdk$dtpr<-PLRAd$dtpr\n",
    "\n",
    "PLRAdm<-subset(melt(PLRAdk,id.vars=c(\"dtpr\")),!is.na(value))\n",
    "PLRAdm$wavelength<-gsub(\"interp_\",\"\",PLRAdm$variable,fixed=TRUE)\n",
    "PLRAdm$wavelength<-as.numeric(gsub(\"_c254.mean_turb\",\"\",PLRAdm$wavelength,fixed=TRUE))\n",
    "\n",
    "\n",
    "\n",
    "str(PLRAdm)"
   ]
  },
  {
   "cell_type": "markdown",
   "id": "outer-remove",
   "metadata": {},
   "source": [
    "# Trying some ridge plots to look at wavelength changes over time.\n",
    "So far not looPLRA super great."
   ]
  },
  {
   "cell_type": "code",
   "execution_count": null,
   "id": "distinguished-taste",
   "metadata": {},
   "outputs": [],
   "source": [
    "#library(ggridges)\n",
    "#scales::rescale(height)\n",
    "#PLRAdm$dtprn<-scales::rescale(as.numeric(PLRAdm$dtpr))\n",
    "#PLRAdm$abs<-scales::rescale(as.numeric(PLRAdm$value))\n",
    "\n",
    "\n",
    "#ggplot(subset(PLRAdm,wavelength>=275&wavelength<=295),aes(x = wavelength, y = dtprn, group=dtprn,height = abs)) +\n",
    "#  geom_ridgeline(fill=\"grey80\",alpha=0.6)\n",
    "\n",
    "#ggsave(\"~/neon_suna/plots/PLRAdm_ridge.pdf\",width = 20, height = 40, units = \"cm\")\n"
   ]
  },
  {
   "cell_type": "markdown",
   "id": "loose-uncertainty",
   "metadata": {},
   "source": [
    "# Calculating spectral slope 275-295nm on each time step."
   ]
  },
  {
   "cell_type": "code",
   "execution_count": null,
   "id": "hispanic-excess",
   "metadata": {},
   "outputs": [],
   "source": [
    "names(PLRAd)\n",
    "names(PLRAdm)"
   ]
  },
  {
   "cell_type": "code",
   "execution_count": null,
   "id": "palestinian-sculpture",
   "metadata": {},
   "outputs": [],
   "source": [
    "ssm_275_295<-subset(PLRAdm,wavelength>=275&wavelength<=295)\n",
    "dtps<-unique(ssm_275_295$dtpr)\n",
    "pb <- progress_bar$new(\n",
    "\tformat = \"  downloading [:bar] :percent eta: :eta\",\n",
    "\ttotal = length(dtps), clear = FALSE, width= 60)\n",
    "s275295_comp<-data.frame()\n",
    "\n",
    "\n",
    "for(i in 1:length(dtps)){\n",
    "\tssm_now<-subset(ssm_275_295,dtpr==dtps[i])\n",
    "\t\n",
    "\tssm_now$am1<-ssm_now$value*100*2.3025851\n",
    "\tssm_now$lnam1<-log(ssm_now$am1)\n",
    "\n",
    "\n",
    "\tif(sum(!is.na(ssm_now$lnam1))>2){\n",
    "\t\ts275295<-lm(ssm_now$lnam1~ssm_now$wavelength)$coefficients[2]*-1\n",
    "\t\t}else{s275295<-NA}\n",
    "\t\ts275295_temp<-data.frame(dtpr=dtps[i],s275295=s275295)\n",
    "\t\ts275295_comp<-bind_rows(s275295_comp,s275295_temp)\n",
    "#\t\tpb$tick()\n",
    "}\t\n",
    "\t\n"
   ]
  },
  {
   "cell_type": "code",
   "execution_count": null,
   "id": "fiscal-wales",
   "metadata": {},
   "outputs": [],
   "source": [
    "ggplot(subset(ssm_275_295,variable==\"interp_275_c254.mean_turb\"),aes(dtpr,value))+geom_point()\n"
   ]
  },
  {
   "cell_type": "code",
   "execution_count": null,
   "id": "hired-speaking",
   "metadata": {},
   "outputs": [],
   "source": [
    "ssm_275_295<-subset(PLRAdm,wavelength>=275&wavelength<=295)\n",
    "dtps<-unique(ssm_275_295$dtpr)\n",
    "pb <- progress_bar$new(\n",
    "\tformat = \"  downloading [:bar] :percent eta: :eta\",\n",
    "\ttotal = length(dtps), clear = FALSE, width= 60)\n",
    "s275295_comp<-data.frame()\n",
    "\n",
    "\n",
    "\n",
    "\tssm_now<-subset(ssm_275_295,dtpr==dtps[i])\n",
    "\t\n",
    "\tssm_now$am1<-ssm_now$value*100*2.3025851\n",
    "\tssm_now$lnam1<-log(ssm_now$am1)\n",
    "\n",
    "\n",
    "\tif(sum(!is.na(ssm_now$lnam1))>2){\n",
    "\t\ts275295<-lm(ssm_now$lnam1~ssm_now$wavelength)$coefficients[2]*-1\n",
    "\t\t}else{s275295<-NA}\n",
    "\t\ts275295_temp<-data.frame(dtpr=dtps[i],s275295=s275295)\n",
    "\t\ts275295_comp<-bind_rows(s275295_comp,s275295_temp)\n",
    "#\t\tpb$tick()\n"
   ]
  },
  {
   "cell_type": "code",
   "execution_count": null,
   "id": "heated-symbol",
   "metadata": {},
   "outputs": [],
   "source": [
    "nrow(s275295_comp)\n",
    "nrow(PLRA_swtpar)\n",
    "PLRA_swtp_ss<-merge(PLRA_swtpar,s275295_comp,by=\"dtpr\",all.x=TRUE)\n",
    "saveRDS(PLRA_swtp_ss,paste(data,\"PLRA_swtp_ss.rds\",sep=\"\"))"
   ]
  },
  {
   "cell_type": "code",
   "execution_count": null,
   "id": "desperate-metro",
   "metadata": {},
   "outputs": [],
   "source": [
    "sdates<-unique(as.Date(PLRA_swtp_ss$dtpr,tz=\"Etc/GMT+5\"))\n",
    "\n",
    "i<-5\n",
    "comp_df<-data.frame()\n",
    "#print(i)\n",
    "start<-as.POSIXct(paste(sdates[i]-1,\"22:00\",tz=\"Etc/GMT+5\"))\n",
    "finish<-as.POSIXct(paste(sdates[i]+1,\"03:00\",tz=\"Etc/GMT+5\"))\n",
    "PLRAday<-subset(PLRA_swtp_ss,dtpr>=start & dtpr<=finish)\n",
    "PLRAday<-subset(PLRAday,!is.na(PARMean.mean) & !is.na(s275295))\n",
    "nrow(PLRAday)\n",
    "    PLRAday$PAR_roll<-as.numeric(c(\"NA\",rollmean(PLRAday$PARMean.mean,k=3,align=c(\"center\"),na.fill=TRUE),\"NA\"))\n",
    "    PLRAday$s275295_roll<-as.numeric(c(\"NA\",rollmean(PLRAday$s275295,k=3,align=c(\"center\"),na.fill=TRUE),\"NA\"))\n",
    "\n",
    "\n",
    "\n",
    "    PLRA_night<-subset(PLRAday,PARMean.mean<200)\n",
    "    night_s275295<-mean(PLRA_night$s275295,na.rm=TRUE)\n",
    "\n",
    "    \n",
    "    #PLRAday$baseline<-predict(lm(s275295~dtpr,PLRA_night),PLRAday)\n",
    "    PLRAday$baseline_roll<-predict(lm(s275295_roll~dtpr,PLRA_night),PLRAday)    \n",
    "    PLRAday$s275295_bs<-PLRAday$s275295_roll-PLRAday$baseline_roll    \n",
    "    \n",
    "    PLRA_night_am<-subset(PLRA_night,hour(dtpr)<=12)\n",
    "    night_s275295_am<-mean(PLRA_night_am$s275295,na.rm=TRUE)\n",
    "    \n",
    "    PLRA_night_pm<-subset(PLRA_night,hour(dtpr)>12)\n",
    "    night_s275295_pm<-mean(PLRA_night_pm$s275295,na.rm=TRUE)\n",
    "    \n",
    "    PLRA_day<-subset(PLRAday,PARMean.mean>=10)\n",
    "    day_s275295<-mean(PLRA_day$s275295,na.rm=TRUE)\n",
    "\n",
    "    day_s275295_base_sum<-sum(PLRA_day$s275295_bs,na.rm=TRUE)\n",
    "    day_PAR_roll_base_sum<-sum(PLRA_day$PAR_roll,na.rm=TRUE)    \n",
    "\n",
    "    int<-lm(s275295_bs~PAR_roll,PLRA_day)$coef[1]\n",
    "    slope<-lm(s275295_bs~PAR_roll,PLRA_day)$coef[2]    \n",
    "    \n",
    "    PLRA_n_am_time<-nrow(PLRA_night_am)\n",
    "    PLRA_n_pm_time<-nrow(PLRA_night_pm)\n",
    "    PLRA_d_time<-nrow(PLRA_day)\n",
    "    \n",
    "    temp_df<-data.frame(site=\"PLRA\",date=sdates[i],night_s275295=night_s275295,night_s275295_am=night_s275295_am,night_s275295_pm=night_s275295_pm,day_s275295=day_s275295,day_s275295_base_sum=day_s275295_base_sum,day_PAR_roll_base_sum=day_PAR_roll_base_sum,int=int,slope=slope,PLRA_n_am_time=PLRA_n_am_time,PLRA_n_pm_time=PLRA_n_pm_time,PLRA_d_time=PLRA_d_time)"
   ]
  },
  {
   "cell_type": "code",
   "execution_count": null,
   "id": "african-benjamin",
   "metadata": {},
   "outputs": [],
   "source": [
    "\n",
    "\n",
    "\n"
   ]
  },
  {
   "cell_type": "markdown",
   "id": "detected-restaurant",
   "metadata": {},
   "source": [
    "# Extracting spectral daily slope ratio discrepancy."
   ]
  },
  {
   "cell_type": "code",
   "execution_count": null,
   "id": "boring-symphony",
   "metadata": {
    "tags": []
   },
   "outputs": [],
   "source": [
    "sdates<-unique(as.Date(PLRA_swtp_ss$dtpr,tz=\"Etc/GMT+5\"))\n",
    "\n",
    "#i<-30\n",
    "comp_df<-data.frame()\n",
    "for(i in 1:length(sdates)){\n",
    "#print(i)\n",
    "start<-as.POSIXct(paste(sdates[i]-1,\"22:00\",tz=\"Etc/GMT+5\"))\n",
    "finish<-as.POSIXct(paste(sdates[i]+1,\"03:00\",tz=\"Etc/GMT+5\"))\n",
    "PLRAday<-subset(PLRA_swtp_ss,dtpr>=start & dtpr<=finish)\n",
    "PLRAday<-subset(PLRAday,!is.na(PARMean.mean) & !is.na(s275295))\n",
    "\n",
    "if(nrow(PLRAday)>80){\n",
    "    PLRAday$PAR_roll<-as.numeric(c(\"NA\",rollmean(PLRAday$PARMean.mean,k=3,align=c(\"center\"),na.fill=TRUE),\"NA\"))\n",
    "    PLRAday$s275295_roll<-as.numeric(c(\"NA\",rollmean(PLRAday$s275295,k=3,align=c(\"center\"),na.fill=TRUE),\"NA\"))\n",
    "\n",
    "\n",
    "\n",
    "    PLRA_night<-subset(PLRAday,PARMean.mean<200)\n",
    "    night_s275295<-mean(PLRA_night$s275295,na.rm=TRUE)\n",
    "    \n",
    "    #PLRAday$baseline<-predict(lm(s275295~dtpr,PLRA_night),PLRAday)\n",
    "    PLRAday$baseline_roll<-predict(lm(s275295_roll~dtpr,PLRA_night),PLRAday)    \n",
    "    PLRAday$s275295_bs<-PLRAday$s275295_roll-PLRAday$baseline_roll    \n",
    "    \n",
    "    PLRA_night_am<-subset(PLRA_night,hour(dtpr)<=12)\n",
    "    night_s275295_am<-mean(PLRA_night_am$s275295,na.rm=TRUE)\n",
    "    \n",
    "    PLRA_night_pm<-subset(PLRA_night,hour(dtpr)>12)\n",
    "    night_s275295_pm<-mean(PLRA_night_pm$s275295,na.rm=TRUE)\n",
    "    \n",
    "    PLRA_day<-subset(PLRAday,PARMean.mean>=10)\n",
    "    day_s275295<-mean(PLRA_day$s275295,na.rm=TRUE)\n",
    "\n",
    "    day_s275295_base_sum<-sum(PLRA_day$s275295_bs,na.rm=TRUE)\n",
    "    day_PAR_roll_base_sum<-sum(PLRA_day$PAR_roll,na.rm=TRUE)    \n",
    "\n",
    "    int<-lm(s275295_bs~PAR_roll,PLRA_day)$coef[1]\n",
    "    slope<-lm(s275295_bs~PAR_roll,PLRA_day)$coef[2]    \n",
    "    \n",
    "    PLRA_n_am_time<-nrow(PLRA_night_am)\n",
    "    PLRA_n_pm_time<-nrow(PLRA_night_pm)\n",
    "    PLRA_d_time<-nrow(PLRA_day)\n",
    "    \n",
    "    temp_df<-data.frame(site=\"PLRA\",date=sdates[i],night_s275295=night_s275295,night_s275295_am=night_s275295_am,night_s275295_pm=night_s275295_pm,day_s275295=day_s275295,day_s275295_base_sum=day_s275295_base_sum,day_PAR_roll_base_sum=day_PAR_roll_base_sum,int=int,slope=slope,PLRA_n_am_time=PLRA_n_am_time,PLRA_n_pm_time=PLRA_n_pm_time,PLRA_d_time=PLRA_d_time)\n",
    "    comp_df<-bind_rows(comp_df,temp_df)\n",
    "    }\n",
    "}\n",
    "\n",
    "\n"
   ]
  },
  {
   "cell_type": "code",
   "execution_count": null,
   "id": "assumed-doctor",
   "metadata": {},
   "outputs": [],
   "source": [
    "nrow(comp_df)\n",
    "head(comp_df)"
   ]
  },
  {
   "cell_type": "code",
   "execution_count": null,
   "id": "adequate-xerox",
   "metadata": {},
   "outputs": [],
   "source": [
    "    PLRA_day$s275295_bs\n",
    "ggplot(comp_df,aes(date,day_s275295_base_sum))+\n",
    "       geom_point(size=2)\n",
    "ggplot(comp_df,aes(date,day_PAR_roll_base_sum))+\n",
    "       geom_point(size=2)\n",
    "\n",
    "\n",
    "ggplot(comp_df,aes(day_PAR_roll_base_sum,day_s275295_base_sum))+\n",
    "geom_point()\n",
    "\n",
    "\n",
    "saveRDS(comp_df,paste(data,\"comp_df_PLRA.rds\",sep=\"\"))"
   ]
  },
  {
   "cell_type": "code",
   "execution_count": null,
   "id": "colored-decision",
   "metadata": {},
   "outputs": [],
   "source": [
    "PLRAday<-subset(PLRA_swtp_ss,as.Date(dtpr,tz=\"Etc/GMT+5\")==as.Date(\"2019-06-11\",tz=\"Etc/GMT+5\"))\n",
    "nrow(PLRAday)\n",
    "\n",
    "str(PLRAday$s275295)\n",
    "\n",
    "\n",
    "\n",
    "ggplot(PLRAday,aes(dtpr,s275295))+\n",
    "geom_point()\n",
    "\n",
    "\n",
    "ggplot(PLRAday,aes(dtpr,PARMean.mean))+\n",
    "geom_point()\n",
    "\n",
    "ggplot(PLRAday,aes(dtpr,PARMean.mean))+\n",
    "geom_point()\n",
    "\n"
   ]
  }
 ],
 "metadata": {
  "kernelspec": {
   "display_name": "R",
   "language": "R",
   "name": "ir"
  },
  "language_info": {
   "codemirror_mode": "r",
   "file_extension": ".r",
   "mimetype": "text/x-r-source",
   "name": "R",
   "pygments_lexer": "r",
   "version": "4.1.0"
  }
 },
 "nbformat": 4,
 "nbformat_minor": 5
}
