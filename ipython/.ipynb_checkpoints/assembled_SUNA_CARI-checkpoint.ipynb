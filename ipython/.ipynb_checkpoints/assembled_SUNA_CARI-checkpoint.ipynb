{
 "cells": [
  {
   "cell_type": "markdown",
   "id": "connected-poster",
   "metadata": {},
   "source": [
    "# Identify working and data directory and site ID.\n",
    "* The working directory is the root directory of the github.\n",
    "* The data directory points to the google drive folder where the larger data files are stored.\n",
    "* For the moment the site ID if the four-digit NEON site ID."
   ]
  },
  {
   "cell_type": "code",
   "execution_count": null,
   "id": "pharmaceutical-coverage",
   "metadata": {},
   "outputs": [],
   "source": [
    "working<-\"~/neon_suna\"\n",
    "site_id<-\"CARI\"\n",
    "data<-paste(\"~/gdrive/SUNA_Data/SUNA_NEON/\",site_id,\"/\",sep=\"\")\n"
   ]
  },
  {
   "cell_type": "markdown",
   "id": "relevant-joseph",
   "metadata": {},
   "source": [
    "# Initialize required libraries, functions and formatting utilities."
   ]
  },
  {
   "cell_type": "code",
   "execution_count": null,
   "id": "equivalent-romantic",
   "metadata": {},
   "outputs": [],
   "source": [
    "library(dplyr)\n",
    "library(streamMetabolizer)\n",
    "library(splitstackshape)\n",
    "library(ggplot2)\n",
    "library(lubridate)\n",
    "library(reshape2)\n",
    "library(neonUtilities)\n",
    "library(progress)\n",
    "library(patchwork)\n",
    "library(doBy)\n",
    "#library(box)\n",
    "\n",
    "theme_ts_space<-theme_grey() +\n",
    "\t\ttheme(\n",
    "#\t\tpanel.grid.major = element_blank(),\n",
    "#\t\tpanel.grid.minor = element_blank(),\n",
    "\t\tpanel.background = element_rect(fill=\"white\", colour=\"black\", size=2),\n",
    "#\t\tlegend.key       = element_blank(),\n",
    "#\t\tlegend.text      = element_text(size=20.5),\n",
    "#\t\tlegend.text      = element_blank(),\n",
    "#\t\tlegend.title     = element_text(size=20.5),\n",
    "\t\taxis.text.x = element_text(size=22,colour=\"black\",hjust=1,angle=45),\n",
    "\t\taxis.text.y = element_text(size=22,colour=\"black\",vjust=.3),\n",
    "\t\taxis.title.x = element_text(size=22),\n",
    "\t\taxis.title.y = element_text(size=22,vjust=-1),\n",
    "#\t\tplot.title = element_text(hjust = 0.5,size=22,face=\"bold\"),\t\t\n",
    "#\t\tlegend.position  = \"left\",\n",
    "\t\tlegend.position  = \"none\",\n",
    "\t\tplot.margin = unit(c(1,1,1,1), \"cm\"),\n",
    "\t\tpanel.border = element_rect(colour = \"black\", fill=NA, size=2)\n",
    "\t\t)\n",
    "\n",
    "\n",
    "\n"
   ]
  },
  {
   "cell_type": "markdown",
   "id": "instant-crisis",
   "metadata": {},
   "source": [
    "# Setting up the workspace\n",
    "In the cell below indicate the site that will be analyzed here according to its NEON 4-letter code. A list of files for that site is then placed in the vector \"sunas\".\n",
    "\n",
    "If you downloaded the repo into your home director, which is found by going to \"~/\", then you don\"t have to change the box path. FYI: Box is a new package for R that allows you to define a set of functions without creating a new package."
   ]
  },
  {
   "cell_type": "code",
   "execution_count": null,
   "id": "pregnant-research",
   "metadata": {},
   "outputs": [],
   "source": [
    "\n",
    "#setwd(paste(\"~/gdrive/SUNA_data/SUNA_NEON/\",site_id,sep=\"\"))\n",
    "#sunas<-list.files(pattern=\"*.csv\")\n",
    "#getwd()\n",
    "#options(box.path = \"~/neon_suna/box/\")\n",
    "#box::use(plots)\n",
    "\n",
    "setwd(\"/Users/jhosen/gdrive/SUNA_Data/SUNA_NEON/CARI/SNA1211C_files\")\n",
    "sunas<-list.files(pattern=\"*.CSV\")\n",
    "\n",
    "#suna_cal<-readRDS(\"/Users/jhosen/gdrive/fdom/SUNA Calibration pdfs/suna_cal_comb.rds\")\n",
    "suna_cal<-read.csv(\"/Users/jhosen/gdrive/SUNA_Data/SUNA_NEON/CARI/CARI_CAL/SNA1211C_abbr.csv\")\n",
    "suna_cal_t<-as.data.frame(t(suna_cal))\n",
    "names(suna_cal_t)<-suna_cal_t[1,]"
   ]
  },
  {
   "cell_type": "markdown",
   "id": "moving-roots",
   "metadata": {},
   "source": [
    "# Data import and processing loop.\n",
    "This step loads each data file, formats the data for use, and concatenates files from an individual site.\n",
    "\n",
    "This step could take a while."
   ]
  },
  {
   "cell_type": "code",
   "execution_count": null,
   "id": "biological-booking",
   "metadata": {
    "tags": []
   },
   "outputs": [],
   "source": [
    "compiled_suna<-data.frame()\n",
    "sunas_length<-length(sunas)\n",
    "for(i in 1:sunas_length){\n",
    "#i<-1\n",
    "#print(i)\n",
    "suna<-read.csv(paste(sunas[i]),skip=14,header=FALSE)\n",
    "#head(suna)\n",
    "\n",
    "#suna_d0<-cSplit(suna,3, \",\")\n",
    "names(suna)<-c(\"suna_id\",\"date\",\"time\",\"nitrate\",\"nitrate_mgl\",\"a254\",\"a350\",\"bromide_trace\",\"spec_average_dark\",\"dark_signal_average\",\"int_time\",suna_cal$Wavelength,\"sensor_temp\",\"spec_temp\",\"lamp_temp\",\"lamp_time\",\"rel_hum\",\"main_volt\",\"lamp_volt\",\"int_volt\",\"main_current\",\"fit_aux_1\",\"fit_aux_2\",\"fit_base_1\",\"fit_base_2\",\"fit_RMSE\",\"CTD_Time\",\"CTD_Salinity\",\"CTD_Temp\",\"CTD_Pressure\",\"checksum\")\n",
    "#suna<-subset(suna,a254!=0)\n",
    "\n",
    "suna<-subset(suna,a254!=0)\n",
    "    \n",
    "#year<-substr(suna$date, 1, 4)\n",
    "year<-\"2019\"\n",
    "doy<-gsub(\".CSV\",\"\",gsub(\"D2019\",\"\",paste(sunas[i]),fixed=TRUE),fixed=TRUE)\n",
    "\n",
    "day<-as.POSIXct(paste(as.Date(as.numeric(doy)-1,origin=paste(year,\"-01-01\",sep=\"\")),\"00:00:00\"),tz=\"UTC\")\n",
    "#suna$day<-as.POSIXct(\"2019-05-10 00:00:00\",tz=\"UTC\")\n",
    "suna$dtp<-day + (3600*as.numeric(suna$time))\n",
    "#attr(suna$dtp,\"tzone\") <- \"Etc/GMT+8\"\n",
    "\n",
    "    \n",
    "\n",
    "offse<-c(t(suna_cal_t[3,]))\n",
    "suna2<-(suna[,12:267]/suna$int_time)-suna$dark_signal_average\n",
    "suna_d0_norm<-sweep(suna2,2,FUN=\"/\",offse)\n",
    "names(suna_d0_norm)<-paste(\"n_\",names(suna_cal_t),sep=\"\")\n",
    "\n",
    "    \n",
    "\n",
    "print(\"test\")\n",
    "suna_d0_int<-data.frame()\n",
    "for(j in 1:nrow(suna_d0_norm)){\t\n",
    "#    print(j)\n",
    "\tflip<-as.data.frame(t(suna_d0_norm[j,]))\n",
    "\tnames(flip)<-c(\"abs\")\n",
    "\tflip$wl_nm<-gsub(\"n_\",\"\",row.names(flip),fixed=TRUE)\n",
    "\tflip_int<-as.data.frame(t(approx(flip$wl_nm,flip$abs,xout=seq(189,394,1),rule=2)$y))\n",
    "\tnames(flip_int)<-paste(\"interp_\",seq(189,394,1),sep=\"\")\n",
    "\tsuna_d0_int<-bind_rows(suna_d0_int,flip_int)\n",
    "}\n",
    "suna_d<-bind_cols(suna,suna_d0_int)\n",
    "#suna_d$date<-as.character(suna_d[,c(\"date\")])\n",
    "#suna_d$time<-as.character(suna_d[,c(\"time\")])\n",
    "suna_d2<-suna_d %>% mutate_if(is.numeric,as.character)\n",
    "compiled_suna<-bind_rows(compiled_suna,suna_d2)\n",
    "}\n",
    "print(\"done\")\n",
    "    \n",
    "    \n",
    "    \n",
    "    \n"
   ]
  },
  {
   "cell_type": "markdown",
   "id": "technical-definition",
   "metadata": {},
   "source": [
    "# Check Data and Save"
   ]
  },
  {
   "cell_type": "code",
   "execution_count": null,
   "id": "accepting-button",
   "metadata": {},
   "outputs": [],
   "source": [
    "\n",
    "#nrow(compiled_suna)\n",
    "#saveRDS(compiled_suna,\"~/neon_suna/data/compiled_suna/SUNA_CARI_20210405.rds\")\n",
    "compiled_suna<-readRDS(\"~/neon_suna/data/compiled_suna/SUNA_CARI_20210405.rds\")"
   ]
  },
  {
   "cell_type": "code",
   "execution_count": null,
   "id": "further-aerospace",
   "metadata": {},
   "outputs": [],
   "source": [
    "head(compiled_suna)"
   ]
  },
  {
   "cell_type": "markdown",
   "id": "excessive-television",
   "metadata": {},
   "source": [
    "# Extracting the interpolated columns"
   ]
  },
  {
   "cell_type": "code",
   "execution_count": null,
   "id": "tropical-april",
   "metadata": {},
   "outputs": [],
   "source": [
    "compiled_suna$cal<-\"SNA1211C\"\n",
    "\n",
    "suna_interp<-compiled_suna[,grepl(\"^inter\",names(compiled_suna))] %>% mutate_if(is.character, ~as.numeric(.))\n",
    "#head(suna_interp)\n",
    "\n",
    "other_suna<-compiled_suna[,c(\"suna_id\",\"date\",\"time\",\"nitrate\",\"nitrate_mgl\",\"a254\",\"a350\",\"bromide_trace\",\"spec_average_dark\",\"dark_signal_average\",\"int_time\",\"sensor_temp\",\"spec_temp\",\"lamp_temp\",\"lamp_time\",\"rel_hum\",\"main_volt\",\"lamp_volt\",\"int_volt\",\"main_current\",\"fit_aux_1\",\"fit_aux_2\",\"fit_base_1\",\"fit_base_2\",\"fit_RMSE\",\"CTD_Time\",\"CTD_Salinity\",\"CTD_Temp\",\"CTD_Pressure\",\"checksum\",\"cal\",\"dtp\")]\n",
    "\n",
    "suna_cols<-bind_cols(other_suna,suna_interp)\n",
    "suna_cols$a254<-as.numeric(suna_cols$a254)\n",
    "suna_cols$a350<-as.numeric(suna_cols$a350)\n",
    "suna_cols$nitrate<-as.numeric(suna_cols$nitrate)\n",
    "suna_cols$nitrate_mgl<-as.numeric(suna_cols$nitrate_mgl)\n",
    "suna_cols$sensor_temp<-as.numeric(suna_cols$sensor_temp)\n"
   ]
  },
  {
   "cell_type": "code",
   "execution_count": null,
   "id": "applicable-password",
   "metadata": {},
   "outputs": [],
   "source": [
    "\n",
    "a350_mod<-lm(a350~log10(interp_350)+I(log10(interp_350)^2)+I(log10(interp_350)^3),suna_cols)\n",
    "a254_mod<-lm(a254~log10(interp_254)+I(log10(interp_254)^2)+I(log10(interp_254)^3),suna_cols)\n",
    "\n",
    "\n",
    "\n",
    "cor_cols<-grep(\"^interp_\",names(suna_cols))\n"
   ]
  },
  {
   "cell_type": "code",
   "execution_count": null,
   "id": "anonymous-ghost",
   "metadata": {
    "tags": []
   },
   "outputs": [],
   "source": [
    "\n",
    "#compiled_suna2[,c(cor_cols)]<-compiled_suna2[,c(cor_cols)] %>% mutate_if(is.character,as.numeric)\n",
    "\n",
    "for(i in 1:length(cor_cols)){\n",
    "\tprepdata<-data.frame(interp_350=suna_cols[,cor_cols[i]],interp_254=suna_cols[,cor_cols[i]])\n",
    "\ta350_pred<-predict(a350_mod,newdata=prepdata)\n",
    "\ta254_pred<-predict(a254_mod,newdata=prepdata)\n",
    "\tsuna_cols[,c(paste(names(suna_cols)[cor_cols[i]],\"_c350\",sep=\"\"))]<-a350_pred\n",
    "\tsuna_cols[,c(paste(names(suna_cols)[cor_cols[i]],\"_c254\",sep=\"\"))]<-a254_pred\n",
    "}\n",
    "\n"
   ]
  },
  {
   "cell_type": "markdown",
   "id": "radical-litigation",
   "metadata": {},
   "source": [
    "# Reducing data down to 15 minutes intervals.\n",
    "We want to average down each burst from the SUNA to a single value and mac sure that these values are snapped to 15 minutes intervals (e.g., rather than round up or down to 14 or 16)."
   ]
  },
  {
   "cell_type": "code",
   "execution_count": null,
   "id": "imported-pharmacology",
   "metadata": {},
   "outputs": [],
   "source": [
    "str(suna_cols$sensor_temp)"
   ]
  },
  {
   "cell_type": "code",
   "execution_count": null,
   "id": "shared-majority",
   "metadata": {},
   "outputs": [],
   "source": [
    "\n",
    "\n",
    "suna_cols$dtpr<-lubridate::round_date(suna_cols$dtp, \"15 minutes\")\n",
    "suna_red<-summaryBy(.~dtpr,suna_cols,FUN=c(mean))\n",
    "\n"
   ]
  },
  {
   "cell_type": "markdown",
   "id": "concerned-grounds",
   "metadata": {},
   "source": [
    "# Downloading turbidity time series data from NEON.\n",
    "Data product DP1.20288.001 for general water quality sonde data."
   ]
  },
  {
   "cell_type": "code",
   "execution_count": null,
   "id": "generous-respondent",
   "metadata": {},
   "outputs": [],
   "source": [
    "CARI_wqs<-loadByProduct(dpID=\"DP1.20288.001\",site=\"CARI\",check.size=F)\n",
    "saveRDS(CARI_wqs,paste(data,\"/CARI_wqs.rds\",sep=\"\"))\n",
    "CARI_wqs<-readRDS(paste(data,\"/CARI_wqs.rds\",sep=\"\"))\n"
   ]
  },
  {
   "cell_type": "code",
   "execution_count": null,
   "id": "therapeutic-depression",
   "metadata": {},
   "outputs": [],
   "source": [
    "CARI_wqsd<-CARI_wqs$waq_instantaneous\n",
    "CARI_wqsd$dtp<-CARI_wqsd$startDateTime\n",
    "CARI_wqk<-subset(CARI_wqsd[,c(\"siteID\",\"dtp\",\"specificConductance\",\"dissolvedOxygen\",\"pH\",\"chlorophyll\",\"turbidity\",\"fDOM\")],!is.na(CARI_wqsd$specificConductance))\n",
    "#str(CARI_wqk)\n",
    "\n",
    "CARI_wqk$dtpr<-lubridate::round_date(CARI_wqk$dtp, \"15 minutes\")\n",
    "CARI_wq_red<-summaryBy(.~dtpr,CARI_wqk,FUN=c(mean))\n",
    "str(CARI_wq_red)"
   ]
  },
  {
   "cell_type": "code",
   "execution_count": null,
   "id": "empirical-poster",
   "metadata": {
    "tags": []
   },
   "outputs": [],
   "source": [
    "CARI_sw<-merge(suna_red,CARI_wq_red,by=\"dtpr\",all.x=TRUE)\n"
   ]
  },
  {
   "cell_type": "markdown",
   "id": "broke-satisfaction",
   "metadata": {},
   "source": [
    "# import and merge NEON water quality grab sample data."
   ]
  },
  {
   "cell_type": "code",
   "execution_count": null,
   "id": "incorrect-taylor",
   "metadata": {
    "tags": []
   },
   "outputs": [],
   "source": [
    "\n",
    "\n",
    "library(zoo)\n",
    "#CARI_wqg<-loadByProduct(dpID=\"DP1.20093.001\",site=\"CARI\",check.size=F)\n",
    "#saveRDS(CARI_wqg,paste(data,\"/CARI_wqg.rds\",sep=\"\"))\n",
    "CARI_wqg<-readRDS(paste(data,\"/CARI_wqg.rds\",sep=\"\"))\n",
    "\n",
    "CARI_wqg_d<-as.data.frame(CARI_wqg$swc_externalLabDataByAnalyte)\n",
    "uv_abs<-subset(CARI_wqg_d,analyte==\"UV Absorbance (250 nm)\"|analyte==\"UV Absorbance (280 nm)\")\n",
    "date_cast<-dcast(uv_abs[,c(\"analyte\",\"collectDate\",\"analyteConcentration\")],collectDate~analyte,value.var=\"analyteConcentration\",mean)\n",
    "date_cast$dtpr<-lubridate::round_date(date_cast$collectDate, \"15 minutes\")\n",
    "\n",
    "suna_grab<-merge(CARI_sw,date_cast,by=\"dtpr\")\n",
    "\n",
    "#temp_nitrate_zoo<-zoo(nitrate$nitrate_umL,nitrate$dtp)\n",
    "#temp_n<-na.approx(temp_nitrate_zoo,xout=suna_red$dtp,na.rm=FALSE)\n",
    "#suna_grab[,c(\"UV Absorbance (250 nm)\")]\n",
    "names(suna_grab)<-gsub(\"UV Absorbance (250 nm)\",\"uva_250_lab\",names(suna_grab),fixed=TRUE)\n",
    "names(suna_grab)<-gsub(\"UV Absorbance (280 nm)\",\"uva_280_lab\",names(suna_grab),fixed=TRUE)\n",
    "\n",
    "suna_grab[,c(\"dtpr\",\"a254.mean\",\"uva_250_lab\")]\n"
   ]
  },
  {
   "cell_type": "markdown",
   "id": "framed-bidder",
   "metadata": {},
   "source": [
    "# Exploring turbidity corrections"
   ]
  },
  {
   "cell_type": "code",
   "execution_count": null,
   "id": "excessive-armenia",
   "metadata": {
    "tags": []
   },
   "outputs": [],
   "source": [
    "names(suna_grab)"
   ]
  },
  {
   "cell_type": "code",
   "execution_count": null,
   "id": "senior-arbitration",
   "metadata": {},
   "outputs": [],
   "source": [
    "suna_grab$interp_250_log<-log10(suna_grab$interp_250_c254.mean)\n",
    "suna_grab$turb_log<-log10(suna_grab$turbidity.mean)\n",
    "\n",
    "\n",
    "#summary(lm(uva_250_lab~interp_250_log*turb_log,suna_grab))\n",
    "#summary(lm(uva_250_lab~interp_250_c254.mean*turb_log,suna_grab))\n",
    "\n",
    "suna_grab$interp_250_tcorr<-predict(lm(uva_250_lab~interp_250_c254.mean*turbidity.mean,suna_grab))\n",
    "suna_grab$interp_250_tcorr_log<-predict(lm(uva_250_lab~interp_250_log*turbidity.mean,suna_grab))\n",
    "suna_grab$interp_250_tcorr_log_turb<-predict(lm(uva_250_lab~interp_250_log*turb_log,suna_grab))\n",
    "\n",
    "\n",
    "ggplot(suna_grab,aes(uva_250_lab,interp_250_c254.mean,color=pH.mean))+\n",
    "theme_ts_space+\n",
    "xlab(\"UV Absorbance at 250 nm (Laboratory)\")+\n",
    "ylab(\"UV Absorbance at 250 nm (SUNA Uncorrected)\")+\n",
    "geom_point(size=6)+\n",
    "ggtitle(\"Uncorrected\")\n",
    "\n",
    "ggsave(\"~/neon_suna/plots/CARI_250_uncorrected.pdf\",width = 20, height = 20, units = \"cm\")\n",
    "\n",
    "\n",
    "\n",
    "ggplot(suna_grab,aes(uva_250_lab,interp_250_tcorr_log,color=pH.mean))+\n",
    "theme_ts_space+\n",
    "geom_smooth(method=\"lm\",color=\"grey20\")+\n",
    "xlab(\"UV Absorbance at 250 nm (Laboratory)\")+\n",
    "ylab(\"UV Absorbance at 250 nm (SUNA Corrected)\")+\n",
    "geom_point(size=6)+\n",
    "ggtitle(\"Turbidity Corrected\")\n",
    "\n",
    "ggsave(\"~/neon_suna/plots/CARI_250_corrected.pdf\",width = 20, height = 20, units = \"cm\")\n",
    "\n",
    "\n",
    "\n",
    "\n",
    "#summary(lm(uva_250_lab~interp_250_c254.mean*turbidity.mean+sensor_temp.mean,suna_grab))\n",
    "#summary(lm(uva_280_lab~interp_280_c350.mean*turbidity.mean+sensor_temp.mean,suna_grab))\n",
    "#summary(lm(uva_280_lab~interp_280_c254.mean*turbidity.mean+sensor_temp.mean,suna_grab))"
   ]
  },
  {
   "cell_type": "code",
   "execution_count": null,
   "id": "resident-account",
   "metadata": {},
   "outputs": [],
   "source": [
    "names(CARI_sw)"
   ]
  },
  {
   "cell_type": "markdown",
   "id": "military-festival",
   "metadata": {},
   "source": [
    "# Apply turbidity correction based on lab samples."
   ]
  },
  {
   "cell_type": "code",
   "execution_count": null,
   "id": "understanding-forest",
   "metadata": {
    "tags": []
   },
   "outputs": [],
   "source": [
    "cor_cols<-grep(\"^interp_\",names(CARI_sw))\n",
    "\n",
    "uva_250_turb_lm<-lm(uva_250_lab~interp_250_log*turbidity.mean,suna_grab)\n",
    "\n",
    "for(i in 1:length(cor_cols)){\n",
    "\tprepdata<-data.frame(interp_250_log=log10(CARI_sw[,cor_cols[i]]),turbidity.mean=CARI_sw$turbidity.mean)\n",
    "\tturb_cor_pred<-predict(uva_250_turb_lm,newdata=prepdata)\n",
    "\tCARI_sw[,c(paste(names(CARI_sw)[cor_cols[i]],\"_turb\",sep=\"\"))]<-turb_cor_pred\n",
    "}\n",
    "\n"
   ]
  },
  {
   "cell_type": "code",
   "execution_count": null,
   "id": "criminal-conservation",
   "metadata": {},
   "outputs": [],
   "source": [
    "head(CARI_sw)"
   ]
  },
  {
   "cell_type": "code",
   "execution_count": null,
   "id": "built-sarah",
   "metadata": {},
   "outputs": [],
   "source": [
    "CARI_swt_0<-CARI_sw[,grep(\"*_turb$\",names(CARI_sw))]\n",
    "CARI_swt<-bind_cols(CARI_sw[,c(\"dtpr\",\"nitrate.mean\",\"nitrate_mgl.mean\",\"a254.mean\",\"a350.mean\",\"sensor_temp.mean\",\"specificConductance.mean\",\"dissolvedOxygen.mean\",\"pH.mean\",\"chlorophyll.mean\",\"turbidity.mean\",\"fDOM.mean\")],CARI_swt_0)\n",
    "\n",
    "\n",
    "\n"
   ]
  },
  {
   "cell_type": "markdown",
   "id": "cellular-purchase",
   "metadata": {},
   "source": [
    "# Adding PAR data."
   ]
  },
  {
   "cell_type": "code",
   "execution_count": null,
   "id": "golden-bridal",
   "metadata": {},
   "outputs": [],
   "source": [
    "CARI_par<-loadByProduct(dpID=\"DP1.20042.001\",site=\"CARI\",check.size=F)\n",
    "saveRDS(CARI_par,paste(getwd(),\"/CARI_par.rds\",sep=\"\"))\n",
    "CARI_par<-readRDS(paste(getwd(),\"/CARI_par.rds\",sep=\"\"))\n",
    "\n",
    "\n"
   ]
  },
  {
   "cell_type": "code",
   "execution_count": null,
   "id": "peripheral-bunny",
   "metadata": {},
   "outputs": [],
   "source": [
    "str(CARI_par)"
   ]
  },
  {
   "cell_type": "code",
   "execution_count": null,
   "id": "controversial-piano",
   "metadata": {},
   "outputs": [],
   "source": [
    "\n",
    "CARI_parts<-CARI_par$PARWS_5min\n",
    "CARI_parts$dtp<-CARI_parts$startDateTime\n",
    "#str(CARI_wqk)\n",
    "\n",
    "\n",
    "\n",
    "CARI_parts$dtpr<-lubridate::round_date(CARI_parts$dtp, \"15 minutes\")\n",
    "CARI_parts_red<-summaryBy(PARMean~dtpr,CARI_parts,FUN=c(mean))\n",
    "head(CARI_parts_red)\n",
    "#str(CARI_wq_red)\n",
    "\n",
    "CARI_swtpar<-merge(CARI_swt,CARI_parts_red,by=\"dtpr\",all.x=TRUE)\n"
   ]
  },
  {
   "cell_type": "code",
   "execution_count": null,
   "id": "minus-violence",
   "metadata": {},
   "outputs": [],
   "source": [
    "\n",
    "str(CARI_swtpar$dtpr)\n",
    "\n",
    "attr(CARI_swtpar$dtpr,\"tzone\") <- \"Etc/GMT+5\"\n",
    "\n",
    "str(CARI_swtpar$dtpr)\n",
    "CARI_swtpar$date<-as.Date(CARI_swtpar$dtpr,tz=\"Etc/GMT+5\")\n",
    "\n",
    "CARI_dates<-unique(CARI_swtpar$date)\n",
    "\n",
    "for(i in 1:length(CARI_dates)){\n",
    "    \n",
    "    \n",
    "}"
   ]
  },
  {
   "cell_type": "code",
   "execution_count": null,
   "id": "standing-royalty",
   "metadata": {},
   "outputs": [],
   "source": [
    "\n",
    "#CARId<-subset(CARI_swtpar,date==as.Date(\"2019-06-10\"))\n",
    "CARId<-CARI_swtpar\n",
    "\n",
    "CARIdk<-CARId[,grep(\"*c254.mean_turb$\",names(CARId))]\n",
    "CARIdk$dtpr<-CARId$dtpr\n",
    "\n",
    "CARIdm<-subset(melt(CARIdk,id.vars=c(\"dtpr\")),!is.na(value))\n",
    "CARIdm$wavelength<-gsub(\"interp_\",\"\",CARIdm$variable,fixed=TRUE)\n",
    "CARIdm$wavelength<-as.numeric(gsub(\"_c254.mean_turb\",\"\",CARIdm$wavelength,fixed=TRUE))\n",
    "\n",
    "\n",
    "\n",
    "str(CARIdm)"
   ]
  },
  {
   "cell_type": "markdown",
   "id": "clinical-immunology",
   "metadata": {},
   "source": [
    "# Trying some ridge plots to look at wavelength changes over time.\n",
    "So far not looking super great."
   ]
  },
  {
   "cell_type": "code",
   "execution_count": null,
   "id": "secret-lambda",
   "metadata": {},
   "outputs": [],
   "source": [
    "library(ggridges)\n",
    "#scales::rescale(height)\n",
    "CARIdm$dtprn<-scales::rescale(as.numeric(CARIdm$dtpr))\n",
    "CARIdm$abs<-scales::rescale(as.numeric(CARIdm$value))\n",
    "\n",
    "\n",
    "ggplot(subset(CARIdm,wavelength>=275&wavelength<=295),aes(x = wavelength, y = dtprn, group=dtprn,height = abs)) +\n",
    "  geom_ridgeline(fill=\"grey80\",alpha=0.6)\n",
    "\n",
    "ggsave(\"~/neon_suna/plots/CARIdm_ridge.pdf\",width = 20, height = 40, units = \"cm\")\n"
   ]
  },
  {
   "cell_type": "markdown",
   "id": "introductory-standing",
   "metadata": {},
   "source": [
    "# Calculating spectral slope 275-295nm on each time step."
   ]
  },
  {
   "cell_type": "code",
   "execution_count": null,
   "id": "civilian-necessity",
   "metadata": {},
   "outputs": [],
   "source": [
    "names(CARId)\n",
    "names(CARIdm)"
   ]
  },
  {
   "cell_type": "code",
   "execution_count": null,
   "id": "smaller-cholesterol",
   "metadata": {},
   "outputs": [],
   "source": [
    "ssm_275_295<-subset(CARIdm,wavelength>=275&wavelength<=295)\n",
    "dtps<-unique(ssm_275_295$dtpr)\n",
    "pb <- progress_bar$new(\n",
    "\tformat = \"  downloading [:bar] :percent eta: :eta\",\n",
    "\ttotal = length(dtps), clear = FALSE, width= 60)\n",
    "s275295_comp<-data.frame()\n",
    "\n",
    "\n",
    "for(i in 1:length(dtps)){\n",
    "\tssm_now<-subset(ssm_275_295,dtpr==dtps[i])\n",
    "\t\n",
    "\tssm_now$am1<-ssm_now$value*100*2.3025851\n",
    "\tssm_now$lnam1<-log(ssm_now$am1)\n",
    "\n",
    "\n",
    "\tif(sum(!is.na(ssm_now$lnam1))>2){\n",
    "\t\ts275295<-lm(ssm_now$lnam1~ssm_now$wavelength)$coefficients[2]*-1\n",
    "\t\t}else{s275295<-NA}\n",
    "\t\ts275295_temp<-data.frame(dtpr=dtps[i],s275295=s275295)\n",
    "\t\ts275295_comp<-bind_rows(s275295_comp,s275295_temp)\n",
    "#\t\tpb$tick()\n",
    "}\t\n",
    "\t\n"
   ]
  },
  {
   "cell_type": "code",
   "execution_count": null,
   "id": "australian-repository",
   "metadata": {},
   "outputs": [],
   "source": [
    "nrow(s275295_comp)\n",
    "nrow(CARI_swtpar)\n",
    "CARI_swtp_ss<-merge(CARI_swtpar,s275295_comp,by=\"dtpr\",all.x=TRUE)\n",
    "saveRDS(CARI_swtp_ss,paste(data,\"CARI_swtp_ss.rds\",sep=\"\"))"
   ]
  },
  {
   "cell_type": "markdown",
   "id": "hispanic-livestock",
   "metadata": {},
   "source": [
    "# Extracting spectral daily slope ratio discrepancy."
   ]
  },
  {
   "cell_type": "code",
   "execution_count": null,
   "id": "satisfied-associate",
   "metadata": {},
   "outputs": [],
   "source": [
    "sdates<-unique(as.Date(CARI_swtp_ss$dtpr,tz=\"Etc/GMT+5\"))\n",
    "\n",
    "#i<-30\n",
    "comp_df<-data.frame()\n",
    "for(i in 1:length(sdates)){\n",
    "#print(i)\n",
    "start<-as.POSIXct(paste(sdates[i]-1,\"22:00\",tz=\"Etc/GMT+5\"))\n",
    "finish<-as.POSIXct(paste(sdates[i]+1,\"03:00\",tz=\"Etc/GMT+5\"))\n",
    "CARIday<-subset(CARI_swtp_ss,dtpr>=start & dtpr<=finish)\n",
    "CARIday<-subset(CARIday,!is.na(PARMean.mean) & !is.na(s275295))\n",
    "\n",
    "if(nrow(CARIday)>80){\n",
    "    CARIday$PAR_roll<-as.numeric(c(\"NA\",rollmean(CARIday$PARMean.mean,k=3,align=c(\"center\"),na.fill=TRUE),\"NA\"))\n",
    "    CARIday$s275295_roll<-as.numeric(c(\"NA\",rollmean(CARIday$s275295,k=3,align=c(\"center\"),na.fill=TRUE),\"NA\"))\n",
    "\n",
    "\n",
    "\n",
    "    CARI_night<-subset(CARIday,PARMean.mean<200)\n",
    "    night_s275295<-mean(CARI_night$s275295,na.rm=TRUE)\n",
    "    \n",
    "    #CARIday$baseline<-predict(lm(s275295~dtpr,CARI_night),CARIday)\n",
    "    CARIday$baseline_roll<-predict(lm(s275295_roll~dtpr,CARI_night),CARIday)    \n",
    "    CARIday$s275295_bs<-CARIday$s275295_roll-CARIday$baseline_roll    \n",
    "    \n",
    "    CARI_night_am<-subset(CARI_night,hour(dtpr)<=12)\n",
    "    night_s275295_am<-mean(CARI_night_am$s275295,na.rm=TRUE)\n",
    "    \n",
    "    CARI_night_pm<-subset(CARI_night,hour(dtpr)>12)\n",
    "    night_s275295_pm<-mean(CARI_night_pm$s275295,na.rm=TRUE)\n",
    "    \n",
    "    CARI_day<-subset(CARIday,PARMean.mean>=10)\n",
    "    day_s275295<-mean(CARI_day$s275295,na.rm=TRUE)\n",
    "\n",
    "    day_s275295_base_sum<-sum(CARI_day$s275295_bs,na.rm=TRUE)\n",
    "    day_PAR_roll_base_sum<-sum(CARI_day$PAR_roll,na.rm=TRUE)    \n",
    "\n",
    "    int<-lm(s275295_bs~PAR_roll,CARI_day)$coef[1]\n",
    "    slope<-lm(s275295_bs~PAR_roll,CARI_day)$coef[2]    \n",
    "    \n",
    "    CARI_n_am_time<-nrow(CARI_night_am)\n",
    "    CARI_n_pm_time<-nrow(CARI_night_pm)\n",
    "    CARI_d_time<-nrow(CARI_day)\n",
    "    \n",
    "    temp_df<-data.frame(site=\"CARI\",date=sdates[i],night_s275295=night_s275295,night_s275295_am=night_s275295_am,night_s275295_pm=night_s275295_pm,day_s275295=day_s275295,day_s275295_base_sum=day_s275295_base_sum,day_PAR_roll_base_sum=day_PAR_roll_base_sum,int=int,slope=slope,CARI_n_am_time=CARI_n_am_time,CARI_n_pm_time=CARI_n_pm_time,CARI_d_time=CARI_d_time)\n",
    "    comp_df<-bind_rows(comp_df,temp_df)\n",
    "    }\n",
    "}\n",
    "\n",
    "\n"
   ]
  },
  {
   "cell_type": "code",
   "execution_count": null,
   "id": "competitive-rescue",
   "metadata": {},
   "outputs": [],
   "source": [
    "    CARI_day$s275295_bs\n",
    "ggplot(comp_df,aes(date,day_s275295_base_sum))+\n",
    "       geom_point(size=2)\n",
    "ggplot(comp_df,aes(date,day_PAR_roll_base_sum))+\n",
    "       geom_point(size=2)\n",
    "\n",
    "\n",
    "ggplot(comp_df,aes(day_PAR_roll_base_sum,day_s275295_base_sum))+\n",
    "geom_point()\n",
    "\n",
    "\n",
    "saveRDS(comp_df,paste(data,\"comp_df_cari.rds\",sep=\"\"))"
   ]
  },
  {
   "cell_type": "code",
   "execution_count": null,
   "id": "damaged-petroleum",
   "metadata": {},
   "outputs": [],
   "source": [
    "CARIday<-subset(CARI_swtp_ss,as.Date(dtpr,tz=\"Etc/GMT+5\")==as.Date(\"2019-06-11\",tz=\"Etc/GMT+5\"))\n",
    "nrow(CARIday)\n",
    "\n",
    "str(CARIday$s275295)\n",
    "\n",
    "\n",
    "\n",
    "ggplot(CARIday,aes(dtpr,s275295))+\n",
    "geom_point()\n",
    "\n",
    "\n",
    "ggplot(CARIday,aes(dtpr,PARMean.mean))+\n",
    "geom_point()\n",
    "\n"
   ]
  }
 ],
 "metadata": {
  "kernelspec": {
   "display_name": "R",
   "language": "R",
   "name": "ir"
  },
  "language_info": {
   "codemirror_mode": "r",
   "file_extension": ".r",
   "mimetype": "text/x-r-source",
   "name": "R",
   "pygments_lexer": "r",
   "version": "4.0.4"
  }
 },
 "nbformat": 4,
 "nbformat_minor": 5
}
