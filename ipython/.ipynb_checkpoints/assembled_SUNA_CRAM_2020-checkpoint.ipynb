{
 "cells": [
  {
   "cell_type": "markdown",
   "id": "patient-lewis",
   "metadata": {},
   "source": [
    "# Identify working and data directory and site ID.\n",
    "* The working directory is the root directory of the github.\n",
    "* The data directory points to the google drive folder where the larger data files are stored.\n",
    "* For the moment the site ID if the four-digit NEON site ID."
   ]
  },
  {
   "cell_type": "code",
   "execution_count": 4,
   "id": "pursuant-asian",
   "metadata": {},
   "outputs": [],
   "source": [
    "working<-\"~/neon_suna\"\n",
    "working_data<-\"/Users/jhosen/gdrive/SUNA_Data/\"\n",
    "site_id<-\"CRAM\"\n",
    "#data<-paste(\"~/gdrive/SUNA_Data/SUNA_NEON/\",site_id,\"/2019\",sep=\"\")\n",
    "data<-paste(working_data,\"/SUNA_NEON/CRAM_2020/\",sep=\"\")\n",
    "\n",
    "save<-paste(working_data,\"/corrected_files/\",sep=\"\")"
   ]
  },
  {
   "cell_type": "markdown",
   "id": "exposed-franchise",
   "metadata": {},
   "source": [
    "# Initialize required libraries, functions and formatting utilities."
   ]
  },
  {
   "cell_type": "code",
   "execution_count": 3,
   "id": "turned-expert",
   "metadata": {},
   "outputs": [],
   "source": [
    "library(dplyr)\n",
    "library(streamMetabolizer)\n",
    "library(splitstackshape)\n",
    "library(ggplot2)\n",
    "library(lubridate)\n",
    "library(reshape2)\n",
    "library(neonUtilities)\n",
    "library(progress)\n",
    "library(patchwork)\n",
    "library(doBy)\n",
    "library(stringr)\n",
    "library(zoo)\n",
    "\n",
    "\n",
    "theme_ts_space<-theme_grey() +\n",
    "\t\ttheme(\n",
    "#\t\tpanel.grid.major = element_blank(),\n",
    "#\t\tpanel.grid.minor = element_blank(),\n",
    "\t\tpanel.background = element_rect(fill=\"white\", colour=\"black\", size=2),\n",
    "#\t\tlegend.key       = element_blank(),\n",
    "#\t\tlegend.text      = element_text(size=20.5),\n",
    "#\t\tlegend.text      = element_blank(),\n",
    "#\t\tlegend.title     = element_text(size=20.5),\n",
    "\t\taxis.text.x = element_text(size=22,colour=\"black\",hjust=1,angle=45),\n",
    "\t\taxis.text.y = element_text(size=22,colour=\"black\",vjust=.3),\n",
    "\t\taxis.title.x = element_text(size=22),\n",
    "\t\taxis.title.y = element_text(size=22,vjust=-1),\n",
    "#\t\tplot.title = element_text(hjust = 0.5,size=22,face=\"bold\"),\t\t\n",
    "#\t\tlegend.position  = \"left\",\n",
    "\t\tlegend.position  = \"none\",\n",
    "\t\tplot.margin = unit(c(1,1,1,1), \"cm\"),\n",
    "\t\tpanel.border = element_rect(colour = \"black\", fill=NA, size=2)\n",
    "\t\t)\n",
    "\n",
    "\n",
    "\n"
   ]
  },
  {
   "cell_type": "markdown",
   "id": "colored-oasis",
   "metadata": {},
   "source": [
    "# Setting up the workspace\n",
    "In the cell below indicate the site that will be analyzed here according to its NEON 4-letter code. A list of files for that site is then placed in the vector \"sunas\".\n",
    "\n",
    "If you downloaded the repo into your home director, which is found by going to \"~/\", then you don\"t have to change the box path. FYI: Box is a new package for R that allows you to define a set of functions without creating a new package."
   ]
  },
  {
   "cell_type": "code",
   "execution_count": 5,
   "id": "sorted-immune",
   "metadata": {},
   "outputs": [],
   "source": [
    "\n",
    "#setwd(paste(\"~/gdrive/SUNA_data/SUNA_NEON/\",site_id,sep=\"\"))\n",
    "#sunas<-list.files(pattern=\"*.csv\")\n",
    "#getwd()\n",
    "#options(box.path = \"~/neon_suna/box/\")\n",
    "#box::use(plots)\n",
    "\n",
    "setwd(data)\n",
    "sunas<-list.files(pattern=\"*.CSV\")\n",
    "\n",
    "#suna_cal<-readRDS(\"/Users/jhosen/gdrive/fdom/SUNA Calibration pdfs/suna_cal_comb.rds\")\n",
    "#suna_cal<-read.csv(\"/Users/jhosen/gdrive/SUNA_Data/SUNA Calibration pdfs/suna_0839_20190312.csv\")\n",
    "#suna_cal_t<-as.data.frame(t(suna_cal))\n",
    "#names(suna_cal_t)<-suna_cal_t[1,]"
   ]
  },
  {
   "cell_type": "code",
   "execution_count": null,
   "id": "forced-clone",
   "metadata": {},
   "outputs": [],
   "source": []
  },
  {
   "cell_type": "markdown",
   "id": "ready-prague",
   "metadata": {},
   "source": [
    "# Data import and processing loop.\n",
    "This step loads each data file, formats the data for use, and concatenates files from an individual site.\n",
    "\n",
    "This step could take a while."
   ]
  },
  {
   "cell_type": "code",
   "execution_count": null,
   "id": "e25489a1-59cd-470f-929c-f8d62341073c",
   "metadata": {},
   "outputs": [],
   "source": [
    "paste(\"/Users/jhosen/gdrive/SUNA_Data/SUNA_NEON/CRAM_2020/cal_files/\",cal,\"_abbr.csv\",sep=\"\")"
   ]
  },
  {
   "cell_type": "code",
   "execution_count": null,
   "id": "d3056490-6ee9-4737-a1f1-b958fc7cb62d",
   "metadata": {},
   "outputs": [],
   "source": [
    "cal\n",
    "paste(\"/Users/jhosen/gdrive/SUNA_Data/SUNA_NEON/CRAM_2020/cal_files/\",cal,\"_abbr.csv\",sep=\"\")\n",
    "sunas[i]"
   ]
  },
  {
   "cell_type": "code",
   "execution_count": 18,
   "id": "recreational-international",
   "metadata": {
    "tags": []
   },
   "outputs": [
    {
     "name": "stdout",
     "output_type": "stream",
     "text": [
      "[1] 1\n",
      "[1] 2\n",
      "[1] 3\n",
      "[1] 4\n",
      "[1] 5\n",
      "[1] 6\n",
      "[1] 7\n",
      "[1] 8\n",
      "[1] 9\n",
      "[1] 10\n",
      "[1] 11\n",
      "[1] 12\n",
      "[1] 13\n",
      "[1] 14\n",
      "[1] 15\n",
      "[1] 16\n",
      "[1] 17\n",
      "[1] 18\n",
      "[1] 19\n",
      "[1] 20\n",
      "[1] 21\n",
      "[1] 22\n",
      "[1] 23\n",
      "[1] 24\n",
      "[1] 25\n",
      "[1] 26\n",
      "[1] 27\n",
      "[1] 28\n",
      "[1] 29\n",
      "[1] 30\n",
      "[1] 31\n",
      "[1] 32\n",
      "[1] 33\n",
      "[1] 34\n",
      "[1] 35\n",
      "[1] 36\n",
      "[1] 37\n",
      "[1] 38\n",
      "[1] 39\n",
      "[1] 40\n",
      "[1] 41\n",
      "[1] 42\n",
      "[1] 43\n",
      "[1] 44\n",
      "[1] 45\n",
      "[1] 46\n",
      "[1] 47\n",
      "[1] 48\n",
      "[1] 49\n",
      "[1] 50\n",
      "[1] 51\n",
      "[1] 52\n",
      "[1] 53\n",
      "[1] 54\n",
      "[1] 55\n",
      "[1] 56\n",
      "[1] 57\n",
      "[1] \"done\"\n"
     ]
    }
   ],
   "source": [
    "options(warn=-1)\n",
    "compiled_suna<-data.frame()\n",
    "sunas_length<-length(sunas)\n",
    "for(i in 1:sunas_length){\n",
    "#i<-1\n",
    "print(i)\n",
    "\n",
    "\n",
    "suna_calid<-read.csv(paste(sunas[i]),skip=0,header=FALSE)\n",
    "cal<-str_extract(suna_calid,\"[SNA]{3}[0-9]{4}[a-zA-Z]{1}\")\n",
    "cal<-cal[!is.na(cal)]\n",
    "    \n",
    "    \n",
    "suna<-read.csv(paste(sunas[i]),skip=30,header=FALSE)\n",
    "\n",
    "if(cal!=\"SNA1026F\" & cal!=\"SNA0563C\" & cal!=\"SNA0563D\"){suna_cal<-read.csv(paste(\"/Users/jhosen/gdrive/SUNA_Data/SUNA_NEON/CRAM_2020/cal_files/\",cal,\"_abbr.csv\",sep=\"\"))}else if(cal==\"SNA1026F\"){\n",
    "    suna_cal<-read.csv(\"/Users/jhosen/gdrive/SUNA_Data/SUNA_NEON/CRAM_2020/CAL_files/SNA1026G_abbr.csv\")} else if (cal==\"SNA0563C\" | cal==\"SNA0563D\"){\n",
    "    suna_cal<-read.csv(\"/Users/jhosen/gdrive/SUNA_Data/SUNA_NEON/CRAM_2020/CAL_files/SNA0563E_abbr.csv\")}\n",
    "\n",
    "\n",
    "\n",
    "    \n",
    "    \n",
    "suna_cal_t<-as.data.frame(t(suna_cal))\n",
    "names(suna_cal_t)<-suna_cal_t[1,]\n",
    "\n",
    "#suna_d0<-cSplit(suna,3, \",\")\n",
    "names(suna)<-c(\"suna_id\",\"date\",\"time\",\"nitrate\",\"nitrate_mgl\",\"a254\",\"a350\",\"bromide_trace\",\"spec_average_dark\",\"dark_signal_average\",\"int_time\",suna_cal$wavelength_nm,\"sensor_temp\",\"spec_temp\",\"lamp_temp\",\"lamp_time\",\"rel_hum\",\"main_volt\",\"lamp_volt\",\"int_volt\",\"main_current\",\"fit_aux_1\",\"fit_aux_2\",\"fit_base_1\",\"fit_base_2\",\"fit_RMSE\",\"CTD_Time\",\"CTD_Salinity\",\"CTD_Temp\",\"CTD_Pressure\",\"checksum\")\n",
    "\n",
    "    \n",
    "#suna<-subset(suna,a254!=0)\n",
    "\n",
    "suna<-subset(suna,a254!=0)\n",
    "    \n",
    "#year<-substr(suna$date, 1, 4)\n",
    "if(grepl(\"D2019\",sunas[i])==TRUE){\n",
    "year<-\"2019\"\n",
    "doy<-gsub(\".CSV\",\"\",gsub(\"D2019\",\"\",paste(sunas[i]),fixed=TRUE),fixed=TRUE)\n",
    "}\n",
    "    \n",
    "if(grepl(\"D2020\",sunas[i])==TRUE){\n",
    "year<-\"2020\"\n",
    "doy<-gsub(\".CSV\",\"\",gsub(\"D2020\",\"\",paste(sunas[i]),fixed=TRUE),fixed=TRUE)\n",
    "}\n",
    "\n",
    "day<-as.POSIXct(paste(as.Date(as.numeric(doy)-1,origin=paste(year,\"-01-01\",sep=\"\")),\"00:00:00\"),tz=\"UTC\")\n",
    "#suna$day<-as.POSIXct(\"2019-05-10 00:00:00\",tz=\"UTC\")\n",
    "suna$dtp<-day + (3600*as.numeric(suna$time))\n",
    "#attr(suna$dtp,\"tzone\") <- \"Etc/GMT+8\"\n",
    "\n",
    "    \n",
    "\n",
    "offse<-c(t(suna_cal_t[3,]))\n",
    "suna2<-(suna[,12:267]/suna$int_time)-suna$dark_signal_average\n",
    "suna_d0_norm<-sweep(suna2,2,FUN=\"/\",offse)\n",
    "names(suna_d0_norm)<-paste(\"n_\",names(suna_cal_t),sep=\"\")\n",
    "\n",
    "    \n",
    "\n",
    "#print(\"test\")\n",
    "suna_d0_int<-data.frame()\n",
    "for(j in 1:nrow(suna_d0_norm)){\t\n",
    "#    print(j)\n",
    "    if(!is.na(suna_d0_norm[j,1])){\n",
    "\tflip<-as.data.frame(t(suna_d0_norm[j,]))\n",
    "\tnames(flip)<-c(\"abs\")\n",
    "\tflip$wl_nm<-gsub(\"n_\",\"\",row.names(flip),fixed=TRUE)\n",
    "\tflip_int<-as.data.frame(t(approx(flip$wl_nm,flip$abs,xout=seq(189,394,1),rule=2)$y))\n",
    "\tnames(flip_int)<-paste(\"interp_\",seq(189,394,1),sep=\"\")\n",
    "\tsuna_d0_int<-bind_rows(suna_d0_int,flip_int)\n",
    "    }else{\n",
    "        flip_int[1,]<-NA\n",
    "       \tsuna_d0_int<-bind_rows(suna_d0_int,flip_int)\n",
    "    }\n",
    "}\n",
    "suna_d<-bind_cols(suna,suna_d0_int)\n",
    "#suna_d$date<-as.character(suna_d[,c(\"date\")])\n",
    "#suna_d$time<-as.character(suna_d[,c(\"time\")])\n",
    "suna_d2<-suna_d %>% mutate_if(is.numeric,as.character)\n",
    "suna_d2$cal<-cal\n",
    "compiled_suna<-bind_rows(compiled_suna,suna_d2)\n",
    "}\n",
    "print(\"done\")\n",
    "options(warn=0)    \n",
    "    \n",
    "    \n",
    "    \n"
   ]
  },
  {
   "cell_type": "markdown",
   "id": "swiss-rough",
   "metadata": {},
   "source": [
    "# Check Data and Save"
   ]
  },
  {
   "cell_type": "code",
   "execution_count": 19,
   "id": "thermal-connectivity",
   "metadata": {},
   "outputs": [],
   "source": [
    "#head(compiled_suna)\n",
    "#grepl(\"D2020\",sunas[240])\n",
    "#sunas[240]\n",
    "#length(sunas)\n",
    "#sunas[240]\n",
    "#ncol(compiled_suna)\n",
    "#nrow(compiled_suna)\n",
    "#names(compiled_suna)<-gsub(\"inter_time\",\"int_time\",names(compiled_suna),fixed=TRUE)\n",
    "#saveRDS(compiled_suna,\"/Users/jhosen/gdrive/SUNA_Data/SUNA_NEON/CRAM_2020/CRAM_corrected/SUNA_CRAM_20210428_full.rds\")\n",
    "saveRDS(compiled_suna,paste(save,\"/SUNA_Cor/\",\"SUNA_CRAM_2020_20210701_full.rds\",sep=\"\"))\n",
    "compiled_suna<-readRDS(paste(save,\"/SUNA_Cor/\",\"SUNA_CRAM_2020_20210701_full.rds\",sep=\"\"))\n"
   ]
  },
  {
   "cell_type": "code",
   "execution_count": 20,
   "id": "8f14f500-94ac-489e-9ca6-cb954af11ef2",
   "metadata": {},
   "outputs": [
    {
     "data": {
      "text/html": [
       "<style>\n",
       ".list-inline {list-style: none; margin:0; padding: 0}\n",
       ".list-inline>li {display: inline-block}\n",
       ".list-inline>li:not(:last-child)::after {content: \"\\00b7\"; padding: 0 .5ex}\n",
       "</style>\n",
       "<ol class=list-inline><li>'SNA1026F'</li><li>'SNA1026F'</li><li>'SNA1026F'</li><li>'SNA1026F'</li><li>'SNA1026F'</li><li>'SNA1026F'</li></ol>\n"
      ],
      "text/latex": [
       "\\begin{enumerate*}\n",
       "\\item 'SNA1026F'\n",
       "\\item 'SNA1026F'\n",
       "\\item 'SNA1026F'\n",
       "\\item 'SNA1026F'\n",
       "\\item 'SNA1026F'\n",
       "\\item 'SNA1026F'\n",
       "\\end{enumerate*}\n"
      ],
      "text/markdown": [
       "1. 'SNA1026F'\n",
       "2. 'SNA1026F'\n",
       "3. 'SNA1026F'\n",
       "4. 'SNA1026F'\n",
       "5. 'SNA1026F'\n",
       "6. 'SNA1026F'\n",
       "\n",
       "\n"
      ],
      "text/plain": [
       "[1] \"SNA1026F\" \"SNA1026F\" \"SNA1026F\" \"SNA1026F\" \"SNA1026F\" \"SNA1026F\""
      ]
     },
     "metadata": {},
     "output_type": "display_data"
    }
   ],
   "source": [
    "head(compiled_suna$cal)"
   ]
  },
  {
   "cell_type": "markdown",
   "id": "solar-least",
   "metadata": {},
   "source": [
    "# Extracting the interpolated columns"
   ]
  },
  {
   "cell_type": "code",
   "execution_count": 55,
   "id": "piano-change",
   "metadata": {},
   "outputs": [],
   "source": [
    "\n",
    "\n",
    "suna_interp<-compiled_suna[,grepl(\"^inter\",names(compiled_suna))] %>% mutate_if(is.character, ~as.numeric(.))\n",
    "#head(suna_interp)\n",
    "\n",
    "other_suna<-compiled_suna[,c(\"suna_id\",\"date\",\"time\",\"nitrate\",\"nitrate_mgl\",\"a254\",\"a350\",\"bromide_trace\",\"spec_average_dark\",\"dark_signal_average\",\"int_time\",\"sensor_temp\",\"spec_temp\",\"lamp_temp\",\"lamp_time\",\"rel_hum\",\"main_volt\",\"lamp_volt\",\"int_volt\",\"main_current\",\"fit_aux_1\",\"fit_aux_2\",\"fit_base_1\",\"fit_base_2\",\"fit_RMSE\",\"CTD_Time\",\"CTD_Salinity\",\"CTD_Temp\",\"CTD_Pressure\",\"checksum\",\"cal\",\"dtp\")]\n",
    "\n",
    "suna_cols<-bind_cols(other_suna,suna_interp)\n",
    "suna_cols$a254<-as.numeric(suna_cols$a254)\n",
    "suna_cols$a350<-as.numeric(suna_cols$a350)\n",
    "suna_cols$nitrate<-as.numeric(suna_cols$nitrate)\n",
    "suna_cols$nitrate_mgl<-as.numeric(suna_cols$nitrate_mgl)\n",
    "suna_cols$sensor_temp<-as.numeric(suna_cols$sensor_temp)\n"
   ]
  },
  {
   "cell_type": "code",
   "execution_count": 54,
   "id": "e28676b9-a390-46ba-952c-41a53d3620bf",
   "metadata": {},
   "outputs": [
    {
     "data": {
      "text/plain": [
       "[1] \"2020-06-15 17:30:36 UTC\" \"2020-07-02 23:45:54 UTC\""
      ]
     },
     "metadata": {},
     "output_type": "display_data"
    },
    {
     "data": {
      "text/html": [
       "<style>\n",
       ".list-inline {list-style: none; margin:0; padding: 0}\n",
       ".list-inline>li {display: inline-block}\n",
       ".list-inline>li:not(:last-child)::after {content: \"\\00b7\"; padding: 0 .5ex}\n",
       "</style>\n",
       "<ol class=list-inline><li><time datetime=\"2020-06-15\">2020-06-15</time></li><li><time datetime=\"2020-06-16\">2020-06-16</time></li><li><time datetime=\"2020-06-17\">2020-06-17</time></li><li><time datetime=\"2020-06-18\">2020-06-18</time></li><li><time datetime=\"2020-07-02\">2020-07-02</time></li><li><time datetime=\"2020-07-03\">2020-07-03</time></li><li><time datetime=\"2020-07-04\">2020-07-04</time></li><li><time datetime=\"2020-07-05\">2020-07-05</time></li><li><time datetime=\"2020-07-14\">2020-07-14</time></li><li><time datetime=\"2020-07-23\">2020-07-23</time></li><li><time datetime=\"2020-07-30\">2020-07-30</time></li><li><time datetime=\"2020-08-07\">2020-08-07</time></li><li><time datetime=\"2020-08-08\">2020-08-08</time></li><li><time datetime=\"2020-08-09\">2020-08-09</time></li><li><time datetime=\"2020-08-10\">2020-08-10</time></li><li><time datetime=\"2020-08-11\">2020-08-11</time></li><li><time datetime=\"2020-08-12\">2020-08-12</time></li><li><time datetime=\"2020-08-13\">2020-08-13</time></li><li><time datetime=\"2020-08-14\">2020-08-14</time></li><li><time datetime=\"2020-08-15\">2020-08-15</time></li><li><time datetime=\"2020-08-16\">2020-08-16</time></li><li><time datetime=\"2020-08-17\">2020-08-17</time></li><li><time datetime=\"2020-08-18\">2020-08-18</time></li><li><time datetime=\"2020-08-19\">2020-08-19</time></li><li><time datetime=\"2020-08-20\">2020-08-20</time></li><li><time datetime=\"2020-08-21\">2020-08-21</time></li><li><time datetime=\"2020-08-22\">2020-08-22</time></li><li><time datetime=\"2020-08-23\">2020-08-23</time></li><li><time datetime=\"2020-08-24\">2020-08-24</time></li><li><time datetime=\"2020-08-25\">2020-08-25</time></li><li><time datetime=\"2020-09-24\">2020-09-24</time></li><li><time datetime=\"2020-09-25\">2020-09-25</time></li><li><time datetime=\"2020-09-26\">2020-09-26</time></li><li><time datetime=\"2020-09-27\">2020-09-27</time></li><li><time datetime=\"2020-09-28\">2020-09-28</time></li><li><time datetime=\"2020-09-29\">2020-09-29</time></li><li><time datetime=\"2020-09-30\">2020-09-30</time></li><li><time datetime=\"2020-10-01\">2020-10-01</time></li><li><time datetime=\"2020-10-02\">2020-10-02</time></li><li><time datetime=\"2020-10-03\">2020-10-03</time></li><li><time datetime=\"2020-10-04\">2020-10-04</time></li><li><time datetime=\"2020-10-05\">2020-10-05</time></li><li><time datetime=\"2020-10-06\">2020-10-06</time></li><li><time datetime=\"2020-10-07\">2020-10-07</time></li><li><time datetime=\"2020-10-08\">2020-10-08</time></li><li><time datetime=\"2020-10-09\">2020-10-09</time></li><li><time datetime=\"2020-10-10\">2020-10-10</time></li><li><time datetime=\"2020-10-11\">2020-10-11</time></li><li><time datetime=\"2020-10-12\">2020-10-12</time></li><li><time datetime=\"2020-10-13\">2020-10-13</time></li><li><time datetime=\"2020-10-14\">2020-10-14</time></li><li><time datetime=\"2020-10-15\">2020-10-15</time></li><li><time datetime=\"2020-10-16\">2020-10-16</time></li><li><time datetime=\"2020-10-17\">2020-10-17</time></li><li><time datetime=\"2020-10-18\">2020-10-18</time></li><li><time datetime=\"2020-10-19\">2020-10-19</time></li><li><time datetime=\"2020-10-20\">2020-10-20</time></li><li><time datetime=\"2020-10-21\">2020-10-21</time></li></ol>\n"
      ],
      "text/latex": [
       "\\begin{enumerate*}\n",
       "\\item 2020-06-15\n",
       "\\item 2020-06-16\n",
       "\\item 2020-06-17\n",
       "\\item 2020-06-18\n",
       "\\item 2020-07-02\n",
       "\\item 2020-07-03\n",
       "\\item 2020-07-04\n",
       "\\item 2020-07-05\n",
       "\\item 2020-07-14\n",
       "\\item 2020-07-23\n",
       "\\item 2020-07-30\n",
       "\\item 2020-08-07\n",
       "\\item 2020-08-08\n",
       "\\item 2020-08-09\n",
       "\\item 2020-08-10\n",
       "\\item 2020-08-11\n",
       "\\item 2020-08-12\n",
       "\\item 2020-08-13\n",
       "\\item 2020-08-14\n",
       "\\item 2020-08-15\n",
       "\\item 2020-08-16\n",
       "\\item 2020-08-17\n",
       "\\item 2020-08-18\n",
       "\\item 2020-08-19\n",
       "\\item 2020-08-20\n",
       "\\item 2020-08-21\n",
       "\\item 2020-08-22\n",
       "\\item 2020-08-23\n",
       "\\item 2020-08-24\n",
       "\\item 2020-08-25\n",
       "\\item 2020-09-24\n",
       "\\item 2020-09-25\n",
       "\\item 2020-09-26\n",
       "\\item 2020-09-27\n",
       "\\item 2020-09-28\n",
       "\\item 2020-09-29\n",
       "\\item 2020-09-30\n",
       "\\item 2020-10-01\n",
       "\\item 2020-10-02\n",
       "\\item 2020-10-03\n",
       "\\item 2020-10-04\n",
       "\\item 2020-10-05\n",
       "\\item 2020-10-06\n",
       "\\item 2020-10-07\n",
       "\\item 2020-10-08\n",
       "\\item 2020-10-09\n",
       "\\item 2020-10-10\n",
       "\\item 2020-10-11\n",
       "\\item 2020-10-12\n",
       "\\item 2020-10-13\n",
       "\\item 2020-10-14\n",
       "\\item 2020-10-15\n",
       "\\item 2020-10-16\n",
       "\\item 2020-10-17\n",
       "\\item 2020-10-18\n",
       "\\item 2020-10-19\n",
       "\\item 2020-10-20\n",
       "\\item 2020-10-21\n",
       "\\end{enumerate*}\n"
      ],
      "text/markdown": [
       "1. 2020-06-15\n",
       "2. 2020-06-16\n",
       "3. 2020-06-17\n",
       "4. 2020-06-18\n",
       "5. 2020-07-02\n",
       "6. 2020-07-03\n",
       "7. 2020-07-04\n",
       "8. 2020-07-05\n",
       "9. 2020-07-14\n",
       "10. 2020-07-23\n",
       "11. 2020-07-30\n",
       "12. 2020-08-07\n",
       "13. 2020-08-08\n",
       "14. 2020-08-09\n",
       "15. 2020-08-10\n",
       "16. 2020-08-11\n",
       "17. 2020-08-12\n",
       "18. 2020-08-13\n",
       "19. 2020-08-14\n",
       "20. 2020-08-15\n",
       "21. 2020-08-16\n",
       "22. 2020-08-17\n",
       "23. 2020-08-18\n",
       "24. 2020-08-19\n",
       "25. 2020-08-20\n",
       "26. 2020-08-21\n",
       "27. 2020-08-22\n",
       "28. 2020-08-23\n",
       "29. 2020-08-24\n",
       "30. 2020-08-25\n",
       "31. 2020-09-24\n",
       "32. 2020-09-25\n",
       "33. 2020-09-26\n",
       "34. 2020-09-27\n",
       "35. 2020-09-28\n",
       "36. 2020-09-29\n",
       "37. 2020-09-30\n",
       "38. 2020-10-01\n",
       "39. 2020-10-02\n",
       "40. 2020-10-03\n",
       "41. 2020-10-04\n",
       "42. 2020-10-05\n",
       "43. 2020-10-06\n",
       "44. 2020-10-07\n",
       "45. 2020-10-08\n",
       "46. 2020-10-09\n",
       "47. 2020-10-10\n",
       "48. 2020-10-11\n",
       "49. 2020-10-12\n",
       "50. 2020-10-13\n",
       "51. 2020-10-14\n",
       "52. 2020-10-15\n",
       "53. 2020-10-16\n",
       "54. 2020-10-17\n",
       "55. 2020-10-18\n",
       "56. 2020-10-19\n",
       "57. 2020-10-20\n",
       "58. 2020-10-21\n",
       "\n",
       "\n"
      ],
      "text/plain": [
       " [1] \"2020-06-15\" \"2020-06-16\" \"2020-06-17\" \"2020-06-18\" \"2020-07-02\"\n",
       " [6] \"2020-07-03\" \"2020-07-04\" \"2020-07-05\" \"2020-07-14\" \"2020-07-23\"\n",
       "[11] \"2020-07-30\" \"2020-08-07\" \"2020-08-08\" \"2020-08-09\" \"2020-08-10\"\n",
       "[16] \"2020-08-11\" \"2020-08-12\" \"2020-08-13\" \"2020-08-14\" \"2020-08-15\"\n",
       "[21] \"2020-08-16\" \"2020-08-17\" \"2020-08-18\" \"2020-08-19\" \"2020-08-20\"\n",
       "[26] \"2020-08-21\" \"2020-08-22\" \"2020-08-23\" \"2020-08-24\" \"2020-08-25\"\n",
       "[31] \"2020-09-24\" \"2020-09-25\" \"2020-09-26\" \"2020-09-27\" \"2020-09-28\"\n",
       "[36] \"2020-09-29\" \"2020-09-30\" \"2020-10-01\" \"2020-10-02\" \"2020-10-03\"\n",
       "[41] \"2020-10-04\" \"2020-10-05\" \"2020-10-06\" \"2020-10-07\" \"2020-10-08\"\n",
       "[46] \"2020-10-09\" \"2020-10-10\" \"2020-10-11\" \"2020-10-12\" \"2020-10-13\"\n",
       "[51] \"2020-10-14\" \"2020-10-15\" \"2020-10-16\" \"2020-10-17\" \"2020-10-18\"\n",
       "[56] \"2020-10-19\" \"2020-10-20\" \"2020-10-21\""
      ]
     },
     "metadata": {},
     "output_type": "display_data"
    },
    {
     "data": {
      "text/plain": [
       "NULL"
      ]
     },
     "metadata": {},
     "output_type": "display_data"
    },
    {
     "data": {
      "text/html": [
       "<style>\n",
       ".list-inline {list-style: none; margin:0; padding: 0}\n",
       ".list-inline>li {display: inline-block}\n",
       ".list-inline>li:not(:last-child)::after {content: \"\\00b7\"; padding: 0 .5ex}\n",
       "</style>\n",
       "<ol class=list-inline><li>'D2020167.CSV'</li><li>'D2020168.CSV'</li><li>'D2020169.CSV'</li><li>'D2020170.CSV'</li><li>'D2020184.CSV'</li><li>'D2020185.CSV'</li><li>'D2020186.CSV'</li><li>'D2020187.CSV'</li><li>'D2020196.CSV'</li><li>'D2020205.CSV'</li><li>'D2020220.CSV'</li><li>'D2020221.CSV'</li><li>'D2020222.CSV'</li><li>'D2020223.CSV'</li><li>'D2020224.CSV'</li><li>'D2020225.CSV'</li><li>'D2020226.CSV'</li><li>'D2020227.CSV'</li><li>'D2020228.CSV'</li><li>'D2020229.CSV'</li><li>'D2020230.CSV'</li><li>'D2020231.CSV'</li><li>'D2020232.CSV'</li><li>'D2020233.CSV'</li><li>'D2020234.CSV'</li><li>'D2020235.CSV'</li><li>'D2020236.CSV'</li><li>'D2020237.CSV'</li><li>'D2020238.CSV'</li><li>'D2020268.CSV'</li><li>'D2020269.CSV'</li><li>'D2020270.CSV'</li><li>'D2020271.CSV'</li><li>'D2020272.CSV'</li><li>'D2020273.CSV'</li><li>'D2020274.CSV'</li><li>'D2020275.CSV'</li><li>'D2020276.CSV'</li><li>'D2020277.CSV'</li><li>'D2020278.CSV'</li><li>'D2020279.CSV'</li><li>'D2020280.CSV'</li><li>'D2020281.CSV'</li><li>'D2020282.CSV'</li><li>'D2020283.CSV'</li><li>'D2020284.CSV'</li><li>'D2020285.CSV'</li><li>'D2020286.CSV'</li><li>'D2020287.CSV'</li><li>'D2020288.CSV'</li><li>'D2020289.CSV'</li><li>'D2020290.CSV'</li><li>'D2020291.CSV'</li><li>'D2020292.CSV'</li><li>'D2020293.CSV'</li><li>'D2020294.CSV'</li><li>'D2020295.CSV'</li></ol>\n"
      ],
      "text/latex": [
       "\\begin{enumerate*}\n",
       "\\item 'D2020167.CSV'\n",
       "\\item 'D2020168.CSV'\n",
       "\\item 'D2020169.CSV'\n",
       "\\item 'D2020170.CSV'\n",
       "\\item 'D2020184.CSV'\n",
       "\\item 'D2020185.CSV'\n",
       "\\item 'D2020186.CSV'\n",
       "\\item 'D2020187.CSV'\n",
       "\\item 'D2020196.CSV'\n",
       "\\item 'D2020205.CSV'\n",
       "\\item 'D2020220.CSV'\n",
       "\\item 'D2020221.CSV'\n",
       "\\item 'D2020222.CSV'\n",
       "\\item 'D2020223.CSV'\n",
       "\\item 'D2020224.CSV'\n",
       "\\item 'D2020225.CSV'\n",
       "\\item 'D2020226.CSV'\n",
       "\\item 'D2020227.CSV'\n",
       "\\item 'D2020228.CSV'\n",
       "\\item 'D2020229.CSV'\n",
       "\\item 'D2020230.CSV'\n",
       "\\item 'D2020231.CSV'\n",
       "\\item 'D2020232.CSV'\n",
       "\\item 'D2020233.CSV'\n",
       "\\item 'D2020234.CSV'\n",
       "\\item 'D2020235.CSV'\n",
       "\\item 'D2020236.CSV'\n",
       "\\item 'D2020237.CSV'\n",
       "\\item 'D2020238.CSV'\n",
       "\\item 'D2020268.CSV'\n",
       "\\item 'D2020269.CSV'\n",
       "\\item 'D2020270.CSV'\n",
       "\\item 'D2020271.CSV'\n",
       "\\item 'D2020272.CSV'\n",
       "\\item 'D2020273.CSV'\n",
       "\\item 'D2020274.CSV'\n",
       "\\item 'D2020275.CSV'\n",
       "\\item 'D2020276.CSV'\n",
       "\\item 'D2020277.CSV'\n",
       "\\item 'D2020278.CSV'\n",
       "\\item 'D2020279.CSV'\n",
       "\\item 'D2020280.CSV'\n",
       "\\item 'D2020281.CSV'\n",
       "\\item 'D2020282.CSV'\n",
       "\\item 'D2020283.CSV'\n",
       "\\item 'D2020284.CSV'\n",
       "\\item 'D2020285.CSV'\n",
       "\\item 'D2020286.CSV'\n",
       "\\item 'D2020287.CSV'\n",
       "\\item 'D2020288.CSV'\n",
       "\\item 'D2020289.CSV'\n",
       "\\item 'D2020290.CSV'\n",
       "\\item 'D2020291.CSV'\n",
       "\\item 'D2020292.CSV'\n",
       "\\item 'D2020293.CSV'\n",
       "\\item 'D2020294.CSV'\n",
       "\\item 'D2020295.CSV'\n",
       "\\end{enumerate*}\n"
      ],
      "text/markdown": [
       "1. 'D2020167.CSV'\n",
       "2. 'D2020168.CSV'\n",
       "3. 'D2020169.CSV'\n",
       "4. 'D2020170.CSV'\n",
       "5. 'D2020184.CSV'\n",
       "6. 'D2020185.CSV'\n",
       "7. 'D2020186.CSV'\n",
       "8. 'D2020187.CSV'\n",
       "9. 'D2020196.CSV'\n",
       "10. 'D2020205.CSV'\n",
       "11. 'D2020220.CSV'\n",
       "12. 'D2020221.CSV'\n",
       "13. 'D2020222.CSV'\n",
       "14. 'D2020223.CSV'\n",
       "15. 'D2020224.CSV'\n",
       "16. 'D2020225.CSV'\n",
       "17. 'D2020226.CSV'\n",
       "18. 'D2020227.CSV'\n",
       "19. 'D2020228.CSV'\n",
       "20. 'D2020229.CSV'\n",
       "21. 'D2020230.CSV'\n",
       "22. 'D2020231.CSV'\n",
       "23. 'D2020232.CSV'\n",
       "24. 'D2020233.CSV'\n",
       "25. 'D2020234.CSV'\n",
       "26. 'D2020235.CSV'\n",
       "27. 'D2020236.CSV'\n",
       "28. 'D2020237.CSV'\n",
       "29. 'D2020238.CSV'\n",
       "30. 'D2020268.CSV'\n",
       "31. 'D2020269.CSV'\n",
       "32. 'D2020270.CSV'\n",
       "33. 'D2020271.CSV'\n",
       "34. 'D2020272.CSV'\n",
       "35. 'D2020273.CSV'\n",
       "36. 'D2020274.CSV'\n",
       "37. 'D2020275.CSV'\n",
       "38. 'D2020276.CSV'\n",
       "39. 'D2020277.CSV'\n",
       "40. 'D2020278.CSV'\n",
       "41. 'D2020279.CSV'\n",
       "42. 'D2020280.CSV'\n",
       "43. 'D2020281.CSV'\n",
       "44. 'D2020282.CSV'\n",
       "45. 'D2020283.CSV'\n",
       "46. 'D2020284.CSV'\n",
       "47. 'D2020285.CSV'\n",
       "48. 'D2020286.CSV'\n",
       "49. 'D2020287.CSV'\n",
       "50. 'D2020288.CSV'\n",
       "51. 'D2020289.CSV'\n",
       "52. 'D2020290.CSV'\n",
       "53. 'D2020291.CSV'\n",
       "54. 'D2020292.CSV'\n",
       "55. 'D2020293.CSV'\n",
       "56. 'D2020294.CSV'\n",
       "57. 'D2020295.CSV'\n",
       "\n",
       "\n"
      ],
      "text/plain": [
       " [1] \"D2020167.CSV\" \"D2020168.CSV\" \"D2020169.CSV\" \"D2020170.CSV\" \"D2020184.CSV\"\n",
       " [6] \"D2020185.CSV\" \"D2020186.CSV\" \"D2020187.CSV\" \"D2020196.CSV\" \"D2020205.CSV\"\n",
       "[11] \"D2020220.CSV\" \"D2020221.CSV\" \"D2020222.CSV\" \"D2020223.CSV\" \"D2020224.CSV\"\n",
       "[16] \"D2020225.CSV\" \"D2020226.CSV\" \"D2020227.CSV\" \"D2020228.CSV\" \"D2020229.CSV\"\n",
       "[21] \"D2020230.CSV\" \"D2020231.CSV\" \"D2020232.CSV\" \"D2020233.CSV\" \"D2020234.CSV\"\n",
       "[26] \"D2020235.CSV\" \"D2020236.CSV\" \"D2020237.CSV\" \"D2020238.CSV\" \"D2020268.CSV\"\n",
       "[31] \"D2020269.CSV\" \"D2020270.CSV\" \"D2020271.CSV\" \"D2020272.CSV\" \"D2020273.CSV\"\n",
       "[36] \"D2020274.CSV\" \"D2020275.CSV\" \"D2020276.CSV\" \"D2020277.CSV\" \"D2020278.CSV\"\n",
       "[41] \"D2020279.CSV\" \"D2020280.CSV\" \"D2020281.CSV\" \"D2020282.CSV\" \"D2020283.CSV\"\n",
       "[46] \"D2020284.CSV\" \"D2020285.CSV\" \"D2020286.CSV\" \"D2020287.CSV\" \"D2020288.CSV\"\n",
       "[51] \"D2020289.CSV\" \"D2020290.CSV\" \"D2020291.CSV\" \"D2020292.CSV\" \"D2020293.CSV\"\n",
       "[56] \"D2020294.CSV\" \"D2020295.CSV\""
      ]
     },
     "metadata": {},
     "output_type": "display_data"
    }
   ],
   "source": [
    "range(subset(suna_cols,cal==\"SNA1026F\")$dtp)\n",
    "unique(as.Date(suna_cols$dtp))\n",
    "unique(suna_cols$doy)\n",
    "sunas"
   ]
  },
  {
   "cell_type": "code",
   "execution_count": null,
   "id": "adjusted-gravity",
   "metadata": {},
   "outputs": [],
   "source": [
    "range(suna_cols$a254)\n",
    "range(suna_cols$interp_254)\n",
    "suna_cols$interp_254\n",
    "names(suna_cols)"
   ]
  },
  {
   "cell_type": "code",
   "execution_count": 56,
   "id": "infrared-bennett",
   "metadata": {
    "tags": []
   },
   "outputs": [],
   "source": [
    "suna_cols<-subset(suna_cols,a350<10 & a254<10)\n",
    "a350_mod<-lm(a350~log10(interp_350)+I(log10(interp_350)^2)+I(log10(interp_350)^3),suna_cols)\n",
    "a254_mod<-lm(a254~log10(interp_254+0.6)+I(log10(interp_254+0.6)^2)+I(log10(interp_254+0.6)^3),suna_cols)\n",
    "\n",
    "\n",
    "\n",
    "cor_cols<-grep(\"^interp_\",names(suna_cols))\n"
   ]
  },
  {
   "cell_type": "code",
   "execution_count": 57,
   "id": "5dc0f0b6-0a50-43bd-a9f1-5d1ebf3c5de9",
   "metadata": {},
   "outputs": [
    {
     "data": {
      "text/plain": [
       "\n",
       "Call:\n",
       "lm(formula = a254 ~ log10(interp_254 + 0.6) + I(log10(interp_254 + \n",
       "    0.6)^2) + I(log10(interp_254 + 0.6)^3), data = suna_cols)\n",
       "\n",
       "Residuals:\n",
       "      Min        1Q    Median        3Q       Max \n",
       "-0.129476 -0.005308 -0.001636  0.004270  0.231205 \n",
       "\n",
       "Coefficients:\n",
       "                               Estimate Std. Error t value Pr(>|t|)    \n",
       "(Intercept)                   -0.732756   0.007315 -100.17   <2e-16 ***\n",
       "log10(interp_254 + 0.6)       13.941045   0.121224  115.00   <2e-16 ***\n",
       "I(log10(interp_254 + 0.6)^2) -70.279652   0.655272 -107.25   <2e-16 ***\n",
       "I(log10(interp_254 + 0.6)^3)  98.945749   1.161568   85.18   <2e-16 ***\n",
       "---\n",
       "Signif. codes:  0 ‘***’ 0.001 ‘**’ 0.01 ‘*’ 0.05 ‘.’ 0.1 ‘ ’ 1\n",
       "\n",
       "Residual standard error: 0.01487 on 97332 degrees of freedom\n",
       "Multiple R-squared:  0.8188,\tAdjusted R-squared:  0.8188 \n",
       "F-statistic: 1.466e+05 on 3 and 97332 DF,  p-value: < 2.2e-16\n"
      ]
     },
     "metadata": {},
     "output_type": "display_data"
    },
    {
     "data": {
      "text/plain": [
       "     Min.   1st Qu.    Median      Mean   3rd Qu.      Max. \n",
       "-0.129476 -0.005308 -0.001636  0.000000  0.004270  0.231205 "
      ]
     },
     "metadata": {},
     "output_type": "display_data"
    },
    {
     "data": {
      "text/plain": [
       "\n",
       "Call:\n",
       "lm(formula = a350 ~ log10(interp_350) + I(log10(interp_350)^2) + \n",
       "    I(log10(interp_350)^3), data = suna_cols)\n",
       "\n",
       "Residuals:\n",
       "      Min        1Q    Median        3Q       Max \n",
       "-0.314134 -0.001757  0.000137  0.001908  0.116037 \n",
       "\n",
       "Coefficients:\n",
       "                         Estimate Std. Error t value Pr(>|t|)    \n",
       "(Intercept)             1.800e-02  6.946e-05  259.15   <2e-16 ***\n",
       "log10(interp_350)      -7.757e-02  2.928e-03  -26.49   <2e-16 ***\n",
       "I(log10(interp_350)^2) -9.790e-01  5.726e-02  -17.10   <2e-16 ***\n",
       "I(log10(interp_350)^3) -1.030e+02  6.959e-01 -148.06   <2e-16 ***\n",
       "---\n",
       "Signif. codes:  0 ‘***’ 0.001 ‘**’ 0.01 ‘*’ 0.05 ‘.’ 0.1 ‘ ’ 1\n",
       "\n",
       "Residual standard error: 0.009438 on 97332 degrees of freedom\n",
       "Multiple R-squared:  0.8836,\tAdjusted R-squared:  0.8836 \n",
       "F-statistic: 2.462e+05 on 3 and 97332 DF,  p-value: < 2.2e-16\n"
      ]
     },
     "metadata": {},
     "output_type": "display_data"
    },
    {
     "data": {
      "text/plain": [
       "      Min.    1st Qu.     Median       Mean    3rd Qu.       Max. \n",
       "-0.3141345 -0.0017571  0.0001372  0.0000000  0.0019076  0.1160374 "
      ]
     },
     "metadata": {},
     "output_type": "display_data"
    },
    {
     "data": {
      "image/png": "[encoded data removed]",
      "text/plain": [
       "plot without title"
      ]
     },
     "metadata": {
      "image/png": {
       "height": 420,
       "width": 420
      }
     },
     "output_type": "display_data"
    }
   ],
   "source": [
    "ggplot(suna_cols,aes(interp_254,a254))+geom_point(aes(color=cal))\n",
    "\n",
    "summary(a254_mod)\n",
    "summary(resid(a254_mod))\n",
    "\n",
    "summary(a350_mod)\n",
    "summary(resid(a350_mod))"
   ]
  },
  {
   "cell_type": "code",
   "execution_count": 63,
   "id": "responsible-mason",
   "metadata": {},
   "outputs": [
    {
     "data": {
      "image/png": "[encoded data removed]",
      "text/plain": [
       "Plot with title “Histogram of resid(a350_mod)”"
      ]
     },
     "metadata": {
      "image/png": {
       "height": 420,
       "width": 420
      }
     },
     "output_type": "display_data"
    }
   ],
   "source": [
    "#suna_cols$interp_254[abs(resid(a254_mod))>0.02]<-NA\n",
    "#suna_cols$interp_350[abs(resid(a350_mod))>0.02]<-NA\n",
    "\n",
    "par(bg = 'white')\n",
    "hist(resid(a350_mod))\n",
    "\n",
    "suna_cols_1<-suna_cols[abs(resid(a254_mod))<0.05,]\n",
    "suna_cols_2<-suna_cols[(resid(a254_mod))>0.05,]\n",
    "suna_cols_3<-suna_cols[(resid(a254_mod))<=-0.05,]\n",
    "\n",
    "\n",
    "a350_mod_1<-lm(a350~log10(interp_350)+I(log10(interp_350)^2)+I(log10(interp_350)^3),suna_cols_1)\n",
    "a254_mod_1<-lm(a254~log10(interp_254)+I(log10(interp_254)^2)+I(log10(interp_254)^3),suna_cols_1)\n",
    "\n",
    "a350_mod_2<-lm(a350~log10(interp_350)+I(log10(interp_350)^2)+I(log10(interp_350)^3),suna_cols_2)\n",
    "a254_mod_2<-lm(a254~log10(interp_254)+I(log10(interp_254)^2)+I(log10(interp_254)^3),suna_cols_2)\n",
    "\n",
    "a350_mod_3<-lm(a350~log10(interp_350)+I(log10(interp_350)^2)+I(log10(interp_350)^3),suna_cols_3)\n",
    "a254_mod_3<-lm(a254~log10(interp_254)+I(log10(interp_254)^2)+I(log10(interp_254)^3),suna_cols_3)\n",
    "\n",
    "#summary(a350_mod_1)\n",
    "#summary(a254_mod_1)\n",
    "\n",
    "#summary(a350_mod_2)\n",
    "#summary(a254_mod_2)\n",
    "\n",
    "#summary(a350_mod_3)\n",
    "#summary(a254_mod_3)"
   ]
  },
  {
   "cell_type": "code",
   "execution_count": 67,
   "id": "ca0cff87-986d-4206-bc12-68674eb80cb9",
   "metadata": {},
   "outputs": [],
   "source": [
    "options(warn=-1)\n",
    "\n",
    "\n",
    "#compiled_suna2[,c(cor_cols)]<-compiled_suna2[,c(cor_cols)] %>% mutate_if(is.character,as.numeric)\n",
    "\n",
    "for(i in 1:length(cor_cols)){\n",
    "\tprepdata<-data.frame(interp_350=suna_cols_1[,cor_cols[i]],interp_254=suna_cols_1[,cor_cols[i]])\n",
    "\ta350_pred<-predict(a350_mod_1,newdata=prepdata)\n",
    "\ta254_pred<-predict(a254_mod_1,newdata=prepdata)\n",
    "\tsuna_cols_1[,c(paste(names(suna_cols_1)[cor_cols[i]],\"_c350\",sep=\"\"))]<-a350_pred\n",
    "\tsuna_cols_1[,c(paste(names(suna_cols_1)[cor_cols[i]],\"_c254\",sep=\"\"))]<-a254_pred\n",
    "}\n",
    "\n",
    "options(warn=0)"
   ]
  },
  {
   "cell_type": "code",
   "execution_count": 68,
   "id": "severe-spouse",
   "metadata": {
    "tags": []
   },
   "outputs": [],
   "source": [
    "options(warn=-1)\n",
    "\n",
    "\n",
    "#compiled_suna2[,c(cor_cols)]<-compiled_suna2[,c(cor_cols)] %>% mutate_if(is.character,as.numeric)\n",
    "\n",
    "for(i in 1:length(cor_cols)){\n",
    "\tprepdata<-data.frame(interp_350=suna_cols_2[,cor_cols[i]],interp_254=suna_cols_2[,cor_cols[i]])\n",
    "\ta350_pred<-predict(a350_mod_2,newdata=prepdata)\n",
    "\ta254_pred<-predict(a254_mod_2,newdata=prepdata)\n",
    "\tsuna_cols_2[,c(paste(names(suna_cols_2)[cor_cols[i]],\"_c350\",sep=\"\"))]<-a350_pred\n",
    "\tsuna_cols_2[,c(paste(names(suna_cols_2)[cor_cols[i]],\"_c254\",sep=\"\"))]<-a254_pred\n",
    "}\n",
    "\n",
    "options(warn=0)"
   ]
  },
  {
   "cell_type": "code",
   "execution_count": 70,
   "id": "6c270d65-e595-4ee2-8e32-a2ca37179ae9",
   "metadata": {},
   "outputs": [],
   "source": [
    "options(warn=-1)\n",
    "\n",
    "\n",
    "#compiled_suna2[,c(cor_cols)]<-compiled_suna2[,c(cor_cols)] %>% mutate_if(is.character,as.numeric)\n",
    "\n",
    "for(i in 1:length(cor_cols)){\n",
    "\tprepdata<-data.frame(interp_350=suna_cols_3[,cor_cols[i]],interp_254=suna_cols_3[,cor_cols[i]])\n",
    "\ta350_pred<-predict(a350_mod_3,newdata=prepdata)\n",
    "\ta254_pred<-predict(a254_mod_3,newdata=prepdata)\n",
    "\tsuna_cols_3[,c(paste(names(suna_cols_3)[cor_cols[i]],\"_c350\",sep=\"\"))]<-a350_pred\n",
    "\tsuna_cols_3[,c(paste(names(suna_cols_3)[cor_cols[i]],\"_c254\",sep=\"\"))]<-a254_pred\n",
    "}\n",
    "\n",
    "options(warn=0)"
   ]
  },
  {
   "cell_type": "code",
   "execution_count": 73,
   "id": "3d51908a-11e7-4513-ab88-b65a07566129",
   "metadata": {},
   "outputs": [
    {
     "data": {
      "text/html": [
       "97336"
      ],
      "text/latex": [
       "97336"
      ],
      "text/markdown": [
       "97336"
      ],
      "text/plain": [
       "[1] 97336"
      ]
     },
     "metadata": {},
     "output_type": "display_data"
    }
   ],
   "source": [
    "suna_cols_0<-bind_rows(suna_cols_1,suna_cols_2,suna_cols_3)\n",
    "nrow(suna_cols_0)\n"
   ]
  },
  {
   "cell_type": "markdown",
   "id": "productive-planning",
   "metadata": {},
   "source": [
    "# Reducing data down to 15 minutes intervals.\n",
    "We want to average down each burst from the SUNA to a single value and mac sure that these values are snapped to 15 minutes intervals (e.g., rather than round up or down to 14 or 16)."
   ]
  },
  {
   "cell_type": "code",
   "execution_count": null,
   "id": "informed-spice",
   "metadata": {},
   "outputs": [],
   "source": [
    "head(suna_cols)"
   ]
  },
  {
   "cell_type": "code",
   "execution_count": 74,
   "id": "decimal-henry",
   "metadata": {},
   "outputs": [],
   "source": [
    "#rm(compiled_suna)\n",
    "#rm(compiled_suna_1)\n",
    "#rm(compiled_suna_2)\n",
    "\n",
    "suna_cols_0$dtpr<-lubridate::round_date(suna_cols_0$dtp, \"15 minutes\")\n",
    "suna_red<-summaryBy(.~dtpr,suna_cols_0,FUN=c(mean))\n",
    "\n"
   ]
  },
  {
   "cell_type": "code",
   "execution_count": null,
   "id": "charming-transsexual",
   "metadata": {},
   "outputs": [],
   "source": [
    "#unique(as.Date(suna_red$dtpr))"
   ]
  },
  {
   "cell_type": "markdown",
   "id": "published-distributor",
   "metadata": {},
   "source": [
    "# Downloading turbidity time series data from NEON.\n",
    "Data product DP1.20288.001 for general water quality sonde data."
   ]
  },
  {
   "cell_type": "code",
   "execution_count": 75,
   "id": "moving-leather",
   "metadata": {},
   "outputs": [
    {
     "name": "stdout",
     "output_type": "stream",
     "text": [
      "Finding available files\n",
      "  |======================================================================| 100%\n",
      "\n",
      "Downloading files totaling approximately 25.756426 MB\n",
      "Downloading 30 files\n",
      "  |======================================================================| 100%\n",
      "\n",
      "Unpacking zip files using 1 cores.\n",
      "Stacking operation across a single core.\n",
      "Stacking table waq_instantaneous\n",
      "Stacking table ais_maintenance\n",
      "Merged the most recent publication of sensor position files for each site and saved to /stackedFiles\n",
      "Copied the most recent publication of variable definition file to /stackedFiles\n",
      "Finished: Stacked 2 data tables and 2 metadata tables!\n",
      "Stacking took 1.527649 secs\n"
     ]
    }
   ],
   "source": [
    "CRAM_wqs<-loadByProduct(dpID=\"DP1.20288.001\",site=\"CRAM\",check.size=F)\n",
    "saveRDS(CRAM_wqs,paste(data,\"/CRAM_wqs.rds\",sep=\"\"))\n",
    "CRAM_wqs<-readRDS(paste(data,\"/CRAM_wqs.rds\",sep=\"\"))\n"
   ]
  },
  {
   "cell_type": "code",
   "execution_count": 76,
   "id": "urban-queens",
   "metadata": {},
   "outputs": [
    {
     "name": "stdout",
     "output_type": "stream",
     "text": [
      "'data.frame':\t32384 obs. of  7 variables:\n",
      " $ dtpr                    : POSIXct, format: \"2017-11-01 17:00:00\" \"2017-11-01 17:15:00\" ...\n",
      " $ specificConductance.mean: num  15 12.1 12.1 12.1 12.1 ...\n",
      " $ dissolvedOxygen.mean    : num  7.37 9.89 9.91 9.92 9.97 ...\n",
      " $ pH.mean                 : num  5.63 5.76 5.76 5.76 5.76 ...\n",
      " $ chlorophyll.mean        : num  1.69 2.94 2.05 2.01 1.68 ...\n",
      " $ turbidity.mean          : num  -1.13 -1.34 -1.31 -1.3 -1.3 ...\n",
      " $ fDOM.mean               : num  NA NA NA NA NA NA NA NA NA NA ...\n"
     ]
    }
   ],
   "source": [
    "CRAM_wqsd<-CRAM_wqs$waq_instantaneous\n",
    "CRAM_wqsd$dtp<-CRAM_wqsd$startDateTime\n",
    "CRAM_wqk<-subset(CRAM_wqsd[,c(\"siteID\",\"dtp\",\"specificConductance\",\"dissolvedOxygen\",\"pH\",\"chlorophyll\",\"turbidity\",\"fDOM\")],!is.na(CRAM_wqsd$specificConductance))\n",
    "#str(CRAM_wqk)\n",
    "\n",
    "CRAM_wqk$dtpr<-lubridate::round_date(CRAM_wqk$dtp, \"15 minutes\")\n",
    "CRAM_wq_red<-summaryBy(.~dtpr,CRAM_wqk,FUN=c(mean))\n",
    "str(CRAM_wq_red)"
   ]
  },
  {
   "cell_type": "code",
   "execution_count": 77,
   "id": "removable-earth",
   "metadata": {
    "tags": []
   },
   "outputs": [],
   "source": [
    "CRAM_sw<-merge(suna_red,CRAM_wq_red,by=\"dtpr\",all.x=TRUE)\n"
   ]
  },
  {
   "cell_type": "code",
   "execution_count": 78,
   "id": "cd3994a9-717d-4fa6-93bd-2e5b6912be70",
   "metadata": {},
   "outputs": [
    {
     "data": {
      "text/html": [
       "<table class=\"dataframe\">\n",
       "<caption>A data.frame: 6 × 630</caption>\n",
       "<thead>\n",
       "\t<tr><th></th><th scope=col>dtpr</th><th scope=col>nitrate.mean</th><th scope=col>nitrate_mgl.mean</th><th scope=col>a254.mean</th><th scope=col>a350.mean</th><th scope=col>sensor_temp.mean</th><th scope=col>interp_189.mean</th><th scope=col>interp_190.mean</th><th scope=col>interp_191.mean</th><th scope=col>interp_192.mean</th><th scope=col>⋯</th><th scope=col>interp_393_c350.mean</th><th scope=col>interp_393_c254.mean</th><th scope=col>interp_394_c350.mean</th><th scope=col>interp_394_c254.mean</th><th scope=col>specificConductance.mean</th><th scope=col>dissolvedOxygen.mean</th><th scope=col>pH.mean</th><th scope=col>chlorophyll.mean</th><th scope=col>turbidity.mean</th><th scope=col>fDOM.mean</th></tr>\n",
       "\t<tr><th></th><th scope=col>&lt;dttm&gt;</th><th scope=col>&lt;dbl&gt;</th><th scope=col>&lt;dbl&gt;</th><th scope=col>&lt;dbl&gt;</th><th scope=col>&lt;dbl&gt;</th><th scope=col>&lt;dbl&gt;</th><th scope=col>&lt;dbl&gt;</th><th scope=col>&lt;dbl&gt;</th><th scope=col>&lt;dbl&gt;</th><th scope=col>&lt;dbl&gt;</th><th scope=col>⋯</th><th scope=col>&lt;dbl&gt;</th><th scope=col>&lt;dbl&gt;</th><th scope=col>&lt;dbl&gt;</th><th scope=col>&lt;dbl&gt;</th><th scope=col>&lt;dbl&gt;</th><th scope=col>&lt;dbl&gt;</th><th scope=col>&lt;dbl&gt;</th><th scope=col>&lt;dbl&gt;</th><th scope=col>&lt;dbl&gt;</th><th scope=col>&lt;dbl&gt;</th></tr>\n",
       "</thead>\n",
       "<tbody>\n",
       "\t<tr><th scope=row>1</th><td>2020-06-15 17:30:00</td><td>3.417895</td><td>0.04787895</td><td>0.1294895</td><td>0.03061579</td><td>19.07368</td><td>-1.105263</td><td>-1.105263</td><td>-0.26715523</td><td>0.9168421</td><td>⋯</td><td>0.02616665</td><td>-0.01911471</td><td>0.02616068</td><td>-0.01972722</td><td>10.90000</td><td>10.19333</td><td>6.560000</td><td>3.290000</td><td>0.7133333</td><td>29.94000</td></tr>\n",
       "\t<tr><th scope=row>2</th><td>2020-06-15 17:45:00</td><td>3.370500</td><td>0.04722000</td><td>0.1263000</td><td>0.02781000</td><td>19.15000</td><td> 0.125000</td><td> 0.125000</td><td> 0.12031646</td><td>1.4720000</td><td>⋯</td><td>0.02603212</td><td>-0.02726550</td><td>0.02599422</td><td>-0.02857724</td><td>10.89667</td><td>10.21000</td><td>6.570000</td><td>2.820000</td><td>0.7300000</td><td>30.15000</td></tr>\n",
       "\t<tr><th scope=row>3</th><td>2020-06-15 18:00:00</td><td>3.279000</td><td>0.04593000</td><td>0.1266750</td><td>0.02793000</td><td>19.23500</td><td> 1.775000</td><td> 1.775000</td><td> 0.81487342</td><td>1.5640000</td><td>⋯</td><td>0.02600331</td><td>-0.02783797</td><td>0.02596545</td><td>-0.02903096</td><td>10.88333</td><td>10.23333</td><td>6.573333</td><td>2.573333</td><td>0.6566667</td><td>19.55667</td></tr>\n",
       "\t<tr><th scope=row>4</th><td>2020-06-15 18:15:00</td><td>3.290500</td><td>0.04610000</td><td>0.1271200</td><td>0.02843000</td><td>19.31000</td><td>-0.650000</td><td>-0.650000</td><td>-0.02240506</td><td>0.9300000</td><td>⋯</td><td>0.02604199</td><td>-0.02661867</td><td>0.02601837</td><td>-0.02717568</td><td>10.89000</td><td>10.22000</td><td>6.580000</td><td>2.636667</td><td>0.6400000</td><td>29.68667</td></tr>\n",
       "\t<tr><th scope=row>5</th><td>2020-06-15 18:30:00</td><td>3.261500</td><td>0.04569000</td><td>0.1274300</td><td>0.02858500</td><td>19.28500</td><td> 0.125000</td><td> 0.125000</td><td> 0.12968354</td><td>1.2530000</td><td>⋯</td><td>0.02604592</td><td>-0.02638169</td><td>0.02601441</td><td>-0.02734125</td><td>10.89000</td><td>10.22667</td><td>6.580000</td><td>2.860000</td><td>0.7133333</td><td>30.00333</td></tr>\n",
       "\t<tr><th scope=row>6</th><td>2020-06-15 18:45:00</td><td>3.229500</td><td>0.04523000</td><td>0.1276150</td><td>0.02848500</td><td>19.26500</td><td> 1.275000</td><td> 1.275000</td><td> 0.64272152</td><td>0.8710000</td><td>⋯</td><td>0.02604201</td><td>-0.02684738</td><td>0.02600690</td><td>-0.02803244</td><td>10.87667</td><td>10.24333</td><td>6.580000</td><td>2.616667</td><td>0.8033333</td><td>30.08000</td></tr>\n",
       "</tbody>\n",
       "</table>\n"
      ],
      "text/latex": [
       "A data.frame: 6 × 630\n",
       "\\begin{tabular}{r|lllllllllllllllllllll}\n",
       "  & dtpr & nitrate.mean & nitrate\\_mgl.mean & a254.mean & a350.mean & sensor\\_temp.mean & interp\\_189.mean & interp\\_190.mean & interp\\_191.mean & interp\\_192.mean & ⋯ & interp\\_393\\_c350.mean & interp\\_393\\_c254.mean & interp\\_394\\_c350.mean & interp\\_394\\_c254.mean & specificConductance.mean & dissolvedOxygen.mean & pH.mean & chlorophyll.mean & turbidity.mean & fDOM.mean\\\\\n",
       "  & <dttm> & <dbl> & <dbl> & <dbl> & <dbl> & <dbl> & <dbl> & <dbl> & <dbl> & <dbl> & ⋯ & <dbl> & <dbl> & <dbl> & <dbl> & <dbl> & <dbl> & <dbl> & <dbl> & <dbl> & <dbl>\\\\\n",
       "\\hline\n",
       "\t1 & 2020-06-15 17:30:00 & 3.417895 & 0.04787895 & 0.1294895 & 0.03061579 & 19.07368 & -1.105263 & -1.105263 & -0.26715523 & 0.9168421 & ⋯ & 0.02616665 & -0.01911471 & 0.02616068 & -0.01972722 & 10.90000 & 10.19333 & 6.560000 & 3.290000 & 0.7133333 & 29.94000\\\\\n",
       "\t2 & 2020-06-15 17:45:00 & 3.370500 & 0.04722000 & 0.1263000 & 0.02781000 & 19.15000 &  0.125000 &  0.125000 &  0.12031646 & 1.4720000 & ⋯ & 0.02603212 & -0.02726550 & 0.02599422 & -0.02857724 & 10.89667 & 10.21000 & 6.570000 & 2.820000 & 0.7300000 & 30.15000\\\\\n",
       "\t3 & 2020-06-15 18:00:00 & 3.279000 & 0.04593000 & 0.1266750 & 0.02793000 & 19.23500 &  1.775000 &  1.775000 &  0.81487342 & 1.5640000 & ⋯ & 0.02600331 & -0.02783797 & 0.02596545 & -0.02903096 & 10.88333 & 10.23333 & 6.573333 & 2.573333 & 0.6566667 & 19.55667\\\\\n",
       "\t4 & 2020-06-15 18:15:00 & 3.290500 & 0.04610000 & 0.1271200 & 0.02843000 & 19.31000 & -0.650000 & -0.650000 & -0.02240506 & 0.9300000 & ⋯ & 0.02604199 & -0.02661867 & 0.02601837 & -0.02717568 & 10.89000 & 10.22000 & 6.580000 & 2.636667 & 0.6400000 & 29.68667\\\\\n",
       "\t5 & 2020-06-15 18:30:00 & 3.261500 & 0.04569000 & 0.1274300 & 0.02858500 & 19.28500 &  0.125000 &  0.125000 &  0.12968354 & 1.2530000 & ⋯ & 0.02604592 & -0.02638169 & 0.02601441 & -0.02734125 & 10.89000 & 10.22667 & 6.580000 & 2.860000 & 0.7133333 & 30.00333\\\\\n",
       "\t6 & 2020-06-15 18:45:00 & 3.229500 & 0.04523000 & 0.1276150 & 0.02848500 & 19.26500 &  1.275000 &  1.275000 &  0.64272152 & 0.8710000 & ⋯ & 0.02604201 & -0.02684738 & 0.02600690 & -0.02803244 & 10.87667 & 10.24333 & 6.580000 & 2.616667 & 0.8033333 & 30.08000\\\\\n",
       "\\end{tabular}\n"
      ],
      "text/markdown": [
       "\n",
       "A data.frame: 6 × 630\n",
       "\n",
       "| <!--/--> | dtpr &lt;dttm&gt; | nitrate.mean &lt;dbl&gt; | nitrate_mgl.mean &lt;dbl&gt; | a254.mean &lt;dbl&gt; | a350.mean &lt;dbl&gt; | sensor_temp.mean &lt;dbl&gt; | interp_189.mean &lt;dbl&gt; | interp_190.mean &lt;dbl&gt; | interp_191.mean &lt;dbl&gt; | interp_192.mean &lt;dbl&gt; | ⋯ ⋯ | interp_393_c350.mean &lt;dbl&gt; | interp_393_c254.mean &lt;dbl&gt; | interp_394_c350.mean &lt;dbl&gt; | interp_394_c254.mean &lt;dbl&gt; | specificConductance.mean &lt;dbl&gt; | dissolvedOxygen.mean &lt;dbl&gt; | pH.mean &lt;dbl&gt; | chlorophyll.mean &lt;dbl&gt; | turbidity.mean &lt;dbl&gt; | fDOM.mean &lt;dbl&gt; |\n",
       "|---|---|---|---|---|---|---|---|---|---|---|---|---|---|---|---|---|---|---|---|---|---|\n",
       "| 1 | 2020-06-15 17:30:00 | 3.417895 | 0.04787895 | 0.1294895 | 0.03061579 | 19.07368 | -1.105263 | -1.105263 | -0.26715523 | 0.9168421 | ⋯ | 0.02616665 | -0.01911471 | 0.02616068 | -0.01972722 | 10.90000 | 10.19333 | 6.560000 | 3.290000 | 0.7133333 | 29.94000 |\n",
       "| 2 | 2020-06-15 17:45:00 | 3.370500 | 0.04722000 | 0.1263000 | 0.02781000 | 19.15000 |  0.125000 |  0.125000 |  0.12031646 | 1.4720000 | ⋯ | 0.02603212 | -0.02726550 | 0.02599422 | -0.02857724 | 10.89667 | 10.21000 | 6.570000 | 2.820000 | 0.7300000 | 30.15000 |\n",
       "| 3 | 2020-06-15 18:00:00 | 3.279000 | 0.04593000 | 0.1266750 | 0.02793000 | 19.23500 |  1.775000 |  1.775000 |  0.81487342 | 1.5640000 | ⋯ | 0.02600331 | -0.02783797 | 0.02596545 | -0.02903096 | 10.88333 | 10.23333 | 6.573333 | 2.573333 | 0.6566667 | 19.55667 |\n",
       "| 4 | 2020-06-15 18:15:00 | 3.290500 | 0.04610000 | 0.1271200 | 0.02843000 | 19.31000 | -0.650000 | -0.650000 | -0.02240506 | 0.9300000 | ⋯ | 0.02604199 | -0.02661867 | 0.02601837 | -0.02717568 | 10.89000 | 10.22000 | 6.580000 | 2.636667 | 0.6400000 | 29.68667 |\n",
       "| 5 | 2020-06-15 18:30:00 | 3.261500 | 0.04569000 | 0.1274300 | 0.02858500 | 19.28500 |  0.125000 |  0.125000 |  0.12968354 | 1.2530000 | ⋯ | 0.02604592 | -0.02638169 | 0.02601441 | -0.02734125 | 10.89000 | 10.22667 | 6.580000 | 2.860000 | 0.7133333 | 30.00333 |\n",
       "| 6 | 2020-06-15 18:45:00 | 3.229500 | 0.04523000 | 0.1276150 | 0.02848500 | 19.26500 |  1.275000 |  1.275000 |  0.64272152 | 0.8710000 | ⋯ | 0.02604201 | -0.02684738 | 0.02600690 | -0.02803244 | 10.87667 | 10.24333 | 6.580000 | 2.616667 | 0.8033333 | 30.08000 |\n",
       "\n"
      ],
      "text/plain": [
       "  dtpr                nitrate.mean nitrate_mgl.mean a254.mean a350.mean \n",
       "1 2020-06-15 17:30:00 3.417895     0.04787895       0.1294895 0.03061579\n",
       "2 2020-06-15 17:45:00 3.370500     0.04722000       0.1263000 0.02781000\n",
       "3 2020-06-15 18:00:00 3.279000     0.04593000       0.1266750 0.02793000\n",
       "4 2020-06-15 18:15:00 3.290500     0.04610000       0.1271200 0.02843000\n",
       "5 2020-06-15 18:30:00 3.261500     0.04569000       0.1274300 0.02858500\n",
       "6 2020-06-15 18:45:00 3.229500     0.04523000       0.1276150 0.02848500\n",
       "  sensor_temp.mean interp_189.mean interp_190.mean interp_191.mean\n",
       "1 19.07368         -1.105263       -1.105263       -0.26715523    \n",
       "2 19.15000          0.125000        0.125000        0.12031646    \n",
       "3 19.23500          1.775000        1.775000        0.81487342    \n",
       "4 19.31000         -0.650000       -0.650000       -0.02240506    \n",
       "5 19.28500          0.125000        0.125000        0.12968354    \n",
       "6 19.26500          1.275000        1.275000        0.64272152    \n",
       "  interp_192.mean ⋯ interp_393_c350.mean interp_393_c254.mean\n",
       "1 0.9168421       ⋯ 0.02616665           -0.01911471         \n",
       "2 1.4720000       ⋯ 0.02603212           -0.02726550         \n",
       "3 1.5640000       ⋯ 0.02600331           -0.02783797         \n",
       "4 0.9300000       ⋯ 0.02604199           -0.02661867         \n",
       "5 1.2530000       ⋯ 0.02604592           -0.02638169         \n",
       "6 0.8710000       ⋯ 0.02604201           -0.02684738         \n",
       "  interp_394_c350.mean interp_394_c254.mean specificConductance.mean\n",
       "1 0.02616068           -0.01972722          10.90000                \n",
       "2 0.02599422           -0.02857724          10.89667                \n",
       "3 0.02596545           -0.02903096          10.88333                \n",
       "4 0.02601837           -0.02717568          10.89000                \n",
       "5 0.02601441           -0.02734125          10.89000                \n",
       "6 0.02600690           -0.02803244          10.87667                \n",
       "  dissolvedOxygen.mean pH.mean  chlorophyll.mean turbidity.mean fDOM.mean\n",
       "1 10.19333             6.560000 3.290000         0.7133333      29.94000 \n",
       "2 10.21000             6.570000 2.820000         0.7300000      30.15000 \n",
       "3 10.23333             6.573333 2.573333         0.6566667      19.55667 \n",
       "4 10.22000             6.580000 2.636667         0.6400000      29.68667 \n",
       "5 10.22667             6.580000 2.860000         0.7133333      30.00333 \n",
       "6 10.24333             6.580000 2.616667         0.8033333      30.08000 "
      ]
     },
     "metadata": {},
     "output_type": "display_data"
    },
    {
     "data": {
      "text/html": [
       "4875"
      ],
      "text/latex": [
       "4875"
      ],
      "text/markdown": [
       "4875"
      ],
      "text/plain": [
       "[1] 4875"
      ]
     },
     "metadata": {},
     "output_type": "display_data"
    },
    {
     "data": {
      "text/html": [
       "'/Users/jhosen/gdrive/SUNA_Data//corrected_files/'"
      ],
      "text/latex": [
       "'/Users/jhosen/gdrive/SUNA\\_Data//corrected\\_files/'"
      ],
      "text/markdown": [
       "'/Users/jhosen/gdrive/SUNA_Data//corrected_files/'"
      ],
      "text/plain": [
       "[1] \"/Users/jhosen/gdrive/SUNA_Data//corrected_files/\""
      ]
     },
     "metadata": {},
     "output_type": "display_data"
    }
   ],
   "source": [
    "head(CRAM_sw)\n",
    "nrow(CRAM_sw)\n",
    "save"
   ]
  },
  {
   "cell_type": "code",
   "execution_count": 79,
   "id": "selected-thumbnail",
   "metadata": {},
   "outputs": [],
   "source": [
    "saveRDS(CRAM_sw,paste(save,\"/SUNA_sonde_merge/\",\"/CRAM_2020_SUNA_wq.rds\",sep=\"\"))"
   ]
  },
  {
   "cell_type": "markdown",
   "id": "viral-germany",
   "metadata": {},
   "source": [
    "# import and merge NEON water quality grab sample data."
   ]
  },
  {
   "cell_type": "markdown",
   "id": "medical-repair",
   "metadata": {},
   "source": [
    "### Downloading grab sample data and saving as rds file in data folder."
   ]
  },
  {
   "cell_type": "code",
   "execution_count": 37,
   "id": "electric-municipality",
   "metadata": {
    "tags": []
   },
   "outputs": [
    {
     "name": "stderr",
     "output_type": "stream",
     "text": [
      "\n",
      "Attaching package: ‘zoo’\n",
      "\n",
      "\n",
      "The following objects are masked from ‘package:base’:\n",
      "\n",
      "    as.Date, as.Date.numeric\n",
      "\n",
      "\n"
     ]
    },
    {
     "name": "stdout",
     "output_type": "stream",
     "text": [
      "Finding available files\n",
      "  |======================================================================| 100%\n",
      "\n",
      "Downloading files totaling approximately 2.954271 MB\n",
      "Downloading 59 files\n",
      "  |======================================================================| 100%\n",
      "\n",
      "Unpacking zip files using 1 cores.\n",
      "Stacking operation across a single core.\n",
      "Stacking table swc_domainLabData\n",
      "Stacking table swc_externalLabDataByAnalyte\n",
      "Stacking table swc_fieldData\n",
      "Stacking table swc_fieldSuperParent\n",
      "Copied the most recent publication of validation file to /stackedFiles\n",
      "Copied the most recent publication of categoricalCodes file to /stackedFiles\n",
      "Copied the most recent publication of variable definition file to /stackedFiles\n",
      "Finished: Stacked 4 data tables and 3 metadata tables!\n",
      "Stacking took 1.156745 secs\n"
     ]
    }
   ],
   "source": [
    "\n",
    "\n",
    "\n",
    "CRAM_wqg<-loadByProduct(dpID=\"DP1.20093.001\",site=\"CRAM\",check.size=F)\n",
    "saveRDS(CRAM_wqg,paste(data,\"/CRAM_wqg.rds\",sep=\"\"))\n",
    "CRAM_wqg<-readRDS(paste(data,\"/CRAM_wqg.rds\",sep=\"\"))\n",
    "\n"
   ]
  },
  {
   "cell_type": "markdown",
   "id": "recreational-pickup",
   "metadata": {},
   "source": [
    "### extracting lab analysis data"
   ]
  },
  {
   "cell_type": "code",
   "execution_count": 80,
   "id": "mighty-activity",
   "metadata": {},
   "outputs": [
    {
     "data": {
      "text/html": [
       "<style>\n",
       ".list-inline {list-style: none; margin:0; padding: 0}\n",
       ".list-inline>li {display: inline-block}\n",
       ".list-inline>li:not(:last-child)::after {content: \"\\00b7\"; padding: 0 .5ex}\n",
       "</style>\n",
       "<ol class=list-inline><li>'uid'</li><li>'domainID'</li><li>'siteID'</li><li>'namedLocation'</li><li>'sampleID'</li><li>'sampleCode'</li><li>'startDate'</li><li>'collectDate'</li><li>'laboratoryName'</li><li>'analyte'</li><li>'analyteConcentration'</li><li>'analyteUnits'</li><li>'coolerTemp'</li><li>'remarks'</li><li>'shipmentWarmQF'</li><li>'externalLabDataQF'</li><li>'sampleCondition'</li><li>'publicationDate'</li><li>'release'</li></ol>\n"
      ],
      "text/latex": [
       "\\begin{enumerate*}\n",
       "\\item 'uid'\n",
       "\\item 'domainID'\n",
       "\\item 'siteID'\n",
       "\\item 'namedLocation'\n",
       "\\item 'sampleID'\n",
       "\\item 'sampleCode'\n",
       "\\item 'startDate'\n",
       "\\item 'collectDate'\n",
       "\\item 'laboratoryName'\n",
       "\\item 'analyte'\n",
       "\\item 'analyteConcentration'\n",
       "\\item 'analyteUnits'\n",
       "\\item 'coolerTemp'\n",
       "\\item 'remarks'\n",
       "\\item 'shipmentWarmQF'\n",
       "\\item 'externalLabDataQF'\n",
       "\\item 'sampleCondition'\n",
       "\\item 'publicationDate'\n",
       "\\item 'release'\n",
       "\\end{enumerate*}\n"
      ],
      "text/markdown": [
       "1. 'uid'\n",
       "2. 'domainID'\n",
       "3. 'siteID'\n",
       "4. 'namedLocation'\n",
       "5. 'sampleID'\n",
       "6. 'sampleCode'\n",
       "7. 'startDate'\n",
       "8. 'collectDate'\n",
       "9. 'laboratoryName'\n",
       "10. 'analyte'\n",
       "11. 'analyteConcentration'\n",
       "12. 'analyteUnits'\n",
       "13. 'coolerTemp'\n",
       "14. 'remarks'\n",
       "15. 'shipmentWarmQF'\n",
       "16. 'externalLabDataQF'\n",
       "17. 'sampleCondition'\n",
       "18. 'publicationDate'\n",
       "19. 'release'\n",
       "\n",
       "\n"
      ],
      "text/plain": [
       " [1] \"uid\"                  \"domainID\"             \"siteID\"              \n",
       " [4] \"namedLocation\"        \"sampleID\"             \"sampleCode\"          \n",
       " [7] \"startDate\"            \"collectDate\"          \"laboratoryName\"      \n",
       "[10] \"analyte\"              \"analyteConcentration\" \"analyteUnits\"        \n",
       "[13] \"coolerTemp\"           \"remarks\"              \"shipmentWarmQF\"      \n",
       "[16] \"externalLabDataQF\"    \"sampleCondition\"      \"publicationDate\"     \n",
       "[19] \"release\"             "
      ]
     },
     "metadata": {},
     "output_type": "display_data"
    },
    {
     "data": {
      "text/html": [
       "<style>\n",
       ".list-inline {list-style: none; margin:0; padding: 0}\n",
       ".list-inline>li {display: inline-block}\n",
       ".list-inline>li:not(:last-child)::after {content: \"\\00b7\"; padding: 0 .5ex}\n",
       "</style>\n",
       "<ol class=list-inline><li>'collectDate'</li><li>'UV Absorbance (250 nm)'</li><li>'UV Absorbance (280 nm)'</li><li>'dtpr'</li></ol>\n"
      ],
      "text/latex": [
       "\\begin{enumerate*}\n",
       "\\item 'collectDate'\n",
       "\\item 'UV Absorbance (250 nm)'\n",
       "\\item 'UV Absorbance (280 nm)'\n",
       "\\item 'dtpr'\n",
       "\\end{enumerate*}\n"
      ],
      "text/markdown": [
       "1. 'collectDate'\n",
       "2. 'UV Absorbance (250 nm)'\n",
       "3. 'UV Absorbance (280 nm)'\n",
       "4. 'dtpr'\n",
       "\n",
       "\n"
      ],
      "text/plain": [
       "[1] \"collectDate\"            \"UV Absorbance (250 nm)\" \"UV Absorbance (280 nm)\"\n",
       "[4] \"dtpr\"                  "
      ]
     },
     "metadata": {},
     "output_type": "display_data"
    }
   ],
   "source": [
    "CRAM_wqg_d<-as.data.frame(CRAM_wqg$swc_externalLabDataByAnalyte)\n",
    "\n",
    "names(CRAM_wqg_d)\n",
    "\n",
    "uv_abs<-subset(CRAM_wqg_d,analyte==\"UV Absorbance (250 nm)\"|analyte==\"UV Absorbance (280 nm)\")\n",
    "date_cast<-dcast(uv_abs[,c(\"analyte\",\"collectDate\",\"analyteConcentration\")],collectDate~analyte,value.var=\"analyteConcentration\",mean)\n",
    "date_cast$dtpr<-lubridate::round_date(date_cast$collectDate, \"15 minutes\")\n",
    "\n",
    "names(date_cast)"
   ]
  },
  {
   "cell_type": "code",
   "execution_count": 81,
   "id": "brown-judge",
   "metadata": {},
   "outputs": [],
   "source": [
    "\n",
    "suna_grab<-merge(CRAM_sw,date_cast,by=\"dtpr\")\n",
    "\n",
    "#temp_nitrate_zoo<-zoo(nitrate$nitrate_umL,nitrate$dtp)\n",
    "#temp_n<-na.approx(temp_nitrate_zoo,xout=suna_red$dtp,na.rm=FALSE)\n",
    "#suna_grab[,c(\"UV Absorbance (250 nm)\")]\n",
    "names(suna_grab)<-gsub(\"UV Absorbance (250 nm)\",\"uva_250_lab\",names(suna_grab),fixed=TRUE)\n",
    "names(suna_grab)<-gsub(\"UV Absorbance (280 nm)\",\"uva_280_lab\",names(suna_grab),fixed=TRUE)\n",
    "\n"
   ]
  },
  {
   "cell_type": "code",
   "execution_count": 82,
   "id": "small-alliance",
   "metadata": {},
   "outputs": [
    {
     "data": {
      "text/html": [
       "<table class=\"dataframe\">\n",
       "<caption>A data.frame: 109 × 4</caption>\n",
       "<thead>\n",
       "\t<tr><th scope=col>collectDate</th><th scope=col>UV Absorbance (250 nm)</th><th scope=col>UV Absorbance (280 nm)</th><th scope=col>dtpr</th></tr>\n",
       "\t<tr><th scope=col>&lt;dttm&gt;</th><th scope=col>&lt;dbl&gt;</th><th scope=col>&lt;dbl&gt;</th><th scope=col>&lt;dttm&gt;</th></tr>\n",
       "</thead>\n",
       "<tbody>\n",
       "\t<tr><td>2015-05-05 15:30:00</td><td>0.1332</td><td>0.0858</td><td>2015-05-05 15:30:00</td></tr>\n",
       "\t<tr><td>2015-05-05 16:30:00</td><td>0.1325</td><td>0.0846</td><td>2015-05-05 16:30:00</td></tr>\n",
       "\t<tr><td>2015-05-05 19:45:00</td><td>0.1326</td><td>0.0850</td><td>2015-05-05 19:45:00</td></tr>\n",
       "\t<tr><td>2015-05-05 20:45:00</td><td>0.1308</td><td>0.0843</td><td>2015-05-05 20:45:00</td></tr>\n",
       "\t<tr><td>2015-06-02 15:00:00</td><td>0.1323</td><td>0.0850</td><td>2015-06-02 15:00:00</td></tr>\n",
       "\t<tr><td>2015-06-02 16:00:00</td><td>0.1378</td><td>0.0902</td><td>2015-06-02 16:00:00</td></tr>\n",
       "\t<tr><td>2015-06-02 17:15:00</td><td>0.1421</td><td>0.0941</td><td>2015-06-02 17:15:00</td></tr>\n",
       "\t<tr><td>2015-06-02 18:15:00</td><td>0.1391</td><td>0.0908</td><td>2015-06-02 18:15:00</td></tr>\n",
       "\t<tr><td>2015-06-29 15:15:00</td><td>    NA</td><td>    NA</td><td>2015-06-29 15:15:00</td></tr>\n",
       "\t<tr><td>2015-06-29 16:00:00</td><td>0.1424</td><td>0.0933</td><td>2015-06-29 16:00:00</td></tr>\n",
       "\t<tr><td>2016-10-18 14:15:00</td><td>0.1039</td><td>0.0704</td><td>2016-10-18 14:15:00</td></tr>\n",
       "\t<tr><td>2016-10-18 14:35:00</td><td>0.1066</td><td>0.0714</td><td>2016-10-18 14:30:00</td></tr>\n",
       "\t<tr><td>2016-10-18 15:20:00</td><td>0.1042</td><td>0.0709</td><td>2016-10-18 15:15:00</td></tr>\n",
       "\t<tr><td>2016-10-18 15:45:00</td><td>0.1183</td><td>0.0792</td><td>2016-10-18 15:45:00</td></tr>\n",
       "\t<tr><td>2016-11-08 15:55:00</td><td>0.1108</td><td>0.0716</td><td>2016-11-08 16:00:00</td></tr>\n",
       "\t<tr><td>2016-11-08 16:20:00</td><td>0.1102</td><td>0.0719</td><td>2016-11-08 16:15:00</td></tr>\n",
       "\t<tr><td>2016-11-08 17:15:00</td><td>0.1170</td><td>0.0777</td><td>2016-11-08 17:15:00</td></tr>\n",
       "\t<tr><td>2016-11-08 17:45:00</td><td>0.1537</td><td>0.1063</td><td>2016-11-08 17:45:00</td></tr>\n",
       "\t<tr><td>2016-11-21 15:10:00</td><td>0.1114</td><td>0.0811</td><td>2016-11-21 15:15:00</td></tr>\n",
       "\t<tr><td>2016-11-21 15:35:00</td><td>0.1086</td><td>0.0723</td><td>2016-11-21 15:30:00</td></tr>\n",
       "\t<tr><td>2016-11-21 16:15:00</td><td>0.1040</td><td>0.0677</td><td>2016-11-21 16:15:00</td></tr>\n",
       "\t<tr><td>2017-02-07 17:15:00</td><td>0.1493</td><td>0.1097</td><td>2017-02-07 17:15:00</td></tr>\n",
       "\t<tr><td>2017-03-08 15:30:00</td><td>0.0959</td><td>0.0639</td><td>2017-03-08 15:30:00</td></tr>\n",
       "\t<tr><td>2017-04-18 14:20:00</td><td>0.1345</td><td>0.0952</td><td>2017-04-18 14:15:00</td></tr>\n",
       "\t<tr><td>2017-04-18 14:55:00</td><td>0.1414</td><td>0.0972</td><td>2017-04-18 15:00:00</td></tr>\n",
       "\t<tr><td>2017-04-18 15:45:00</td><td>0.1159</td><td>0.0791</td><td>2017-04-18 15:45:00</td></tr>\n",
       "\t<tr><td>2017-04-18 16:30:00</td><td>0.1149</td><td>0.0770</td><td>2017-04-18 16:30:00</td></tr>\n",
       "\t<tr><td>2017-05-02 14:55:00</td><td>0.1314</td><td>0.0911</td><td>2017-05-02 15:00:00</td></tr>\n",
       "\t<tr><td>2017-05-02 15:25:00</td><td>0.1231</td><td>0.0843</td><td>2017-05-02 15:30:00</td></tr>\n",
       "\t<tr><td>2017-05-02 16:13:00</td><td>0.1192</td><td>0.0802</td><td>2017-05-02 16:15:00</td></tr>\n",
       "\t<tr><td>⋮</td><td>⋮</td><td>⋮</td><td>⋮</td></tr>\n",
       "\t<tr><td>2019-03-04 20:19:00</td><td>        NA</td><td>        NA</td><td>2019-03-04 20:15:00</td></tr>\n",
       "\t<tr><td>2019-05-01 15:11:00</td><td>0.12870000</td><td>0.08650000</td><td>2019-05-01 15:15:00</td></tr>\n",
       "\t<tr><td>2019-05-22 14:51:00</td><td>0.13380000</td><td>0.08940000</td><td>2019-05-22 14:45:00</td></tr>\n",
       "\t<tr><td>2019-05-22 15:15:00</td><td>0.11490000</td><td>0.07720000</td><td>2019-05-22 15:15:00</td></tr>\n",
       "\t<tr><td>2019-06-04 17:20:00</td><td>0.14400000</td><td>0.10010000</td><td>2019-06-04 17:15:00</td></tr>\n",
       "\t<tr><td>2019-06-04 17:42:00</td><td>0.12920000</td><td>0.08600000</td><td>2019-06-04 17:45:00</td></tr>\n",
       "\t<tr><td>2019-07-09 14:55:00</td><td>0.14715000</td><td>0.09890000</td><td>2019-07-09 15:00:00</td></tr>\n",
       "\t<tr><td>2019-07-09 15:20:00</td><td>0.15675000</td><td>0.10745000</td><td>2019-07-09 15:15:00</td></tr>\n",
       "\t<tr><td>2019-08-06 15:46:00</td><td>0.14300000</td><td>0.08650000</td><td>2019-08-06 15:45:00</td></tr>\n",
       "\t<tr><td>2019-08-06 16:06:00</td><td>0.16130000</td><td>0.10800000</td><td>2019-08-06 16:00:00</td></tr>\n",
       "\t<tr><td>2019-09-09 14:53:00</td><td>0.08726667</td><td>0.05836667</td><td>2019-09-09 15:00:00</td></tr>\n",
       "\t<tr><td>2019-09-09 15:43:00</td><td>0.11493333</td><td>0.07690000</td><td>2019-09-09 15:45:00</td></tr>\n",
       "\t<tr><td>2019-10-01 14:53:00</td><td>0.14010000</td><td>0.09550000</td><td>2019-10-01 15:00:00</td></tr>\n",
       "\t<tr><td>2019-10-01 15:06:00</td><td>0.15400000</td><td>0.10320000</td><td>2019-10-01 15:00:00</td></tr>\n",
       "\t<tr><td>2019-10-15 14:41:00</td><td>0.15733333</td><td>0.10443333</td><td>2019-10-15 14:45:00</td></tr>\n",
       "\t<tr><td>2019-10-15 15:10:00</td><td>0.15476667</td><td>0.10296667</td><td>2019-10-15 15:15:00</td></tr>\n",
       "\t<tr><td>2019-11-05 15:37:00</td><td>0.14230000</td><td>0.09420000</td><td>2019-11-05 15:30:00</td></tr>\n",
       "\t<tr><td>2020-01-06 17:24:00</td><td>       NaN</td><td>0.09500000</td><td>2020-01-06 17:30:00</td></tr>\n",
       "\t<tr><td>2020-02-03 16:47:00</td><td>       NaN</td><td>0.02580000</td><td>2020-02-03 16:45:00</td></tr>\n",
       "\t<tr><td>2020-03-02 15:55:00</td><td>       NaN</td><td>0.07510000</td><td>2020-03-02 16:00:00</td></tr>\n",
       "\t<tr><td>2020-07-06 13:35:00</td><td>       NaN</td><td>0.08963333</td><td>2020-07-06 13:30:00</td></tr>\n",
       "\t<tr><td>2020-07-06 13:51:00</td><td>       NaN</td><td>0.11880000</td><td>2020-07-06 13:45:00</td></tr>\n",
       "\t<tr><td>2020-08-04 15:41:00</td><td>       NaN</td><td>0.09320000</td><td>2020-08-04 15:45:00</td></tr>\n",
       "\t<tr><td>2020-08-04 16:34:00</td><td>       NaN</td><td>0.11746667</td><td>2020-08-04 16:30:00</td></tr>\n",
       "\t<tr><td>2020-09-01 17:30:00</td><td>       NaN</td><td>0.07990000</td><td>2020-09-01 17:30:00</td></tr>\n",
       "\t<tr><td>2020-09-01 17:41:00</td><td>       NaN</td><td>0.08060000</td><td>2020-09-01 17:45:00</td></tr>\n",
       "\t<tr><td>2020-10-06 16:02:00</td><td>       NaN</td><td>0.08943333</td><td>2020-10-06 16:00:00</td></tr>\n",
       "\t<tr><td>2020-10-06 16:20:00</td><td>       NaN</td><td>0.11843333</td><td>2020-10-06 16:15:00</td></tr>\n",
       "\t<tr><td>2020-10-20 16:38:00</td><td>       NaN</td><td>0.07210000</td><td>2020-10-20 16:45:00</td></tr>\n",
       "\t<tr><td>2020-10-20 16:41:00</td><td>       NaN</td><td>0.03540000</td><td>2020-10-20 16:45:00</td></tr>\n",
       "</tbody>\n",
       "</table>\n"
      ],
      "text/latex": [
       "A data.frame: 109 × 4\n",
       "\\begin{tabular}{llll}\n",
       " collectDate & UV Absorbance (250 nm) & UV Absorbance (280 nm) & dtpr\\\\\n",
       " <dttm> & <dbl> & <dbl> & <dttm>\\\\\n",
       "\\hline\n",
       "\t 2015-05-05 15:30:00 & 0.1332 & 0.0858 & 2015-05-05 15:30:00\\\\\n",
       "\t 2015-05-05 16:30:00 & 0.1325 & 0.0846 & 2015-05-05 16:30:00\\\\\n",
       "\t 2015-05-05 19:45:00 & 0.1326 & 0.0850 & 2015-05-05 19:45:00\\\\\n",
       "\t 2015-05-05 20:45:00 & 0.1308 & 0.0843 & 2015-05-05 20:45:00\\\\\n",
       "\t 2015-06-02 15:00:00 & 0.1323 & 0.0850 & 2015-06-02 15:00:00\\\\\n",
       "\t 2015-06-02 16:00:00 & 0.1378 & 0.0902 & 2015-06-02 16:00:00\\\\\n",
       "\t 2015-06-02 17:15:00 & 0.1421 & 0.0941 & 2015-06-02 17:15:00\\\\\n",
       "\t 2015-06-02 18:15:00 & 0.1391 & 0.0908 & 2015-06-02 18:15:00\\\\\n",
       "\t 2015-06-29 15:15:00 &     NA &     NA & 2015-06-29 15:15:00\\\\\n",
       "\t 2015-06-29 16:00:00 & 0.1424 & 0.0933 & 2015-06-29 16:00:00\\\\\n",
       "\t 2016-10-18 14:15:00 & 0.1039 & 0.0704 & 2016-10-18 14:15:00\\\\\n",
       "\t 2016-10-18 14:35:00 & 0.1066 & 0.0714 & 2016-10-18 14:30:00\\\\\n",
       "\t 2016-10-18 15:20:00 & 0.1042 & 0.0709 & 2016-10-18 15:15:00\\\\\n",
       "\t 2016-10-18 15:45:00 & 0.1183 & 0.0792 & 2016-10-18 15:45:00\\\\\n",
       "\t 2016-11-08 15:55:00 & 0.1108 & 0.0716 & 2016-11-08 16:00:00\\\\\n",
       "\t 2016-11-08 16:20:00 & 0.1102 & 0.0719 & 2016-11-08 16:15:00\\\\\n",
       "\t 2016-11-08 17:15:00 & 0.1170 & 0.0777 & 2016-11-08 17:15:00\\\\\n",
       "\t 2016-11-08 17:45:00 & 0.1537 & 0.1063 & 2016-11-08 17:45:00\\\\\n",
       "\t 2016-11-21 15:10:00 & 0.1114 & 0.0811 & 2016-11-21 15:15:00\\\\\n",
       "\t 2016-11-21 15:35:00 & 0.1086 & 0.0723 & 2016-11-21 15:30:00\\\\\n",
       "\t 2016-11-21 16:15:00 & 0.1040 & 0.0677 & 2016-11-21 16:15:00\\\\\n",
       "\t 2017-02-07 17:15:00 & 0.1493 & 0.1097 & 2017-02-07 17:15:00\\\\\n",
       "\t 2017-03-08 15:30:00 & 0.0959 & 0.0639 & 2017-03-08 15:30:00\\\\\n",
       "\t 2017-04-18 14:20:00 & 0.1345 & 0.0952 & 2017-04-18 14:15:00\\\\\n",
       "\t 2017-04-18 14:55:00 & 0.1414 & 0.0972 & 2017-04-18 15:00:00\\\\\n",
       "\t 2017-04-18 15:45:00 & 0.1159 & 0.0791 & 2017-04-18 15:45:00\\\\\n",
       "\t 2017-04-18 16:30:00 & 0.1149 & 0.0770 & 2017-04-18 16:30:00\\\\\n",
       "\t 2017-05-02 14:55:00 & 0.1314 & 0.0911 & 2017-05-02 15:00:00\\\\\n",
       "\t 2017-05-02 15:25:00 & 0.1231 & 0.0843 & 2017-05-02 15:30:00\\\\\n",
       "\t 2017-05-02 16:13:00 & 0.1192 & 0.0802 & 2017-05-02 16:15:00\\\\\n",
       "\t ⋮ & ⋮ & ⋮ & ⋮\\\\\n",
       "\t 2019-03-04 20:19:00 &         NA &         NA & 2019-03-04 20:15:00\\\\\n",
       "\t 2019-05-01 15:11:00 & 0.12870000 & 0.08650000 & 2019-05-01 15:15:00\\\\\n",
       "\t 2019-05-22 14:51:00 & 0.13380000 & 0.08940000 & 2019-05-22 14:45:00\\\\\n",
       "\t 2019-05-22 15:15:00 & 0.11490000 & 0.07720000 & 2019-05-22 15:15:00\\\\\n",
       "\t 2019-06-04 17:20:00 & 0.14400000 & 0.10010000 & 2019-06-04 17:15:00\\\\\n",
       "\t 2019-06-04 17:42:00 & 0.12920000 & 0.08600000 & 2019-06-04 17:45:00\\\\\n",
       "\t 2019-07-09 14:55:00 & 0.14715000 & 0.09890000 & 2019-07-09 15:00:00\\\\\n",
       "\t 2019-07-09 15:20:00 & 0.15675000 & 0.10745000 & 2019-07-09 15:15:00\\\\\n",
       "\t 2019-08-06 15:46:00 & 0.14300000 & 0.08650000 & 2019-08-06 15:45:00\\\\\n",
       "\t 2019-08-06 16:06:00 & 0.16130000 & 0.10800000 & 2019-08-06 16:00:00\\\\\n",
       "\t 2019-09-09 14:53:00 & 0.08726667 & 0.05836667 & 2019-09-09 15:00:00\\\\\n",
       "\t 2019-09-09 15:43:00 & 0.11493333 & 0.07690000 & 2019-09-09 15:45:00\\\\\n",
       "\t 2019-10-01 14:53:00 & 0.14010000 & 0.09550000 & 2019-10-01 15:00:00\\\\\n",
       "\t 2019-10-01 15:06:00 & 0.15400000 & 0.10320000 & 2019-10-01 15:00:00\\\\\n",
       "\t 2019-10-15 14:41:00 & 0.15733333 & 0.10443333 & 2019-10-15 14:45:00\\\\\n",
       "\t 2019-10-15 15:10:00 & 0.15476667 & 0.10296667 & 2019-10-15 15:15:00\\\\\n",
       "\t 2019-11-05 15:37:00 & 0.14230000 & 0.09420000 & 2019-11-05 15:30:00\\\\\n",
       "\t 2020-01-06 17:24:00 &        NaN & 0.09500000 & 2020-01-06 17:30:00\\\\\n",
       "\t 2020-02-03 16:47:00 &        NaN & 0.02580000 & 2020-02-03 16:45:00\\\\\n",
       "\t 2020-03-02 15:55:00 &        NaN & 0.07510000 & 2020-03-02 16:00:00\\\\\n",
       "\t 2020-07-06 13:35:00 &        NaN & 0.08963333 & 2020-07-06 13:30:00\\\\\n",
       "\t 2020-07-06 13:51:00 &        NaN & 0.11880000 & 2020-07-06 13:45:00\\\\\n",
       "\t 2020-08-04 15:41:00 &        NaN & 0.09320000 & 2020-08-04 15:45:00\\\\\n",
       "\t 2020-08-04 16:34:00 &        NaN & 0.11746667 & 2020-08-04 16:30:00\\\\\n",
       "\t 2020-09-01 17:30:00 &        NaN & 0.07990000 & 2020-09-01 17:30:00\\\\\n",
       "\t 2020-09-01 17:41:00 &        NaN & 0.08060000 & 2020-09-01 17:45:00\\\\\n",
       "\t 2020-10-06 16:02:00 &        NaN & 0.08943333 & 2020-10-06 16:00:00\\\\\n",
       "\t 2020-10-06 16:20:00 &        NaN & 0.11843333 & 2020-10-06 16:15:00\\\\\n",
       "\t 2020-10-20 16:38:00 &        NaN & 0.07210000 & 2020-10-20 16:45:00\\\\\n",
       "\t 2020-10-20 16:41:00 &        NaN & 0.03540000 & 2020-10-20 16:45:00\\\\\n",
       "\\end{tabular}\n"
      ],
      "text/markdown": [
       "\n",
       "A data.frame: 109 × 4\n",
       "\n",
       "| collectDate &lt;dttm&gt; | UV Absorbance (250 nm) &lt;dbl&gt; | UV Absorbance (280 nm) &lt;dbl&gt; | dtpr &lt;dttm&gt; |\n",
       "|---|---|---|---|\n",
       "| 2015-05-05 15:30:00 | 0.1332 | 0.0858 | 2015-05-05 15:30:00 |\n",
       "| 2015-05-05 16:30:00 | 0.1325 | 0.0846 | 2015-05-05 16:30:00 |\n",
       "| 2015-05-05 19:45:00 | 0.1326 | 0.0850 | 2015-05-05 19:45:00 |\n",
       "| 2015-05-05 20:45:00 | 0.1308 | 0.0843 | 2015-05-05 20:45:00 |\n",
       "| 2015-06-02 15:00:00 | 0.1323 | 0.0850 | 2015-06-02 15:00:00 |\n",
       "| 2015-06-02 16:00:00 | 0.1378 | 0.0902 | 2015-06-02 16:00:00 |\n",
       "| 2015-06-02 17:15:00 | 0.1421 | 0.0941 | 2015-06-02 17:15:00 |\n",
       "| 2015-06-02 18:15:00 | 0.1391 | 0.0908 | 2015-06-02 18:15:00 |\n",
       "| 2015-06-29 15:15:00 |     NA |     NA | 2015-06-29 15:15:00 |\n",
       "| 2015-06-29 16:00:00 | 0.1424 | 0.0933 | 2015-06-29 16:00:00 |\n",
       "| 2016-10-18 14:15:00 | 0.1039 | 0.0704 | 2016-10-18 14:15:00 |\n",
       "| 2016-10-18 14:35:00 | 0.1066 | 0.0714 | 2016-10-18 14:30:00 |\n",
       "| 2016-10-18 15:20:00 | 0.1042 | 0.0709 | 2016-10-18 15:15:00 |\n",
       "| 2016-10-18 15:45:00 | 0.1183 | 0.0792 | 2016-10-18 15:45:00 |\n",
       "| 2016-11-08 15:55:00 | 0.1108 | 0.0716 | 2016-11-08 16:00:00 |\n",
       "| 2016-11-08 16:20:00 | 0.1102 | 0.0719 | 2016-11-08 16:15:00 |\n",
       "| 2016-11-08 17:15:00 | 0.1170 | 0.0777 | 2016-11-08 17:15:00 |\n",
       "| 2016-11-08 17:45:00 | 0.1537 | 0.1063 | 2016-11-08 17:45:00 |\n",
       "| 2016-11-21 15:10:00 | 0.1114 | 0.0811 | 2016-11-21 15:15:00 |\n",
       "| 2016-11-21 15:35:00 | 0.1086 | 0.0723 | 2016-11-21 15:30:00 |\n",
       "| 2016-11-21 16:15:00 | 0.1040 | 0.0677 | 2016-11-21 16:15:00 |\n",
       "| 2017-02-07 17:15:00 | 0.1493 | 0.1097 | 2017-02-07 17:15:00 |\n",
       "| 2017-03-08 15:30:00 | 0.0959 | 0.0639 | 2017-03-08 15:30:00 |\n",
       "| 2017-04-18 14:20:00 | 0.1345 | 0.0952 | 2017-04-18 14:15:00 |\n",
       "| 2017-04-18 14:55:00 | 0.1414 | 0.0972 | 2017-04-18 15:00:00 |\n",
       "| 2017-04-18 15:45:00 | 0.1159 | 0.0791 | 2017-04-18 15:45:00 |\n",
       "| 2017-04-18 16:30:00 | 0.1149 | 0.0770 | 2017-04-18 16:30:00 |\n",
       "| 2017-05-02 14:55:00 | 0.1314 | 0.0911 | 2017-05-02 15:00:00 |\n",
       "| 2017-05-02 15:25:00 | 0.1231 | 0.0843 | 2017-05-02 15:30:00 |\n",
       "| 2017-05-02 16:13:00 | 0.1192 | 0.0802 | 2017-05-02 16:15:00 |\n",
       "| ⋮ | ⋮ | ⋮ | ⋮ |\n",
       "| 2019-03-04 20:19:00 |         NA |         NA | 2019-03-04 20:15:00 |\n",
       "| 2019-05-01 15:11:00 | 0.12870000 | 0.08650000 | 2019-05-01 15:15:00 |\n",
       "| 2019-05-22 14:51:00 | 0.13380000 | 0.08940000 | 2019-05-22 14:45:00 |\n",
       "| 2019-05-22 15:15:00 | 0.11490000 | 0.07720000 | 2019-05-22 15:15:00 |\n",
       "| 2019-06-04 17:20:00 | 0.14400000 | 0.10010000 | 2019-06-04 17:15:00 |\n",
       "| 2019-06-04 17:42:00 | 0.12920000 | 0.08600000 | 2019-06-04 17:45:00 |\n",
       "| 2019-07-09 14:55:00 | 0.14715000 | 0.09890000 | 2019-07-09 15:00:00 |\n",
       "| 2019-07-09 15:20:00 | 0.15675000 | 0.10745000 | 2019-07-09 15:15:00 |\n",
       "| 2019-08-06 15:46:00 | 0.14300000 | 0.08650000 | 2019-08-06 15:45:00 |\n",
       "| 2019-08-06 16:06:00 | 0.16130000 | 0.10800000 | 2019-08-06 16:00:00 |\n",
       "| 2019-09-09 14:53:00 | 0.08726667 | 0.05836667 | 2019-09-09 15:00:00 |\n",
       "| 2019-09-09 15:43:00 | 0.11493333 | 0.07690000 | 2019-09-09 15:45:00 |\n",
       "| 2019-10-01 14:53:00 | 0.14010000 | 0.09550000 | 2019-10-01 15:00:00 |\n",
       "| 2019-10-01 15:06:00 | 0.15400000 | 0.10320000 | 2019-10-01 15:00:00 |\n",
       "| 2019-10-15 14:41:00 | 0.15733333 | 0.10443333 | 2019-10-15 14:45:00 |\n",
       "| 2019-10-15 15:10:00 | 0.15476667 | 0.10296667 | 2019-10-15 15:15:00 |\n",
       "| 2019-11-05 15:37:00 | 0.14230000 | 0.09420000 | 2019-11-05 15:30:00 |\n",
       "| 2020-01-06 17:24:00 |        NaN | 0.09500000 | 2020-01-06 17:30:00 |\n",
       "| 2020-02-03 16:47:00 |        NaN | 0.02580000 | 2020-02-03 16:45:00 |\n",
       "| 2020-03-02 15:55:00 |        NaN | 0.07510000 | 2020-03-02 16:00:00 |\n",
       "| 2020-07-06 13:35:00 |        NaN | 0.08963333 | 2020-07-06 13:30:00 |\n",
       "| 2020-07-06 13:51:00 |        NaN | 0.11880000 | 2020-07-06 13:45:00 |\n",
       "| 2020-08-04 15:41:00 |        NaN | 0.09320000 | 2020-08-04 15:45:00 |\n",
       "| 2020-08-04 16:34:00 |        NaN | 0.11746667 | 2020-08-04 16:30:00 |\n",
       "| 2020-09-01 17:30:00 |        NaN | 0.07990000 | 2020-09-01 17:30:00 |\n",
       "| 2020-09-01 17:41:00 |        NaN | 0.08060000 | 2020-09-01 17:45:00 |\n",
       "| 2020-10-06 16:02:00 |        NaN | 0.08943333 | 2020-10-06 16:00:00 |\n",
       "| 2020-10-06 16:20:00 |        NaN | 0.11843333 | 2020-10-06 16:15:00 |\n",
       "| 2020-10-20 16:38:00 |        NaN | 0.07210000 | 2020-10-20 16:45:00 |\n",
       "| 2020-10-20 16:41:00 |        NaN | 0.03540000 | 2020-10-20 16:45:00 |\n",
       "\n"
      ],
      "text/plain": [
       "    collectDate         UV Absorbance (250 nm) UV Absorbance (280 nm)\n",
       "1   2015-05-05 15:30:00 0.1332                 0.0858                \n",
       "2   2015-05-05 16:30:00 0.1325                 0.0846                \n",
       "3   2015-05-05 19:45:00 0.1326                 0.0850                \n",
       "4   2015-05-05 20:45:00 0.1308                 0.0843                \n",
       "5   2015-06-02 15:00:00 0.1323                 0.0850                \n",
       "6   2015-06-02 16:00:00 0.1378                 0.0902                \n",
       "7   2015-06-02 17:15:00 0.1421                 0.0941                \n",
       "8   2015-06-02 18:15:00 0.1391                 0.0908                \n",
       "9   2015-06-29 15:15:00     NA                     NA                \n",
       "10  2015-06-29 16:00:00 0.1424                 0.0933                \n",
       "11  2016-10-18 14:15:00 0.1039                 0.0704                \n",
       "12  2016-10-18 14:35:00 0.1066                 0.0714                \n",
       "13  2016-10-18 15:20:00 0.1042                 0.0709                \n",
       "14  2016-10-18 15:45:00 0.1183                 0.0792                \n",
       "15  2016-11-08 15:55:00 0.1108                 0.0716                \n",
       "16  2016-11-08 16:20:00 0.1102                 0.0719                \n",
       "17  2016-11-08 17:15:00 0.1170                 0.0777                \n",
       "18  2016-11-08 17:45:00 0.1537                 0.1063                \n",
       "19  2016-11-21 15:10:00 0.1114                 0.0811                \n",
       "20  2016-11-21 15:35:00 0.1086                 0.0723                \n",
       "21  2016-11-21 16:15:00 0.1040                 0.0677                \n",
       "22  2017-02-07 17:15:00 0.1493                 0.1097                \n",
       "23  2017-03-08 15:30:00 0.0959                 0.0639                \n",
       "24  2017-04-18 14:20:00 0.1345                 0.0952                \n",
       "25  2017-04-18 14:55:00 0.1414                 0.0972                \n",
       "26  2017-04-18 15:45:00 0.1159                 0.0791                \n",
       "27  2017-04-18 16:30:00 0.1149                 0.0770                \n",
       "28  2017-05-02 14:55:00 0.1314                 0.0911                \n",
       "29  2017-05-02 15:25:00 0.1231                 0.0843                \n",
       "30  2017-05-02 16:13:00 0.1192                 0.0802                \n",
       "⋮   ⋮                   ⋮                      ⋮                     \n",
       "80  2019-03-04 20:19:00         NA                     NA            \n",
       "81  2019-05-01 15:11:00 0.12870000             0.08650000            \n",
       "82  2019-05-22 14:51:00 0.13380000             0.08940000            \n",
       "83  2019-05-22 15:15:00 0.11490000             0.07720000            \n",
       "84  2019-06-04 17:20:00 0.14400000             0.10010000            \n",
       "85  2019-06-04 17:42:00 0.12920000             0.08600000            \n",
       "86  2019-07-09 14:55:00 0.14715000             0.09890000            \n",
       "87  2019-07-09 15:20:00 0.15675000             0.10745000            \n",
       "88  2019-08-06 15:46:00 0.14300000             0.08650000            \n",
       "89  2019-08-06 16:06:00 0.16130000             0.10800000            \n",
       "90  2019-09-09 14:53:00 0.08726667             0.05836667            \n",
       "91  2019-09-09 15:43:00 0.11493333             0.07690000            \n",
       "92  2019-10-01 14:53:00 0.14010000             0.09550000            \n",
       "93  2019-10-01 15:06:00 0.15400000             0.10320000            \n",
       "94  2019-10-15 14:41:00 0.15733333             0.10443333            \n",
       "95  2019-10-15 15:10:00 0.15476667             0.10296667            \n",
       "96  2019-11-05 15:37:00 0.14230000             0.09420000            \n",
       "97  2020-01-06 17:24:00        NaN             0.09500000            \n",
       "98  2020-02-03 16:47:00        NaN             0.02580000            \n",
       "99  2020-03-02 15:55:00        NaN             0.07510000            \n",
       "100 2020-07-06 13:35:00        NaN             0.08963333            \n",
       "101 2020-07-06 13:51:00        NaN             0.11880000            \n",
       "102 2020-08-04 15:41:00        NaN             0.09320000            \n",
       "103 2020-08-04 16:34:00        NaN             0.11746667            \n",
       "104 2020-09-01 17:30:00        NaN             0.07990000            \n",
       "105 2020-09-01 17:41:00        NaN             0.08060000            \n",
       "106 2020-10-06 16:02:00        NaN             0.08943333            \n",
       "107 2020-10-06 16:20:00        NaN             0.11843333            \n",
       "108 2020-10-20 16:38:00        NaN             0.07210000            \n",
       "109 2020-10-20 16:41:00        NaN             0.03540000            \n",
       "    dtpr               \n",
       "1   2015-05-05 15:30:00\n",
       "2   2015-05-05 16:30:00\n",
       "3   2015-05-05 19:45:00\n",
       "4   2015-05-05 20:45:00\n",
       "5   2015-06-02 15:00:00\n",
       "6   2015-06-02 16:00:00\n",
       "7   2015-06-02 17:15:00\n",
       "8   2015-06-02 18:15:00\n",
       "9   2015-06-29 15:15:00\n",
       "10  2015-06-29 16:00:00\n",
       "11  2016-10-18 14:15:00\n",
       "12  2016-10-18 14:30:00\n",
       "13  2016-10-18 15:15:00\n",
       "14  2016-10-18 15:45:00\n",
       "15  2016-11-08 16:00:00\n",
       "16  2016-11-08 16:15:00\n",
       "17  2016-11-08 17:15:00\n",
       "18  2016-11-08 17:45:00\n",
       "19  2016-11-21 15:15:00\n",
       "20  2016-11-21 15:30:00\n",
       "21  2016-11-21 16:15:00\n",
       "22  2017-02-07 17:15:00\n",
       "23  2017-03-08 15:30:00\n",
       "24  2017-04-18 14:15:00\n",
       "25  2017-04-18 15:00:00\n",
       "26  2017-04-18 15:45:00\n",
       "27  2017-04-18 16:30:00\n",
       "28  2017-05-02 15:00:00\n",
       "29  2017-05-02 15:30:00\n",
       "30  2017-05-02 16:15:00\n",
       "⋮   ⋮                  \n",
       "80  2019-03-04 20:15:00\n",
       "81  2019-05-01 15:15:00\n",
       "82  2019-05-22 14:45:00\n",
       "83  2019-05-22 15:15:00\n",
       "84  2019-06-04 17:15:00\n",
       "85  2019-06-04 17:45:00\n",
       "86  2019-07-09 15:00:00\n",
       "87  2019-07-09 15:15:00\n",
       "88  2019-08-06 15:45:00\n",
       "89  2019-08-06 16:00:00\n",
       "90  2019-09-09 15:00:00\n",
       "91  2019-09-09 15:45:00\n",
       "92  2019-10-01 15:00:00\n",
       "93  2019-10-01 15:00:00\n",
       "94  2019-10-15 14:45:00\n",
       "95  2019-10-15 15:15:00\n",
       "96  2019-11-05 15:30:00\n",
       "97  2020-01-06 17:30:00\n",
       "98  2020-02-03 16:45:00\n",
       "99  2020-03-02 16:00:00\n",
       "100 2020-07-06 13:30:00\n",
       "101 2020-07-06 13:45:00\n",
       "102 2020-08-04 15:45:00\n",
       "103 2020-08-04 16:30:00\n",
       "104 2020-09-01 17:30:00\n",
       "105 2020-09-01 17:45:00\n",
       "106 2020-10-06 16:00:00\n",
       "107 2020-10-06 16:15:00\n",
       "108 2020-10-20 16:45:00\n",
       "109 2020-10-20 16:45:00"
      ]
     },
     "metadata": {},
     "output_type": "display_data"
    }
   ],
   "source": [
    "#subset(suna_red,as.Date(dtpr)==as.Date(\"2019-03-04\"))\n",
    "#as.Date(date_cast$dtpr)\n",
    "#unique(as.Date(suna_red$dtpr))\n",
    "\n",
    "#suna_grab\n",
    "#CRAM_wqg_d\n",
    "\n",
    "date_cast"
   ]
  },
  {
   "cell_type": "markdown",
   "id": "demographic-bangladesh",
   "metadata": {},
   "source": [
    "# Exploring turbidity corrections"
   ]
  },
  {
   "cell_type": "code",
   "execution_count": null,
   "id": "caa5da3d-4b52-481d-8252-96d7ff8ccb84",
   "metadata": {},
   "outputs": [],
   "source": [
    "names(suna_grab)"
   ]
  },
  {
   "cell_type": "code",
   "execution_count": 87,
   "id": "engaging-swing",
   "metadata": {
    "tags": []
   },
   "outputs": [
    {
     "data": {
      "text/html": [
       "<table class=\"dataframe\">\n",
       "<caption>A data.frame: 4 × 7</caption>\n",
       "<thead>\n",
       "\t<tr><th></th><th scope=col>dtpr</th><th scope=col>a254.mean</th><th scope=col>uva_250_lab</th><th scope=col>uva_280_lab</th><th scope=col>interp_254_c254.mean</th><th scope=col>interp_280_c254.mean</th><th scope=col>turbidity.mean</th></tr>\n",
       "\t<tr><th></th><th scope=col>&lt;dttm&gt;</th><th scope=col>&lt;dbl&gt;</th><th scope=col>&lt;dbl&gt;</th><th scope=col>&lt;dbl&gt;</th><th scope=col>&lt;dbl&gt;</th><th scope=col>&lt;dbl&gt;</th><th scope=col>&lt;dbl&gt;</th></tr>\n",
       "</thead>\n",
       "<tbody>\n",
       "\t<tr><th scope=row>1</th><td>2020-10-06 16:00:00</td><td>0.11218</td><td>NaN</td><td>0.08943333</td><td>0.1111552</td><td>0.1107626</td><td>1.00</td></tr>\n",
       "\t<tr><th scope=row>2</th><td>2020-10-06 16:15:00</td><td>0.11258</td><td>NaN</td><td>0.11843333</td><td>0.1111789</td><td>0.1107759</td><td>1.00</td></tr>\n",
       "\t<tr><th scope=row>3</th><td>2020-10-20 16:45:00</td><td>0.12032</td><td>NaN</td><td>0.07210000</td><td>0.1118649</td><td>0.1109701</td><td>0.43</td></tr>\n",
       "\t<tr><th scope=row>4</th><td>2020-10-20 16:45:00</td><td>0.12032</td><td>NaN</td><td>0.03540000</td><td>0.1118649</td><td>0.1109701</td><td>0.43</td></tr>\n",
       "</tbody>\n",
       "</table>\n"
      ],
      "text/latex": [
       "A data.frame: 4 × 7\n",
       "\\begin{tabular}{r|lllllll}\n",
       "  & dtpr & a254.mean & uva\\_250\\_lab & uva\\_280\\_lab & interp\\_254\\_c254.mean & interp\\_280\\_c254.mean & turbidity.mean\\\\\n",
       "  & <dttm> & <dbl> & <dbl> & <dbl> & <dbl> & <dbl> & <dbl>\\\\\n",
       "\\hline\n",
       "\t1 & 2020-10-06 16:00:00 & 0.11218 & NaN & 0.08943333 & 0.1111552 & 0.1107626 & 1.00\\\\\n",
       "\t2 & 2020-10-06 16:15:00 & 0.11258 & NaN & 0.11843333 & 0.1111789 & 0.1107759 & 1.00\\\\\n",
       "\t3 & 2020-10-20 16:45:00 & 0.12032 & NaN & 0.07210000 & 0.1118649 & 0.1109701 & 0.43\\\\\n",
       "\t4 & 2020-10-20 16:45:00 & 0.12032 & NaN & 0.03540000 & 0.1118649 & 0.1109701 & 0.43\\\\\n",
       "\\end{tabular}\n"
      ],
      "text/markdown": [
       "\n",
       "A data.frame: 4 × 7\n",
       "\n",
       "| <!--/--> | dtpr &lt;dttm&gt; | a254.mean &lt;dbl&gt; | uva_250_lab &lt;dbl&gt; | uva_280_lab &lt;dbl&gt; | interp_254_c254.mean &lt;dbl&gt; | interp_280_c254.mean &lt;dbl&gt; | turbidity.mean &lt;dbl&gt; |\n",
       "|---|---|---|---|---|---|---|---|\n",
       "| 1 | 2020-10-06 16:00:00 | 0.11218 | NaN | 0.08943333 | 0.1111552 | 0.1107626 | 1.00 |\n",
       "| 2 | 2020-10-06 16:15:00 | 0.11258 | NaN | 0.11843333 | 0.1111789 | 0.1107759 | 1.00 |\n",
       "| 3 | 2020-10-20 16:45:00 | 0.12032 | NaN | 0.07210000 | 0.1118649 | 0.1109701 | 0.43 |\n",
       "| 4 | 2020-10-20 16:45:00 | 0.12032 | NaN | 0.03540000 | 0.1118649 | 0.1109701 | 0.43 |\n",
       "\n"
      ],
      "text/plain": [
       "  dtpr                a254.mean uva_250_lab uva_280_lab interp_254_c254.mean\n",
       "1 2020-10-06 16:00:00 0.11218   NaN         0.08943333  0.1111552           \n",
       "2 2020-10-06 16:15:00 0.11258   NaN         0.11843333  0.1111789           \n",
       "3 2020-10-20 16:45:00 0.12032   NaN         0.07210000  0.1118649           \n",
       "4 2020-10-20 16:45:00 0.12032   NaN         0.03540000  0.1118649           \n",
       "  interp_280_c254.mean turbidity.mean\n",
       "1 0.1107626            1.00          \n",
       "2 0.1107759            1.00          \n",
       "3 0.1109701            0.43          \n",
       "4 0.1109701            0.43          "
      ]
     },
     "metadata": {},
     "output_type": "display_data"
    },
    {
     "data": {
      "text/html": [
       "4"
      ],
      "text/latex": [
       "4"
      ],
      "text/markdown": [
       "4"
      ],
      "text/plain": [
       "[1] 4"
      ]
     },
     "metadata": {},
     "output_type": "display_data"
    },
    {
     "data": {
      "text/html": [
       "<style>\n",
       ".list-inline {list-style: none; margin:0; padding: 0}\n",
       ".list-inline>li {display: inline-block}\n",
       ".list-inline>li:not(:last-child)::after {content: \"\\00b7\"; padding: 0 .5ex}\n",
       "</style>\n",
       "<ol class=list-inline><li>NaN</li><li>NaN</li><li>NaN</li><li>NaN</li></ol>\n"
      ],
      "text/latex": [
       "\\begin{enumerate*}\n",
       "\\item NaN\n",
       "\\item NaN\n",
       "\\item NaN\n",
       "\\item NaN\n",
       "\\end{enumerate*}\n"
      ],
      "text/markdown": [
       "1. NaN\n",
       "2. NaN\n",
       "3. NaN\n",
       "4. NaN\n",
       "\n",
       "\n"
      ],
      "text/plain": [
       "[1] NaN NaN NaN NaN"
      ]
     },
     "metadata": {},
     "output_type": "display_data"
    }
   ],
   "source": [
    "#names(suna_grab)\n",
    "#suna_grab<-subset(suna_grab,!is.na(uva_250_lab)&!is.na(uva_280_lab)&uva_250_lab<2)\n",
    "suna_grab<-subset(suna_grab,!is.na(uva_250_lab)|!is.na(uva_280_lab))\n",
    "suna_grab$turbidity.mean[suna_grab$turbidity.mean<=0]<-1\n",
    "suna_grab[,c(\"dtpr\",\"a254.mean\",\"uva_250_lab\",\"uva_280_lab\",\"interp_254_c254.mean\",\"interp_280_c254.mean\",\"turbidity.mean\")]\n",
    "\n",
    "suna_grab$interp_254_log<-log10(suna_grab$interp_254_c254.mean)\n",
    "suna_grab$turb_log<-log10(suna_grab$turbidity.mean)\n",
    "nrow(suna_grab)\n",
    "suna_grab$uva_250_lab\n",
    "#suna_grab$interp_254_tcorr<-predict(lm(uva_250_lab~interp_254_c254.mean*turbidity.mean,suna_grab))\n",
    "#suna_grab$interp_254_tcorr_log<-predict(lm(uva_250_lab~interp_254_log*turbidity.mean,suna_grab))\n",
    "#suna_grab$interp_254_tcorr_log_turb<-predict(lm(uva_250_lab~interp_254_log*turb_log,suna_grab))\n",
    "\n",
    "\n",
    "saveRDS(suna_grab,paste(save,\"/SUNA_grab_merge/\",\"/CRAM_2020_SUNA_wqg.rds\",sep=\"\"))"
   ]
  },
  {
   "cell_type": "code",
   "execution_count": null,
   "id": "broadband-fighter",
   "metadata": {},
   "outputs": [],
   "source": []
  },
  {
   "cell_type": "code",
   "execution_count": 90,
   "id": "standing-apple",
   "metadata": {},
   "outputs": [
    {
     "data": {
      "text/plain": [
       "\n",
       "Call:\n",
       "lm(formula = uva_280_lab ~ a254.mean * turb_log, data = suna_grab)\n",
       "\n",
       "Residuals:\n",
       "       1        2        3        4 \n",
       " 0.00000  0.00000  0.01835 -0.01835 \n",
       "\n",
       "Coefficients: (1 not defined because of singularities)\n",
       "                   Estimate Std. Error t value Pr(>|t|)\n",
       "(Intercept)          -8.044     10.311  -0.780    0.578\n",
       "a254.mean            72.500     91.750   0.790    0.574\n",
       "turb_log              1.707      1.989   0.859    0.548\n",
       "a254.mean:turb_log       NA         NA      NA       NA\n",
       "\n",
       "Residual standard error: 0.02595 on 1 degrees of freedom\n",
       "Multiple R-squared:  0.8136,\tAdjusted R-squared:  0.4407 \n",
       "F-statistic: 2.182 on 2 and 1 DF,  p-value: 0.4318\n"
      ]
     },
     "metadata": {},
     "output_type": "display_data"
    },
    {
     "data": {
      "text/html": [
       "<table class=\"dataframe\">\n",
       "<caption>A data.frame: 4 × 2</caption>\n",
       "<thead>\n",
       "\t<tr><th></th><th scope=col>uva_280_lab</th><th scope=col>interp_280_c254.mean</th></tr>\n",
       "\t<tr><th></th><th scope=col>&lt;dbl&gt;</th><th scope=col>&lt;dbl&gt;</th></tr>\n",
       "</thead>\n",
       "<tbody>\n",
       "\t<tr><th scope=row>1</th><td>0.08943333</td><td>0.1107626</td></tr>\n",
       "\t<tr><th scope=row>2</th><td>0.11843333</td><td>0.1107759</td></tr>\n",
       "\t<tr><th scope=row>3</th><td>0.07210000</td><td>0.1109701</td></tr>\n",
       "\t<tr><th scope=row>4</th><td>0.03540000</td><td>0.1109701</td></tr>\n",
       "</tbody>\n",
       "</table>\n"
      ],
      "text/latex": [
       "A data.frame: 4 × 2\n",
       "\\begin{tabular}{r|ll}\n",
       "  & uva\\_280\\_lab & interp\\_280\\_c254.mean\\\\\n",
       "  & <dbl> & <dbl>\\\\\n",
       "\\hline\n",
       "\t1 & 0.08943333 & 0.1107626\\\\\n",
       "\t2 & 0.11843333 & 0.1107759\\\\\n",
       "\t3 & 0.07210000 & 0.1109701\\\\\n",
       "\t4 & 0.03540000 & 0.1109701\\\\\n",
       "\\end{tabular}\n"
      ],
      "text/markdown": [
       "\n",
       "A data.frame: 4 × 2\n",
       "\n",
       "| <!--/--> | uva_280_lab &lt;dbl&gt; | interp_280_c254.mean &lt;dbl&gt; |\n",
       "|---|---|---|\n",
       "| 1 | 0.08943333 | 0.1107626 |\n",
       "| 2 | 0.11843333 | 0.1107759 |\n",
       "| 3 | 0.07210000 | 0.1109701 |\n",
       "| 4 | 0.03540000 | 0.1109701 |\n",
       "\n"
      ],
      "text/plain": [
       "  uva_280_lab interp_280_c254.mean\n",
       "1 0.08943333  0.1107626           \n",
       "2 0.11843333  0.1107759           \n",
       "3 0.07210000  0.1109701           \n",
       "4 0.03540000  0.1109701           "
      ]
     },
     "metadata": {},
     "output_type": "display_data"
    },
    {
     "data": {
      "image/png": "[encoded data removed]",
      "text/plain": [
       "plot without title"
      ]
     },
     "metadata": {
      "image/png": {
       "height": 420,
       "width": 420
      }
     },
     "output_type": "display_data"
    }
   ],
   "source": [
    "suna_grab<-subset(suna_grab,a254.mean<7 & a254.mean>0 & !is.na(turbidity.mean))\n",
    "\n",
    "suna_grab$interp_254_log<-log10(suna_grab$interp_254_c254.mean)\n",
    "suna_grab$turb_log<-log10(suna_grab$turbidity.mean)\n",
    "\n",
    "#suna_grab$turb_log\n",
    "summary(lm(uva_280_lab~a254.mean*turb_log,suna_grab))\n",
    "#summary(lm(uva_250_lab~interp_254_c254.mean*turb_log,suna_grab))\n",
    "\n",
    "#suna_grab$interp_254_tcorr<-predict(lm(uva_250_lab~interp_254_c254.mean*turbidity.mean,suna_grab))\n",
    "#suna_grab$interp_254_tcorr_log<-predict(lm(uva_250_lab~interp_254_log*turbidity.mean,suna_grab))\n",
    "#suna_grab$interp_254_tcorr_log_turb<-predict(lm(uva_250_lab~interp_254_log*turb_log,suna_grab))\n",
    "\n",
    "suna_grab[,c(\"uva_280_lab\",\"interp_280_c254.mean\")]\n",
    "ggplot(suna_grab,aes(interp_280_c254.mean,uva_280_lab))+\n",
    "#theme_ts_space+\n",
    "#xlab(\"\\nUV Absorbance at 250 nm (Laboratory)\")+\n",
    "#ylab(\"UV Absorbance at 250 nm (SUNA Uncorrected)\\n\")+\n",
    "geom_point(size=6,aes(color=turbidity.mean))\n",
    "\n"
   ]
  },
  {
   "cell_type": "code",
   "execution_count": null,
   "id": "weekly-efficiency",
   "metadata": {},
   "outputs": [],
   "source": [
    "suna_grab$interp_254_log<-log10(suna_grab$interp_254_c254.mean)\n",
    "suna_grab$turb_log<-log10(suna_grab$turbidity.mean)\n",
    "\n",
    "\n",
    "summary(lm(uva_250_lab~interp_254_log*turb_log,suna_grab))\n",
    "summary(lm(uva_250_lab~interp_254_c254.mean*turb_log,suna_grab))\n",
    "\n",
    "summary(lm(uva_250_lab~interp_254_c254.mean,suna_grab))\n",
    "summary(lm(uva_250_lab~interp_254_tcorr_log,suna_grab))\n",
    "\n",
    "suna_grab$interp_254_tcorr<-predict(lm(uva_250_lab~interp_254_c254.mean*turbidity.mean,suna_grab))\n",
    "suna_grab$interp_254_tcorr_log<-predict(lm(uva_250_lab~interp_254_log*turbidity.mean,suna_grab))\n",
    "suna_grab$interp_254_tcorr_log_turb<-predict(lm(uva_250_lab~interp_254_log*turb_log,suna_grab))\n",
    "\n",
    "\n",
    "ggplot(suna_grab,aes(uva_250_lab,interp_254_c254.mean,color=pH.mean))+\n",
    "theme_ts_space+\n",
    "xlab(\"\\nUV Absorbance at 250 nm (Laboratory)\")+\n",
    "ylab(\"UV Absorbance at 250 nm (SUNA Uncorrected)\\n\")+\n",
    "geom_point(size=6)\n",
    "\n",
    "ggsave(\"~/neon_suna/plots/CRAM_250_uncorrected.pdf\",width = 20, height = 20, units = \"cm\")\n",
    "\n",
    "\n",
    "\n",
    "ggplot(suna_grab,aes(uva_250_lab,interp_254_tcorr_log,color=pH.mean))+\n",
    "theme_ts_space+\n",
    "geom_smooth(method=\"lm\",color=\"grey20\")+\n",
    "xlab(\"\\nUV Absorbance at 250 nm (Laboratory)\")+\n",
    "ylab(\"UV Absorbance at 250 nm (SUNA Corrected)\\n\")+\n",
    "geom_point(size=6)+\n",
    "ggtitle(\"Turbidity Corrected\")\n",
    "\n",
    "ggsave(\"~/neon_suna/plots/CRAM_250_corrected.pdf\",width = 20, height = 20, units = \"cm\")\n",
    "\n",
    "\n",
    "\n",
    "#summary(lm(uva_250_lab~interp_254_c254.mean*turbidity.mean+sensor_temp.mean,suna_grab))\n",
    "#summary(lm(uva_280_lab~interp_280_c350.mean*turbidity.mean+sensor_temp.mean,suna_grab))\n",
    "#summary(lm(uva_280_lab~interp_280_c254.mean*turbidity.mean+sensor_temp.mean,suna_grab))"
   ]
  },
  {
   "cell_type": "code",
   "execution_count": null,
   "id": "101db2de-697b-4570-8f8b-5907626e7e11",
   "metadata": {},
   "outputs": [],
   "source": [
    "summary(lm(uva_250_lab~interp_254_c254.mean*turb_log,suna_grab))\n",
    "summary(lm(uva_250_lab~interp_254_tcorr_log*turb_log,suna_grab))\n"
   ]
  },
  {
   "cell_type": "code",
   "execution_count": null,
   "id": "aboriginal-logistics",
   "metadata": {
    "tags": []
   },
   "outputs": [],
   "source": [
    "names(CRAM_sw)"
   ]
  },
  {
   "cell_type": "markdown",
   "id": "ancient-climate",
   "metadata": {},
   "source": [
    "# Apply turbidity correction based on lab samples."
   ]
  },
  {
   "cell_type": "code",
   "execution_count": null,
   "id": "equipped-bread",
   "metadata": {
    "tags": []
   },
   "outputs": [],
   "source": [
    "cor_cols<-grep(\"^interp_\",names(CRAM_sw))\n",
    "\n",
    "uva_250_turb_lm<-lm(uva_250_lab~interp_254_log*turbidity.mean,suna_grab)\n",
    "\n",
    "for(i in 1:length(cor_cols)){\n",
    "\tprepdata<-data.frame(interp_254_log=log10(CRAM_sw[,cor_cols[i]]),turbidity.mean=CRAM_sw$turbidity.mean)\n",
    "\tturb_cor_pred<-predict(uva_250_turb_lm,newdata=prepdata)\n",
    "\tCRAM_sw[,c(paste(names(CRAM_sw)[cor_cols[i]],\"_turb\",sep=\"\"))]<-turb_cor_pred\n",
    "}\n",
    "\n"
   ]
  },
  {
   "cell_type": "code",
   "execution_count": null,
   "id": "executed-stanford",
   "metadata": {
    "tags": []
   },
   "outputs": [],
   "source": [
    "head(CRAM_sw)"
   ]
  },
  {
   "cell_type": "code",
   "execution_count": null,
   "id": "heavy-observer",
   "metadata": {},
   "outputs": [],
   "source": [
    "CRAM_swt_0<-CRAM_sw[,grep(\"*_turb$\",names(CRAM_sw))]\n",
    "CRAM_swt<-bind_cols(CRAM_sw[,c(\"dtpr\",\"nitrate.mean\",\"nitrate_mgl.mean\",\"a254.mean\",\"a350.mean\",\"sensor_temp.mean\",\"specificConductance.mean\",\"dissolvedOxygen.mean\",\"pH.mean\",\"chlorophyll.mean\",\"turbidity.mean\",\"fDOM.mean\")],CRAM_swt_0)\n",
    "\n",
    "\n",
    "\n"
   ]
  },
  {
   "cell_type": "markdown",
   "id": "impaired-fleet",
   "metadata": {},
   "source": [
    "# Adding PAR data."
   ]
  },
  {
   "cell_type": "code",
   "execution_count": null,
   "id": "proved-hybrid",
   "metadata": {},
   "outputs": [],
   "source": [
    "CRAM_par<-loadByProduct(dpID=\"DP1.20042.001\",site=\"CRAM\",check.size=F)\n",
    "saveRDS(CRAM_par,paste(getwd(),\"/CRAM_par.rds\",sep=\"\"))\n",
    "CRAM_par<-readRDS(paste(getwd(),\"/CRAM_par.rds\",sep=\"\"))\n",
    "\n",
    "\n"
   ]
  },
  {
   "cell_type": "code",
   "execution_count": null,
   "id": "superb-price",
   "metadata": {
    "tags": []
   },
   "outputs": [],
   "source": [
    "#lubridate::round_date(CRAM_parts$dtp, \"15 minutes\")\n",
    "#getwd()\n",
    "#CRAM_swt$dtpr"
   ]
  },
  {
   "cell_type": "code",
   "execution_count": null,
   "id": "characteristic-exclusive",
   "metadata": {},
   "outputs": [],
   "source": [
    "\n",
    "CRAM_parts<-CRAM_par$PARWS_5min\n",
    "CRAM_parts$dtp<-CRAM_parts$startDateTime\n",
    "#str(CRAM_wqk)\n",
    "\n",
    "\n",
    "\n",
    "CRAM_parts$dtpr<-lubridate::round_date(CRAM_parts$dtp, \"15 minutes\")\n",
    "CRAM_parts_red<-summaryBy(PARMean~dtpr,CRAM_parts,FUN=c(mean))\n",
    "head(CRAM_parts_red)\n",
    "#str(CRAM_wq_red)\n",
    "\n",
    "CRAM_swtpar<-merge(CRAM_swt,CRAM_parts_red,by=\"dtpr\",all.x=TRUE)\n",
    "\n",
    "\n",
    "\n",
    "saveRDS(CRAM_swtpar,paste(save,\"/SUNA_PAR/\",\"/CRAM_SUNA_PAR.rds\",sep=\"\"))\n"
   ]
  },
  {
   "cell_type": "code",
   "execution_count": null,
   "id": "4f936b88-dad6-4ac4-b81b-42e96c40bddf",
   "metadata": {},
   "outputs": [],
   "source": []
  },
  {
   "cell_type": "code",
   "execution_count": null,
   "id": "embedded-finland",
   "metadata": {},
   "outputs": [],
   "source": [
    "\n",
    "str(CRAM_swtpar$dtpr)\n",
    "\n",
    "attr(CRAM_swtpar$dtpr,\"tzone\") <- \"Etc/GMT+5\"\n",
    "\n",
    "str(CRAM_swtpar$dtpr)\n",
    "CRAM_swtpar$date<-as.Date(CRAM_swtpar$dtpr,tz=\"Etc/GMT+5\")\n",
    "\n",
    "CRAM_dates<-unique(CRAM_swtpar$date)\n",
    "\n",
    "for(i in 1:length(CRAM_dates)){\n",
    "    \n",
    "    \n",
    "}"
   ]
  },
  {
   "cell_type": "code",
   "execution_count": null,
   "id": "genuine-bunny",
   "metadata": {},
   "outputs": [],
   "source": [
    "\n",
    "#CRAMd<-subset(CRAM_swtpar,date==as.Date(\"2019-06-10\"))\n",
    "CRAMd<-CRAM_swtpar\n",
    "\n",
    "CRAMdk<-CRAMd[,grep(\"*c254.mean_turb$\",names(CRAMd))]\n",
    "CRAMdk$dtpr<-CRAMd$dtpr\n",
    "\n",
    "CRAMdm<-subset(melt(CRAMdk,id.vars=c(\"dtpr\")),!is.na(value))\n",
    "CRAMdm$wavelength<-gsub(\"interp_\",\"\",CRAMdm$variable,fixed=TRUE)\n",
    "CRAMdm$wavelength<-as.numeric(gsub(\"_c254.mean_turb\",\"\",CRAMdm$wavelength,fixed=TRUE))\n",
    "\n",
    "\n",
    "\n",
    "str(CRAMdm)"
   ]
  },
  {
   "cell_type": "markdown",
   "id": "negative-encoding",
   "metadata": {},
   "source": [
    "# Trying some ridge plots to look at wavelength changes over time.\n",
    "So far not looCRAM super great."
   ]
  },
  {
   "cell_type": "code",
   "execution_count": null,
   "id": "foreign-template",
   "metadata": {},
   "outputs": [],
   "source": [
    "#library(ggridges)\n",
    "#scales::rescale(height)\n",
    "#CRAMdm$dtprn<-scales::rescale(as.numeric(CRAMdm$dtpr))\n",
    "#CRAMdm$abs<-scales::rescale(as.numeric(CRAMdm$value))\n",
    "\n",
    "\n",
    "#ggplot(subset(CRAMdm,wavelength>=275&wavelength<=295),aes(x = wavelength, y = dtprn, group=dtprn,height = abs)) +\n",
    "#  geom_ridgeline(fill=\"grey80\",alpha=0.6)\n",
    "\n",
    "#ggsave(\"~/neon_suna/plots/CRAMdm_ridge.pdf\",width = 20, height = 40, units = \"cm\")\n"
   ]
  },
  {
   "cell_type": "markdown",
   "id": "alone-beach",
   "metadata": {},
   "source": [
    "# Calculating spectral slope 275-295nm on each time step."
   ]
  },
  {
   "cell_type": "code",
   "execution_count": null,
   "id": "classified-belfast",
   "metadata": {},
   "outputs": [],
   "source": [
    "names(CRAMd)\n",
    "names(CRAMdm)"
   ]
  },
  {
   "cell_type": "code",
   "execution_count": null,
   "id": "heavy-suspension",
   "metadata": {},
   "outputs": [],
   "source": [
    "ssm_275_295<-subset(CRAMdm,wavelength>=275&wavelength<=295)\n",
    "dtps<-unique(ssm_275_295$dtpr)\n",
    "pb <- progress_bar$new(\n",
    "\tformat = \"  downloading [:bar] :percent eta: :eta\",\n",
    "\ttotal = length(dtps), clear = FALSE, width= 60)\n",
    "s275295_comp<-data.frame()\n",
    "\n",
    "\n",
    "for(i in 1:length(dtps)){\n",
    "\tssm_now<-subset(ssm_275_295,dtpr==dtps[i])\n",
    "\t\n",
    "\tssm_now$am1<-ssm_now$value*100*2.3025851\n",
    "\tssm_now$lnam1<-log(ssm_now$am1)\n",
    "\n",
    "\n",
    "\tif(sum(!is.na(ssm_now$lnam1))>2){\n",
    "\t\ts275295<-lm(ssm_now$lnam1~ssm_now$wavelength)$coefficients[2]*-1\n",
    "\t\t}else{s275295<-NA}\n",
    "\t\ts275295_temp<-data.frame(dtpr=dtps[i],s275295=s275295)\n",
    "\t\ts275295_comp<-bind_rows(s275295_comp,s275295_temp)\n",
    "#\t\tpb$tick()\n",
    "}\t\n",
    "\t\n"
   ]
  },
  {
   "cell_type": "code",
   "execution_count": null,
   "id": "abroad-simpson",
   "metadata": {},
   "outputs": [],
   "source": [
    "ggplot(subset(ssm_275_295,variable==\"interp_275_c254.mean_turb\"),aes(dtpr,value))+geom_point()\n"
   ]
  },
  {
   "cell_type": "code",
   "execution_count": null,
   "id": "future-inspector",
   "metadata": {},
   "outputs": [],
   "source": [
    "ssm_275_295<-subset(CRAMdm,wavelength>=275&wavelength<=295)\n",
    "dtps<-unique(ssm_275_295$dtpr)\n",
    "pb <- progress_bar$new(\n",
    "\tformat = \"  downloading [:bar] :percent eta: :eta\",\n",
    "\ttotal = length(dtps), clear = FALSE, width= 60)\n",
    "s275295_comp<-data.frame()\n",
    "\n",
    "\n",
    "\n",
    "\tssm_now<-subset(ssm_275_295,dtpr==dtps[i])\n",
    "\t\n",
    "\tssm_now$am1<-ssm_now$value*100*2.3025851\n",
    "\tssm_now$lnam1<-log(ssm_now$am1)\n",
    "\n",
    "\n",
    "\tif(sum(!is.na(ssm_now$lnam1))>2){\n",
    "\t\ts275295<-lm(ssm_now$lnam1~ssm_now$wavelength)$coefficients[2]*-1\n",
    "\t\t}else{s275295<-NA}\n",
    "\t\ts275295_temp<-data.frame(dtpr=dtps[i],s275295=s275295)\n",
    "\t\ts275295_comp<-bind_rows(s275295_comp,s275295_temp)\n",
    "#\t\tpb$tick()\n"
   ]
  },
  {
   "cell_type": "code",
   "execution_count": null,
   "id": "hidden-tract",
   "metadata": {},
   "outputs": [],
   "source": [
    "nrow(s275295_comp)\n",
    "nrow(CRAM_swtpar)\n",
    "CRAM_swtp_ss<-merge(CRAM_swtpar,s275295_comp,by=\"dtpr\",all.x=TRUE)\n",
    "saveRDS(CRAM_swtp_ss,paste(data,\"CRAM_swtp_ss.rds\",sep=\"\"))"
   ]
  },
  {
   "cell_type": "code",
   "execution_count": null,
   "id": "desirable-sentence",
   "metadata": {},
   "outputs": [],
   "source": [
    "sdates<-unique(as.Date(CRAM_swtp_ss$dtpr,tz=\"Etc/GMT+5\"))\n",
    "\n",
    "i<-5\n",
    "comp_df<-data.frame()\n",
    "#print(i)\n",
    "start<-as.POSIXct(paste(sdates[i]-1,\"22:00\",tz=\"Etc/GMT+5\"))\n",
    "finish<-as.POSIXct(paste(sdates[i]+1,\"03:00\",tz=\"Etc/GMT+5\"))\n",
    "CRAMday<-subset(CRAM_swtp_ss,dtpr>=start & dtpr<=finish)\n",
    "CRAMday<-subset(CRAMday,!is.na(PARMean.mean) & !is.na(s275295))\n",
    "nrow(CRAMday)\n",
    "    CRAMday$PAR_roll<-as.numeric(c(\"NA\",rollmean(CRAMday$PARMean.mean,k=3,align=c(\"center\"),na.fill=TRUE),\"NA\"))\n",
    "    CRAMday$s275295_roll<-as.numeric(c(\"NA\",rollmean(CRAMday$s275295,k=3,align=c(\"center\"),na.fill=TRUE),\"NA\"))\n",
    "\n",
    "\n",
    "\n",
    "    CRAM_night<-subset(CRAMday,PARMean.mean<200)\n",
    "    night_s275295<-mean(CRAM_night$s275295,na.rm=TRUE)\n",
    "\n",
    "    \n",
    "    #CRAMday$baseline<-predict(lm(s275295~dtpr,CRAM_night),CRAMday)\n",
    "    CRAMday$baseline_roll<-predict(lm(s275295_roll~dtpr,CRAM_night),CRAMday)    \n",
    "    CRAMday$s275295_bs<-CRAMday$s275295_roll-CRAMday$baseline_roll    \n",
    "    \n",
    "    CRAM_night_am<-subset(CRAM_night,hour(dtpr)<=12)\n",
    "    night_s275295_am<-mean(CRAM_night_am$s275295,na.rm=TRUE)\n",
    "    \n",
    "    CRAM_night_pm<-subset(CRAM_night,hour(dtpr)>12)\n",
    "    night_s275295_pm<-mean(CRAM_night_pm$s275295,na.rm=TRUE)\n",
    "    \n",
    "    CRAM_day<-subset(CRAMday,PARMean.mean>=10)\n",
    "    day_s275295<-mean(CRAM_day$s275295,na.rm=TRUE)\n",
    "\n",
    "    day_s275295_base_sum<-sum(CRAM_day$s275295_bs,na.rm=TRUE)\n",
    "    day_PAR_roll_base_sum<-sum(CRAM_day$PAR_roll,na.rm=TRUE)    \n",
    "\n",
    "    int<-lm(s275295_bs~PAR_roll,CRAM_day)$coef[1]\n",
    "    slope<-lm(s275295_bs~PAR_roll,CRAM_day)$coef[2]    \n",
    "    \n",
    "    CRAM_n_am_time<-nrow(CRAM_night_am)\n",
    "    CRAM_n_pm_time<-nrow(CRAM_night_pm)\n",
    "    CRAM_d_time<-nrow(CRAM_day)\n",
    "    \n",
    "    temp_df<-data.frame(site=\"CRAM\",date=sdates[i],night_s275295=night_s275295,night_s275295_am=night_s275295_am,night_s275295_pm=night_s275295_pm,day_s275295=day_s275295,day_s275295_base_sum=day_s275295_base_sum,day_PAR_roll_base_sum=day_PAR_roll_base_sum,int=int,slope=slope,CRAM_n_am_time=CRAM_n_am_time,CRAM_n_pm_time=CRAM_n_pm_time,CRAM_d_time=CRAM_d_time)"
   ]
  },
  {
   "cell_type": "code",
   "execution_count": null,
   "id": "right-viewer",
   "metadata": {},
   "outputs": [],
   "source": [
    "\n",
    "\n",
    "\n"
   ]
  },
  {
   "cell_type": "markdown",
   "id": "dimensional-empire",
   "metadata": {},
   "source": [
    "# Extracting spectral daily slope ratio discrepancy."
   ]
  },
  {
   "cell_type": "code",
   "execution_count": null,
   "id": "distinct-suggestion",
   "metadata": {
    "tags": []
   },
   "outputs": [],
   "source": [
    "sdates<-unique(as.Date(CRAM_swtp_ss$dtpr,tz=\"Etc/GMT+5\"))\n",
    "\n",
    "#i<-30\n",
    "comp_df<-data.frame()\n",
    "for(i in 1:length(sdates)){\n",
    "#print(i)\n",
    "start<-as.POSIXct(paste(sdates[i]-1,\"22:00\",tz=\"Etc/GMT+5\"))\n",
    "finish<-as.POSIXct(paste(sdates[i]+1,\"03:00\",tz=\"Etc/GMT+5\"))\n",
    "CRAMday<-subset(CRAM_swtp_ss,dtpr>=start & dtpr<=finish)\n",
    "CRAMday<-subset(CRAMday,!is.na(PARMean.mean) & !is.na(s275295))\n",
    "\n",
    "if(nrow(CRAMday)>80){\n",
    "    CRAMday$PAR_roll<-as.numeric(c(\"NA\",rollmean(CRAMday$PARMean.mean,k=3,align=c(\"center\"),na.fill=TRUE),\"NA\"))\n",
    "    CRAMday$s275295_roll<-as.numeric(c(\"NA\",rollmean(CRAMday$s275295,k=3,align=c(\"center\"),na.fill=TRUE),\"NA\"))\n",
    "\n",
    "\n",
    "\n",
    "    CRAM_night<-subset(CRAMday,PARMean.mean<200)\n",
    "    night_s275295<-mean(CRAM_night$s275295,na.rm=TRUE)\n",
    "    \n",
    "    #CRAMday$baseline<-predict(lm(s275295~dtpr,CRAM_night),CRAMday)\n",
    "    CRAMday$baseline_roll<-predict(lm(s275295_roll~dtpr,CRAM_night),CRAMday)    \n",
    "    CRAMday$s275295_bs<-CRAMday$s275295_roll-CRAMday$baseline_roll    \n",
    "    \n",
    "    CRAM_night_am<-subset(CRAM_night,hour(dtpr)<=12)\n",
    "    night_s275295_am<-mean(CRAM_night_am$s275295,na.rm=TRUE)\n",
    "    \n",
    "    CRAM_night_pm<-subset(CRAM_night,hour(dtpr)>12)\n",
    "    night_s275295_pm<-mean(CRAM_night_pm$s275295,na.rm=TRUE)\n",
    "    \n",
    "    CRAM_day<-subset(CRAMday,PARMean.mean>=10)\n",
    "    day_s275295<-mean(CRAM_day$s275295,na.rm=TRUE)\n",
    "\n",
    "    day_s275295_base_sum<-sum(CRAM_day$s275295_bs,na.rm=TRUE)\n",
    "    day_PAR_roll_base_sum<-sum(CRAM_day$PAR_roll,na.rm=TRUE)    \n",
    "\n",
    "    int<-lm(s275295_bs~PAR_roll,CRAM_day)$coef[1]\n",
    "    slope<-lm(s275295_bs~PAR_roll,CRAM_day)$coef[2]    \n",
    "    \n",
    "    CRAM_n_am_time<-nrow(CRAM_night_am)\n",
    "    CRAM_n_pm_time<-nrow(CRAM_night_pm)\n",
    "    CRAM_d_time<-nrow(CRAM_day)\n",
    "    \n",
    "    temp_df<-data.frame(site=\"CRAM\",date=sdates[i],night_s275295=night_s275295,night_s275295_am=night_s275295_am,night_s275295_pm=night_s275295_pm,day_s275295=day_s275295,day_s275295_base_sum=day_s275295_base_sum,day_PAR_roll_base_sum=day_PAR_roll_base_sum,int=int,slope=slope,CRAM_n_am_time=CRAM_n_am_time,CRAM_n_pm_time=CRAM_n_pm_time,CRAM_d_time=CRAM_d_time)\n",
    "    comp_df<-bind_rows(comp_df,temp_df)\n",
    "    }\n",
    "}\n",
    "\n",
    "\n"
   ]
  },
  {
   "cell_type": "code",
   "execution_count": null,
   "id": "streaming-newcastle",
   "metadata": {},
   "outputs": [],
   "source": [
    "nrow(comp_df)\n",
    "head(comp_df)"
   ]
  },
  {
   "cell_type": "code",
   "execution_count": null,
   "id": "sexual-timer",
   "metadata": {},
   "outputs": [],
   "source": [
    "    CRAM_day$s275295_bs\n",
    "ggplot(comp_df,aes(date,day_s275295_base_sum))+\n",
    "       geom_point(size=2)\n",
    "ggplot(comp_df,aes(date,day_PAR_roll_base_sum))+\n",
    "       geom_point(size=2)\n",
    "\n",
    "\n",
    "ggplot(comp_df,aes(day_PAR_roll_base_sum,day_s275295_base_sum))+\n",
    "geom_point()\n",
    "\n",
    "\n",
    "saveRDS(comp_df,paste(data,\"comp_df_CRAM.rds\",sep=\"\"))"
   ]
  },
  {
   "cell_type": "code",
   "execution_count": null,
   "id": "continuing-prophet",
   "metadata": {},
   "outputs": [],
   "source": [
    "CRAMday<-subset(CRAM_swtp_ss,as.Date(dtpr,tz=\"Etc/GMT+5\")==as.Date(\"2019-06-11\",tz=\"Etc/GMT+5\"))\n",
    "nrow(CRAMday)\n",
    "\n",
    "str(CRAMday$s275295)\n",
    "\n",
    "\n",
    "\n",
    "ggplot(CRAMday,aes(dtpr,s275295))+\n",
    "geom_point()\n",
    "\n",
    "\n",
    "ggplot(CRAMday,aes(dtpr,PARMean.mean))+\n",
    "geom_point()\n",
    "\n",
    "ggplot(CRAMday,aes(dtpr,PARMean.mean))+\n",
    "geom_point()\n",
    "\n"
   ]
  }
 ],
 "metadata": {
  "kernelspec": {
   "display_name": "R",
   "language": "R",
   "name": "ir"
  },
  "language_info": {
   "codemirror_mode": "r",
   "file_extension": ".r",
   "mimetype": "text/x-r-source",
   "name": "R",
   "pygments_lexer": "r",
   "version": "4.1.0"
  }
 },
 "nbformat": 4,
 "nbformat_minor": 5
}
