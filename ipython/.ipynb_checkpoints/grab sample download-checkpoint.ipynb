{
 "cells": [
  {
   "cell_type": "markdown",
   "id": "challenging-shareware",
   "metadata": {},
   "source": [
    "## Downloading all grab sample data for sites with sunas"
   ]
  },
  {
   "cell_type": "code",
   "execution_count": 1,
   "id": "adequate-iraqi",
   "metadata": {},
   "outputs": [
    {
     "name": "stderr",
     "output_type": "stream",
     "text": [
      "\n",
      "Attaching package: ‘dplyr’\n",
      "\n",
      "\n",
      "The following objects are masked from ‘package:stats’:\n",
      "\n",
      "    filter, lag\n",
      "\n",
      "\n",
      "The following objects are masked from ‘package:base’:\n",
      "\n",
      "    intersect, setdiff, setequal, union\n",
      "\n",
      "\n",
      "\n",
      "Attaching package: ‘lubridate’\n",
      "\n",
      "\n",
      "The following objects are masked from ‘package:base’:\n",
      "\n",
      "    date, intersect, setdiff, union\n",
      "\n",
      "\n"
     ]
    }
   ],
   "source": [
    "library(dplyr)\n",
    "library(splitstackshape)\n",
    "library(lubridate)\n",
    "library(reshape2)\n",
    "library(neonUtilities)\n",
    "\n",
    "data<-\"/Users/jhosen/gdrive/SUNA_Data/grab_samples\""
   ]
  },
  {
   "cell_type": "code",
   "execution_count": 2,
   "id": "certified-brand",
   "metadata": {},
   "outputs": [
    {
     "name": "stderr",
     "output_type": "stream",
     "text": [
      "\n",
      "Attaching package: ‘zoo’\n",
      "\n",
      "\n",
      "The following objects are masked from ‘package:base’:\n",
      "\n",
      "    as.Date, as.Date.numeric\n",
      "\n",
      "\n"
     ]
    },
    {
     "name": "stdout",
     "output_type": "stream",
     "text": [
      "Finding available files\n",
      "  |======================================================================| 100%\n",
      "\n",
      "Downloading files totaling approximately 2.48359 MB\n",
      "Downloading 70 files\n",
      "  |======================================================================| 100%\n",
      "\n",
      "Unpacking zip files using 1 cores.\n",
      "Stacking operation across a single core.\n",
      "Stacking table swc_domainLabData\n",
      "Stacking table swc_externalLabDataByAnalyte\n",
      "Stacking table swc_fieldData\n",
      "Stacking table swc_fieldSuperParent\n",
      "Copied the most recent publication of validation file to /stackedFiles\n",
      "Copied the most recent publication of categoricalCodes file to /stackedFiles\n",
      "Copied the most recent publication of variable definition file to /stackedFiles\n",
      "Finished: Stacked 4 data tables and 3 metadata tables!\n",
      "Stacking took 1.137196 secs\n"
     ]
    },
    {
     "data": {
      "text/html": [
       "<style>\n",
       ".list-inline {list-style: none; margin:0; padding: 0}\n",
       ".list-inline>li {display: inline-block}\n",
       ".list-inline>li:not(:last-child)::after {content: \"\\00b7\"; padding: 0 .5ex}\n",
       "</style>\n",
       "<ol class=list-inline><li>'uid'</li><li>'domainID'</li><li>'siteID'</li><li>'namedLocation'</li><li>'sampleID'</li><li>'sampleCode'</li><li>'startDate'</li><li>'collectDate'</li><li>'laboratoryName'</li><li>'analyte'</li><li>'analyteConcentration'</li><li>'analyteUnits'</li><li>'coolerTemp'</li><li>'remarks'</li><li>'shipmentWarmQF'</li><li>'externalLabDataQF'</li><li>'sampleCondition'</li><li>'publicationDate'</li><li>'release'</li></ol>\n"
      ],
      "text/latex": [
       "\\begin{enumerate*}\n",
       "\\item 'uid'\n",
       "\\item 'domainID'\n",
       "\\item 'siteID'\n",
       "\\item 'namedLocation'\n",
       "\\item 'sampleID'\n",
       "\\item 'sampleCode'\n",
       "\\item 'startDate'\n",
       "\\item 'collectDate'\n",
       "\\item 'laboratoryName'\n",
       "\\item 'analyte'\n",
       "\\item 'analyteConcentration'\n",
       "\\item 'analyteUnits'\n",
       "\\item 'coolerTemp'\n",
       "\\item 'remarks'\n",
       "\\item 'shipmentWarmQF'\n",
       "\\item 'externalLabDataQF'\n",
       "\\item 'sampleCondition'\n",
       "\\item 'publicationDate'\n",
       "\\item 'release'\n",
       "\\end{enumerate*}\n"
      ],
      "text/markdown": [
       "1. 'uid'\n",
       "2. 'domainID'\n",
       "3. 'siteID'\n",
       "4. 'namedLocation'\n",
       "5. 'sampleID'\n",
       "6. 'sampleCode'\n",
       "7. 'startDate'\n",
       "8. 'collectDate'\n",
       "9. 'laboratoryName'\n",
       "10. 'analyte'\n",
       "11. 'analyteConcentration'\n",
       "12. 'analyteUnits'\n",
       "13. 'coolerTemp'\n",
       "14. 'remarks'\n",
       "15. 'shipmentWarmQF'\n",
       "16. 'externalLabDataQF'\n",
       "17. 'sampleCondition'\n",
       "18. 'publicationDate'\n",
       "19. 'release'\n",
       "\n",
       "\n"
      ],
      "text/plain": [
       " [1] \"uid\"                  \"domainID\"             \"siteID\"              \n",
       " [4] \"namedLocation\"        \"sampleID\"             \"sampleCode\"          \n",
       " [7] \"startDate\"            \"collectDate\"          \"laboratoryName\"      \n",
       "[10] \"analyte\"              \"analyteConcentration\" \"analyteUnits\"        \n",
       "[13] \"coolerTemp\"           \"remarks\"              \"shipmentWarmQF\"      \n",
       "[16] \"externalLabDataQF\"    \"sampleCondition\"      \"publicationDate\"     \n",
       "[19] \"release\"             "
      ]
     },
     "metadata": {},
     "output_type": "display_data"
    }
   ],
   "source": [
    "\n",
    "\n",
    "library(zoo)\n",
    "KING_wqg<-loadByProduct(dpID=\"DP1.20093.001\",site=\"KING\",check.size=F)\n",
    "saveRDS(KING_wqg,paste(data,\"/KING_wqg.rds\",sep=\"\"))\n",
    "#KING_wqg<-readRDS(paste(data,\"/KING_wqg.rds\",sep=\"\"))\n",
    "\n",
    "\n",
    "KING_wqg_d<-as.data.frame(KING_wqg$swc_externalLabDataByAnalyte)\n",
    "\n",
    "names(KING_wqg_d)\n",
    "\n",
    "uv_abs<-subset(KING_wqg_d,analyte==\"UV Absorbance (250 nm)\"|analyte==\"UV Absorbance (280 nm)\")\n",
    "date_cast<-dcast(uv_abs[,c(\"analyte\",\"collectDate\",\"analyteConcentration\")],collectDate~analyte,value.var=\"analyteConcentration\",mean)\n",
    "date_cast$dtpr<-lubridate::round_date(date_cast$collectDate, \"15 minutes\")\n",
    "\n",
    "date_cast$site<-\"KING\"\n",
    "saveRDS(date_cast,paste(data,\"/KING_uv_grab.rds\",sep=\"\"))\n",
    "\n"
   ]
  },
  {
   "cell_type": "code",
   "execution_count": null,
   "id": "shared-brunswick",
   "metadata": {},
   "outputs": [
    {
     "name": "stdout",
     "output_type": "stream",
     "text": [
      "Finding available files\n",
      "  |======================================================================| 100%\n",
      "\n",
      "Downloading files totaling approximately 2.11099 MB\n",
      "Downloading 70 files\n",
      "  |======================================                                |  54%"
     ]
    }
   ],
   "source": [
    "\n",
    "\n",
    "library(zoo)\n",
    "COMO_wqg<-loadByProduct(dpID=\"DP1.20093.001\",site=\"COMO\",check.size=F)\n",
    "saveRDS(COMO_wqg,paste(data,\"/COMO_wqg.rds\",sep=\"\"))\n",
    "#COMO_wqg<-readRDS(paste(data,\"/COMO_wqg.rds\",sep=\"\"))\n",
    "\n",
    "\n",
    "COMO_wqg_d<-as.data.frame(COMO_wqg$swc_externalLabDataByAnalyte)\n",
    "\n",
    "names(COMO_wqg_d)\n",
    "\n",
    "uv_abs<-subset(COMO_wqg_d,analyte==\"UV Absorbance (250 nm)\"|analyte==\"UV Absorbance (280 nm)\")\n",
    "date_cast<-dcast(uv_abs[,c(\"analyte\",\"collectDate\",\"analyteConcentration\")],collectDate~analyte,value.var=\"analyteConcentration\",mean)\n",
    "date_cast$dtpr<-lubridate::round_date(date_cast$collectDate, \"15 minutes\")\n",
    "\n",
    "date_cast$site<-\"COMO\"\n",
    "saveRDS(date_cast,paste(data,\"/COMO_uv_grab.rds\",sep=\"\"))\n",
    "\n"
   ]
  },
  {
   "cell_type": "code",
   "execution_count": null,
   "id": "prompt-packing",
   "metadata": {},
   "outputs": [],
   "source": [
    "\n",
    "\n",
    "library(zoo)\n",
    "KING_wqg<-loadByProduct(dpID=\"DP1.20093.001\",site=\"KING\",check.size=F)\n",
    "saveRDS(KING_wqg,paste(data,\"/KING_wqg.rds\",sep=\"\"))\n",
    "#KING_wqg<-readRDS(paste(data,\"/KING_wqg.rds\",sep=\"\"))\n",
    "\n",
    "\n",
    "KING_wqg_d<-as.data.frame(KING_wqg$swc_externalLabDataByAnalyte)\n",
    "\n",
    "names(KING_wqg_d)\n",
    "\n",
    "uv_abs<-subset(KING_wqg_d,analyte==\"UV Absorbance (250 nm)\"|analyte==\"UV Absorbance (280 nm)\")\n",
    "date_cast<-dcast(uv_abs[,c(\"analyte\",\"collectDate\",\"analyteConcentration\")],collectDate~analyte,value.var=\"analyteConcentration\",mean)\n",
    "date_cast$dtpr<-lubridate::round_date(date_cast$collectDate, \"15 minutes\")\n",
    "\n",
    "date_cast$site<-\"KING\"\n",
    "saveRDS(date_cast,paste(data,\"/KING_uv_grab.rds\",sep=\"\"))\n",
    "\n"
   ]
  }
 ],
 "metadata": {
  "kernelspec": {
   "display_name": "R",
   "language": "R",
   "name": "ir"
  },
  "language_info": {
   "codemirror_mode": "r",
   "file_extension": ".r",
   "mimetype": "text/x-r-source",
   "name": "R",
   "pygments_lexer": "r",
   "version": "4.0.4"
  }
 },
 "nbformat": 4,
 "nbformat_minor": 5
}
