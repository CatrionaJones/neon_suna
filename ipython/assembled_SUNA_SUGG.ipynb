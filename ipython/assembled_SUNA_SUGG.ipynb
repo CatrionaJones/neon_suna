{
 "cells": [
  {
   "cell_type": "markdown",
   "id": "sublime-berry",
   "metadata": {},
   "source": [
    "# Identify working and data directory and site ID.\n",
    "* The working directory is the root directory of the github.\n",
    "* The data directory points to the google drive folder where the larger data files are stored.\n",
    "* For the moment the site ID if the four-digit NEON site ID."
   ]
  },
  {
   "cell_type": "code",
   "execution_count": null,
   "id": "universal-pharmacy",
   "metadata": {},
   "outputs": [],
   "source": [
    "working<-\"~/neon_suna\"\n",
    "site_id<-\"SUGG\"\n",
    "#data<-paste(\"~/gdrive/SUNA_Data/SUNA_NEON/\",site_id,\"/2019\",sep=\"\")\n",
    "data<-\"/Users/jhosen/gdrive/SUNA_Data/SUNA_NEON/SUGG_2019\""
   ]
  },
  {
   "cell_type": "markdown",
   "id": "offensive-bhutan",
   "metadata": {},
   "source": [
    "# Initialize required libraries, functions and formatting utilities."
   ]
  },
  {
   "cell_type": "code",
   "execution_count": null,
   "id": "spanish-portal",
   "metadata": {},
   "outputs": [],
   "source": [
    "library(dplyr)\n",
    "library(streamMetabolizer)\n",
    "library(splitstackshape)\n",
    "library(ggplot2)\n",
    "library(lubridate)\n",
    "library(reshape2)\n",
    "library(neonUtilities)\n",
    "library(progress)\n",
    "library(patchwork)\n",
    "library(doBy)\n",
    "library(stringr)\n",
    "#library(box)\n",
    "\n",
    "theme_ts_space<-theme_grey() +\n",
    "\t\ttheme(\n",
    "#\t\tpanel.grid.major = element_blank(),\n",
    "#\t\tpanel.grid.minor = element_blank(),\n",
    "\t\tpanel.background = element_rect(fill=\"white\", colour=\"black\", size=2),\n",
    "#\t\tlegend.key       = element_blank(),\n",
    "#\t\tlegend.text      = element_text(size=20.5),\n",
    "#\t\tlegend.text      = element_blank(),\n",
    "#\t\tlegend.title     = element_text(size=20.5),\n",
    "\t\taxis.text.x = element_text(size=22,colour=\"black\",hjust=1,angle=45),\n",
    "\t\taxis.text.y = element_text(size=22,colour=\"black\",vjust=.3),\n",
    "\t\taxis.title.x = element_text(size=22),\n",
    "\t\taxis.title.y = element_text(size=22,vjust=-1),\n",
    "#\t\tplot.title = element_text(hjust = 0.5,size=22,face=\"bold\"),\t\t\n",
    "#\t\tlegend.position  = \"left\",\n",
    "\t\tlegend.position  = \"none\",\n",
    "\t\tplot.margin = unit(c(1,1,1,1), \"cm\"),\n",
    "\t\tpanel.border = element_rect(colour = \"black\", fill=NA, size=2)\n",
    "\t\t)\n",
    "\n",
    "\n",
    "\n"
   ]
  },
  {
   "cell_type": "markdown",
   "id": "pursuant-advertiser",
   "metadata": {},
   "source": [
    "# Setting up the workspace\n",
    "In the cell below indicate the site that will be analyzed here according to its NEON 4-letter code. A list of files for that site is then placed in the vector \"sunas\".\n",
    "\n",
    "If you downloaded the repo into your home director, which is found by going to \"~/\", then you don\"t have to change the box path. FYI: Box is a new package for R that allows you to define a set of functions without creating a new package."
   ]
  },
  {
   "cell_type": "code",
   "execution_count": null,
   "id": "inappropriate-injection",
   "metadata": {},
   "outputs": [],
   "source": [
    "\n",
    "#setwd(paste(\"~/gdrive/SUNA_data/SUNA_NEON/\",site_id,sep=\"\"))\n",
    "#sunas<-list.files(pattern=\"*.csv\")\n",
    "#getwd()\n",
    "#options(box.path = \"~/neon_suna/box/\")\n",
    "#box::use(plots)\n",
    "\n",
    "setwd(data)\n",
    "sunas<-list.files(pattern=\"*.CSV\")\n",
    "\n",
    "#suna_cal<-readRDS(\"/Users/jhosen/gdrive/fdom/SUNA Calibration pdfs/suna_cal_comb.rds\")\n",
    "suna_cal<-read.csv(\"/Users/jhosen/gdrive/SUNA_Data/SUNA Calibration pdfs/suna_0839_20200312.csv\")\n",
    "suna_cal_t<-as.data.frame(t(suna_cal))\n",
    "names(suna_cal_t)<-suna_cal_t[1,]"
   ]
  },
  {
   "cell_type": "code",
   "execution_count": null,
   "id": "civil-davis",
   "metadata": {},
   "outputs": [],
   "source": []
  },
  {
   "cell_type": "markdown",
   "id": "boolean-warren",
   "metadata": {},
   "source": [
    "# Data import and processing loop.\n",
    "This step loads each data file, formats the data for use, and concatenates files from an individual site.\n",
    "\n",
    "This step could take a while."
   ]
  },
  {
   "cell_type": "code",
   "execution_count": null,
   "id": "explicit-stick",
   "metadata": {},
   "outputs": [],
   "source": [
    "cal"
   ]
  },
  {
   "cell_type": "code",
   "execution_count": null,
   "id": "mechanical-tunisia",
   "metadata": {
    "tags": []
   },
   "outputs": [],
   "source": [
    "options(warn=-1)\n",
    "compiled_suna<-data.frame()\n",
    "sunas_length<-length(sunas)\n",
    "for(i in 1:sunas_length){\n",
    "#i<-1\n",
    "print(i)\n",
    "\n",
    "\n",
    "suna_calid<-read.csv(paste(sunas[i]),skip=0,header=FALSE)\n",
    "cal<-str_extract(suna_calid,\"[SNA]{3}[0-9]{4}[a-zA-Z]{1}\")\n",
    "cal<-cal[!is.na(cal)]\n",
    "    \n",
    "    \n",
    "suna<-read.csv(paste(sunas[i]),skip=30,header=FALSE)\n",
    "\n",
    "if(cal!=\"SNA0564Q\" & cal!=\"SNA0564R\" & cal!=\"SNA0564S\"){suna_cal<-read.csv(paste(\"/Users/jhosen/gdrive/SUNA_Data/SUNA_NEON/SUGG_2019/cal_files/\",cal,\"_abbr.csv\",sep=\"\"))}else{\n",
    "    suna_cal<-read.csv(\"/Users/jhosen/gdrive/SUNA_Data/SUNA_NEON/SUGG_2019/cal_files/SNA0564T_abbr.csv\")}\n",
    "\n",
    "suna_cal_t<-as.data.frame(t(suna_cal))\n",
    "names(suna_cal_t)<-suna_cal_t[1,]\n",
    "\n",
    "#suna_d0<-cSplit(suna,3, \",\")\n",
    "names(suna)<-c(\"suna_id\",\"date\",\"time\",\"nitrate\",\"nitrate_mgl\",\"a254\",\"a350\",\"bromide_trace\",\"spec_average_dark\",\"dark_signal_average\",\"int_time\",suna_cal$wavelength_nm,\"sensor_temp\",\"spec_temp\",\"lamp_temp\",\"lamp_time\",\"rel_hum\",\"main_volt\",\"lamp_volt\",\"int_volt\",\"main_current\",\"fit_aux_1\",\"fit_aux_2\",\"fit_base_1\",\"fit_base_2\",\"fit_RMSE\",\"CTD_Time\",\"CTD_Salinity\",\"CTD_Temp\",\"CTD_Pressure\",\"checksum\")\n",
    "\n",
    "    \n",
    "#suna<-subset(suna,a254!=0)\n",
    "\n",
    "suna<-subset(suna,a254!=0)\n",
    "    \n",
    "#year<-substr(suna$date, 1, 4)\n",
    "if(grepl(\"D2019\",sunas[i])==TRUE){\n",
    "year<-\"2019\"\n",
    "doy<-gsub(\".CSV\",\"\",gsub(\"D2019\",\"\",paste(sunas[i]),fixed=TRUE),fixed=TRUE)\n",
    "}\n",
    "    \n",
    "if(grepl(\"D2020\",sunas[i])==TRUE){\n",
    "year<-\"2020\"\n",
    "doy<-gsub(\".CSV\",\"\",gsub(\"D2020\",\"\",paste(sunas[i]),fixed=TRUE),fixed=TRUE)\n",
    "}\n",
    "\n",
    "day<-as.POSIXct(paste(as.Date(as.numeric(doy)-1,origin=paste(year,\"-01-01\",sep=\"\")),\"00:00:00\"),tz=\"UTC\")\n",
    "#suna$day<-as.POSIXct(\"2019-05-10 00:00:00\",tz=\"UTC\")\n",
    "suna$dtp<-day + (3600*as.numeric(suna$time))\n",
    "#attr(suna$dtp,\"tzone\") <- \"Etc/GMT+8\"\n",
    "\n",
    "    \n",
    "\n",
    "offse<-c(t(suna_cal_t[3,]))\n",
    "suna2<-(suna[,12:267]/suna$int_time)-suna$dark_signal_average\n",
    "suna_d0_norm<-sweep(suna2,2,FUN=\"/\",offse)\n",
    "names(suna_d0_norm)<-paste(\"n_\",names(suna_cal_t),sep=\"\")\n",
    "\n",
    "    \n",
    "\n",
    "#print(\"test\")\n",
    "suna_d0_int<-data.frame()\n",
    "for(j in 1:nrow(suna_d0_norm)){\t\n",
    "#    print(j)\n",
    "\tflip<-as.data.frame(t(suna_d0_norm[j,]))\n",
    "\tnames(flip)<-c(\"abs\")\n",
    "\tflip$wl_nm<-gsub(\"n_\",\"\",row.names(flip),fixed=TRUE)\n",
    "\tflip_int<-as.data.frame(t(approx(flip$wl_nm,flip$abs,xout=seq(189,394,1),rule=2)$y))\n",
    "\tnames(flip_int)<-paste(\"interp_\",seq(189,394,1),sep=\"\")\n",
    "\tsuna_d0_int<-bind_rows(suna_d0_int,flip_int)\n",
    "}\n",
    "suna_d<-bind_cols(suna,suna_d0_int)\n",
    "#suna_d$date<-as.character(suna_d[,c(\"date\")])\n",
    "#suna_d$time<-as.character(suna_d[,c(\"time\")])\n",
    "suna_d2<-suna_d %>% mutate_if(is.numeric,as.character)\n",
    "compiled_suna<-bind_rows(compiled_suna,suna_d2)\n",
    "}\n",
    "print(\"done\")\n",
    "options(warn=0)    \n",
    "    \n",
    "    \n",
    "    \n"
   ]
  },
  {
   "cell_type": "markdown",
   "id": "bright-prescription",
   "metadata": {},
   "source": [
    "# Check Data and Save"
   ]
  },
  {
   "cell_type": "code",
   "execution_count": null,
   "id": "removed-freedom",
   "metadata": {},
   "outputs": [],
   "source": [
    "#head(compiled_suna)\n",
    "#grepl(\"D2020\",sunas[240])\n",
    "#sunas[240]\n",
    "#length(sunas)\n",
    "#sunas[240]\n",
    "#ncol(compiled_suna)\n",
    "#nrow(compiled_suna)\n",
    "#names(compiled_suna)<-gsub(\"inter_time\",\"int_time\",names(compiled_suna),fixed=TRUE)\n",
    "#saveRDS(compiled_suna,\"/Users/jhosen/gdrive/SUNA_Data/SUNA_NEON/SUGG_2019/SUGG_corrected/SUNA_SUGG_20210428_full.rds\")\n",
    "compiled_suna<-readRDS(\"/Users/jhosen/gdrive/SUNA_Data/SUNA_NEON/SUGG_2019/SUGG_corrected/SUNA_SUGG_20210428_full.rds\")\n"
   ]
  },
  {
   "cell_type": "markdown",
   "id": "suspended-accused",
   "metadata": {},
   "source": [
    "# Extracting the interpolated columns"
   ]
  },
  {
   "cell_type": "code",
   "execution_count": null,
   "id": "attached-calcium",
   "metadata": {},
   "outputs": [],
   "source": [
    "compiled_suna$cal<-\"suna_0839\"\n",
    "\n",
    "suna_interp<-compiled_suna[,grepl(\"^inter\",names(compiled_suna))] %>% mutate_if(is.character, ~as.numeric(.))\n",
    "#head(suna_interp)\n",
    "\n",
    "other_suna<-compiled_suna[,c(\"suna_id\",\"date\",\"time\",\"nitrate\",\"nitrate_mgl\",\"a254\",\"a350\",\"bromide_trace\",\"spec_average_dark\",\"dark_signal_average\",\"int_time\",\"sensor_temp\",\"spec_temp\",\"lamp_temp\",\"lamp_time\",\"rel_hum\",\"main_volt\",\"lamp_volt\",\"int_volt\",\"main_current\",\"fit_aux_1\",\"fit_aux_2\",\"fit_base_1\",\"fit_base_2\",\"fit_RMSE\",\"CTD_Time\",\"CTD_Salinity\",\"CTD_Temp\",\"CTD_Pressure\",\"checksum\",\"cal\",\"dtp\")]\n",
    "\n",
    "suna_cols<-bind_cols(other_suna,suna_interp)\n",
    "suna_cols$a254<-as.numeric(suna_cols$a254)\n",
    "suna_cols$a350<-as.numeric(suna_cols$a350)\n",
    "suna_cols$nitrate<-as.numeric(suna_cols$nitrate)\n",
    "suna_cols$nitrate_mgl<-as.numeric(suna_cols$nitrate_mgl)\n",
    "suna_cols$sensor_temp<-as.numeric(suna_cols$sensor_temp)\n"
   ]
  },
  {
   "cell_type": "code",
   "execution_count": null,
   "id": "lesser-milton",
   "metadata": {},
   "outputs": [],
   "source": [
    "range(suna_cols$a254)\n",
    "range(suna_cols$interp_254)"
   ]
  },
  {
   "cell_type": "code",
   "execution_count": 76,
   "id": "native-waters",
   "metadata": {
    "tags": []
   },
   "outputs": [
    {
     "name": "stderr",
     "output_type": "stream",
     "text": [
      "Warning message in eval(predvars, data, env):\n",
      "“NaNs produced”\n",
      "Warning message in structure(x, class = unique(c(\"AsIs\", oldClass(x)))):\n",
      "“NaNs produced”\n",
      "Warning message in structure(x, class = unique(c(\"AsIs\", oldClass(x)))):\n",
      "“NaNs produced”\n"
     ]
    }
   ],
   "source": [
    "suna_cols<-subset(suna_cols,a350<10 & a254<10)\n",
    "a350_mod<-lm(a350~log10(interp_350)+I(log10(interp_350)^2)+I(log10(interp_350)^3),suna_cols)\n",
    "a254_mod<-lm(a254~log10(interp_254+0.6)+I(log10(interp_254+0.6)^2)+I(log10(interp_254+0.6)^3),suna_cols)\n",
    "\n",
    "\n",
    "\n",
    "cor_cols<-grep(\"^interp_\",names(suna_cols))\n"
   ]
  },
  {
   "cell_type": "code",
   "execution_count": 77,
   "id": "front-possession",
   "metadata": {},
   "outputs": [
    {
     "data": {
      "text/plain": [
       "\n",
       "Call:\n",
       "lm(formula = a254 ~ log10(interp_254 + 0.6) + I(log10(interp_254 + \n",
       "    0.6)^2) + I(log10(interp_254 + 0.6)^3), data = suna_cols)\n",
       "\n",
       "Residuals:\n",
       "     Min       1Q   Median       3Q      Max \n",
       "-1.90612 -0.16805  0.02262  0.16564  2.49449 \n",
       "\n",
       "Coefficients:\n",
       "                              Estimate Std. Error t value Pr(>|t|)    \n",
       "(Intercept)                   2.185545   0.001823 1198.65   <2e-16 ***\n",
       "log10(interp_254 + 0.6)      -2.913060   0.007043 -413.59   <2e-16 ***\n",
       "I(log10(interp_254 + 0.6)^2) -4.398466   0.011833 -371.73   <2e-16 ***\n",
       "I(log10(interp_254 + 0.6)^3) -1.023596   0.014579  -70.21   <2e-16 ***\n",
       "---\n",
       "Signif. codes:  0 ‘***’ 0.001 ‘**’ 0.01 ‘*’ 0.05 ‘.’ 0.1 ‘ ’ 1\n",
       "\n",
       "Residual standard error: 0.2487 on 416897 degrees of freedom\n",
       "Multiple R-squared:  0.4373,\tAdjusted R-squared:  0.4373 \n",
       "F-statistic: 1.08e+05 on 3 and 416897 DF,  p-value: < 2.2e-16\n"
      ]
     },
     "metadata": {},
     "output_type": "display_data"
    },
    {
     "data": {
      "image/png": "[encoded data removed]",
      "text/plain": [
       "plot without title"
      ]
     },
     "metadata": {
      "image/png": {
       "height": 420,
       "width": 420
      }
     },
     "output_type": "display_data"
    }
   ],
   "source": [
    "ggplot(suna_cols,aes(interp_254,a254))+geom_point()\n",
    "\n",
    "summary(a254_mod)"
   ]
  },
  {
   "cell_type": "code",
   "execution_count": null,
   "id": "romance-wildlife",
   "metadata": {
    "tags": []
   },
   "outputs": [],
   "source": [
    "\n",
    "#compiled_suna2[,c(cor_cols)]<-compiled_suna2[,c(cor_cols)] %>% mutate_if(is.character,as.numeric)\n",
    "\n",
    "for(i in 1:length(cor_cols)){\n",
    "\tprepdata<-data.frame(interp_350=suna_cols[,cor_cols[i]],interp_254=suna_cols[,cor_cols[i]])\n",
    "\ta350_pred<-predict(a350_mod,newdata=prepdata)\n",
    "\ta254_pred<-predict(a254_mod,newdata=prepdata)\n",
    "\tsuna_cols[,c(paste(names(suna_cols)[cor_cols[i]],\"_c350\",sep=\"\"))]<-a350_pred\n",
    "\tsuna_cols[,c(paste(names(suna_cols)[cor_cols[i]],\"_c254\",sep=\"\"))]<-a254_pred\n",
    "}\n",
    "\n"
   ]
  },
  {
   "cell_type": "markdown",
   "id": "right-theorem",
   "metadata": {},
   "source": [
    "# Reducing data down to 15 minutes intervals.\n",
    "We want to average down each burst from the SUNA to a single value and mac sure that these values are snapped to 15 minutes intervals (e.g., rather than round up or down to 14 or 16)."
   ]
  },
  {
   "cell_type": "code",
   "execution_count": 81,
   "id": "preliminary-disaster",
   "metadata": {},
   "outputs": [
    {
     "data": {
      "text/html": [
       "416901"
      ],
      "text/latex": [
       "416901"
      ],
      "text/markdown": [
       "416901"
      ],
      "text/plain": [
       "[1] 416901"
      ]
     },
     "metadata": {},
     "output_type": "display_data"
    }
   ],
   "source": [
    "head(suna_cols)"
   ]
  },
  {
   "cell_type": "code",
   "execution_count": 82,
   "id": "loaded-paradise",
   "metadata": {},
   "outputs": [],
   "source": [
    "#rm(compiled_suna)\n",
    "#rm(compiled_suna_1)\n",
    "#rm(compiled_suna_2)\n",
    "\n",
    "suna_cols$dtpr<-lubridate::round_date(suna_cols$dtp, \"15 minutes\")\n",
    "suna_red<-summaryBy(.~dtpr,suna_cols,FUN=c(mean))\n",
    "\n"
   ]
  },
  {
   "cell_type": "code",
   "execution_count": null,
   "id": "patent-switch",
   "metadata": {},
   "outputs": [],
   "source": [
    "#unique(as.Date(suna_red$dtpr))"
   ]
  },
  {
   "cell_type": "markdown",
   "id": "protective-cooper",
   "metadata": {},
   "source": [
    "# Downloading turbidity time series data from NEON.\n",
    "Data product DP1.20288.001 for general water quality sonde data."
   ]
  },
  {
   "cell_type": "code",
   "execution_count": 83,
   "id": "floral-middle",
   "metadata": {},
   "outputs": [],
   "source": [
    "#SUGG_wqs<-loadByProduct(dpID=\"DP1.20288.001\",site=\"SUGG\",check.size=F)\n",
    "#saveRDS(SUGG_wqs,paste(data,\"/SUGG_wqs.rds\",sep=\"\"))\n",
    "SUGG_wqs<-readRDS(paste(data,\"/SUGG_wqs.rds\",sep=\"\"))\n"
   ]
  },
  {
   "cell_type": "code",
   "execution_count": 84,
   "id": "seventh-husband",
   "metadata": {},
   "outputs": [
    {
     "name": "stdout",
     "output_type": "stream",
     "text": [
      "'data.frame':\t94947 obs. of  7 variables:\n",
      " $ dtpr                    : POSIXct, format: \"2017-12-14 17:45:00\" \"2017-12-14 18:00:00\" ...\n",
      " $ specificConductance.mean: num  64 64 63.9 64 64 ...\n",
      " $ dissolvedOxygen.mean    : num  6.09 5.99 5.99 6 5.99 ...\n",
      " $ pH.mean                 : num  4.77 4.76 4.76 4.75 4.75 ...\n",
      " $ chlorophyll.mean        : num  31.3 31.3 31.4 31.3 31.4 ...\n",
      " $ turbidity.mean          : num  -2.87 -2.83 -2.82 -2.78 -2.76 ...\n",
      " $ fDOM.mean               : num  NA NA NA NA NA NA NA NA NA NA ...\n"
     ]
    }
   ],
   "source": [
    "SUGG_wqsd<-SUGG_wqs$waq_instantaneous\n",
    "SUGG_wqsd$dtp<-SUGG_wqsd$startDateTime\n",
    "SUGG_wqk<-subset(SUGG_wqsd[,c(\"siteID\",\"dtp\",\"specificConductance\",\"dissolvedOxygen\",\"pH\",\"chlorophyll\",\"turbidity\",\"fDOM\")],!is.na(SUGG_wqsd$specificConductance))\n",
    "#str(SUGG_wqk)\n",
    "\n",
    "SUGG_wqk$dtpr<-lubridate::round_date(SUGG_wqk$dtp, \"15 minutes\")\n",
    "SUGG_wq_red<-summaryBy(.~dtpr,SUGG_wqk,FUN=c(mean))\n",
    "str(SUGG_wq_red)"
   ]
  },
  {
   "cell_type": "code",
   "execution_count": 96,
   "id": "athletic-herald",
   "metadata": {
    "tags": []
   },
   "outputs": [],
   "source": [
    "SUGG_sw<-merge(suna_red,SUGG_wq_red,by=\"dtpr\",all.x=TRUE)\n",
    "    "
   ]
  },
  {
   "cell_type": "code",
   "execution_count": 99,
   "id": "psychological-voluntary",
   "metadata": {},
   "outputs": [],
   "source": [
    "saveRDS(SUGG_sw,paste(data,\"/SUGG_SUNA_wq.rds\",sep=\"\"))"
   ]
  },
  {
   "cell_type": "markdown",
   "id": "bright-glasgow",
   "metadata": {},
   "source": [
    "# import and merge NEON water quality grab sample data."
   ]
  },
  {
   "cell_type": "markdown",
   "id": "demanding-undergraduate",
   "metadata": {},
   "source": [
    "### Downloading grab sample data and saving as rds file in data folder."
   ]
  },
  {
   "cell_type": "code",
   "execution_count": 86,
   "id": "revised-tribe",
   "metadata": {
    "tags": []
   },
   "outputs": [],
   "source": [
    "\n",
    "\n",
    "library(zoo)\n",
    "#SUGG_wqg<-loadByProduct(dpID=\"DP1.20093.001\",site=\"SUGG\",check.size=F)\n",
    "#saveRDS(SUGG_wqg,paste(data,\"/SUGG_wqg.rds\",sep=\"\"))\n",
    "SUGG_wqg<-readRDS(paste(data,\"/SUGG_wqg.rds\",sep=\"\"))\n",
    "\n"
   ]
  },
  {
   "cell_type": "markdown",
   "id": "north-engagement",
   "metadata": {},
   "source": [
    "### extracting lab analysis data"
   ]
  },
  {
   "cell_type": "code",
   "execution_count": 87,
   "id": "occupied-marathon",
   "metadata": {},
   "outputs": [
    {
     "data": {
      "text/html": [
       "<style>\n",
       ".list-inline {list-style: none; margin:0; padding: 0}\n",
       ".list-inline>li {display: inline-block}\n",
       ".list-inline>li:not(:last-child)::after {content: \"\\00b7\"; padding: 0 .5ex}\n",
       "</style>\n",
       "<ol class=list-inline><li>'uid'</li><li>'domainID'</li><li>'siteID'</li><li>'namedLocation'</li><li>'sampleID'</li><li>'sampleCode'</li><li>'startDate'</li><li>'collectDate'</li><li>'laboratoryName'</li><li>'analyte'</li><li>'analyteConcentration'</li><li>'analyteUnits'</li><li>'coolerTemp'</li><li>'remarks'</li><li>'shipmentWarmQF'</li><li>'externalLabDataQF'</li><li>'sampleCondition'</li><li>'publicationDate'</li><li>'release'</li></ol>\n"
      ],
      "text/latex": [
       "\\begin{enumerate*}\n",
       "\\item 'uid'\n",
       "\\item 'domainID'\n",
       "\\item 'siteID'\n",
       "\\item 'namedLocation'\n",
       "\\item 'sampleID'\n",
       "\\item 'sampleCode'\n",
       "\\item 'startDate'\n",
       "\\item 'collectDate'\n",
       "\\item 'laboratoryName'\n",
       "\\item 'analyte'\n",
       "\\item 'analyteConcentration'\n",
       "\\item 'analyteUnits'\n",
       "\\item 'coolerTemp'\n",
       "\\item 'remarks'\n",
       "\\item 'shipmentWarmQF'\n",
       "\\item 'externalLabDataQF'\n",
       "\\item 'sampleCondition'\n",
       "\\item 'publicationDate'\n",
       "\\item 'release'\n",
       "\\end{enumerate*}\n"
      ],
      "text/markdown": [
       "1. 'uid'\n",
       "2. 'domainID'\n",
       "3. 'siteID'\n",
       "4. 'namedLocation'\n",
       "5. 'sampleID'\n",
       "6. 'sampleCode'\n",
       "7. 'startDate'\n",
       "8. 'collectDate'\n",
       "9. 'laboratoryName'\n",
       "10. 'analyte'\n",
       "11. 'analyteConcentration'\n",
       "12. 'analyteUnits'\n",
       "13. 'coolerTemp'\n",
       "14. 'remarks'\n",
       "15. 'shipmentWarmQF'\n",
       "16. 'externalLabDataQF'\n",
       "17. 'sampleCondition'\n",
       "18. 'publicationDate'\n",
       "19. 'release'\n",
       "\n",
       "\n"
      ],
      "text/plain": [
       " [1] \"uid\"                  \"domainID\"             \"siteID\"              \n",
       " [4] \"namedLocation\"        \"sampleID\"             \"sampleCode\"          \n",
       " [7] \"startDate\"            \"collectDate\"          \"laboratoryName\"      \n",
       "[10] \"analyte\"              \"analyteConcentration\" \"analyteUnits\"        \n",
       "[13] \"coolerTemp\"           \"remarks\"              \"shipmentWarmQF\"      \n",
       "[16] \"externalLabDataQF\"    \"sampleCondition\"      \"publicationDate\"     \n",
       "[19] \"release\"             "
      ]
     },
     "metadata": {},
     "output_type": "display_data"
    },
    {
     "data": {
      "text/html": [
       "<style>\n",
       ".list-inline {list-style: none; margin:0; padding: 0}\n",
       ".list-inline>li {display: inline-block}\n",
       ".list-inline>li:not(:last-child)::after {content: \"\\00b7\"; padding: 0 .5ex}\n",
       "</style>\n",
       "<ol class=list-inline><li>'collectDate'</li><li>'UV Absorbance (250 nm)'</li><li>'UV Absorbance (280 nm)'</li><li>'dtpr'</li></ol>\n"
      ],
      "text/latex": [
       "\\begin{enumerate*}\n",
       "\\item 'collectDate'\n",
       "\\item 'UV Absorbance (250 nm)'\n",
       "\\item 'UV Absorbance (280 nm)'\n",
       "\\item 'dtpr'\n",
       "\\end{enumerate*}\n"
      ],
      "text/markdown": [
       "1. 'collectDate'\n",
       "2. 'UV Absorbance (250 nm)'\n",
       "3. 'UV Absorbance (280 nm)'\n",
       "4. 'dtpr'\n",
       "\n",
       "\n"
      ],
      "text/plain": [
       "[1] \"collectDate\"            \"UV Absorbance (250 nm)\" \"UV Absorbance (280 nm)\"\n",
       "[4] \"dtpr\"                  "
      ]
     },
     "metadata": {},
     "output_type": "display_data"
    }
   ],
   "source": [
    "SUGG_wqg_d<-as.data.frame(SUGG_wqg$swc_externalLabDataByAnalyte)\n",
    "\n",
    "names(SUGG_wqg_d)\n",
    "\n",
    "uv_abs<-subset(SUGG_wqg_d,analyte==\"UV Absorbance (250 nm)\"|analyte==\"UV Absorbance (280 nm)\")\n",
    "date_cast<-dcast(uv_abs[,c(\"analyte\",\"collectDate\",\"analyteConcentration\")],collectDate~analyte,value.var=\"analyteConcentration\",mean)\n",
    "date_cast$dtpr<-lubridate::round_date(date_cast$collectDate, \"15 minutes\")\n",
    "\n",
    "names(date_cast)"
   ]
  },
  {
   "cell_type": "code",
   "execution_count": 88,
   "id": "ranging-generic",
   "metadata": {},
   "outputs": [],
   "source": [
    "\n",
    "suna_grab<-merge(SUGG_sw,date_cast,by=\"dtpr\")\n",
    "\n",
    "#temp_nitrate_zoo<-zoo(nitrate$nitrate_umL,nitrate$dtp)\n",
    "#temp_n<-na.approx(temp_nitrate_zoo,xout=suna_red$dtp,na.rm=FALSE)\n",
    "#suna_grab[,c(\"UV Absorbance (250 nm)\")]\n",
    "names(suna_grab)<-gsub(\"UV Absorbance (250 nm)\",\"uva_250_lab\",names(suna_grab),fixed=TRUE)\n",
    "names(suna_grab)<-gsub(\"UV Absorbance (280 nm)\",\"uva_280_lab\",names(suna_grab),fixed=TRUE)\n",
    "\n"
   ]
  },
  {
   "cell_type": "code",
   "execution_count": 95,
   "id": "conscious-bernard",
   "metadata": {},
   "outputs": [
    {
     "data": {
      "text/html": [
       "<table class=\"dataframe\">\n",
       "<caption>A data.frame: 5 × 1459</caption>\n",
       "<thead>\n",
       "\t<tr><th></th><th scope=col>dtpr</th><th scope=col>nitrate.mean</th><th scope=col>nitrate_mgl.mean</th><th scope=col>a254.mean</th><th scope=col>a350.mean</th><th scope=col>sensor_temp.mean</th><th scope=col>interp_189.mean</th><th scope=col>interp_190.mean</th><th scope=col>interp_191.mean</th><th scope=col>interp_192.mean</th><th scope=col>⋯</th><th scope=col>dissolvedOxygen.mean</th><th scope=col>pH.mean</th><th scope=col>chlorophyll.mean</th><th scope=col>turbidity.mean</th><th scope=col>fDOM.mean</th><th scope=col>collectDate</th><th scope=col>uva_250_lab</th><th scope=col>uva_280_lab</th><th scope=col>interp_250_log</th><th scope=col>turb_log</th></tr>\n",
       "\t<tr><th></th><th scope=col>&lt;dttm&gt;</th><th scope=col>&lt;dbl&gt;</th><th scope=col>&lt;dbl&gt;</th><th scope=col>&lt;dbl&gt;</th><th scope=col>&lt;dbl&gt;</th><th scope=col>&lt;dbl&gt;</th><th scope=col>&lt;dbl&gt;</th><th scope=col>&lt;dbl&gt;</th><th scope=col>&lt;dbl&gt;</th><th scope=col>&lt;dbl&gt;</th><th scope=col>⋯</th><th scope=col>&lt;dbl&gt;</th><th scope=col>&lt;dbl&gt;</th><th scope=col>&lt;dbl&gt;</th><th scope=col>&lt;dbl&gt;</th><th scope=col>&lt;dbl&gt;</th><th scope=col>&lt;dttm&gt;</th><th scope=col>&lt;dbl&gt;</th><th scope=col>&lt;dbl&gt;</th><th scope=col>&lt;dbl&gt;</th><th scope=col>&lt;dbl&gt;</th></tr>\n",
       "</thead>\n",
       "<tbody>\n",
       "\t<tr><th scope=row>3</th><td>2019-04-11 16:00:00</td><td>-1</td><td>-1</td><td>2.781020</td><td>0.851160</td><td>24.890</td><td>-113.900946</td><td>-63.920819</td><td>-42.60496</td><td>-39.397361</td><td>⋯</td><td>4.693333</td><td>4.566667</td><td>16.96667</td><td>0.3933333</td><td>366.1667</td><td>2019-04-11 15:58:00</td><td>2.588400</td><td>1.76490</td><td>0.4231386</td><td>-0.40523925</td></tr>\n",
       "\t<tr><th scope=row>4</th><td>2019-05-07 14:00:00</td><td>-1</td><td>-1</td><td>2.638570</td><td>0.826795</td><td>27.055</td><td>-128.726836</td><td>-72.175377</td><td>-48.14258</td><td>-44.487174</td><td>⋯</td><td>3.893333</td><td>4.856667</td><td>14.88000</td><td>1.2466667</td><td>321.5733</td><td>2019-05-07 14:07:00</td><td>2.403900</td><td>1.66380</td><td>0.4235562</td><td> 0.09575035</td></tr>\n",
       "\t<tr><th scope=row>5</th><td>2019-06-10 16:30:00</td><td>-1</td><td>-1</td><td>2.646405</td><td>0.826100</td><td>28.520</td><td>-221.315833</td><td>-93.649511</td><td>-72.67844</td><td>-59.493118</td><td>⋯</td><td>3.653333</td><td>4.826667</td><td>13.38667</td><td>0.2433333</td><td>344.7900</td><td>2019-06-10 16:30:00</td><td>2.519150</td><td>1.73195</td><td>0.4241060</td><td>-0.61379839</td></tr>\n",
       "\t<tr><th scope=row>7</th><td>2019-08-13 15:30:00</td><td>-1</td><td>-1</td><td>2.564990</td><td>0.938205</td><td>30.875</td><td>-179.044788</td><td>-96.933477</td><td>-84.92824</td><td>-72.051339</td><td>⋯</td><td>3.540000</td><td>4.920000</td><td>20.19000</td><td>1.0000000</td><td>346.7467</td><td>2019-08-13 15:30:00</td><td>2.762500</td><td>1.90150</td><td>0.4248591</td><td> 0.00000000</td></tr>\n",
       "\t<tr><th scope=row>8</th><td>2019-09-10 13:45:00</td><td>-1</td><td>-1</td><td>2.390925</td><td>3.287500</td><td>29.525</td><td>  -4.186345</td><td> -4.134696</td><td> -4.18897</td><td> -4.168751</td><td>⋯</td><td>3.373333</td><td>5.016667</td><td>12.02667</td><td>1.3366667</td><td>286.0033</td><td>2019-09-10 13:50:00</td><td>1.953333</td><td>1.33480</td><td>0.4046006</td><td> 0.12602312</td></tr>\n",
       "</tbody>\n",
       "</table>\n"
      ],
      "text/latex": [
       "A data.frame: 5 × 1459\n",
       "\\begin{tabular}{r|lllllllllllllllllllll}\n",
       "  & dtpr & nitrate.mean & nitrate\\_mgl.mean & a254.mean & a350.mean & sensor\\_temp.mean & interp\\_189.mean & interp\\_190.mean & interp\\_191.mean & interp\\_192.mean & ⋯ & dissolvedOxygen.mean & pH.mean & chlorophyll.mean & turbidity.mean & fDOM.mean & collectDate & uva\\_250\\_lab & uva\\_280\\_lab & interp\\_250\\_log & turb\\_log\\\\\n",
       "  & <dttm> & <dbl> & <dbl> & <dbl> & <dbl> & <dbl> & <dbl> & <dbl> & <dbl> & <dbl> & ⋯ & <dbl> & <dbl> & <dbl> & <dbl> & <dbl> & <dttm> & <dbl> & <dbl> & <dbl> & <dbl>\\\\\n",
       "\\hline\n",
       "\t3 & 2019-04-11 16:00:00 & -1 & -1 & 2.781020 & 0.851160 & 24.890 & -113.900946 & -63.920819 & -42.60496 & -39.397361 & ⋯ & 4.693333 & 4.566667 & 16.96667 & 0.3933333 & 366.1667 & 2019-04-11 15:58:00 & 2.588400 & 1.76490 & 0.4231386 & -0.40523925\\\\\n",
       "\t4 & 2019-05-07 14:00:00 & -1 & -1 & 2.638570 & 0.826795 & 27.055 & -128.726836 & -72.175377 & -48.14258 & -44.487174 & ⋯ & 3.893333 & 4.856667 & 14.88000 & 1.2466667 & 321.5733 & 2019-05-07 14:07:00 & 2.403900 & 1.66380 & 0.4235562 &  0.09575035\\\\\n",
       "\t5 & 2019-06-10 16:30:00 & -1 & -1 & 2.646405 & 0.826100 & 28.520 & -221.315833 & -93.649511 & -72.67844 & -59.493118 & ⋯ & 3.653333 & 4.826667 & 13.38667 & 0.2433333 & 344.7900 & 2019-06-10 16:30:00 & 2.519150 & 1.73195 & 0.4241060 & -0.61379839\\\\\n",
       "\t7 & 2019-08-13 15:30:00 & -1 & -1 & 2.564990 & 0.938205 & 30.875 & -179.044788 & -96.933477 & -84.92824 & -72.051339 & ⋯ & 3.540000 & 4.920000 & 20.19000 & 1.0000000 & 346.7467 & 2019-08-13 15:30:00 & 2.762500 & 1.90150 & 0.4248591 &  0.00000000\\\\\n",
       "\t8 & 2019-09-10 13:45:00 & -1 & -1 & 2.390925 & 3.287500 & 29.525 &   -4.186345 &  -4.134696 &  -4.18897 &  -4.168751 & ⋯ & 3.373333 & 5.016667 & 12.02667 & 1.3366667 & 286.0033 & 2019-09-10 13:50:00 & 1.953333 & 1.33480 & 0.4046006 &  0.12602312\\\\\n",
       "\\end{tabular}\n"
      ],
      "text/markdown": [
       "\n",
       "A data.frame: 5 × 1459\n",
       "\n",
       "| <!--/--> | dtpr &lt;dttm&gt; | nitrate.mean &lt;dbl&gt; | nitrate_mgl.mean &lt;dbl&gt; | a254.mean &lt;dbl&gt; | a350.mean &lt;dbl&gt; | sensor_temp.mean &lt;dbl&gt; | interp_189.mean &lt;dbl&gt; | interp_190.mean &lt;dbl&gt; | interp_191.mean &lt;dbl&gt; | interp_192.mean &lt;dbl&gt; | ⋯ ⋯ | dissolvedOxygen.mean &lt;dbl&gt; | pH.mean &lt;dbl&gt; | chlorophyll.mean &lt;dbl&gt; | turbidity.mean &lt;dbl&gt; | fDOM.mean &lt;dbl&gt; | collectDate &lt;dttm&gt; | uva_250_lab &lt;dbl&gt; | uva_280_lab &lt;dbl&gt; | interp_250_log &lt;dbl&gt; | turb_log &lt;dbl&gt; |\n",
       "|---|---|---|---|---|---|---|---|---|---|---|---|---|---|---|---|---|---|---|---|---|---|\n",
       "| 3 | 2019-04-11 16:00:00 | -1 | -1 | 2.781020 | 0.851160 | 24.890 | -113.900946 | -63.920819 | -42.60496 | -39.397361 | ⋯ | 4.693333 | 4.566667 | 16.96667 | 0.3933333 | 366.1667 | 2019-04-11 15:58:00 | 2.588400 | 1.76490 | 0.4231386 | -0.40523925 |\n",
       "| 4 | 2019-05-07 14:00:00 | -1 | -1 | 2.638570 | 0.826795 | 27.055 | -128.726836 | -72.175377 | -48.14258 | -44.487174 | ⋯ | 3.893333 | 4.856667 | 14.88000 | 1.2466667 | 321.5733 | 2019-05-07 14:07:00 | 2.403900 | 1.66380 | 0.4235562 |  0.09575035 |\n",
       "| 5 | 2019-06-10 16:30:00 | -1 | -1 | 2.646405 | 0.826100 | 28.520 | -221.315833 | -93.649511 | -72.67844 | -59.493118 | ⋯ | 3.653333 | 4.826667 | 13.38667 | 0.2433333 | 344.7900 | 2019-06-10 16:30:00 | 2.519150 | 1.73195 | 0.4241060 | -0.61379839 |\n",
       "| 7 | 2019-08-13 15:30:00 | -1 | -1 | 2.564990 | 0.938205 | 30.875 | -179.044788 | -96.933477 | -84.92824 | -72.051339 | ⋯ | 3.540000 | 4.920000 | 20.19000 | 1.0000000 | 346.7467 | 2019-08-13 15:30:00 | 2.762500 | 1.90150 | 0.4248591 |  0.00000000 |\n",
       "| 8 | 2019-09-10 13:45:00 | -1 | -1 | 2.390925 | 3.287500 | 29.525 |   -4.186345 |  -4.134696 |  -4.18897 |  -4.168751 | ⋯ | 3.373333 | 5.016667 | 12.02667 | 1.3366667 | 286.0033 | 2019-09-10 13:50:00 | 1.953333 | 1.33480 | 0.4046006 |  0.12602312 |\n",
       "\n"
      ],
      "text/plain": [
       "  dtpr                nitrate.mean nitrate_mgl.mean a254.mean a350.mean\n",
       "3 2019-04-11 16:00:00 -1           -1               2.781020  0.851160 \n",
       "4 2019-05-07 14:00:00 -1           -1               2.638570  0.826795 \n",
       "5 2019-06-10 16:30:00 -1           -1               2.646405  0.826100 \n",
       "7 2019-08-13 15:30:00 -1           -1               2.564990  0.938205 \n",
       "8 2019-09-10 13:45:00 -1           -1               2.390925  3.287500 \n",
       "  sensor_temp.mean interp_189.mean interp_190.mean interp_191.mean\n",
       "3 24.890           -113.900946     -63.920819      -42.60496      \n",
       "4 27.055           -128.726836     -72.175377      -48.14258      \n",
       "5 28.520           -221.315833     -93.649511      -72.67844      \n",
       "7 30.875           -179.044788     -96.933477      -84.92824      \n",
       "8 29.525             -4.186345      -4.134696       -4.18897      \n",
       "  interp_192.mean ⋯ dissolvedOxygen.mean pH.mean  chlorophyll.mean\n",
       "3 -39.397361      ⋯ 4.693333             4.566667 16.96667        \n",
       "4 -44.487174      ⋯ 3.893333             4.856667 14.88000        \n",
       "5 -59.493118      ⋯ 3.653333             4.826667 13.38667        \n",
       "7 -72.051339      ⋯ 3.540000             4.920000 20.19000        \n",
       "8  -4.168751      ⋯ 3.373333             5.016667 12.02667        \n",
       "  turbidity.mean fDOM.mean collectDate         uva_250_lab uva_280_lab\n",
       "3 0.3933333      366.1667  2019-04-11 15:58:00 2.588400    1.76490    \n",
       "4 1.2466667      321.5733  2019-05-07 14:07:00 2.403900    1.66380    \n",
       "5 0.2433333      344.7900  2019-06-10 16:30:00 2.519150    1.73195    \n",
       "7 1.0000000      346.7467  2019-08-13 15:30:00 2.762500    1.90150    \n",
       "8 1.3366667      286.0033  2019-09-10 13:50:00 1.953333    1.33480    \n",
       "  interp_250_log turb_log   \n",
       "3 0.4231386      -0.40523925\n",
       "4 0.4235562       0.09575035\n",
       "5 0.4241060      -0.61379839\n",
       "7 0.4248591       0.00000000\n",
       "8 0.4046006       0.12602312"
      ]
     },
     "metadata": {},
     "output_type": "display_data"
    }
   ],
   "source": [
    "#subset(suna_red,as.Date(dtpr)==as.Date(\"2019-03-04\"))\n",
    "#as.Date(date_cast$dtpr)\n",
    "#unique(as.Date(suna_red$dtpr))\n",
    "\n",
    "suna_grab\n"
   ]
  },
  {
   "cell_type": "markdown",
   "id": "reliable-prime",
   "metadata": {},
   "source": [
    "# Exploring turbidity corrections"
   ]
  },
  {
   "cell_type": "code",
   "execution_count": 91,
   "id": "precious-cause",
   "metadata": {
    "tags": []
   },
   "outputs": [
    {
     "data": {
      "text/html": [
       "<table class=\"dataframe\">\n",
       "<caption>A data.frame: 8 × 6</caption>\n",
       "<thead>\n",
       "\t<tr><th></th><th scope=col>dtpr</th><th scope=col>a254.mean</th><th scope=col>uva_250_lab</th><th scope=col>uva_280_lab</th><th scope=col>interp_254_c254.mean</th><th scope=col>turbidity.mean</th></tr>\n",
       "\t<tr><th></th><th scope=col>&lt;dttm&gt;</th><th scope=col>&lt;dbl&gt;</th><th scope=col>&lt;dbl&gt;</th><th scope=col>&lt;dbl&gt;</th><th scope=col>&lt;dbl&gt;</th><th scope=col>&lt;dbl&gt;</th></tr>\n",
       "</thead>\n",
       "<tbody>\n",
       "\t<tr><th scope=row>1</th><td>2019-02-04 18:45:00</td><td>2.910435</td><td>2.689100</td><td>1.87090</td><td>2.648114</td><td>       NA</td></tr>\n",
       "\t<tr><th scope=row>2</th><td>2019-03-04 17:00:00</td><td>2.785970</td><td>0.021900</td><td>0.02070</td><td>2.651068</td><td>1.0000000</td></tr>\n",
       "\t<tr><th scope=row>3</th><td>2019-04-11 16:00:00</td><td>2.781020</td><td>2.588400</td><td>1.76490</td><td>2.655040</td><td>0.3933333</td></tr>\n",
       "\t<tr><th scope=row>4</th><td>2019-05-07 14:00:00</td><td>2.638570</td><td>2.403900</td><td>1.66380</td><td>2.658126</td><td>1.2466667</td></tr>\n",
       "\t<tr><th scope=row>5</th><td>2019-06-10 16:30:00</td><td>2.646405</td><td>2.519150</td><td>1.73195</td><td>2.662133</td><td>0.2433333</td></tr>\n",
       "\t<tr><th scope=row>6</th><td>2019-07-08 15:00:00</td><td>2.463760</td><td>2.237700</td><td>1.53240</td><td>2.664528</td><td>       NA</td></tr>\n",
       "\t<tr><th scope=row>7</th><td>2019-08-13 15:30:00</td><td>2.564990</td><td>2.762500</td><td>1.90150</td><td>2.667658</td><td>1.0000000</td></tr>\n",
       "\t<tr><th scope=row>8</th><td>2019-09-10 13:45:00</td><td>2.390925</td><td>1.953333</td><td>1.33480</td><td>2.216182</td><td>1.3366667</td></tr>\n",
       "</tbody>\n",
       "</table>\n"
      ],
      "text/latex": [
       "A data.frame: 8 × 6\n",
       "\\begin{tabular}{r|llllll}\n",
       "  & dtpr & a254.mean & uva\\_250\\_lab & uva\\_280\\_lab & interp\\_254\\_c254.mean & turbidity.mean\\\\\n",
       "  & <dttm> & <dbl> & <dbl> & <dbl> & <dbl> & <dbl>\\\\\n",
       "\\hline\n",
       "\t1 & 2019-02-04 18:45:00 & 2.910435 & 2.689100 & 1.87090 & 2.648114 &        NA\\\\\n",
       "\t2 & 2019-03-04 17:00:00 & 2.785970 & 0.021900 & 0.02070 & 2.651068 & 1.0000000\\\\\n",
       "\t3 & 2019-04-11 16:00:00 & 2.781020 & 2.588400 & 1.76490 & 2.655040 & 0.3933333\\\\\n",
       "\t4 & 2019-05-07 14:00:00 & 2.638570 & 2.403900 & 1.66380 & 2.658126 & 1.2466667\\\\\n",
       "\t5 & 2019-06-10 16:30:00 & 2.646405 & 2.519150 & 1.73195 & 2.662133 & 0.2433333\\\\\n",
       "\t6 & 2019-07-08 15:00:00 & 2.463760 & 2.237700 & 1.53240 & 2.664528 &        NA\\\\\n",
       "\t7 & 2019-08-13 15:30:00 & 2.564990 & 2.762500 & 1.90150 & 2.667658 & 1.0000000\\\\\n",
       "\t8 & 2019-09-10 13:45:00 & 2.390925 & 1.953333 & 1.33480 & 2.216182 & 1.3366667\\\\\n",
       "\\end{tabular}\n"
      ],
      "text/markdown": [
       "\n",
       "A data.frame: 8 × 6\n",
       "\n",
       "| <!--/--> | dtpr &lt;dttm&gt; | a254.mean &lt;dbl&gt; | uva_250_lab &lt;dbl&gt; | uva_280_lab &lt;dbl&gt; | interp_254_c254.mean &lt;dbl&gt; | turbidity.mean &lt;dbl&gt; |\n",
       "|---|---|---|---|---|---|---|\n",
       "| 1 | 2019-02-04 18:45:00 | 2.910435 | 2.689100 | 1.87090 | 2.648114 |        NA |\n",
       "| 2 | 2019-03-04 17:00:00 | 2.785970 | 0.021900 | 0.02070 | 2.651068 | 1.0000000 |\n",
       "| 3 | 2019-04-11 16:00:00 | 2.781020 | 2.588400 | 1.76490 | 2.655040 | 0.3933333 |\n",
       "| 4 | 2019-05-07 14:00:00 | 2.638570 | 2.403900 | 1.66380 | 2.658126 | 1.2466667 |\n",
       "| 5 | 2019-06-10 16:30:00 | 2.646405 | 2.519150 | 1.73195 | 2.662133 | 0.2433333 |\n",
       "| 6 | 2019-07-08 15:00:00 | 2.463760 | 2.237700 | 1.53240 | 2.664528 |        NA |\n",
       "| 7 | 2019-08-13 15:30:00 | 2.564990 | 2.762500 | 1.90150 | 2.667658 | 1.0000000 |\n",
       "| 8 | 2019-09-10 13:45:00 | 2.390925 | 1.953333 | 1.33480 | 2.216182 | 1.3366667 |\n",
       "\n"
      ],
      "text/plain": [
       "  dtpr                a254.mean uva_250_lab uva_280_lab interp_254_c254.mean\n",
       "1 2019-02-04 18:45:00 2.910435  2.689100    1.87090     2.648114            \n",
       "2 2019-03-04 17:00:00 2.785970  0.021900    0.02070     2.651068            \n",
       "3 2019-04-11 16:00:00 2.781020  2.588400    1.76490     2.655040            \n",
       "4 2019-05-07 14:00:00 2.638570  2.403900    1.66380     2.658126            \n",
       "5 2019-06-10 16:30:00 2.646405  2.519150    1.73195     2.662133            \n",
       "6 2019-07-08 15:00:00 2.463760  2.237700    1.53240     2.664528            \n",
       "7 2019-08-13 15:30:00 2.564990  2.762500    1.90150     2.667658            \n",
       "8 2019-09-10 13:45:00 2.390925  1.953333    1.33480     2.216182            \n",
       "  turbidity.mean\n",
       "1        NA     \n",
       "2 1.0000000     \n",
       "3 0.3933333     \n",
       "4 1.2466667     \n",
       "5 0.2433333     \n",
       "6        NA     \n",
       "7 1.0000000     \n",
       "8 1.3366667     "
      ]
     },
     "metadata": {},
     "output_type": "display_data"
    },
    {
     "data": {
      "text/html": [
       "8"
      ],
      "text/latex": [
       "8"
      ],
      "text/markdown": [
       "8"
      ],
      "text/plain": [
       "[1] 8"
      ]
     },
     "metadata": {},
     "output_type": "display_data"
    },
    {
     "data": {
      "text/html": [
       "<style>\n",
       ".list-inline {list-style: none; margin:0; padding: 0}\n",
       ".list-inline>li {display: inline-block}\n",
       ".list-inline>li:not(:last-child)::after {content: \"\\00b7\"; padding: 0 .5ex}\n",
       "</style>\n",
       "<ol class=list-inline><li>2.6891</li><li>0.0219</li><li>2.5884</li><li>2.4039</li><li>2.51915</li><li>2.2377</li><li>2.7625</li><li>1.95333333333333</li></ol>\n"
      ],
      "text/latex": [
       "\\begin{enumerate*}\n",
       "\\item 2.6891\n",
       "\\item 0.0219\n",
       "\\item 2.5884\n",
       "\\item 2.4039\n",
       "\\item 2.51915\n",
       "\\item 2.2377\n",
       "\\item 2.7625\n",
       "\\item 1.95333333333333\n",
       "\\end{enumerate*}\n"
      ],
      "text/markdown": [
       "1. 2.6891\n",
       "2. 0.0219\n",
       "3. 2.5884\n",
       "4. 2.4039\n",
       "5. 2.51915\n",
       "6. 2.2377\n",
       "7. 2.7625\n",
       "8. 1.95333333333333\n",
       "\n",
       "\n"
      ],
      "text/plain": [
       "[1] 2.689100 0.021900 2.588400 2.403900 2.519150 2.237700 2.762500 1.953333"
      ]
     },
     "metadata": {},
     "output_type": "display_data"
    }
   ],
   "source": [
    "#names(suna_grab)\n",
    "#suna_grab<-subset(suna_grab,!is.na(uva_250_lab)&!is.na(uva_280_lab)&uva_250_lab<2)\n",
    "suna_grab<-subset(suna_grab,!is.na(uva_250_lab)|!is.na(uva_280_lab))\n",
    "suna_grab$turbidity.mean[suna_grab$turbidity.mean<=0]<-1\n",
    "suna_grab[,c(\"dtpr\",\"a254.mean\",\"uva_250_lab\",\"uva_280_lab\",\"interp_254_c254.mean\",\"turbidity.mean\")]\n",
    "\n",
    "suna_grab$interp_250_log<-log10(suna_grab$interp_250_c254.mean)\n",
    "suna_grab$turb_log<-log10(suna_grab$turbidity.mean)\n",
    "nrow(suna_grab)\n",
    "suna_grab$uva_250_lab\n",
    "#suna_grab$interp_250_tcorr<-predict(lm(uva_250_lab~interp_250_c254.mean*turbidity.mean,suna_grab))\n",
    "#suna_grab$interp_250_tcorr_log<-predict(lm(uva_250_lab~interp_250_log*turbidity.mean,suna_grab))\n",
    "#suna_grab$interp_250_tcorr_log_turb<-predict(lm(uva_250_lab~interp_250_log*turb_log,suna_grab))\n",
    "\n",
    "\n",
    "saveRDS(suna_grab,paste(getwd(),\"/SUGG_SUNA_grab.rds\",sep=\"\"))"
   ]
  },
  {
   "cell_type": "code",
   "execution_count": 66,
   "id": "linear-boundary",
   "metadata": {},
   "outputs": [
    {
     "data": {
      "text/html": [
       "'/Users/jhosen/gdrive/SUNA_Data/SUNA_NEON/SUGG_2019'"
      ],
      "text/latex": [
       "'/Users/jhosen/gdrive/SUNA\\_Data/SUNA\\_NEON/SUGG\\_2019'"
      ],
      "text/markdown": [
       "'/Users/jhosen/gdrive/SUNA_Data/SUNA_NEON/SUGG_2019'"
      ],
      "text/plain": [
       "[1] \"/Users/jhosen/gdrive/SUNA_Data/SUNA_NEON/SUGG_2019\""
      ]
     },
     "metadata": {},
     "output_type": "display_data"
    }
   ],
   "source": []
  },
  {
   "cell_type": "code",
   "execution_count": 94,
   "id": "removable-senegal",
   "metadata": {},
   "outputs": [
    {
     "data": {
      "text/plain": [
       "\n",
       "Call:\n",
       "lm(formula = uva_250_lab ~ a254.mean * turb_log, data = suna_grab)\n",
       "\n",
       "Residuals:\n",
       "       3        4        5        7        8 \n",
       " 0.04079 -0.19451 -0.07054  0.28884 -0.06459 \n",
       "\n",
       "Coefficients:\n",
       "                   Estimate Std. Error t value Pr(>|t|)\n",
       "(Intercept)          -1.887      4.291  -0.440    0.736\n",
       "a254.mean             1.700      1.681   1.011    0.496\n",
       "turb_log            -13.477     19.699  -0.684    0.618\n",
       "a254.mean:turb_log    5.106      7.440   0.686    0.617\n",
       "\n",
       "Residual standard error: 0.3634 on 1 degrees of freedom\n",
       "Multiple R-squared:  0.6433,\tAdjusted R-squared:  -0.4267 \n",
       "F-statistic: 0.6012 on 3 and 1 DF,  p-value: 0.7124\n"
      ]
     },
     "metadata": {},
     "output_type": "display_data"
    },
    {
     "data": {
      "text/html": [
       "<table class=\"dataframe\">\n",
       "<caption>A data.frame: 5 × 2</caption>\n",
       "<thead>\n",
       "\t<tr><th></th><th scope=col>uva_250_lab</th><th scope=col>interp_250_c254.mean</th></tr>\n",
       "\t<tr><th></th><th scope=col>&lt;dbl&gt;</th><th scope=col>&lt;dbl&gt;</th></tr>\n",
       "</thead>\n",
       "<tbody>\n",
       "\t<tr><th scope=row>3</th><td>2.588400</td><td>2.649345</td></tr>\n",
       "\t<tr><th scope=row>4</th><td>2.403900</td><td>2.651894</td></tr>\n",
       "\t<tr><th scope=row>5</th><td>2.519150</td><td>2.655253</td></tr>\n",
       "\t<tr><th scope=row>7</th><td>2.762500</td><td>2.659862</td></tr>\n",
       "\t<tr><th scope=row>8</th><td>1.953333</td><td>2.538637</td></tr>\n",
       "</tbody>\n",
       "</table>\n"
      ],
      "text/latex": [
       "A data.frame: 5 × 2\n",
       "\\begin{tabular}{r|ll}\n",
       "  & uva\\_250\\_lab & interp\\_250\\_c254.mean\\\\\n",
       "  & <dbl> & <dbl>\\\\\n",
       "\\hline\n",
       "\t3 & 2.588400 & 2.649345\\\\\n",
       "\t4 & 2.403900 & 2.651894\\\\\n",
       "\t5 & 2.519150 & 2.655253\\\\\n",
       "\t7 & 2.762500 & 2.659862\\\\\n",
       "\t8 & 1.953333 & 2.538637\\\\\n",
       "\\end{tabular}\n"
      ],
      "text/markdown": [
       "\n",
       "A data.frame: 5 × 2\n",
       "\n",
       "| <!--/--> | uva_250_lab &lt;dbl&gt; | interp_250_c254.mean &lt;dbl&gt; |\n",
       "|---|---|---|\n",
       "| 3 | 2.588400 | 2.649345 |\n",
       "| 4 | 2.403900 | 2.651894 |\n",
       "| 5 | 2.519150 | 2.655253 |\n",
       "| 7 | 2.762500 | 2.659862 |\n",
       "| 8 | 1.953333 | 2.538637 |\n",
       "\n"
      ],
      "text/plain": [
       "  uva_250_lab interp_250_c254.mean\n",
       "3 2.588400    2.649345            \n",
       "4 2.403900    2.651894            \n",
       "5 2.519150    2.655253            \n",
       "7 2.762500    2.659862            \n",
       "8 1.953333    2.538637            "
      ]
     },
     "metadata": {},
     "output_type": "display_data"
    },
    {
     "data": {
      "image/png": "[encoded data removed]",
      "text/plain": [
       "plot without title"
      ]
     },
     "metadata": {
      "image/png": {
       "height": 420,
       "width": 420
      }
     },
     "output_type": "display_data"
    }
   ],
   "source": [
    "suna_grab<-subset(suna_grab,uva_250_lab>0.1 & a254.mean<7 & !is.na(turbidity.mean))\n",
    "\n",
    "suna_grab$interp_250_log<-log10(suna_grab$interp_250_c254.mean)\n",
    "suna_grab$turb_log<-log10(suna_grab$turbidity.mean)\n",
    "\n",
    "#suna_grab$turb_log\n",
    "summary(lm(uva_250_lab~a254.mean*turb_log,suna_grab))\n",
    "#summary(lm(uva_250_lab~interp_250_c254.mean*turb_log,suna_grab))\n",
    "\n",
    "#suna_grab$interp_250_tcorr<-predict(lm(uva_250_lab~interp_250_c254.mean*turbidity.mean,suna_grab))\n",
    "#suna_grab$interp_250_tcorr_log<-predict(lm(uva_250_lab~interp_250_log*turbidity.mean,suna_grab))\n",
    "#suna_grab$interp_250_tcorr_log_turb<-predict(lm(uva_250_lab~interp_250_log*turb_log,suna_grab))\n",
    "\n",
    "suna_grab[,c(\"uva_250_lab\",\"interp_250_c254.mean\")]\n",
    "ggplot(suna_grab,aes(uva_250_lab,interp_250_c254.mean))+\n",
    "#theme_ts_space+\n",
    "#xlab(\"\\nUV Absorbance at 250 nm (Laboratory)\")+\n",
    "#ylab(\"UV Absorbance at 250 nm (SUNA Uncorrected)\\n\")+\n",
    "geom_point(size=6)\n",
    "\n"
   ]
  },
  {
   "cell_type": "code",
   "execution_count": 50,
   "id": "professional-marsh",
   "metadata": {},
   "outputs": [
    {
     "data": {
      "text/plain": [
       "\n",
       "Call:\n",
       "lm(formula = uva_250_lab ~ interp_250_log * turb_log, data = suna_grab)\n",
       "\n",
       "Residuals:\n",
       "       2        3        4        5        7        8 \n",
       "-1.65453  0.71119  0.65083 -0.37406  0.69600 -0.02944 \n",
       "\n",
       "Coefficients:\n",
       "                        Estimate Std. Error t value Pr(>|t|)\n",
       "(Intercept)                28.13      61.47   0.458    0.692\n",
       "interp_250_log            -44.20     103.31  -0.428    0.710\n",
       "turb_log                 -204.80     489.11  -0.419    0.716\n",
       "interp_250_log:turb_log   342.87     823.89   0.416    0.718\n",
       "\n",
       "Residual standard error: 1.465 on 2 degrees of freedom\n",
       "  (2 observations deleted due to missingness)\n",
       "Multiple R-squared:  0.1848,\tAdjusted R-squared:  -1.038 \n",
       "F-statistic: 0.1511 on 3 and 2 DF,  p-value: 0.9206\n"
      ]
     },
     "metadata": {},
     "output_type": "display_data"
    },
    {
     "data": {
      "text/plain": [
       "\n",
       "Call:\n",
       "lm(formula = uva_250_lab ~ interp_250_c254.mean * turb_log, data = suna_grab)\n",
       "\n",
       "Residuals:\n",
       "       2        3        4        5        7        8 \n",
       "-1.65010  0.71034  0.65467 -0.37487  0.69899 -0.03903 \n",
       "\n",
       "Coefficients:\n",
       "                              Estimate Std. Error t value Pr(>|t|)\n",
       "(Intercept)                     21.134     44.875   0.471    0.684\n",
       "interp_250_c254.mean            -4.907     11.404  -0.430    0.709\n",
       "turb_log                      -149.261    357.288  -0.418    0.717\n",
       "interp_250_c254.mean:turb_log   37.723     91.069   0.414    0.719\n",
       "\n",
       "Residual standard error: 1.464 on 2 degrees of freedom\n",
       "  (2 observations deleted due to missingness)\n",
       "Multiple R-squared:  0.1858,\tAdjusted R-squared:  -1.035 \n",
       "F-statistic: 0.1522 on 3 and 2 DF,  p-value: 0.9199\n"
      ]
     },
     "metadata": {},
     "output_type": "display_data"
    },
    {
     "ename": "ERROR",
     "evalue": "Error in `$<-.data.frame`(`*tmp*`, interp_250_tcorr, value = c(`2` = 1.47227677938903, : replacement has 6 rows, data has 8\n",
     "output_type": "error",
     "traceback": [
      "Error in `$<-.data.frame`(`*tmp*`, interp_250_tcorr, value = c(`2` = 1.47227677938903, : replacement has 6 rows, data has 8\nTraceback:\n",
      "1. `$<-`(`*tmp*`, interp_250_tcorr, value = c(`2` = 1.47227677938903, \n . `3` = 1.72874695334446, `4` = 1.69795318532877, `5` = 2.98913293931836, \n . `7` = 2.38329126123762, `8` = 1.97778221471555))",
      "2. `$<-.data.frame`(`*tmp*`, interp_250_tcorr, value = c(`2` = 1.47227677938903, \n . `3` = 1.72874695334446, `4` = 1.69795318532877, `5` = 2.98913293931836, \n . `7` = 2.38329126123762, `8` = 1.97778221471555))",
      "3. stop(sprintf(ngettext(N, \"replacement has %d row, data has %d\", \n .     \"replacement has %d rows, data has %d\"), N, nrows), domain = NA)"
     ]
    }
   ],
   "source": [
    "suna_grab$interp_250_log<-log10(suna_grab$interp_250_c254.mean)\n",
    "suna_grab$turb_log<-log10(suna_grab$turbidity.mean)\n",
    "\n",
    "\n",
    "summary(lm(uva_250_lab~interp_250_log*turb_log,suna_grab))\n",
    "summary(lm(uva_250_lab~interp_250_c254.mean*turb_log,suna_grab))\n",
    "\n",
    "suna_grab$interp_250_tcorr<-predict(lm(uva_250_lab~interp_250_c254.mean*turbidity.mean,suna_grab))\n",
    "suna_grab$interp_250_tcorr_log<-predict(lm(uva_250_lab~interp_250_log*turbidity.mean,suna_grab))\n",
    "suna_grab$interp_250_tcorr_log_turb<-predict(lm(uva_250_lab~interp_250_log*turb_log,suna_grab))\n",
    "\n",
    "\n",
    "ggplot(suna_grab,aes(uva_250_lab,interp_250_c254.mean,color=pH.mean))+\n",
    "theme_ts_space+\n",
    "xlab(\"\\nUV Absorbance at 250 nm (Laboratory)\")+\n",
    "ylab(\"UV Absorbance at 250 nm (SUNA Uncorrected)\\n\")+\n",
    "geom_point(size=6)\n",
    "\n",
    "ggsave(\"~/neon_suna/plots/SUGG_250_uncorrected.pdf\",width = 20, height = 20, units = \"cm\")\n",
    "\n",
    "\n",
    "\n",
    "ggplot(suna_grab,aes(uva_250_lab,interp_250_tcorr_log,color=pH.mean))+\n",
    "theme_ts_space+\n",
    "geom_smooth(method=\"lm\",color=\"grey20\")+\n",
    "xlab(\"\\nUV Absorbance at 250 nm (Laboratory)\")+\n",
    "ylab(\"UV Absorbance at 250 nm (SUNA Corrected)\\n\")+\n",
    "geom_point(size=6)+\n",
    "ggtitle(\"Turbidity Corrected\")\n",
    "\n",
    "ggsave(\"~/neon_suna/plots/SUGG_250_corrected.pdf\",width = 20, height = 20, units = \"cm\")\n",
    "\n",
    "\n",
    "\n",
    "\n",
    "#summary(lm(uva_250_lab~interp_250_c254.mean*turbidity.mean+sensor_temp.mean,suna_grab))\n",
    "#summary(lm(uva_280_lab~interp_280_c350.mean*turbidity.mean+sensor_temp.mean,suna_grab))\n",
    "#summary(lm(uva_280_lab~interp_280_c254.mean*turbidity.mean+sensor_temp.mean,suna_grab))"
   ]
  },
  {
   "cell_type": "code",
   "execution_count": null,
   "id": "dependent-scanner",
   "metadata": {
    "tags": []
   },
   "outputs": [],
   "source": [
    "names(SUGG_sw)"
   ]
  },
  {
   "cell_type": "markdown",
   "id": "tracked-estonia",
   "metadata": {},
   "source": [
    "# Apply turbidity correction based on lab samples."
   ]
  },
  {
   "cell_type": "code",
   "execution_count": null,
   "id": "polished-radar",
   "metadata": {
    "tags": []
   },
   "outputs": [],
   "source": [
    "cor_cols<-grep(\"^interp_\",names(SUGG_sw))\n",
    "\n",
    "uva_250_turb_lm<-lm(uva_250_lab~interp_250_log*turbidity.mean,suna_grab)\n",
    "\n",
    "for(i in 1:length(cor_cols)){\n",
    "\tprepdata<-data.frame(interp_250_log=log10(SUGG_sw[,cor_cols[i]]),turbidity.mean=SUGG_sw$turbidity.mean)\n",
    "\tturb_cor_pred<-predict(uva_250_turb_lm,newdata=prepdata)\n",
    "\tSUGG_sw[,c(paste(names(SUGG_sw)[cor_cols[i]],\"_turb\",sep=\"\"))]<-turb_cor_pred\n",
    "}\n",
    "\n"
   ]
  },
  {
   "cell_type": "code",
   "execution_count": null,
   "id": "premium-quebec",
   "metadata": {},
   "outputs": [],
   "source": [
    "head(SUGG_sw)"
   ]
  },
  {
   "cell_type": "code",
   "execution_count": null,
   "id": "obvious-profile",
   "metadata": {},
   "outputs": [],
   "source": [
    "SUGG_swt_0<-SUGG_sw[,grep(\"*_turb$\",names(SUGG_sw))]\n",
    "SUGG_swt<-bind_cols(SUGG_sw[,c(\"dtpr\",\"nitrate.mean\",\"nitrate_mgl.mean\",\"a254.mean\",\"a350.mean\",\"sensor_temp.mean\",\"specificConductance.mean\",\"dissolvedOxygen.mean\",\"pH.mean\",\"chlorophyll.mean\",\"turbidity.mean\",\"fDOM.mean\")],SUGG_swt_0)\n",
    "\n",
    "\n",
    "\n"
   ]
  },
  {
   "cell_type": "markdown",
   "id": "educational-sunglasses",
   "metadata": {},
   "source": [
    "# Adding PAR data."
   ]
  },
  {
   "cell_type": "code",
   "execution_count": null,
   "id": "acquired-exercise",
   "metadata": {},
   "outputs": [],
   "source": [
    "SUGG_par<-loadByProduct(dpID=\"DP1.20042.001\",site=\"SUGG\",check.size=F)\n",
    "saveRDS(SUGG_par,paste(getwd(),\"/SUGG_par.rds\",sep=\"\"))\n",
    "SUGG_par<-readRDS(paste(getwd(),\"/SUGG_par.rds\",sep=\"\"))\n",
    "\n",
    "\n"
   ]
  },
  {
   "cell_type": "code",
   "execution_count": null,
   "id": "opposite-graduation",
   "metadata": {
    "tags": []
   },
   "outputs": [],
   "source": [
    "#lubridate::round_date(SUGG_parts$dtp, \"15 minutes\")\n"
   ]
  },
  {
   "cell_type": "code",
   "execution_count": null,
   "id": "obvious-keeping",
   "metadata": {},
   "outputs": [],
   "source": [
    "\n",
    "SUGG_parts<-SUGG_par$PARWS_5min\n",
    "SUGG_parts$dtp<-SUGG_parts$startDateTime\n",
    "#str(SUGG_wqk)\n",
    "\n",
    "\n",
    "\n",
    "SUGG_parts$dtpr<-lubridate::round_date(SUGG_parts$dtp, \"15 minutes\")\n",
    "SUGG_parts_red<-summaryBy(PARMean~dtpr,SUGG_parts,FUN=c(mean))\n",
    "head(SUGG_parts_red)\n",
    "#str(SUGG_wq_red)\n",
    "\n",
    "SUGG_swtpar<-merge(SUGG_swt,SUGG_parts_red,by=\"dtpr\",all.x=TRUE)\n"
   ]
  },
  {
   "cell_type": "code",
   "execution_count": null,
   "id": "controlling-upset",
   "metadata": {},
   "outputs": [],
   "source": [
    "\n",
    "str(SUGG_swtpar$dtpr)\n",
    "\n",
    "attr(SUGG_swtpar$dtpr,\"tzone\") <- \"Etc/GMT+5\"\n",
    "\n",
    "str(SUGG_swtpar$dtpr)\n",
    "SUGG_swtpar$date<-as.Date(SUGG_swtpar$dtpr,tz=\"Etc/GMT+5\")\n",
    "\n",
    "SUGG_dates<-unique(SUGG_swtpar$date)\n",
    "\n",
    "for(i in 1:length(SUGG_dates)){\n",
    "    \n",
    "    \n",
    "}"
   ]
  },
  {
   "cell_type": "code",
   "execution_count": null,
   "id": "first-information",
   "metadata": {},
   "outputs": [],
   "source": [
    "\n",
    "#SUGGd<-subset(SUGG_swtpar,date==as.Date(\"2019-06-10\"))\n",
    "SUGGd<-SUGG_swtpar\n",
    "\n",
    "SUGGdk<-SUGGd[,grep(\"*c254.mean_turb$\",names(SUGGd))]\n",
    "SUGGdk$dtpr<-SUGGd$dtpr\n",
    "\n",
    "SUGGdm<-subset(melt(SUGGdk,id.vars=c(\"dtpr\")),!is.na(value))\n",
    "SUGGdm$wavelength<-gsub(\"interp_\",\"\",SUGGdm$variable,fixed=TRUE)\n",
    "SUGGdm$wavelength<-as.numeric(gsub(\"_c254.mean_turb\",\"\",SUGGdm$wavelength,fixed=TRUE))\n",
    "\n",
    "\n",
    "\n",
    "str(SUGGdm)"
   ]
  },
  {
   "cell_type": "markdown",
   "id": "answering-transaction",
   "metadata": {},
   "source": [
    "# Trying some ridge plots to look at wavelength changes over time.\n",
    "So far not looSUGG super great."
   ]
  },
  {
   "cell_type": "code",
   "execution_count": null,
   "id": "wooden-tractor",
   "metadata": {},
   "outputs": [],
   "source": [
    "#library(ggridges)\n",
    "#scales::rescale(height)\n",
    "#SUGGdm$dtprn<-scales::rescale(as.numeric(SUGGdm$dtpr))\n",
    "#SUGGdm$abs<-scales::rescale(as.numeric(SUGGdm$value))\n",
    "\n",
    "\n",
    "#ggplot(subset(SUGGdm,wavelength>=275&wavelength<=295),aes(x = wavelength, y = dtprn, group=dtprn,height = abs)) +\n",
    "#  geom_ridgeline(fill=\"grey80\",alpha=0.6)\n",
    "\n",
    "#ggsave(\"~/neon_suna/plots/SUGGdm_ridge.pdf\",width = 20, height = 40, units = \"cm\")\n"
   ]
  },
  {
   "cell_type": "markdown",
   "id": "heard-economics",
   "metadata": {},
   "source": [
    "# Calculating spectral slope 275-295nm on each time step."
   ]
  },
  {
   "cell_type": "code",
   "execution_count": null,
   "id": "refined-afghanistan",
   "metadata": {},
   "outputs": [],
   "source": [
    "names(SUGGd)\n",
    "names(SUGGdm)"
   ]
  },
  {
   "cell_type": "code",
   "execution_count": null,
   "id": "opponent-playback",
   "metadata": {},
   "outputs": [],
   "source": [
    "ssm_275_295<-subset(SUGGdm,wavelength>=275&wavelength<=295)\n",
    "dtps<-unique(ssm_275_295$dtpr)\n",
    "pb <- progress_bar$new(\n",
    "\tformat = \"  downloading [:bar] :percent eta: :eta\",\n",
    "\ttotal = length(dtps), clear = FALSE, width= 60)\n",
    "s275295_comp<-data.frame()\n",
    "\n",
    "\n",
    "for(i in 1:length(dtps)){\n",
    "\tssm_now<-subset(ssm_275_295,dtpr==dtps[i])\n",
    "\t\n",
    "\tssm_now$am1<-ssm_now$value*100*2.3025851\n",
    "\tssm_now$lnam1<-log(ssm_now$am1)\n",
    "\n",
    "\n",
    "\tif(sum(!is.na(ssm_now$lnam1))>2){\n",
    "\t\ts275295<-lm(ssm_now$lnam1~ssm_now$wavelength)$coefficients[2]*-1\n",
    "\t\t}else{s275295<-NA}\n",
    "\t\ts275295_temp<-data.frame(dtpr=dtps[i],s275295=s275295)\n",
    "\t\ts275295_comp<-bind_rows(s275295_comp,s275295_temp)\n",
    "#\t\tpb$tick()\n",
    "}\t\n",
    "\t\n"
   ]
  },
  {
   "cell_type": "code",
   "execution_count": null,
   "id": "strategic-april",
   "metadata": {},
   "outputs": [],
   "source": [
    "ggplot(subset(ssm_275_295,variable==\"interp_275_c254.mean_turb\"),aes(dtpr,value))+geom_point()\n"
   ]
  },
  {
   "cell_type": "code",
   "execution_count": null,
   "id": "induced-photographer",
   "metadata": {},
   "outputs": [],
   "source": [
    "ssm_275_295<-subset(SUGGdm,wavelength>=275&wavelength<=295)\n",
    "dtps<-unique(ssm_275_295$dtpr)\n",
    "pb <- progress_bar$new(\n",
    "\tformat = \"  downloading [:bar] :percent eta: :eta\",\n",
    "\ttotal = length(dtps), clear = FALSE, width= 60)\n",
    "s275295_comp<-data.frame()\n",
    "\n",
    "\n",
    "\n",
    "\tssm_now<-subset(ssm_275_295,dtpr==dtps[i])\n",
    "\t\n",
    "\tssm_now$am1<-ssm_now$value*100*2.3025851\n",
    "\tssm_now$lnam1<-log(ssm_now$am1)\n",
    "\n",
    "\n",
    "\tif(sum(!is.na(ssm_now$lnam1))>2){\n",
    "\t\ts275295<-lm(ssm_now$lnam1~ssm_now$wavelength)$coefficients[2]*-1\n",
    "\t\t}else{s275295<-NA}\n",
    "\t\ts275295_temp<-data.frame(dtpr=dtps[i],s275295=s275295)\n",
    "\t\ts275295_comp<-bind_rows(s275295_comp,s275295_temp)\n",
    "#\t\tpb$tick()\n"
   ]
  },
  {
   "cell_type": "code",
   "execution_count": null,
   "id": "preliminary-change",
   "metadata": {},
   "outputs": [],
   "source": [
    "nrow(s275295_comp)\n",
    "nrow(SUGG_swtpar)\n",
    "SUGG_swtp_ss<-merge(SUGG_swtpar,s275295_comp,by=\"dtpr\",all.x=TRUE)\n",
    "saveRDS(SUGG_swtp_ss,paste(data,\"SUGG_swtp_ss.rds\",sep=\"\"))"
   ]
  },
  {
   "cell_type": "code",
   "execution_count": null,
   "id": "spiritual-hampshire",
   "metadata": {},
   "outputs": [],
   "source": [
    "sdates<-unique(as.Date(SUGG_swtp_ss$dtpr,tz=\"Etc/GMT+5\"))\n",
    "\n",
    "i<-5\n",
    "comp_df<-data.frame()\n",
    "#print(i)\n",
    "start<-as.POSIXct(paste(sdates[i]-1,\"22:00\",tz=\"Etc/GMT+5\"))\n",
    "finish<-as.POSIXct(paste(sdates[i]+1,\"03:00\",tz=\"Etc/GMT+5\"))\n",
    "SUGGday<-subset(SUGG_swtp_ss,dtpr>=start & dtpr<=finish)\n",
    "SUGGday<-subset(SUGGday,!is.na(PARMean.mean) & !is.na(s275295))\n",
    "nrow(SUGGday)\n",
    "    SUGGday$PAR_roll<-as.numeric(c(\"NA\",rollmean(SUGGday$PARMean.mean,k=3,align=c(\"center\"),na.fill=TRUE),\"NA\"))\n",
    "    SUGGday$s275295_roll<-as.numeric(c(\"NA\",rollmean(SUGGday$s275295,k=3,align=c(\"center\"),na.fill=TRUE),\"NA\"))\n",
    "\n",
    "\n",
    "\n",
    "    SUGG_night<-subset(SUGGday,PARMean.mean<200)\n",
    "    night_s275295<-mean(SUGG_night$s275295,na.rm=TRUE)\n",
    "\n",
    "    \n",
    "    #SUGGday$baseline<-predict(lm(s275295~dtpr,SUGG_night),SUGGday)\n",
    "    SUGGday$baseline_roll<-predict(lm(s275295_roll~dtpr,SUGG_night),SUGGday)    \n",
    "    SUGGday$s275295_bs<-SUGGday$s275295_roll-SUGGday$baseline_roll    \n",
    "    \n",
    "    SUGG_night_am<-subset(SUGG_night,hour(dtpr)<=12)\n",
    "    night_s275295_am<-mean(SUGG_night_am$s275295,na.rm=TRUE)\n",
    "    \n",
    "    SUGG_night_pm<-subset(SUGG_night,hour(dtpr)>12)\n",
    "    night_s275295_pm<-mean(SUGG_night_pm$s275295,na.rm=TRUE)\n",
    "    \n",
    "    SUGG_day<-subset(SUGGday,PARMean.mean>=10)\n",
    "    day_s275295<-mean(SUGG_day$s275295,na.rm=TRUE)\n",
    "\n",
    "    day_s275295_base_sum<-sum(SUGG_day$s275295_bs,na.rm=TRUE)\n",
    "    day_PAR_roll_base_sum<-sum(SUGG_day$PAR_roll,na.rm=TRUE)    \n",
    "\n",
    "    int<-lm(s275295_bs~PAR_roll,SUGG_day)$coef[1]\n",
    "    slope<-lm(s275295_bs~PAR_roll,SUGG_day)$coef[2]    \n",
    "    \n",
    "    SUGG_n_am_time<-nrow(SUGG_night_am)\n",
    "    SUGG_n_pm_time<-nrow(SUGG_night_pm)\n",
    "    SUGG_d_time<-nrow(SUGG_day)\n",
    "    \n",
    "    temp_df<-data.frame(site=\"SUGG\",date=sdates[i],night_s275295=night_s275295,night_s275295_am=night_s275295_am,night_s275295_pm=night_s275295_pm,day_s275295=day_s275295,day_s275295_base_sum=day_s275295_base_sum,day_PAR_roll_base_sum=day_PAR_roll_base_sum,int=int,slope=slope,SUGG_n_am_time=SUGG_n_am_time,SUGG_n_pm_time=SUGG_n_pm_time,SUGG_d_time=SUGG_d_time)"
   ]
  },
  {
   "cell_type": "code",
   "execution_count": null,
   "id": "false-dream",
   "metadata": {},
   "outputs": [],
   "source": [
    "\n",
    "\n",
    "\n"
   ]
  },
  {
   "cell_type": "markdown",
   "id": "emerging-service",
   "metadata": {},
   "source": [
    "# Extracting spectral daily slope ratio discrepancy."
   ]
  },
  {
   "cell_type": "code",
   "execution_count": null,
   "id": "approximate-hartford",
   "metadata": {
    "tags": []
   },
   "outputs": [],
   "source": [
    "sdates<-unique(as.Date(SUGG_swtp_ss$dtpr,tz=\"Etc/GMT+5\"))\n",
    "\n",
    "#i<-30\n",
    "comp_df<-data.frame()\n",
    "for(i in 1:length(sdates)){\n",
    "#print(i)\n",
    "start<-as.POSIXct(paste(sdates[i]-1,\"22:00\",tz=\"Etc/GMT+5\"))\n",
    "finish<-as.POSIXct(paste(sdates[i]+1,\"03:00\",tz=\"Etc/GMT+5\"))\n",
    "SUGGday<-subset(SUGG_swtp_ss,dtpr>=start & dtpr<=finish)\n",
    "SUGGday<-subset(SUGGday,!is.na(PARMean.mean) & !is.na(s275295))\n",
    "\n",
    "if(nrow(SUGGday)>80){\n",
    "    SUGGday$PAR_roll<-as.numeric(c(\"NA\",rollmean(SUGGday$PARMean.mean,k=3,align=c(\"center\"),na.fill=TRUE),\"NA\"))\n",
    "    SUGGday$s275295_roll<-as.numeric(c(\"NA\",rollmean(SUGGday$s275295,k=3,align=c(\"center\"),na.fill=TRUE),\"NA\"))\n",
    "\n",
    "\n",
    "\n",
    "    SUGG_night<-subset(SUGGday,PARMean.mean<200)\n",
    "    night_s275295<-mean(SUGG_night$s275295,na.rm=TRUE)\n",
    "    \n",
    "    #SUGGday$baseline<-predict(lm(s275295~dtpr,SUGG_night),SUGGday)\n",
    "    SUGGday$baseline_roll<-predict(lm(s275295_roll~dtpr,SUGG_night),SUGGday)    \n",
    "    SUGGday$s275295_bs<-SUGGday$s275295_roll-SUGGday$baseline_roll    \n",
    "    \n",
    "    SUGG_night_am<-subset(SUGG_night,hour(dtpr)<=12)\n",
    "    night_s275295_am<-mean(SUGG_night_am$s275295,na.rm=TRUE)\n",
    "    \n",
    "    SUGG_night_pm<-subset(SUGG_night,hour(dtpr)>12)\n",
    "    night_s275295_pm<-mean(SUGG_night_pm$s275295,na.rm=TRUE)\n",
    "    \n",
    "    SUGG_day<-subset(SUGGday,PARMean.mean>=10)\n",
    "    day_s275295<-mean(SUGG_day$s275295,na.rm=TRUE)\n",
    "\n",
    "    day_s275295_base_sum<-sum(SUGG_day$s275295_bs,na.rm=TRUE)\n",
    "    day_PAR_roll_base_sum<-sum(SUGG_day$PAR_roll,na.rm=TRUE)    \n",
    "\n",
    "    int<-lm(s275295_bs~PAR_roll,SUGG_day)$coef[1]\n",
    "    slope<-lm(s275295_bs~PAR_roll,SUGG_day)$coef[2]    \n",
    "    \n",
    "    SUGG_n_am_time<-nrow(SUGG_night_am)\n",
    "    SUGG_n_pm_time<-nrow(SUGG_night_pm)\n",
    "    SUGG_d_time<-nrow(SUGG_day)\n",
    "    \n",
    "    temp_df<-data.frame(site=\"SUGG\",date=sdates[i],night_s275295=night_s275295,night_s275295_am=night_s275295_am,night_s275295_pm=night_s275295_pm,day_s275295=day_s275295,day_s275295_base_sum=day_s275295_base_sum,day_PAR_roll_base_sum=day_PAR_roll_base_sum,int=int,slope=slope,SUGG_n_am_time=SUGG_n_am_time,SUGG_n_pm_time=SUGG_n_pm_time,SUGG_d_time=SUGG_d_time)\n",
    "    comp_df<-bind_rows(comp_df,temp_df)\n",
    "    }\n",
    "}\n",
    "\n",
    "\n"
   ]
  },
  {
   "cell_type": "code",
   "execution_count": null,
   "id": "studied-dictionary",
   "metadata": {},
   "outputs": [],
   "source": [
    "nrow(comp_df)\n",
    "head(comp_df)"
   ]
  },
  {
   "cell_type": "code",
   "execution_count": null,
   "id": "complete-calculator",
   "metadata": {},
   "outputs": [],
   "source": [
    "    SUGG_day$s275295_bs\n",
    "ggplot(comp_df,aes(date,day_s275295_base_sum))+\n",
    "       geom_point(size=2)\n",
    "ggplot(comp_df,aes(date,day_PAR_roll_base_sum))+\n",
    "       geom_point(size=2)\n",
    "\n",
    "\n",
    "ggplot(comp_df,aes(day_PAR_roll_base_sum,day_s275295_base_sum))+\n",
    "geom_point()\n",
    "\n",
    "\n",
    "saveRDS(comp_df,paste(data,\"comp_df_SUGG.rds\",sep=\"\"))"
   ]
  },
  {
   "cell_type": "code",
   "execution_count": null,
   "id": "aware-modern",
   "metadata": {},
   "outputs": [],
   "source": [
    "SUGGday<-subset(SUGG_swtp_ss,as.Date(dtpr,tz=\"Etc/GMT+5\")==as.Date(\"2019-06-11\",tz=\"Etc/GMT+5\"))\n",
    "nrow(SUGGday)\n",
    "\n",
    "str(SUGGday$s275295)\n",
    "\n",
    "\n",
    "\n",
    "ggplot(SUGGday,aes(dtpr,s275295))+\n",
    "geom_point()\n",
    "\n",
    "\n",
    "ggplot(SUGGday,aes(dtpr,PARMean.mean))+\n",
    "geom_point()\n",
    "\n",
    "ggplot(SUGGday,aes(dtpr,PARMean.mean))+\n",
    "geom_point()\n",
    "\n"
   ]
  }
 ],
 "metadata": {
  "kernelspec": {
   "display_name": "R",
   "language": "R",
   "name": "ir"
  },
  "language_info": {
   "codemirror_mode": "r",
   "file_extension": ".r",
   "mimetype": "text/x-r-source",
   "name": "R",
   "pygments_lexer": "r",
   "version": "4.0.4"
  }
 },
 "nbformat": 4,
 "nbformat_minor": 5
}
