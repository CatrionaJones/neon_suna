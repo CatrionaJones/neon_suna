{
 "cells": [
  {
   "cell_type": "markdown",
   "id": "worthy-postage",
   "metadata": {},
   "source": [
    "## Downloading all grab sample data for sites with sunas"
   ]
  },
  {
   "cell_type": "code",
   "execution_count": 7,
   "id": "b664eaa3-7576-49fc-b9c7-771601f7d426",
   "metadata": {},
   "outputs": [
    {
     "name": "stderr",
     "output_type": "stream",
     "text": [
      "Warning message:\n",
      "\"package 'splitstackexchange' is not available (for R version 3.6.1)\"also installing the dependencies 'glue', 'cli', 'rlang', 'vctrs'\n",
      "\n"
     ]
    },
    {
     "name": "stdout",
     "output_type": "stream",
     "text": [
      "\n",
      "  There are binary versions available but the source versions are later:\n",
      "      binary source needs_compilation\n",
      "glue   1.4.2  1.6.2              TRUE\n",
      "cli    2.5.0  3.3.0              TRUE\n",
      "rlang 0.4.11  1.0.2              TRUE\n",
      "vctrs  0.3.8  0.4.1              TRUE\n",
      "dplyr  1.0.6  1.0.9              TRUE\n",
      "\n",
      "  Binaries will be installed\n"
     ]
    },
    {
     "name": "stderr",
     "output_type": "stream",
     "text": [
      "Warning message:\n",
      "\"package 'dplyr' is in use and will not be installed\""
     ]
    },
    {
     "name": "stdout",
     "output_type": "stream",
     "text": [
      "package 'glue' successfully unpacked and MD5 sums checked\n"
     ]
    },
    {
     "name": "stderr",
     "output_type": "stream",
     "text": [
      "Warning message:\n",
      "\"cannot remove prior installation of package 'glue'\"Warning message in file.copy(savedcopy, lib, recursive = TRUE):\n",
      "\"problem copying C:\\Users\\Rija\\anaconda3\\Lib\\R\\library\\00LOCK\\glue\\libs\\x64\\glue.dll to C:\\Users\\Rija\\anaconda3\\Lib\\R\\library\\glue\\libs\\x64\\glue.dll: Permission denied\"Warning message:\n",
      "\"restored 'glue'\""
     ]
    },
    {
     "name": "stdout",
     "output_type": "stream",
     "text": [
      "package 'cli' successfully unpacked and MD5 sums checked\n",
      "package 'rlang' successfully unpacked and MD5 sums checked\n"
     ]
    },
    {
     "name": "stderr",
     "output_type": "stream",
     "text": [
      "Warning message:\n",
      "\"cannot remove prior installation of package 'rlang'\"Warning message in file.copy(savedcopy, lib, recursive = TRUE):\n",
      "\"problem copying C:\\Users\\Rija\\anaconda3\\Lib\\R\\library\\00LOCK\\rlang\\libs\\x64\\rlang.dll to C:\\Users\\Rija\\anaconda3\\Lib\\R\\library\\rlang\\libs\\x64\\rlang.dll: Permission denied\"Warning message:\n",
      "\"restored 'rlang'\""
     ]
    },
    {
     "name": "stdout",
     "output_type": "stream",
     "text": [
      "package 'vctrs' successfully unpacked and MD5 sums checked\n"
     ]
    },
    {
     "name": "stderr",
     "output_type": "stream",
     "text": [
      "Warning message:\n",
      "\"cannot remove prior installation of package 'vctrs'\"Warning message in file.copy(savedcopy, lib, recursive = TRUE):\n",
      "\"problem copying C:\\Users\\Rija\\anaconda3\\Lib\\R\\library\\00LOCK\\vctrs\\libs\\x64\\vctrs.dll to C:\\Users\\Rija\\anaconda3\\Lib\\R\\library\\vctrs\\libs\\x64\\vctrs.dll: Permission denied\"Warning message:\n",
      "\"restored 'vctrs'\""
     ]
    },
    {
     "name": "stdout",
     "output_type": "stream",
     "text": [
      "\n",
      "The downloaded binary packages are in\n",
      "\tC:\\Users\\Rija\\AppData\\Local\\Temp\\RtmpoTktjb\\downloaded_packages\n"
     ]
    }
   ],
   "source": [
    "install.packages(\"splitstackexchange\")\n",
    "install.packages(\"dplyr\")"
   ]
  },
  {
   "cell_type": "code",
   "execution_count": 8,
   "id": "arctic-panama",
   "metadata": {},
   "outputs": [
    {
     "ename": "ERROR",
     "evalue": "Error in library(splitstackshape): there is no package called 'splitstackshape'\n",
     "output_type": "error",
     "traceback": [
      "Error in library(splitstackshape): there is no package called 'splitstackshape'\nTraceback:\n",
      "1. library(splitstackshape)"
     ]
    }
   ],
   "source": [
    "library(dplyr)\n",
    "library(splitstackshape)\n",
    "library(lubridate)\n",
    "library(reshape2)\n",
    "library(neonUtilities)\n",
    "\n",
    "data<-\"/Users/jhosen/gdrive/SUNA_Data/grab_samples\""
   ]
  },
  {
   "cell_type": "markdown",
   "id": "agreed-nomination",
   "metadata": {},
   "source": [
    "# Downloading function"
   ]
  },
  {
   "cell_type": "code",
   "execution_count": 6,
   "id": "b8d06889-9b4e-4d56-a308-53de39a695ba",
   "metadata": {},
   "outputs": [
    {
     "ename": "ERROR",
     "evalue": "Error in loadByProduct(dpID = \"DP4.00130.001\", site = \"ARIK\", check.size = FALSE): could not find function \"loadByProduct\"\n",
     "output_type": "error",
     "traceback": [
      "Error in loadByProduct(dpID = \"DP4.00130.001\", site = \"ARIK\", check.size = FALSE): could not find function \"loadByProduct\"\nTraceback:\n"
     ]
    }
   ],
   "source": [
    "downloaded_data = loadByProduct(dpID = \"DP4.00130.001\", site= \"ARIK\", check.size = FALSE)"
   ]
  },
  {
   "cell_type": "code",
   "execution_count": 5,
   "id": "parental-street",
   "metadata": {},
   "outputs": [],
   "source": [
    "dl_grab<-function(data,site){\n",
    "SYCA_wqg<-loadByProduct(dpID=\"DP1.20093.001\",site=paste(site),check.size=F)\n",
    "saveRDS(SYCA_wqg,paste(data,\"/\",site,\"_wqg.rds\",sep=\"\"))\n",
    "#SYCA_wqg<-readRDS(paste(data,\"/SYCA_wqg.rds\",sep=\"\"))\n",
    "\n",
    "\n",
    "SYCA_wqg_d<-as.data.frame(SYCA_wqg$swc_externalLabDataByAnalyte)\n",
    "\n",
    "names(SYCA_wqg_d)\n",
    "\n",
    "uv_abs<-subset(SYCA_wqg_d,analyte==\"UV Absorbance (250 nm)\"|analyte==\"UV Absorbance (280 nm)\")\n",
    "date_cast<-dcast(uv_abs[,c(\"analyte\",\"collectDate\",\"analyteConcentration\")],collectDate~analyte,value.var=\"analyteConcentration\",mean)\n",
    "date_cast$dtpr<-lubridate::round_date(date_cast$collectDate, \"15 minutes\")\n",
    "\n",
    "date_cast$site<-site\n",
    "saveRDS(date_cast,paste(data,\"/\",site,\"_uv_grab.rds\",sep=\"\"))\n",
    "    }"
   ]
  },
  {
   "cell_type": "code",
   "execution_count": null,
   "id": "organizational-profile",
   "metadata": {},
   "outputs": [],
   "source": [
    "dl_grab(data,\"BLWA\")"
   ]
  },
  {
   "cell_type": "code",
   "execution_count": null,
   "id": "referenced-cooler",
   "metadata": {},
   "outputs": [],
   "source": [
    "dl_grab(data,\"MAYF\")\n",
    "dl_grab(data,\"TOMB\")\n",
    "dl_grab(data,\"CARI\")"
   ]
  },
  {
   "cell_type": "code",
   "execution_count": null,
   "id": "negative-start",
   "metadata": {
    "tags": []
   },
   "outputs": [],
   "source": [
    "dl_grab(data,\"OKSR\")\n",
    "dl_grab(data,\"TOOK\")\n",
    "dl_grab(data,\"SYCA\")\n",
    "dl_grab(data,\"BIGC\")\n",
    "dl_grab(data,\"TECR\")\n",
    "dl_grab(data,\"ARIK\")"
   ]
  },
  {
   "cell_type": "code",
   "execution_count": null,
   "id": "sonic-hazard",
   "metadata": {
    "tags": []
   },
   "outputs": [],
   "source": [
    "dl_grab(data,\"COMO\")\n",
    "dl_grab(data,\"WLOU\")\n",
    "dl_grab(data,\"BARC\")\n",
    "dl_grab(data,\"SUGG\")\n",
    "dl_grab(data,\"FLNT\")\n",
    "dl_grab(data,\"KING\")\n",
    "dl_grab(data,\"MCDI\")\n",
    "dl_grab(data,\"HOPB\")\n",
    "dl_grab(data,\"PRLA\")\n",
    "dl_grab(data,\"PRPO\")"
   ]
  },
  {
   "cell_type": "code",
   "execution_count": null,
   "id": "environmental-university",
   "metadata": {},
   "outputs": [],
   "source": [
    "dl_grab(data,\"BLUE\")\n",
    "dl_grab(data,\"MCRA\")\n",
    "dl_grab(data,\"CUPE\")\n",
    "dl_grab(data,\"GUIL\")\n",
    "dl_grab(data,\"LECO\")\n",
    "dl_grab(data,\"WALK\")\n",
    "dl_grab(data,\"PRIN\")\n",
    "dl_grab(data,\"REDB\")\n",
    "dl_grab(data,\"LEWI\")\n",
    "dl_grab(data,\"POSE\")\n",
    "dl_grab(data,\"MART\")\n",
    "dl_grab(data,\"CRAM\")\n",
    "dl_grab(data,\"LIRO\")\n",
    "dl_grab(data,\"BLDE\")"
   ]
  },
  {
   "cell_type": "code",
   "execution_count": null,
   "id": "covered-senegal",
   "metadata": {
    "tags": []
   },
   "outputs": [],
   "source": [
    "\n",
    "\n",
    "library(zoo)\n",
    "KING_wqg<-loadByProduct(dpID=\"DP1.20093.001\",site=\"KING\",check.size=F)\n",
    "saveRDS(KING_wqg,paste(data,\"/KING_wqg.rds\",sep=\"\"))\n",
    "#KING_wqg<-readRDS(paste(data,\"/KING_wqg.rds\",sep=\"\"))\n",
    "\n",
    "\n",
    "KING_wqg_d<-as.data.frame(KING_wqg$swc_externalLabDataByAnalyte)\n",
    "\n",
    "names(KING_wqg_d)\n",
    "\n",
    "uv_abs<-subset(KING_wqg_d,analyte==\"UV Absorbance (250 nm)\"|analyte==\"UV Absorbance (280 nm)\")\n",
    "date_cast<-dcast(uv_abs[,c(\"analyte\",\"collectDate\",\"analyteConcentration\")],collectDate~analyte,value.var=\"analyteConcentration\",mean)\n",
    "date_cast$dtpr<-lubridate::round_date(date_cast$collectDate, \"15 minutes\")\n",
    "\n",
    "date_cast$site<-\"KING\"\n",
    "saveRDS(date_cast,paste(data,\"/KING_uv_grab.rds\",sep=\"\"))\n",
    "\n"
   ]
  },
  {
   "cell_type": "code",
   "execution_count": null,
   "id": "eight-seeking",
   "metadata": {},
   "outputs": [],
   "source": [
    "library(tidyr)\n",
    "library(purrr)\n",
    "\n",
    "sites<-list.files(data,pattern=\"*_uv_grab.rds\")\n",
    "\n",
    "setwd(paste(data))\n",
    "data_comp <- sites %>%\n",
    "  map(readRDS) %>%    # read in all the files individually, using\n",
    "  reduce(bind_rows) "
   ]
  },
  {
   "cell_type": "code",
   "execution_count": null,
   "id": "killing-screw",
   "metadata": {},
   "outputs": [],
   "source": [
    "library(doBy)\n",
    "\n",
    "head(data_comp)\n",
    "names(data_comp)<-gsub(\"UV Absorbance (250 nm)\",\"uva_250\",names(data_comp),fixed=TRUE)\n",
    "names(data_comp)<-gsub(\"UV Absorbance (280 nm)\",\"uva_280\",names(data_comp),fixed=TRUE)\n",
    "data_c2<-subset(data_comp,!is.na(uva_250)|!is.na(uva_280))\n",
    "write.csv(data_c2,\"neon_absorbance_grab_samples.csv\",row.names=FALSE)\n",
    "write.csv(summaryBy(uva_250~site,data_c2,FUN=c(length)),\"neon_grab_sample_counts.csv\",row.names=FALSE)\n"
   ]
  },
  {
   "cell_type": "code",
   "execution_count": null,
   "id": "divided-snowboard",
   "metadata": {},
   "outputs": [],
   "source": [
    "\n",
    "\n",
    "library(zoo)\n",
    "COMO_wqg<-loadByProduct(dpID=\"DP1.20093.001\",site=\"COMO\",check.size=F)\n",
    "saveRDS(COMO_wqg,paste(data,\"/COMO_wqg.rds\",sep=\"\"))\n",
    "#COMO_wqg<-readRDS(paste(data,\"/COMO_wqg.rds\",sep=\"\"))\n",
    "\n",
    "\n",
    "COMO_wqg_d<-as.data.frame(COMO_wqg$swc_externalLabDataByAnalyte)\n",
    "\n",
    "names(COMO_wqg_d)\n",
    "\n",
    "uv_abs<-subset(COMO_wqg_d,analyte==\"UV Absorbance (250 nm)\"|analyte==\"UV Absorbance (280 nm)\")\n",
    "date_cast<-dcast(uv_abs[,c(\"analyte\",\"collectDate\",\"analyteConcentration\")],collectDate~analyte,value.var=\"analyteConcentration\",mean)\n",
    "date_cast$dtpr<-lubridate::round_date(date_cast$collectDate, \"15 minutes\")\n",
    "\n",
    "date_cast$site<-\"COMO\"\n",
    "saveRDS(date_cast,paste(data,\"/COMO_uv_grab.rds\",sep=\"\"))\n",
    "\n"
   ]
  },
  {
   "cell_type": "code",
   "execution_count": null,
   "id": "decent-canvas",
   "metadata": {},
   "outputs": [],
   "source": []
  },
  {
   "cell_type": "code",
   "execution_count": null,
   "id": "swedish-columbia",
   "metadata": {},
   "outputs": [],
   "source": [
    "\n",
    "\n",
    "library(zoo)\n",
    "SYCA_wqg<-loadByProduct(dpID=\"DP1.20093.001\",site=\"SYCA\",check.size=F)\n",
    "saveRDS(SYCA_wqg,paste(data,\"/SYCA_wqg.rds\",sep=\"\"))\n",
    "#SYCA_wqg<-readRDS(paste(data,\"/SYCA_wqg.rds\",sep=\"\"))\n",
    "\n",
    "\n",
    "SYCA_wqg_d<-as.data.frame(SYCA_wqg$swc_externalLabDataByAnalyte)\n",
    "\n",
    "names(SYCA_wqg_d)\n",
    "\n",
    "uv_abs<-subset(SYCA_wqg_d,analyte==\"UV Absorbance (250 nm)\"|analyte==\"UV Absorbance (280 nm)\")\n",
    "date_cast<-dcast(uv_abs[,c(\"analyte\",\"collectDate\",\"analyteConcentration\")],collectDate~analyte,value.var=\"analyteConcentration\",mean)\n",
    "date_cast$dtpr<-lubridate::round_date(date_cast$collectDate, \"15 minutes\")\n",
    "\n",
    "date_cast$site<-\"SYCA\"\n",
    "saveRDS(date_cast,paste(data,\"/SYCA_uv_grab.rds\",sep=\"\"))\n",
    "\n"
   ]
  },
  {
   "cell_type": "code",
   "execution_count": null,
   "id": "54bbced0-8bca-4051-aba3-81a9aba667a4",
   "metadata": {},
   "outputs": [],
   "source": []
  },
  {
   "cell_type": "code",
   "execution_count": null,
   "id": "d22eb11e-ba96-4b2c-bfb5-8241881d4ced",
   "metadata": {},
   "outputs": [],
   "source": []
  }
 ],
 "metadata": {
  "kernelspec": {
   "display_name": "R",
   "language": "R",
   "name": "ir"
  },
  "language_info": {
   "codemirror_mode": "r",
   "file_extension": ".r",
   "mimetype": "text/x-r-source",
   "name": "R",
   "pygments_lexer": "r",
   "version": "4.2.0"
  }
 },
 "nbformat": 4,
 "nbformat_minor": 5
}
