{
 "cells": [
  {
   "cell_type": "markdown",
   "id": "worthy-postage",
   "metadata": {},
   "source": [
    "## Downloading all grab sample data for sites with sunas"
   ]
  },
  {
   "cell_type": "code",
   "execution_count": 16,
   "id": "arctic-panama",
   "metadata": {},
   "outputs": [],
   "source": [
    "library(dplyr)\n",
    "library(splitstackshape)\n",
    "library(lubridate)\n",
    "library(reshape2)\n",
    "library(neonUtilities)\n",
    "\n",
    "data<-\"/Users/jhosen/gdrive/SUNA_Data/grab_samples\""
   ]
  },
  {
   "cell_type": "markdown",
   "id": "agreed-nomination",
   "metadata": {},
   "source": [
    "# Downloading function"
   ]
  },
  {
   "cell_type": "code",
   "execution_count": null,
   "id": "parental-street",
   "metadata": {},
   "outputs": [],
   "source": [
    "dl_grab<-function(data,site){\n",
    "SYCA_wqg<-loadByProduct(dpID=\"DP1.20093.001\",site=paste(site),check.size=F)\n",
    "saveRDS(SYCA_wqg,paste(data,\"/\",site,\"_wqg.rds\",sep=\"\"))\n",
    "#SYCA_wqg<-readRDS(paste(data,\"/SYCA_wqg.rds\",sep=\"\"))\n",
    "\n",
    "\n",
    "SYCA_wqg_d<-as.data.frame(SYCA_wqg$swc_externalLabDataByAnalyte)\n",
    "\n",
    "names(SYCA_wqg_d)\n",
    "\n",
    "uv_abs<-subset(SYCA_wqg_d,analyte==\"UV Absorbance (250 nm)\"|analyte==\"UV Absorbance (280 nm)\")\n",
    "date_cast<-dcast(uv_abs[,c(\"analyte\",\"collectDate\",\"analyteConcentration\")],collectDate~analyte,value.var=\"analyteConcentration\",mean)\n",
    "date_cast$dtpr<-lubridate::round_date(date_cast$collectDate, \"15 minutes\")\n",
    "\n",
    "date_cast$site<-site\n",
    "saveRDS(date_cast,paste(data,\"/\",site,\"_uv_grab.rds\",sep=\"\"))\n",
    "    }"
   ]
  },
  {
   "cell_type": "code",
   "execution_count": null,
   "id": "organizational-profile",
   "metadata": {},
   "outputs": [],
   "source": [
    "dl_grab(data,\"BLWA\")"
   ]
  },
  {
   "cell_type": "code",
   "execution_count": null,
   "id": "referenced-cooler",
   "metadata": {},
   "outputs": [],
   "source": [
    "dl_grab(data,\"MAYF\")\n",
    "dl_grab(data,\"TOMB\")\n",
    "dl_grab(data,\"CARI\")"
   ]
  },
  {
   "cell_type": "code",
   "execution_count": null,
   "id": "negative-start",
   "metadata": {
    "tags": []
   },
   "outputs": [],
   "source": [
    "dl_grab(data,\"OKSR\")\n",
    "dl_grab(data,\"TOOK\")\n",
    "dl_grab(data,\"SYCA\")\n",
    "dl_grab(data,\"BIGC\")\n",
    "dl_grab(data,\"TECR\")\n",
    "dl_grab(data,\"ARIK\")"
   ]
  },
  {
   "cell_type": "code",
   "execution_count": null,
   "id": "sonic-hazard",
   "metadata": {
    "tags": []
   },
   "outputs": [],
   "source": [
    "dl_grab(data,\"COMO\")\n",
    "dl_grab(data,\"WLOU\")\n",
    "dl_grab(data,\"BARC\")\n",
    "dl_grab(data,\"SUGG\")\n",
    "dl_grab(data,\"FLNT\")\n",
    "dl_grab(data,\"KING\")\n",
    "dl_grab(data,\"MCDI\")\n",
    "dl_grab(data,\"HOPB\")\n",
    "dl_grab(data,\"PRLA\")\n",
    "dl_grab(data,\"PRPO\")"
   ]
  },
  {
   "cell_type": "code",
   "execution_count": null,
   "id": "environmental-university",
   "metadata": {},
   "outputs": [],
   "source": [
    "dl_grab(data,\"BLUE\")\n",
    "dl_grab(data,\"MCRA\")\n",
    "dl_grab(data,\"CUPE\")\n",
    "dl_grab(data,\"GUIL\")\n",
    "dl_grab(data,\"LECO\")\n",
    "dl_grab(data,\"WALK\")\n",
    "dl_grab(data,\"PRIN\")\n",
    "dl_grab(data,\"REDB\")\n",
    "dl_grab(data,\"LEWI\")\n",
    "dl_grab(data,\"POSE\")\n",
    "dl_grab(data,\"MART\")\n",
    "dl_grab(data,\"CRAM\")\n",
    "dl_grab(data,\"LIRO\")\n",
    "dl_grab(data,\"BLDE\")"
   ]
  },
  {
   "cell_type": "code",
   "execution_count": 6,
   "id": "covered-senegal",
   "metadata": {
    "tags": []
   },
   "outputs": [
    {
     "name": "stderr",
     "output_type": "stream",
     "text": [
      "\n",
      "Attaching package: ‘zoo’\n",
      "\n",
      "\n",
      "The following objects are masked from ‘package:base’:\n",
      "\n",
      "    as.Date, as.Date.numeric\n",
      "\n",
      "\n"
     ]
    },
    {
     "name": "stdout",
     "output_type": "stream",
     "text": [
      "Finding available files\n",
      "  |======================================================================| 100%\n",
      "\n",
      "Downloading files totaling approximately 1.594757 MB\n",
      "Downloading 70 files\n",
      "  |=====                                                                 |   7%"
     ]
    }
   ],
   "source": [
    "\n",
    "\n",
    "library(zoo)\n",
    "KING_wqg<-loadByProduct(dpID=\"DP1.20093.001\",site=\"KING\",check.size=F)\n",
    "saveRDS(KING_wqg,paste(data,\"/KING_wqg.rds\",sep=\"\"))\n",
    "#KING_wqg<-readRDS(paste(data,\"/KING_wqg.rds\",sep=\"\"))\n",
    "\n",
    "\n",
    "KING_wqg_d<-as.data.frame(KING_wqg$swc_externalLabDataByAnalyte)\n",
    "\n",
    "names(KING_wqg_d)\n",
    "\n",
    "uv_abs<-subset(KING_wqg_d,analyte==\"UV Absorbance (250 nm)\"|analyte==\"UV Absorbance (280 nm)\")\n",
    "date_cast<-dcast(uv_abs[,c(\"analyte\",\"collectDate\",\"analyteConcentration\")],collectDate~analyte,value.var=\"analyteConcentration\",mean)\n",
    "date_cast$dtpr<-lubridate::round_date(date_cast$collectDate, \"15 minutes\")\n",
    "\n",
    "date_cast$site<-\"KING\"\n",
    "saveRDS(date_cast,paste(data,\"/KING_uv_grab.rds\",sep=\"\"))\n",
    "\n"
   ]
  },
  {
   "cell_type": "code",
   "execution_count": 17,
   "id": "eight-seeking",
   "metadata": {},
   "outputs": [],
   "source": [
    "library(tidyr)\n",
    "library(purrr)\n",
    "\n",
    "sites<-list.files(data,pattern=\"*_uv_grab.rds\")\n",
    "\n",
    "setwd(paste(data))\n",
    "data_comp <- sites %>%\n",
    "  map(readRDS) %>%    # read in all the files individually, using\n",
    "  reduce(bind_rows) "
   ]
  },
  {
   "cell_type": "code",
   "execution_count": 28,
   "id": "killing-screw",
   "metadata": {},
   "outputs": [
    {
     "data": {
      "text/html": [
       "<table class=\"dataframe\">\n",
       "<caption>A data.frame: 6 × 5</caption>\n",
       "<thead>\n",
       "\t<tr><th></th><th scope=col>collectDate</th><th scope=col>uva_250</th><th scope=col>uva_280</th><th scope=col>dtpr</th><th scope=col>site</th></tr>\n",
       "\t<tr><th></th><th scope=col>&lt;dttm&gt;</th><th scope=col>&lt;dbl&gt;</th><th scope=col>&lt;dbl&gt;</th><th scope=col>&lt;dttm&gt;</th><th scope=col>&lt;chr&gt;</th></tr>\n",
       "</thead>\n",
       "<tbody>\n",
       "\t<tr><th scope=row>1</th><td>2012-01-31 19:00:00</td><td>NA</td><td>NA</td><td>2012-01-31 19:00:00</td><td>ARIK</td></tr>\n",
       "\t<tr><th scope=row>2</th><td>2012-03-07 19:00:00</td><td>NA</td><td>NA</td><td>2012-03-07 19:00:00</td><td>ARIK</td></tr>\n",
       "\t<tr><th scope=row>3</th><td>2012-03-14 18:00:00</td><td>NA</td><td>NA</td><td>2012-03-14 18:00:00</td><td>ARIK</td></tr>\n",
       "\t<tr><th scope=row>4</th><td>2012-03-26 18:00:00</td><td>NA</td><td>NA</td><td>2012-03-26 18:00:00</td><td>ARIK</td></tr>\n",
       "\t<tr><th scope=row>5</th><td>2012-11-08 18:07:00</td><td>NA</td><td>NA</td><td>2012-11-08 18:00:00</td><td>ARIK</td></tr>\n",
       "\t<tr><th scope=row>6</th><td>2012-12-04 19:12:00</td><td>NA</td><td>NA</td><td>2012-12-04 19:15:00</td><td>ARIK</td></tr>\n",
       "</tbody>\n",
       "</table>\n"
      ],
      "text/latex": [
       "A data.frame: 6 × 5\n",
       "\\begin{tabular}{r|lllll}\n",
       "  & collectDate & uva\\_250 & uva\\_280 & dtpr & site\\\\\n",
       "  & <dttm> & <dbl> & <dbl> & <dttm> & <chr>\\\\\n",
       "\\hline\n",
       "\t1 & 2012-01-31 19:00:00 & NA & NA & 2012-01-31 19:00:00 & ARIK\\\\\n",
       "\t2 & 2012-03-07 19:00:00 & NA & NA & 2012-03-07 19:00:00 & ARIK\\\\\n",
       "\t3 & 2012-03-14 18:00:00 & NA & NA & 2012-03-14 18:00:00 & ARIK\\\\\n",
       "\t4 & 2012-03-26 18:00:00 & NA & NA & 2012-03-26 18:00:00 & ARIK\\\\\n",
       "\t5 & 2012-11-08 18:07:00 & NA & NA & 2012-11-08 18:00:00 & ARIK\\\\\n",
       "\t6 & 2012-12-04 19:12:00 & NA & NA & 2012-12-04 19:15:00 & ARIK\\\\\n",
       "\\end{tabular}\n"
      ],
      "text/markdown": [
       "\n",
       "A data.frame: 6 × 5\n",
       "\n",
       "| <!--/--> | collectDate &lt;dttm&gt; | uva_250 &lt;dbl&gt; | uva_280 &lt;dbl&gt; | dtpr &lt;dttm&gt; | site &lt;chr&gt; |\n",
       "|---|---|---|---|---|---|\n",
       "| 1 | 2012-01-31 19:00:00 | NA | NA | 2012-01-31 19:00:00 | ARIK |\n",
       "| 2 | 2012-03-07 19:00:00 | NA | NA | 2012-03-07 19:00:00 | ARIK |\n",
       "| 3 | 2012-03-14 18:00:00 | NA | NA | 2012-03-14 18:00:00 | ARIK |\n",
       "| 4 | 2012-03-26 18:00:00 | NA | NA | 2012-03-26 18:00:00 | ARIK |\n",
       "| 5 | 2012-11-08 18:07:00 | NA | NA | 2012-11-08 18:00:00 | ARIK |\n",
       "| 6 | 2012-12-04 19:12:00 | NA | NA | 2012-12-04 19:15:00 | ARIK |\n",
       "\n"
      ],
      "text/plain": [
       "  collectDate         uva_250 uva_280 dtpr                site\n",
       "1 2012-01-31 19:00:00 NA      NA      2012-01-31 19:00:00 ARIK\n",
       "2 2012-03-07 19:00:00 NA      NA      2012-03-07 19:00:00 ARIK\n",
       "3 2012-03-14 18:00:00 NA      NA      2012-03-14 18:00:00 ARIK\n",
       "4 2012-03-26 18:00:00 NA      NA      2012-03-26 18:00:00 ARIK\n",
       "5 2012-11-08 18:07:00 NA      NA      2012-11-08 18:00:00 ARIK\n",
       "6 2012-12-04 19:12:00 NA      NA      2012-12-04 19:15:00 ARIK"
      ]
     },
     "metadata": {},
     "output_type": "display_data"
    }
   ],
   "source": [
    "library(doBy)\n",
    "\n",
    "head(data_comp)\n",
    "names(data_comp)<-gsub(\"UV Absorbance (250 nm)\",\"uva_250\",names(data_comp),fixed=TRUE)\n",
    "names(data_comp)<-gsub(\"UV Absorbance (280 nm)\",\"uva_280\",names(data_comp),fixed=TRUE)\n",
    "data_c2<-subset(data_comp,!is.na(uva_250)|!is.na(uva_280))\n",
    "write.csv(data_c2,\"neon_absorbance_grab_samples.csv\",row.names=FALSE)\n",
    "write.csv(summaryBy(uva_250~site,data_c2,FUN=c(length)),\"neon_grab_sample_counts.csv\",row.names=FALSE)\n"
   ]
  },
  {
   "cell_type": "code",
   "execution_count": null,
   "id": "divided-snowboard",
   "metadata": {},
   "outputs": [],
   "source": [
    "\n",
    "\n",
    "library(zoo)\n",
    "COMO_wqg<-loadByProduct(dpID=\"DP1.20093.001\",site=\"COMO\",check.size=F)\n",
    "saveRDS(COMO_wqg,paste(data,\"/COMO_wqg.rds\",sep=\"\"))\n",
    "#COMO_wqg<-readRDS(paste(data,\"/COMO_wqg.rds\",sep=\"\"))\n",
    "\n",
    "\n",
    "COMO_wqg_d<-as.data.frame(COMO_wqg$swc_externalLabDataByAnalyte)\n",
    "\n",
    "names(COMO_wqg_d)\n",
    "\n",
    "uv_abs<-subset(COMO_wqg_d,analyte==\"UV Absorbance (250 nm)\"|analyte==\"UV Absorbance (280 nm)\")\n",
    "date_cast<-dcast(uv_abs[,c(\"analyte\",\"collectDate\",\"analyteConcentration\")],collectDate~analyte,value.var=\"analyteConcentration\",mean)\n",
    "date_cast$dtpr<-lubridate::round_date(date_cast$collectDate, \"15 minutes\")\n",
    "\n",
    "date_cast$site<-\"COMO\"\n",
    "saveRDS(date_cast,paste(data,\"/COMO_uv_grab.rds\",sep=\"\"))\n",
    "\n"
   ]
  },
  {
   "cell_type": "code",
   "execution_count": null,
   "id": "decent-canvas",
   "metadata": {},
   "outputs": [],
   "source": []
  },
  {
   "cell_type": "code",
   "execution_count": null,
   "id": "swedish-columbia",
   "metadata": {},
   "outputs": [],
   "source": [
    "\n",
    "\n",
    "library(zoo)\n",
    "SYCA_wqg<-loadByProduct(dpID=\"DP1.20093.001\",site=\"SYCA\",check.size=F)\n",
    "saveRDS(SYCA_wqg,paste(data,\"/SYCA_wqg.rds\",sep=\"\"))\n",
    "#SYCA_wqg<-readRDS(paste(data,\"/SYCA_wqg.rds\",sep=\"\"))\n",
    "\n",
    "\n",
    "SYCA_wqg_d<-as.data.frame(SYCA_wqg$swc_externalLabDataByAnalyte)\n",
    "\n",
    "names(SYCA_wqg_d)\n",
    "\n",
    "uv_abs<-subset(SYCA_wqg_d,analyte==\"UV Absorbance (250 nm)\"|analyte==\"UV Absorbance (280 nm)\")\n",
    "date_cast<-dcast(uv_abs[,c(\"analyte\",\"collectDate\",\"analyteConcentration\")],collectDate~analyte,value.var=\"analyteConcentration\",mean)\n",
    "date_cast$dtpr<-lubridate::round_date(date_cast$collectDate, \"15 minutes\")\n",
    "\n",
    "date_cast$site<-\"SYCA\"\n",
    "saveRDS(date_cast,paste(data,\"/SYCA_uv_grab.rds\",sep=\"\"))\n",
    "\n"
   ]
  }
 ],
 "metadata": {
  "kernelspec": {
   "display_name": "R",
   "language": "R",
   "name": "ir"
  },
  "language_info": {
   "codemirror_mode": "r",
   "file_extension": ".r",
   "mimetype": "text/x-r-source",
   "name": "R",
   "pygments_lexer": "r",
   "version": "4.0.4"
  }
 },
 "nbformat": 4,
 "nbformat_minor": 5
}
