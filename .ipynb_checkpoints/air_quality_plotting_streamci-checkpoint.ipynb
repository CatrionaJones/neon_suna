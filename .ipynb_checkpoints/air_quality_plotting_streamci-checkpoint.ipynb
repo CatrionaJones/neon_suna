{
 "cells": [
  {
   "cell_type": "markdown",
   "metadata": {},
   "source": [
    "## This is the code for setting up the data download\n",
    "Eventually the code in the cell below will be automatically loaded in a package, but because this is beta software we are using these custom functions.\n",
    "The code below defines a fetch function that is based on a query, a target database, and a secret key for accessing that database."
   ]
  },
  {
   "cell_type": "code",
   "execution_count": null,
   "metadata": {},
   "outputs": [],
   "source": [
    "import requests\n",
    "import json\n",
    "import sys\n",
    "import datetime\n",
    "import pandas as pd\n",
    "\n",
    "\n",
    "def fetch(query, target, secret_key):\n",
    "    headers = {'Content-type': 'application/json'}\n",
    "    data = {\n",
    "            \"auth\": {\n",
    "                \"target\":target,\n",
    "                \"authtype\":\"secret\",\n",
    "                \"secret_key\":secret_key\n",
    "                },\n",
    "            \"request\": query\n",
    "    }\n",
    "    data[\"request\"][\"batch\"] = 0\n",
    "\n",
    "    ret = []\n",
    "    while True:\n",
    "        addr = 'https://api.streamci.org:8792/query'\n",
    "        res = requests.post(addr, data=json.dumps(data), headers=headers)\n",
    "        try:\n",
    "            result = json.loads(res.content)\n",
    "        except:\n",
    "            print(\"ERROR\")\n",
    "            print(res.content)\n",
    "            break\n",
    "        if \"data\" in result:\n",
    "            print(\"batch: \" + str(data[\"request\"][\"batch\"]) + \": \" +str(len(result[\"data\"])) + \" data\")\n",
    "        else:\n",
    "            print(result)\n",
    "        ret += result[\"data\"]\n",
    "\n",
    "        if len(result[\"data\"]) == 100000:\n",
    "            data[\"request\"][\"batch\"] += 1\n",
    "        else:\n",
    "            break\n",
    "\n",
    "    return ret\n",
    "\n",
    "\n",
    "# # aqsensors\n",
    "target = \"aqsensors\"\n",
    "secret_key = \"a)woKE039Bje^38spnKIndWI*jse1nkl\"\n",
    "query = {\n",
    "    \"method\":\"query\",\n",
    "    \"query\":{}\n",
    "    # ,\"projection\":[\"value\", \"sequence\", \"timestamp\"]\n",
    "#    ,\"sort\":{\"time_h\":1}\n",
    "}\n",
    "\n"
   ]
  },
  {
   "cell_type": "markdown",
   "metadata": {},
   "source": [
    "## Let's say you want to download data obtained in the last 15 minutes.\n",
    "The code below will download all sensor data from the last 15 minutes and will place the resulting data in a data object called \"results2\"."
   ]
  },
  {
   "cell_type": "code",
   "execution_count": null,
   "metadata": {
    "scrolled": true
   },
   "outputs": [],
   "source": [
    "\n",
    "# Get objects within fifteen minutes\n",
    "edt = datetime.datetime.utcnow()\n",
    "sdt = edt - datetime.timedelta(minutes=15)\n",
    "sdt = sdt.isoformat()[:-3] + \"Z\"\n",
    "edt = edt.isoformat()[:-3] + \"Z\"\n",
    "query[\"query\"] = {\"published_at\": {\"$gte\": sdt, \"$lt\": edt}}\n",
    "results = fetch(query, target, secret_key)\n",
    "print(query)\n",
    "print(target)\n",
    "print(secret_key)\n",
    "print(results)"
   ]
  },
  {
   "cell_type": "markdown",
   "metadata": {},
   "source": [
    "## Okay great, but how about if I want to download my data?\n",
    "The code below is downloading from the device with the ID \"JA apartment air test\". It then prints out the results."
   ]
  },
  {
   "cell_type": "code",
   "execution_count": null,
   "metadata": {},
   "outputs": [],
   "source": [
    "query[\"query\"] = {\"deviceid\": \"JA apartment air test\"}\n",
    "results = fetch(query, target, secret_key)\n",
    "print(query)\n",
    "print(target)\n",
    "print(secret_key)\n",
    "print(results)"
   ]
  },
  {
   "cell_type": "markdown",
   "metadata": {},
   "source": [
    "## Now we need to format our data.\n",
    "There are two steps here. First, we convert our data from JSON to what is called a dataframe."
   ]
  },
  {
   "cell_type": "code",
   "execution_count": null,
   "metadata": {},
   "outputs": [],
   "source": [
    "df=pd.DataFrame(results)\n",
    "print(df)"
   ]
  },
  {
   "cell_type": "markdown",
   "metadata": {},
   "source": [
    "## Now we need to format the date/time column properly.\n",
    "We are reformatting the date/time column and changing it from the name \"published_at\" to \"datetime\"."
   ]
  },
  {
   "cell_type": "code",
   "execution_count": null,
   "metadata": {
    "scrolled": true
   },
   "outputs": [],
   "source": [
    "df[\"datetime\"]=pd.to_datetime(df['published_at']).dt.strftime('%Y-%m-%dT%H:%M:%SZ')"
   ]
  },
  {
   "cell_type": "markdown",
   "metadata": {},
   "source": [
    "## Now we can start plotting data"
   ]
  },
  {
   "cell_type": "code",
   "execution_count": null,
   "metadata": {},
   "outputs": [],
   "source": [
    "import pandas as pd\n",
    "pd.options.plotting.backend = \"plotly\"\n",
    "\n",
    "fig = df.plot(x=\"datetime\",y=\"temp\")\n",
    "fig.show()\n",
    "fig = df.plot(x=\"datetime\",y=\"pressure\")\n",
    "fig.show()\n",
    "fig = df.plot(x=\"datetime\",y=\"humidity\")\n",
    "fig.show()\n",
    "fig = df.plot(x=\"datetime\",y=\"voc_level\")\n",
    "fig.show()\n",
    "fig = df.plot(x=\"datetime\",y=\"dust\")\n",
    "fig.show()\n"
   ]
  },
  {
   "cell_type": "markdown",
   "metadata": {},
   "source": [
    "## Now let's download all the data from the last month"
   ]
  },
  {
   "cell_type": "code",
   "execution_count": null,
   "metadata": {},
   "outputs": [],
   "source": [
    "# get objects by the value of 'published_at' is greater than or equal 2/22 AND less than 2/23\n",
    "# AND coreid is 'e00fce684247a38c868657f8'\n",
    "query[\"query\"] = {\"published_at\": {\"$gte\": \"2022-04-01T00:00:00.000Z\", \"$lt\": \"2022-04-25T00:00:00.000Z\"}}\n",
    "results = fetch(query, target, secret_key)\n",
    "lastmonth=pd.DataFrame(results)\n",
    "lastmonth[\"datetime\"]=pd.to_datetime(lastmonth['published_at']).dt.strftime('%Y-%m-%dT%H:%M:%SZ')"
   ]
  },
  {
   "cell_type": "markdown",
   "metadata": {},
   "source": [
    "## Now let's plot all the temperature data"
   ]
  },
  {
   "cell_type": "code",
   "execution_count": null,
   "metadata": {},
   "outputs": [],
   "source": [
    "fig = lastmonth.plot(x=\"datetime\",y=\"temp\",color=\"deviceid\")\n",
    "fig.show()"
   ]
  },
  {
   "cell_type": "markdown",
   "metadata": {},
   "source": [
    "## Doing the same with VOC and dust"
   ]
  },
  {
   "cell_type": "code",
   "execution_count": null,
   "metadata": {},
   "outputs": [],
   "source": [
    "fig = lastmonth.plot(x=\"datetime\",y=\"dust\",color=\"deviceid\")\n",
    "fig.show()\n",
    "\n",
    "fig = lastmonth.plot(x=\"datetime\",y=\"voc_level\",color=\"deviceid\")\n",
    "fig.show()"
   ]
  },
  {
   "cell_type": "markdown",
   "metadata": {},
   "source": [
    "## Now how do you download the data?\n",
    "You can quickly download your data as a CSV"
   ]
  },
  {
   "cell_type": "code",
   "execution_count": null,
   "metadata": {},
   "outputs": [],
   "source": [
    "df.to_csv(\"output_data.csv\",index=False)"
   ]
  }
 ],
 "metadata": {
  "kernelspec": {
   "display_name": "Python 3",
   "language": "python",
   "name": "python3"
  },
  "language_info": {
   "codemirror_mode": {
    "name": "ipython",
    "version": 3
   },
   "file_extension": ".py",
   "mimetype": "text/x-python",
   "name": "python",
   "nbconvert_exporter": "python",
   "pygments_lexer": "ipython3",
   "version": "3.7.7"
  }
 },
 "nbformat": 4,
 "nbformat_minor": 4
}
